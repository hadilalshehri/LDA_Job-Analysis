{
  "cells": [
    {
      "cell_type": "code",
      "execution_count": null,
      "metadata": {
        "id": "oO1XYETx4Q6t"
      },
      "outputs": [],
      "source": [
        "import matplotlib.pyplot as plt\n",
        "import numpy as np\n",
        "import pandas as pd\n",
        "import seaborn as sns\n",
        "# import statsmodels\n",
        "\n",
        "\n",
        "from IPython.display import HTML\n",
        "%matplotlib inline\n",
        "\n",
        "pd.options.display.precision = 15\n",
        "pd.options.display.max_rows = 500\n",
        "\n",
        "import warnings\n",
        "warnings.filterwarnings(\"ignore\")\n",
        "\n",
        "# from bs4 import BeautifulSoup\n",
        "# import requests\n",
        "import time, random\n",
        "import datetime\n",
        "import re\n",
        "import gensim\n",
        "from gensim.models import CoherenceModel"
      ]
    },
    {
      "cell_type": "markdown",
      "metadata": {
        "id": "36PTMyiq4Q6w"
      },
      "source": [
        "## 1. Analysing data from Linked In"
      ]
    },
    {
      "cell_type": "code",
      "execution_count": null,
      "metadata": {
        "scrolled": true,
        "colab": {
          "base_uri": "https://localhost:8080/",
          "height": 441
        },
        "id": "MtqV-LRQ4Q6y",
        "outputId": "b1b128c6-8df2-4e6d-825e-7955715feb91"
      },
      "outputs": [
        {
          "output_type": "stream",
          "name": "stdout",
          "text": [
            "(1688, 8)\n"
          ]
        },
        {
          "output_type": "execute_result",
          "data": {
            "text/plain": [
              "   Unnamed: 0                                          job_title  \\\n",
              "0           0                Commodity Business Intelligence ...   \n",
              "1           1                Data Intelligence Manager       ...   \n",
              "2           2                          Data Manager                \n",
              "3           3                Merchandise Planning Analyst (20...   \n",
              "4           4                       Business Analyst               \n",
              "\n",
              "                                        company_name  \\\n",
              "0                             NEOM                     \n",
              "1                        Almosafer                     \n",
              "2                             Salt                     \n",
              "3                      Nahdi Medical Co.         ...   \n",
              "4                      Solutions by 42           ...   \n",
              "\n",
              "                                    company_location work_time  \\\n",
              "0                  Neom, Tabuk, Saudi Arabia     ...       NaN   \n",
              "1                  Riyadh, Saudi Arabia          ...       NaN   \n",
              "2                  Riyadh, Saudi Arabia          ...       NaN   \n",
              "3                  Jeddah, Makkah, Saudi Arabia  ...       NaN   \n",
              "4                  Dammam, Eastern, Saudi Arabia ...       NaN   \n",
              "\n",
              "                                  post_date  \\\n",
              "0                  5 days ago                 \n",
              "1                  1 week ago                 \n",
              "2                  1 week ago                 \n",
              "3                  1 week ago                 \n",
              "4                  2 days ago                 \n",
              "\n",
              "                                         Description work_method  \n",
              "0  About the jobSummaryWe are looking for a Busin...         NaN  \n",
              "1  About the jobWe are seeking a skilled and expe...         NaN  \n",
              "2  About the jobMy client are a pioneering global...         NaN  \n",
              "3  About the jobJob DescriptionThe Merchandise Pl...         NaN  \n",
              "4  About the jobJob Purpose:Business analysis is ...         NaN  "
            ],
            "text/html": [
              "\n",
              "  <div id=\"df-fd53739b-bd45-4362-90bc-e424eecaebec\">\n",
              "    <div class=\"colab-df-container\">\n",
              "      <div>\n",
              "<style scoped>\n",
              "    .dataframe tbody tr th:only-of-type {\n",
              "        vertical-align: middle;\n",
              "    }\n",
              "\n",
              "    .dataframe tbody tr th {\n",
              "        vertical-align: top;\n",
              "    }\n",
              "\n",
              "    .dataframe thead th {\n",
              "        text-align: right;\n",
              "    }\n",
              "</style>\n",
              "<table border=\"1\" class=\"dataframe\">\n",
              "  <thead>\n",
              "    <tr style=\"text-align: right;\">\n",
              "      <th></th>\n",
              "      <th>Unnamed: 0</th>\n",
              "      <th>job_title</th>\n",
              "      <th>company_name</th>\n",
              "      <th>company_location</th>\n",
              "      <th>work_time</th>\n",
              "      <th>post_date</th>\n",
              "      <th>Description</th>\n",
              "      <th>work_method</th>\n",
              "    </tr>\n",
              "  </thead>\n",
              "  <tbody>\n",
              "    <tr>\n",
              "      <th>0</th>\n",
              "      <td>0</td>\n",
              "      <td>Commodity Business Intelligence ...</td>\n",
              "      <td>NEOM</td>\n",
              "      <td>Neom, Tabuk, Saudi Arabia     ...</td>\n",
              "      <td>NaN</td>\n",
              "      <td>5 days ago</td>\n",
              "      <td>About the jobSummaryWe are looking for a Busin...</td>\n",
              "      <td>NaN</td>\n",
              "    </tr>\n",
              "    <tr>\n",
              "      <th>1</th>\n",
              "      <td>1</td>\n",
              "      <td>Data Intelligence Manager       ...</td>\n",
              "      <td>Almosafer</td>\n",
              "      <td>Riyadh, Saudi Arabia          ...</td>\n",
              "      <td>NaN</td>\n",
              "      <td>1 week ago</td>\n",
              "      <td>About the jobWe are seeking a skilled and expe...</td>\n",
              "      <td>NaN</td>\n",
              "    </tr>\n",
              "    <tr>\n",
              "      <th>2</th>\n",
              "      <td>2</td>\n",
              "      <td>Data Manager</td>\n",
              "      <td>Salt</td>\n",
              "      <td>Riyadh, Saudi Arabia          ...</td>\n",
              "      <td>NaN</td>\n",
              "      <td>1 week ago</td>\n",
              "      <td>About the jobMy client are a pioneering global...</td>\n",
              "      <td>NaN</td>\n",
              "    </tr>\n",
              "    <tr>\n",
              "      <th>3</th>\n",
              "      <td>3</td>\n",
              "      <td>Merchandise Planning Analyst (20...</td>\n",
              "      <td>Nahdi Medical Co.         ...</td>\n",
              "      <td>Jeddah, Makkah, Saudi Arabia  ...</td>\n",
              "      <td>NaN</td>\n",
              "      <td>1 week ago</td>\n",
              "      <td>About the jobJob DescriptionThe Merchandise Pl...</td>\n",
              "      <td>NaN</td>\n",
              "    </tr>\n",
              "    <tr>\n",
              "      <th>4</th>\n",
              "      <td>4</td>\n",
              "      <td>Business Analyst</td>\n",
              "      <td>Solutions by 42           ...</td>\n",
              "      <td>Dammam, Eastern, Saudi Arabia ...</td>\n",
              "      <td>NaN</td>\n",
              "      <td>2 days ago</td>\n",
              "      <td>About the jobJob Purpose:Business analysis is ...</td>\n",
              "      <td>NaN</td>\n",
              "    </tr>\n",
              "  </tbody>\n",
              "</table>\n",
              "</div>\n",
              "      <button class=\"colab-df-convert\" onclick=\"convertToInteractive('df-fd53739b-bd45-4362-90bc-e424eecaebec')\"\n",
              "              title=\"Convert this dataframe to an interactive table.\"\n",
              "              style=\"display:none;\">\n",
              "        \n",
              "  <svg xmlns=\"http://www.w3.org/2000/svg\" height=\"24px\"viewBox=\"0 0 24 24\"\n",
              "       width=\"24px\">\n",
              "    <path d=\"M0 0h24v24H0V0z\" fill=\"none\"/>\n",
              "    <path d=\"M18.56 5.44l.94 2.06.94-2.06 2.06-.94-2.06-.94-.94-2.06-.94 2.06-2.06.94zm-11 1L8.5 8.5l.94-2.06 2.06-.94-2.06-.94L8.5 2.5l-.94 2.06-2.06.94zm10 10l.94 2.06.94-2.06 2.06-.94-2.06-.94-.94-2.06-.94 2.06-2.06.94z\"/><path d=\"M17.41 7.96l-1.37-1.37c-.4-.4-.92-.59-1.43-.59-.52 0-1.04.2-1.43.59L10.3 9.45l-7.72 7.72c-.78.78-.78 2.05 0 2.83L4 21.41c.39.39.9.59 1.41.59.51 0 1.02-.2 1.41-.59l7.78-7.78 2.81-2.81c.8-.78.8-2.07 0-2.86zM5.41 20L4 18.59l7.72-7.72 1.47 1.35L5.41 20z\"/>\n",
              "  </svg>\n",
              "      </button>\n",
              "      \n",
              "  <style>\n",
              "    .colab-df-container {\n",
              "      display:flex;\n",
              "      flex-wrap:wrap;\n",
              "      gap: 12px;\n",
              "    }\n",
              "\n",
              "    .colab-df-convert {\n",
              "      background-color: #E8F0FE;\n",
              "      border: none;\n",
              "      border-radius: 50%;\n",
              "      cursor: pointer;\n",
              "      display: none;\n",
              "      fill: #1967D2;\n",
              "      height: 32px;\n",
              "      padding: 0 0 0 0;\n",
              "      width: 32px;\n",
              "    }\n",
              "\n",
              "    .colab-df-convert:hover {\n",
              "      background-color: #E2EBFA;\n",
              "      box-shadow: 0px 1px 2px rgba(60, 64, 67, 0.3), 0px 1px 3px 1px rgba(60, 64, 67, 0.15);\n",
              "      fill: #174EA6;\n",
              "    }\n",
              "\n",
              "    [theme=dark] .colab-df-convert {\n",
              "      background-color: #3B4455;\n",
              "      fill: #D2E3FC;\n",
              "    }\n",
              "\n",
              "    [theme=dark] .colab-df-convert:hover {\n",
              "      background-color: #434B5C;\n",
              "      box-shadow: 0px 1px 3px 1px rgba(0, 0, 0, 0.15);\n",
              "      filter: drop-shadow(0px 1px 2px rgba(0, 0, 0, 0.3));\n",
              "      fill: #FFFFFF;\n",
              "    }\n",
              "  </style>\n",
              "\n",
              "      <script>\n",
              "        const buttonEl =\n",
              "          document.querySelector('#df-fd53739b-bd45-4362-90bc-e424eecaebec button.colab-df-convert');\n",
              "        buttonEl.style.display =\n",
              "          google.colab.kernel.accessAllowed ? 'block' : 'none';\n",
              "\n",
              "        async function convertToInteractive(key) {\n",
              "          const element = document.querySelector('#df-fd53739b-bd45-4362-90bc-e424eecaebec');\n",
              "          const dataTable =\n",
              "            await google.colab.kernel.invokeFunction('convertToInteractive',\n",
              "                                                     [key], {});\n",
              "          if (!dataTable) return;\n",
              "\n",
              "          const docLinkHtml = 'Like what you see? Visit the ' +\n",
              "            '<a target=\"_blank\" href=https://colab.research.google.com/notebooks/data_table.ipynb>data table notebook</a>'\n",
              "            + ' to learn more about interactive tables.';\n",
              "          element.innerHTML = '';\n",
              "          dataTable['output_type'] = 'display_data';\n",
              "          await google.colab.output.renderOutput(dataTable, element);\n",
              "          const docLink = document.createElement('div');\n",
              "          docLink.innerHTML = docLinkHtml;\n",
              "          element.appendChild(docLink);\n",
              "        }\n",
              "      </script>\n",
              "    </div>\n",
              "  </div>\n",
              "  "
            ]
          },
          "metadata": {},
          "execution_count": 2
        }
      ],
      "source": [
        "#read in data\n",
        "df = pd.read_excel('/combined and filtered - data science.xlsx') #, encoding='cp1252'\n",
        "\n",
        "#print first few rows\n",
        "print(df.shape)\n",
        "df.head()"
      ]
    },
    {
      "cell_type": "markdown",
      "metadata": {
        "id": "vaPA4cpe4Q62"
      },
      "source": [
        "### Clear the Datar Frame from the Un wanted Job"
      ]
    },
    {
      "cell_type": "markdown",
      "metadata": {
        "id": "MaeUmn-z4Q62"
      },
      "source": [
        "Create a copy of the data"
      ]
    },
    {
      "cell_type": "code",
      "execution_count": null,
      "metadata": {
        "colab": {
          "base_uri": "https://localhost:8080/"
        },
        "id": "Yw1vgsQq4Q63",
        "outputId": "79c9d90b-5cea-4d71-f5b6-2effda504ded"
      },
      "outputs": [
        {
          "output_type": "execute_result",
          "data": {
            "text/plain": [
              "1688"
            ]
          },
          "metadata": {},
          "execution_count": 4
        }
      ],
      "source": [
        "df_clean = df\n",
        "len(df_clean)"
      ]
    },
    {
      "cell_type": "markdown",
      "metadata": {
        "id": "gEhce_eh4Q63"
      },
      "source": [
        "Remove Dublicate"
      ]
    },
    {
      "cell_type": "code",
      "execution_count": null,
      "metadata": {
        "colab": {
          "base_uri": "https://localhost:8080/"
        },
        "id": "OYZXaBB64Q64",
        "outputId": "657d466e-e399-40fc-b6c5-ac11b4a92788"
      },
      "outputs": [
        {
          "output_type": "execute_result",
          "data": {
            "text/plain": [
              "1062"
            ]
          },
          "metadata": {},
          "execution_count": 5
        }
      ],
      "source": [
        "df_clean = df_clean.drop_duplicates(subset =['job_title', 'Description']).reset_index(drop=True)\n",
        "len(df_clean)"
      ]
    },
    {
      "cell_type": "markdown",
      "metadata": {
        "id": "TtkF39ik4Q64"
      },
      "source": [
        "Handle Missing Data"
      ]
    },
    {
      "cell_type": "code",
      "execution_count": null,
      "metadata": {
        "id": "vutB7Sj44Q65"
      },
      "outputs": [],
      "source": [
        "#Replace missing values so reg expressions can be used for contract and salary\n",
        "df_clean = df_clean.fillna('-')"
      ]
    },
    {
      "cell_type": "markdown",
      "metadata": {
        "id": "kTWOPpGr4Q65"
      },
      "source": [
        "Remove space from the Company name and job Title column"
      ]
    },
    {
      "cell_type": "code",
      "execution_count": null,
      "metadata": {
        "id": "VwFNdPta4Q66"
      },
      "outputs": [],
      "source": [
        "df_clean['job_title'] = df_clean['job_title'].str.replace(\" \", \"\")"
      ]
    },
    {
      "cell_type": "markdown",
      "metadata": {
        "id": "JNqd8jlI4Q66"
      },
      "source": [
        "#### Data Scince selection"
      ]
    },
    {
      "cell_type": "code",
      "execution_count": null,
      "metadata": {
        "colab": {
          "base_uri": "https://localhost:8080/"
        },
        "id": "NwlhVZmZ4Q66",
        "outputId": "3c1d0762-16d5-48d2-b833-dbec0f67671a"
      },
      "outputs": [
        {
          "output_type": "stream",
          "name": "stdout",
          "text": [
            "Number of roles containing 'Data': 157\n"
          ]
        }
      ],
      "source": [
        "df_clean['job_title'] = df_clean['job_title'].str.lower()\n",
        "print(\"Number of roles containing 'Data':\",  df_clean[df_clean['job_title'].str.contains(\"data\")|df_clean['job_title'].str.contains(\"intelligence\")].shape[0])"
      ]
    },
    {
      "cell_type": "markdown",
      "metadata": {
        "id": "vvLp_k3c4Q67"
      },
      "source": [
        "Create Date Frame for the Data Job"
      ]
    },
    {
      "cell_type": "code",
      "execution_count": null,
      "metadata": {
        "colab": {
          "base_uri": "https://localhost:8080/"
        },
        "id": "k6qJAKmn4Q67",
        "outputId": "7edfb68b-b605-4697-b57c-a1f24b541c5c"
      },
      "outputs": [
        {
          "output_type": "stream",
          "name": "stdout",
          "text": [
            "Size of the 'Data Job: 157\n"
          ]
        }
      ],
      "source": [
        "data_df = df_clean[df_clean['job_title'].str.contains(\"data\")|df_clean['job_title'].str.contains(\"intelligence\")]\n",
        "print(\"Size of the 'Data Job:\", len(data_df))\n",
        "data_df=data_df.applymap(str)"
      ]
    },
    {
      "cell_type": "markdown",
      "metadata": {
        "id": "coMG__iK4Q68"
      },
      "source": [
        "Un selected Job from the data frame"
      ]
    },
    {
      "cell_type": "code",
      "execution_count": null,
      "metadata": {
        "colab": {
          "base_uri": "https://localhost:8080/"
        },
        "id": "d7kjI6lD4Q68",
        "outputId": "6dd51098-d109-4593-92c8-4c439697877f"
      },
      "outputs": [
        {
          "output_type": "stream",
          "name": "stdout",
          "text": [
            "Number of Titles not containing 'Data': 1688\n"
          ]
        }
      ],
      "source": [
        "print(\"Number of Titles not containing 'Data':\",  df[~df['job_title'].str.contains(\"Data\")|~df['job_title'].str.contains(\"DATA\")].shape[0])\n",
        "# df[~df['job_title'].str.contains(\"Data\")]"
      ]
    },
    {
      "cell_type": "code",
      "execution_count": null,
      "metadata": {
        "colab": {
          "base_uri": "https://localhost:8080/"
        },
        "id": "k6frCEZo4Q68",
        "outputId": "ab76b7e3-d768-4175-b84d-65666257eeaf"
      },
      "outputs": [
        {
          "output_type": "execute_result",
          "data": {
            "text/plain": [
              "157"
            ]
          },
          "metadata": {},
          "execution_count": 11
        }
      ],
      "source": [
        "df = data_df\n",
        "len(df)"
      ]
    },
    {
      "cell_type": "markdown",
      "metadata": {
        "id": "Dnpb3pmD4Q69"
      },
      "source": [
        "### Job Title"
      ]
    },
    {
      "cell_type": "code",
      "execution_count": null,
      "metadata": {
        "colab": {
          "base_uri": "https://localhost:8080/",
          "height": 459
        },
        "id": "LASHHpNv4Q69",
        "outputId": "eec34e4b-bbfd-41b6-f7a7-ff88c61badc4"
      },
      "outputs": [
        {
          "output_type": "display_data",
          "data": {
            "text/plain": [
              "<Figure size 1500x500 with 1 Axes>"
            ],
            "image/png": "[encoded data removed]"
          },
          "metadata": {}
        }
      ],
      "source": [
        "plt.figure(figsize = (15,5))\n",
        "data_top = data_df[\"job_title\"].value_counts().sort_values(ascending=False).head(3)\n",
        "data_top\n",
        "data_top.plot.bar(color= \"green\", fontsize=12, edgecolor='green',linewidth = 2)\n",
        "plt.title(\"Top 3 Data Job\")\n",
        "plt.xlabel(\"Job Title\",fontsize=15)\n",
        "plt.ylabel(\"Count\")\n",
        "plt.show()"
      ]
    },
    {
      "cell_type": "markdown",
      "metadata": {
        "id": "GB0xtVJu4Q6-"
      },
      "source": [
        "### Location Mining"
      ]
    },
    {
      "cell_type": "code",
      "execution_count": null,
      "metadata": {
        "colab": {
          "base_uri": "https://localhost:8080/"
        },
        "id": "teGzWV674Q6-",
        "outputId": "46b8c43c-9c39-45d6-e239-85672fbd343d"
      },
      "outputs": [
        {
          "output_type": "stream",
          "name": "stdout",
          "text": [
            "Looking in indexes: https://pypi.org/simple, https://us-python.pkg.dev/colab-wheels/public/simple/\n",
            "Requirement already satisfied: geopandas in /usr/local/lib/python3.10/dist-packages (0.13.0)\n",
            "Requirement already satisfied: fiona>=1.8.19 in /usr/local/lib/python3.10/dist-packages (from geopandas) (1.9.4.post1)\n",
            "Requirement already satisfied: packaging in /usr/local/lib/python3.10/dist-packages (from geopandas) (23.1)\n",
            "Requirement already satisfied: pandas>=1.1.0 in /usr/local/lib/python3.10/dist-packages (from geopandas) (1.5.3)\n",
            "Requirement already satisfied: pyproj>=3.0.1 in /usr/local/lib/python3.10/dist-packages (from geopandas) (3.5.0)\n",
            "Requirement already satisfied: shapely>=1.7.1 in /usr/local/lib/python3.10/dist-packages (from geopandas) (2.0.1)\n",
            "Requirement already satisfied: attrs>=19.2.0 in /usr/local/lib/python3.10/dist-packages (from fiona>=1.8.19->geopandas) (23.1.0)\n",
            "Requirement already satisfied: certifi in /usr/local/lib/python3.10/dist-packages (from fiona>=1.8.19->geopandas) (2022.12.7)\n",
            "Requirement already satisfied: click~=8.0 in /usr/local/lib/python3.10/dist-packages (from fiona>=1.8.19->geopandas) (8.1.3)\n",
            "Requirement already satisfied: click-plugins>=1.0 in /usr/local/lib/python3.10/dist-packages (from fiona>=1.8.19->geopandas) (1.1.1)\n",
            "Requirement already satisfied: cligj>=0.5 in /usr/local/lib/python3.10/dist-packages (from fiona>=1.8.19->geopandas) (0.7.2)\n",
            "Requirement already satisfied: six in /usr/local/lib/python3.10/dist-packages (from fiona>=1.8.19->geopandas) (1.16.0)\n",
            "Requirement already satisfied: python-dateutil>=2.8.1 in /usr/local/lib/python3.10/dist-packages (from pandas>=1.1.0->geopandas) (2.8.2)\n",
            "Requirement already satisfied: pytz>=2020.1 in /usr/local/lib/python3.10/dist-packages (from pandas>=1.1.0->geopandas) (2022.7.1)\n",
            "Requirement already satisfied: numpy>=1.21.0 in /usr/local/lib/python3.10/dist-packages (from pandas>=1.1.0->geopandas) (1.22.4)\n",
            "\u001b[31mERROR: Operation cancelled by user\u001b[0m\u001b[31m\n",
            "\u001b[0mTraceback (most recent call last):\n",
            "  File \"/usr/local/lib/python3.10/dist-packages/pip/_vendor/pkg_resources/__init__.py\", line 3108, in _dep_map\n",
            "    return self.__dep_map\n",
            "  File \"/usr/local/lib/python3.10/dist-packages/pip/_vendor/pkg_resources/__init__.py\", line 2901, in __getattr__\n",
            "    raise AttributeError(attr)\n",
            "AttributeError: _DistInfoDistribution__dep_map\n",
            "\n",
            "During handling of the above exception, another exception occurred:\n",
            "\n",
            "Traceback (most recent call last):\n",
            "  File \"/usr/local/lib/python3.10/dist-packages/pip/_internal/cli/base_command.py\", line 169, in exc_logging_wrapper\n",
            "    status = run_func(*args)\n",
            "  File \"/usr/local/lib/python3.10/dist-packages/pip/_internal/cli/req_command.py\", line 242, in wrapper\n",
            "    return func(self, options, args)\n",
            "  File \"/usr/local/lib/python3.10/dist-packages/pip/_internal/commands/install.py\", line 441, in run\n",
            "    conflicts = self._determine_conflicts(to_install)\n",
            "  File \"/usr/local/lib/python3.10/dist-packages/pip/_internal/commands/install.py\", line 572, in _determine_conflicts\n",
            "    return check_install_conflicts(to_install)\n",
            "  File \"/usr/local/lib/python3.10/dist-packages/pip/_internal/operations/check.py\", line 101, in check_install_conflicts\n",
            "    package_set, _ = create_package_set_from_installed()\n",
            "  File \"/usr/local/lib/python3.10/dist-packages/pip/_internal/operations/check.py\", line 42, in create_package_set_from_installed\n",
            "    dependencies = list(dist.iter_dependencies())\n",
            "  File \"/usr/local/lib/python3.10/dist-packages/pip/_internal/metadata/pkg_resources.py\", line 216, in iter_dependencies\n",
            "    return self._dist.requires(extras)\n",
            "  File \"/usr/local/lib/python3.10/dist-packages/pip/_vendor/pkg_resources/__init__.py\", line 2821, in requires\n",
            "    dm = self._dep_map\n",
            "  File \"/usr/local/lib/python3.10/dist-packages/pip/_vendor/pkg_resources/__init__.py\", line 3110, in _dep_map\n",
            "    self.__dep_map = self._compute_dependencies()\n",
            "  File \"/usr/local/lib/python3.10/dist-packages/pip/_vendor/pkg_resources/__init__.py\", line 3120, in _compute_dependencies\n",
            "    reqs.extend(parse_requirements(req))\n",
            "  File \"/usr/local/lib/python3.10/dist-packages/pip/_vendor/pkg_resources/__init__.py\", line 3173, in __init__\n",
            "    super(Requirement, self).__init__(requirement_string)\n",
            "  File \"/usr/local/lib/python3.10/dist-packages/pip/_vendor/packaging/requirements.py\", line 102, in __init__\n",
            "    req = REQUIREMENT.parseString(requirement_string)\n",
            "  File \"/usr/local/lib/python3.10/dist-packages/pip/_vendor/pyparsing/core.py\", line 1131, in parse_string\n",
            "    loc, tokens = self._parse(instring, 0)\n",
            "  File \"/usr/local/lib/python3.10/dist-packages/pip/_vendor/pyparsing/core.py\", line 817, in _parseNoCache\n",
            "    loc, tokens = self.parseImpl(instring, pre_loc, doActions)\n",
            "  File \"/usr/local/lib/python3.10/dist-packages/pip/_vendor/pyparsing/core.py\", line 3886, in parseImpl\n",
            "    loc, exprtokens = e._parse(instring, loc, doActions)\n",
            "  File \"/usr/local/lib/python3.10/dist-packages/pip/_vendor/pyparsing/core.py\", line 817, in _parseNoCache\n",
            "    loc, tokens = self.parseImpl(instring, pre_loc, doActions)\n",
            "  File \"/usr/local/lib/python3.10/dist-packages/pip/_vendor/pyparsing/core.py\", line 4114, in parseImpl\n",
            "    return e._parse(\n",
            "  File \"/usr/local/lib/python3.10/dist-packages/pip/_vendor/pyparsing/core.py\", line 817, in _parseNoCache\n",
            "    loc, tokens = self.parseImpl(instring, pre_loc, doActions)\n",
            "  File \"/usr/local/lib/python3.10/dist-packages/pip/_vendor/pyparsing/core.py\", line 3886, in parseImpl\n",
            "    loc, exprtokens = e._parse(instring, loc, doActions)\n",
            "  File \"/usr/local/lib/python3.10/dist-packages/pip/_vendor/pyparsing/core.py\", line 817, in _parseNoCache\n",
            "    loc, tokens = self.parseImpl(instring, pre_loc, doActions)\n",
            "  File \"/usr/local/lib/python3.10/dist-packages/pip/_vendor/pyparsing/core.py\", line 4959, in parseImpl\n",
            "    loc, tokens = self_expr._parse(instring, loc, doActions, callPreParse=False)\n",
            "  File \"/usr/local/lib/python3.10/dist-packages/pip/_vendor/pyparsing/core.py\", line 817, in _parseNoCache\n",
            "    loc, tokens = self.parseImpl(instring, pre_loc, doActions)\n",
            "  File \"/usr/local/lib/python3.10/dist-packages/pip/_vendor/pyparsing/core.py\", line 3886, in parseImpl\n",
            "    loc, exprtokens = e._parse(instring, loc, doActions)\n",
            "  File \"/usr/local/lib/python3.10/dist-packages/pip/_vendor/pyparsing/core.py\", line 817, in _parseNoCache\n",
            "    loc, tokens = self.parseImpl(instring, pre_loc, doActions)\n",
            "  File \"/usr/local/lib/python3.10/dist-packages/pip/_vendor/pyparsing/core.py\", line 3864, in parseImpl\n",
            "    loc, resultlist = self.exprs[0]._parse(\n",
            "  File \"/usr/local/lib/python3.10/dist-packages/pip/_vendor/pyparsing/core.py\", line 862, in _parseNoCache\n",
            "    ret_tokens = ParseResults(\n",
            "  File \"/usr/local/lib/python3.10/dist-packages/pip/_vendor/pyparsing/results.py\", line 136, in __new__\n",
            "    def __new__(cls, toklist=None, name=None, **kwargs):\n",
            "KeyboardInterrupt\n",
            "\n",
            "During handling of the above exception, another exception occurred:\n",
            "\n",
            "Traceback (most recent call last):\n",
            "  File \"/usr/local/bin/pip3\", line 8, in <module>\n",
            "    sys.exit(main())\n",
            "  File \"/usr/local/lib/python3.10/dist-packages/pip/_internal/cli/main.py\", line 79, in main\n",
            "    return command.main(cmd_args)\n",
            "  File \"/usr/local/lib/python3.10/dist-packages/pip/_internal/cli/base_command.py\", line 101, in main\n",
            "    return self._main(args)\n",
            "  File \"/usr/local/lib/python3.10/dist-packages/pip/_internal/cli/base_command.py\", line 223, in _main\n",
            "    return run(options, args)\n",
            "  File \"/usr/local/lib/python3.10/dist-packages/pip/_internal/cli/base_command.py\", line 207, in exc_logging_wrapper\n",
            "    logger.debug(\"Exception information:\", exc_info=True)\n",
            "  File \"/usr/lib/python3.10/logging/__init__.py\", line 1465, in debug\n",
            "    self._log(DEBUG, msg, args, **kwargs)\n",
            "  File \"/usr/lib/python3.10/logging/__init__.py\", line 1624, in _log\n",
            "    self.handle(record)\n",
            "  File \"/usr/lib/python3.10/logging/__init__.py\", line 1634, in handle\n",
            "    self.callHandlers(record)\n",
            "  File \"/usr/lib/python3.10/logging/__init__.py\", line 1696, in callHandlers\n",
            "    hdlr.handle(record)\n",
            "  File \"/usr/lib/python3.10/logging/__init__.py\", line 968, in handle\n",
            "    self.emit(record)\n",
            "  File \"/usr/lib/python3.10/logging/handlers.py\", line 75, in emit\n",
            "    logging.FileHandler.emit(self, record)\n",
            "  File \"/usr/lib/python3.10/logging/__init__.py\", line 1218, in emit\n",
            "    StreamHandler.emit(self, record)\n",
            "  File \"/usr/lib/python3.10/logging/__init__.py\", line 1100, in emit\n",
            "    msg = self.format(record)\n",
            "  File \"/usr/lib/python3.10/logging/__init__.py\", line 943, in format\n",
            "    return fmt.format(record)\n",
            "  File \"/usr/local/lib/python3.10/dist-packages/pip/_internal/utils/logging.py\", line 112, in format\n",
            "    formatted = super().format(record)\n",
            "  File \"/usr/lib/python3.10/logging/__init__.py\", line 686, in format\n",
            "    record.exc_text = self.formatException(record.exc_info)\n",
            "  File \"/usr/lib/python3.10/logging/__init__.py\", line 636, in formatException\n",
            "    traceback.print_exception(ei[0], ei[1], tb, None, sio)\n",
            "  File \"/usr/lib/python3.10/traceback.py\", line 119, in print_exception\n",
            "    te = TracebackException(type(value), value, tb, limit=limit, compact=True)\n",
            "  File \"/usr/lib/python3.10/traceback.py\", line 502, in __init__\n",
            "    self.stack = StackSummary.extract(\n",
            "  File \"/usr/lib/python3.10/traceback.py\", line 383, in extract\n",
            "    f.line\n",
            "  File \"/usr/lib/python3.10/traceback.py\", line 306, in line\n",
            "    self._line = linecache.getline(self.filename, self.lineno)\n",
            "  File \"/usr/lib/python3.10/linecache.py\", line 30, in getline\n",
            "    lines = getlines(filename, module_globals)\n",
            "  File \"/usr/lib/python3.10/linecache.py\", line 46, in getlines\n",
            "    return updatecache(filename, module_globals)\n",
            "  File \"/usr/lib/python3.10/linecache.py\", line 136, in updatecache\n",
            "    with tokenize.open(fullname) as fp:\n",
            "  File \"/usr/lib/python3.10/tokenize.py\", line 396, in open\n",
            "    encoding, lines = detect_encoding(buffer.readline)\n",
            "  File \"/usr/lib/python3.10/tokenize.py\", line 365, in detect_encoding\n",
            "    first = read_or_stop()\n",
            "  File \"/usr/lib/python3.10/tokenize.py\", line 323, in read_or_stop\n",
            "    return readline()\n",
            "KeyboardInterrupt\n",
            "^C\n"
          ]
        }
      ],
      "source": [
        "!pip install geopandas #Google Colab"
      ]
    },
    {
      "cell_type": "code",
      "execution_count": null,
      "metadata": {
        "colab": {
          "base_uri": "https://localhost:8080/"
        },
        "id": "LzMWBF8_4Q6_",
        "outputId": "e2d65683-bdde-4fe7-e875-22127b7743ed"
      },
      "outputs": [
        {
          "output_type": "stream",
          "name": "stdout",
          "text": [
            "Looking in indexes: https://pypi.org/simple, https://us-python.pkg.dev/colab-wheels/public/simple/\n",
            "Requirement already satisfied: plotly_express in /usr/local/lib/python3.10/dist-packages (0.4.1)\n",
            "Requirement already satisfied: pandas>=0.20.0 in /usr/local/lib/python3.10/dist-packages (from plotly_express) (1.5.3)\n",
            "Requirement already satisfied: plotly>=4.1.0 in /usr/local/lib/python3.10/dist-packages (from plotly_express) (5.13.1)\n",
            "Requirement already satisfied: statsmodels>=0.9.0 in /usr/local/lib/python3.10/dist-packages (from plotly_express) (0.13.5)\n",
            "Requirement already satisfied: scipy>=0.18 in /usr/local/lib/python3.10/dist-packages (from plotly_express) (1.10.1)\n",
            "Requirement already satisfied: patsy>=0.5 in /usr/local/lib/python3.10/dist-packages (from plotly_express) (0.5.3)\n",
            "Requirement already satisfied: numpy>=1.11 in /usr/local/lib/python3.10/dist-packages (from plotly_express) (1.22.4)\n",
            "Requirement already satisfied: python-dateutil>=2.8.1 in /usr/local/lib/python3.10/dist-packages (from pandas>=0.20.0->plotly_express) (2.8.2)\n",
            "Requirement already satisfied: pytz>=2020.1 in /usr/local/lib/python3.10/dist-packages (from pandas>=0.20.0->plotly_express) (2022.7.1)\n",
            "Requirement already satisfied: six in /usr/local/lib/python3.10/dist-packages (from patsy>=0.5->plotly_express) (1.16.0)\n",
            "Requirement already satisfied: tenacity>=6.2.0 in /usr/local/lib/python3.10/dist-packages (from plotly>=4.1.0->plotly_express) (8.2.2)\n",
            "Requirement already satisfied: packaging>=21.3 in /usr/local/lib/python3.10/dist-packages (from statsmodels>=0.9.0->plotly_express) (23.1)\n",
            "\u001b[31mERROR: Operation cancelled by user\u001b[0m\u001b[31m\n",
            "\u001b[0mTraceback (most recent call last):\n",
            "  File \"/usr/local/lib/python3.10/dist-packages/pip/_internal/cli/base_command.py\", line 169, in exc_logging_wrapper\n",
            "    status = run_func(*args)\n",
            "  File \"/usr/local/lib/python3.10/dist-packages/pip/_internal/cli/req_command.py\", line 242, in wrapper\n",
            "    return func(self, options, args)\n",
            "  File \"/usr/local/lib/python3.10/dist-packages/pip/_internal/commands/install.py\", line 377, in run\n",
            "    requirement_set = resolver.resolve(\n",
            "  File \"/usr/local/lib/python3.10/dist-packages/pip/_internal/resolution/resolvelib/resolver.py\", line 92, in resolve\n",
            "    result = self._result = resolver.resolve(\n",
            "  File \"/usr/local/lib/python3.10/dist-packages/pip/_vendor/resolvelib/resolvers.py\", line 546, in resolve\n",
            "    state = resolution.resolve(requirements, max_rounds=max_rounds)\n",
            "  File \"/usr/local/lib/python3.10/dist-packages/pip/_vendor/resolvelib/resolvers.py\", line 443, in resolve\n",
            "    newly_unsatisfied_names = {\n",
            "  File \"/usr/local/lib/python3.10/dist-packages/pip/_vendor/resolvelib/resolvers.py\", line 447, in <setcomp>\n",
            "    and not self._is_current_pin_satisfying(key, criterion)\n",
            "  File \"/usr/local/lib/python3.10/dist-packages/pip/_vendor/resolvelib/resolvers.py\", line 222, in _is_current_pin_satisfying\n",
            "    return all(\n",
            "  File \"/usr/local/lib/python3.10/dist-packages/pip/_vendor/resolvelib/resolvers.py\", line 223, in <genexpr>\n",
            "    self._p.is_satisfied_by(requirement=r, candidate=current_pin)\n",
            "  File \"/usr/local/lib/python3.10/dist-packages/pip/_internal/resolution/resolvelib/provider.py\", line 240, in is_satisfied_by\n",
            "    return requirement.is_satisfied_by(candidate)\n",
            "  File \"/usr/local/lib/python3.10/dist-packages/pip/_internal/resolution/resolvelib/requirements.py\", line 92, in is_satisfied_by\n",
            "    return spec.contains(candidate.version, prereleases=True)\n",
            "  File \"/usr/local/lib/python3.10/dist-packages/pip/_internal/resolution/resolvelib/candidates.py\", line 379, in version\n",
            "    return self.dist.version\n",
            "  File \"/usr/local/lib/python3.10/dist-packages/pip/_internal/metadata/pkg_resources.py\", line 168, in version\n",
            "    return parse_version(self._dist.version)\n",
            "  File \"/usr/local/lib/python3.10/dist-packages/pip/_vendor/packaging/version.py\", line 49, in parse\n",
            "    return Version(version)\n",
            "  File \"/usr/local/lib/python3.10/dist-packages/pip/_vendor/packaging/version.py\", line 271, in __init__\n",
            "    release=tuple(int(i) for i in match.group(\"release\").split(\".\")),\n",
            "KeyboardInterrupt\n",
            "\n",
            "During handling of the above exception, another exception occurred:\n",
            "\n",
            "Traceback (most recent call last):\n",
            "  File \"/usr/local/bin/pip3\", line 8, in <module>\n",
            "    sys.exit(main())\n",
            "  File \"/usr/local/lib/python3.10/dist-packages/pip/_internal/cli/main.py\", line 79, in main\n",
            "    return command.main(cmd_args)\n",
            "  File \"/usr/local/lib/python3.10/dist-packages/pip/_internal/cli/base_command.py\", line 101, in main\n",
            "    return self._main(args)\n",
            "  File \"/usr/local/lib/python3.10/dist-packages/pip/_internal/cli/base_command.py\", line 223, in _main\n",
            "    return run(options, args)\n",
            "  File \"/usr/local/lib/python3.10/dist-packages/pip/_internal/cli/base_command.py\", line 207, in exc_logging_wrapper\n",
            "    logger.debug(\"Exception information:\", exc_info=True)\n",
            "  File \"/usr/lib/python3.10/logging/__init__.py\", line 1465, in debug\n",
            "    self._log(DEBUG, msg, args, **kwargs)\n",
            "  File \"/usr/lib/python3.10/logging/__init__.py\", line 1624, in _log\n",
            "    self.handle(record)\n",
            "  File \"/usr/lib/python3.10/logging/__init__.py\", line 1634, in handle\n",
            "    self.callHandlers(record)\n",
            "  File \"/usr/lib/python3.10/logging/__init__.py\", line 1696, in callHandlers\n",
            "    hdlr.handle(record)\n",
            "  File \"/usr/lib/python3.10/logging/__init__.py\", line 968, in handle\n",
            "    self.emit(record)\n",
            "  File \"/usr/lib/python3.10/logging/handlers.py\", line 75, in emit\n",
            "    logging.FileHandler.emit(self, record)\n",
            "  File \"/usr/lib/python3.10/logging/__init__.py\", line 1218, in emit\n",
            "    StreamHandler.emit(self, record)\n",
            "  File \"/usr/lib/python3.10/logging/__init__.py\", line 1100, in emit\n",
            "    msg = self.format(record)\n",
            "  File \"/usr/lib/python3.10/logging/__init__.py\", line 943, in format\n",
            "    return fmt.format(record)\n",
            "  File \"/usr/local/lib/python3.10/dist-packages/pip/_internal/utils/logging.py\", line 112, in format\n",
            "    formatted = super().format(record)\n",
            "  File \"/usr/lib/python3.10/logging/__init__.py\", line 686, in format\n",
            "    record.exc_text = self.formatException(record.exc_info)\n",
            "  File \"/usr/lib/python3.10/logging/__init__.py\", line 636, in formatException\n",
            "    traceback.print_exception(ei[0], ei[1], tb, None, sio)\n",
            "  File \"/usr/lib/python3.10/traceback.py\", line 119, in print_exception\n",
            "    te = TracebackException(type(value), value, tb, limit=limit, compact=True)\n",
            "  File \"/usr/lib/python3.10/traceback.py\", line 502, in __init__\n",
            "    self.stack = StackSummary.extract(\n",
            "  File \"/usr/lib/python3.10/traceback.py\", line 383, in extract\n",
            "    f.line\n",
            "  File \"/usr/lib/python3.10/traceback.py\", line 306, in line\n",
            "    self._line = linecache.getline(self.filename, self.lineno)\n",
            "  File \"/usr/lib/python3.10/linecache.py\", line 30, in getline\n",
            "    lines = getlines(filename, module_globals)\n",
            "  File \"/usr/lib/python3.10/linecache.py\", line 46, in getlines\n",
            "    return updatecache(filename, module_globals)\n",
            "  File \"/usr/lib/python3.10/linecache.py\", line 137, in updatecache\n",
            "    lines = fp.readlines()\n",
            "  File \"/usr/lib/python3.10/codecs.py\", line 319, in decode\n",
            "    def decode(self, input, final=False):\n",
            "KeyboardInterrupt\n",
            "^C\n"
          ]
        }
      ],
      "source": [
        "!pip install plotly_express #Google Colab"
      ]
    },
    {
      "cell_type": "code",
      "execution_count": null,
      "metadata": {
        "id": "VueJtPmC4Q6_"
      },
      "outputs": [],
      "source": [
        "import geopandas as gpd\n",
        "import plotly_express as px"
      ]
    },
    {
      "cell_type": "code",
      "execution_count": null,
      "metadata": {
        "colab": {
          "base_uri": "https://localhost:8080/",
          "height": 835
        },
        "id": "C1MCOmm14Q6_",
        "outputId": "15f05e0a-210b-4e20-9cee-decc85be70f8"
      },
      "outputs": [
        {
          "output_type": "execute_result",
          "data": {
            "text/plain": [
              "                   NAME  LANG                   ADMIN1  ISLANDNAME  \\\n",
              "0            almuwassam     0                    Jizan         NaN   \n",
              "1                mathan     0                    Jizan         NaN   \n",
              "2              mijannah     0                    Jizan         NaN   \n",
              "3               baisari     0                    Jizan         NaN   \n",
              "4               huthrur     0                    Jizan         NaN   \n",
              "...                 ...   ...                      ...         ...   \n",
              "1644         alwashwash     0                    Tabuk         NaN   \n",
              "1645                kaf     0                    Tabuk         NaN   \n",
              "1646         alhadithah     0                    Tabuk         NaN   \n",
              "1647  mujammaalhadithah     0                    Tabuk         NaN   \n",
              "1648             turayf     0  Al Hudud ash Shamaliyah         NaN   \n",
              "\n",
              "           COUNTRY CNTRY_FIPS CNTRY_ISO  TYPE  CLASS  POPEST  \\\n",
              "0     Saudi Arabia         SA        SA   100      5      -1   \n",
              "1     Saudi Arabia         SA        SA   100      6      -1   \n",
              "2     Saudi Arabia         SA        SA   100      5      -1   \n",
              "3     Saudi Arabia         SA        SA   100      5      -1   \n",
              "4     Saudi Arabia         SA        SA   100      5      -1   \n",
              "...            ...        ...       ...   ...    ...     ...   \n",
              "1644  Saudi Arabia         SA        SA   100      6      -1   \n",
              "1645  Saudi Arabia         SA        SA   100      4      -1   \n",
              "1646  Saudi Arabia         SA        SA   100      5      -1   \n",
              "1647  Saudi Arabia         SA        SA   100      6      -1   \n",
              "1648  Saudi Arabia         SA        SA   100      3   41253   \n",
              "\n",
              "               LONGITUDE            LATITUDE  RENDITION      ID    FID_1  \\\n",
              "0     42.820380999999998  16.417249999999999          5  151152  5148896   \n",
              "1     42.930000000000000  16.430000000000000          6  751258  5741866   \n",
              "2     42.966647999999999  16.529630999999998          5  151145  5148889   \n",
              "3     42.791161000000002  16.534268999999998          5  151144  5148888   \n",
              "4     42.867859000000003  16.547670000000000          5  151143  5148887   \n",
              "...                  ...                 ...        ...     ...      ...   \n",
              "1644  37.616667000000000  31.383333000000000          6  300992  5294883   \n",
              "1645  37.495578999999999  31.390190000000000          4  172929  5170420   \n",
              "1646  37.148139999999998  31.456011000000000          5  172924  5170415   \n",
              "1647  37.109999999999999  31.510000000000002          6  751454  5742062   \n",
              "1648  38.656399000000000  31.674191000000000          3  172914  5170405   \n",
              "\n",
              "                       geometry  \n",
              "0     POINT (42.82038 16.41725)  \n",
              "1     POINT (42.93000 16.43000)  \n",
              "2     POINT (42.96665 16.52963)  \n",
              "3     POINT (42.79116 16.53427)  \n",
              "4     POINT (42.86786 16.54767)  \n",
              "...                         ...  \n",
              "1644  POINT (37.61667 31.38333)  \n",
              "1645  POINT (37.49558 31.39019)  \n",
              "1646  POINT (37.14814 31.45601)  \n",
              "1647  POINT (37.11000 31.51000)  \n",
              "1648  POINT (38.65640 31.67419)  \n",
              "\n",
              "[1649 rows x 16 columns]"
            ],
            "text/html": [
              "\n",
              "  <div id=\"df-acb94a11-c731-4091-98b9-677203bae58e\">\n",
              "    <div class=\"colab-df-container\">\n",
              "      <div>\n",
              "<style scoped>\n",
              "    .dataframe tbody tr th:only-of-type {\n",
              "        vertical-align: middle;\n",
              "    }\n",
              "\n",
              "    .dataframe tbody tr th {\n",
              "        vertical-align: top;\n",
              "    }\n",
              "\n",
              "    .dataframe thead th {\n",
              "        text-align: right;\n",
              "    }\n",
              "</style>\n",
              "<table border=\"1\" class=\"dataframe\">\n",
              "  <thead>\n",
              "    <tr style=\"text-align: right;\">\n",
              "      <th></th>\n",
              "      <th>NAME</th>\n",
              "      <th>LANG</th>\n",
              "      <th>ADMIN1</th>\n",
              "      <th>ISLANDNAME</th>\n",
              "      <th>COUNTRY</th>\n",
              "      <th>CNTRY_FIPS</th>\n",
              "      <th>CNTRY_ISO</th>\n",
              "      <th>TYPE</th>\n",
              "      <th>CLASS</th>\n",
              "      <th>POPEST</th>\n",
              "      <th>LONGITUDE</th>\n",
              "      <th>LATITUDE</th>\n",
              "      <th>RENDITION</th>\n",
              "      <th>ID</th>\n",
              "      <th>FID_1</th>\n",
              "      <th>geometry</th>\n",
              "    </tr>\n",
              "  </thead>\n",
              "  <tbody>\n",
              "    <tr>\n",
              "      <th>0</th>\n",
              "      <td>almuwassam</td>\n",
              "      <td>0</td>\n",
              "      <td>Jizan</td>\n",
              "      <td>NaN</td>\n",
              "      <td>Saudi Arabia</td>\n",
              "      <td>SA</td>\n",
              "      <td>SA</td>\n",
              "      <td>100</td>\n",
              "      <td>5</td>\n",
              "      <td>-1</td>\n",
              "      <td>42.820380999999998</td>\n",
              "      <td>16.417249999999999</td>\n",
              "      <td>5</td>\n",
              "      <td>151152</td>\n",
              "      <td>5148896</td>\n",
              "      <td>POINT (42.82038 16.41725)</td>\n",
              "    </tr>\n",
              "    <tr>\n",
              "      <th>1</th>\n",
              "      <td>mathan</td>\n",
              "      <td>0</td>\n",
              "      <td>Jizan</td>\n",
              "      <td>NaN</td>\n",
              "      <td>Saudi Arabia</td>\n",
              "      <td>SA</td>\n",
              "      <td>SA</td>\n",
              "      <td>100</td>\n",
              "      <td>6</td>\n",
              "      <td>-1</td>\n",
              "      <td>42.930000000000000</td>\n",
              "      <td>16.430000000000000</td>\n",
              "      <td>6</td>\n",
              "      <td>751258</td>\n",
              "      <td>5741866</td>\n",
              "      <td>POINT (42.93000 16.43000)</td>\n",
              "    </tr>\n",
              "    <tr>\n",
              "      <th>2</th>\n",
              "      <td>mijannah</td>\n",
              "      <td>0</td>\n",
              "      <td>Jizan</td>\n",
              "      <td>NaN</td>\n",
              "      <td>Saudi Arabia</td>\n",
              "      <td>SA</td>\n",
              "      <td>SA</td>\n",
              "      <td>100</td>\n",
              "      <td>5</td>\n",
              "      <td>-1</td>\n",
              "      <td>42.966647999999999</td>\n",
              "      <td>16.529630999999998</td>\n",
              "      <td>5</td>\n",
              "      <td>151145</td>\n",
              "      <td>5148889</td>\n",
              "      <td>POINT (42.96665 16.52963)</td>\n",
              "    </tr>\n",
              "    <tr>\n",
              "      <th>3</th>\n",
              "      <td>baisari</td>\n",
              "      <td>0</td>\n",
              "      <td>Jizan</td>\n",
              "      <td>NaN</td>\n",
              "      <td>Saudi Arabia</td>\n",
              "      <td>SA</td>\n",
              "      <td>SA</td>\n",
              "      <td>100</td>\n",
              "      <td>5</td>\n",
              "      <td>-1</td>\n",
              "      <td>42.791161000000002</td>\n",
              "      <td>16.534268999999998</td>\n",
              "      <td>5</td>\n",
              "      <td>151144</td>\n",
              "      <td>5148888</td>\n",
              "      <td>POINT (42.79116 16.53427)</td>\n",
              "    </tr>\n",
              "    <tr>\n",
              "      <th>4</th>\n",
              "      <td>huthrur</td>\n",
              "      <td>0</td>\n",
              "      <td>Jizan</td>\n",
              "      <td>NaN</td>\n",
              "      <td>Saudi Arabia</td>\n",
              "      <td>SA</td>\n",
              "      <td>SA</td>\n",
              "      <td>100</td>\n",
              "      <td>5</td>\n",
              "      <td>-1</td>\n",
              "      <td>42.867859000000003</td>\n",
              "      <td>16.547670000000000</td>\n",
              "      <td>5</td>\n",
              "      <td>151143</td>\n",
              "      <td>5148887</td>\n",
              "      <td>POINT (42.86786 16.54767)</td>\n",
              "    </tr>\n",
              "    <tr>\n",
              "      <th>...</th>\n",
              "      <td>...</td>\n",
              "      <td>...</td>\n",
              "      <td>...</td>\n",
              "      <td>...</td>\n",
              "      <td>...</td>\n",
              "      <td>...</td>\n",
              "      <td>...</td>\n",
              "      <td>...</td>\n",
              "      <td>...</td>\n",
              "      <td>...</td>\n",
              "      <td>...</td>\n",
              "      <td>...</td>\n",
              "      <td>...</td>\n",
              "      <td>...</td>\n",
              "      <td>...</td>\n",
              "      <td>...</td>\n",
              "    </tr>\n",
              "    <tr>\n",
              "      <th>1644</th>\n",
              "      <td>alwashwash</td>\n",
              "      <td>0</td>\n",
              "      <td>Tabuk</td>\n",
              "      <td>NaN</td>\n",
              "      <td>Saudi Arabia</td>\n",
              "      <td>SA</td>\n",
              "      <td>SA</td>\n",
              "      <td>100</td>\n",
              "      <td>6</td>\n",
              "      <td>-1</td>\n",
              "      <td>37.616667000000000</td>\n",
              "      <td>31.383333000000000</td>\n",
              "      <td>6</td>\n",
              "      <td>300992</td>\n",
              "      <td>5294883</td>\n",
              "      <td>POINT (37.61667 31.38333)</td>\n",
              "    </tr>\n",
              "    <tr>\n",
              "      <th>1645</th>\n",
              "      <td>kaf</td>\n",
              "      <td>0</td>\n",
              "      <td>Tabuk</td>\n",
              "      <td>NaN</td>\n",
              "      <td>Saudi Arabia</td>\n",
              "      <td>SA</td>\n",
              "      <td>SA</td>\n",
              "      <td>100</td>\n",
              "      <td>4</td>\n",
              "      <td>-1</td>\n",
              "      <td>37.495578999999999</td>\n",
              "      <td>31.390190000000000</td>\n",
              "      <td>4</td>\n",
              "      <td>172929</td>\n",
              "      <td>5170420</td>\n",
              "      <td>POINT (37.49558 31.39019)</td>\n",
              "    </tr>\n",
              "    <tr>\n",
              "      <th>1646</th>\n",
              "      <td>alhadithah</td>\n",
              "      <td>0</td>\n",
              "      <td>Tabuk</td>\n",
              "      <td>NaN</td>\n",
              "      <td>Saudi Arabia</td>\n",
              "      <td>SA</td>\n",
              "      <td>SA</td>\n",
              "      <td>100</td>\n",
              "      <td>5</td>\n",
              "      <td>-1</td>\n",
              "      <td>37.148139999999998</td>\n",
              "      <td>31.456011000000000</td>\n",
              "      <td>5</td>\n",
              "      <td>172924</td>\n",
              "      <td>5170415</td>\n",
              "      <td>POINT (37.14814 31.45601)</td>\n",
              "    </tr>\n",
              "    <tr>\n",
              "      <th>1647</th>\n",
              "      <td>mujammaalhadithah</td>\n",
              "      <td>0</td>\n",
              "      <td>Tabuk</td>\n",
              "      <td>NaN</td>\n",
              "      <td>Saudi Arabia</td>\n",
              "      <td>SA</td>\n",
              "      <td>SA</td>\n",
              "      <td>100</td>\n",
              "      <td>6</td>\n",
              "      <td>-1</td>\n",
              "      <td>37.109999999999999</td>\n",
              "      <td>31.510000000000002</td>\n",
              "      <td>6</td>\n",
              "      <td>751454</td>\n",
              "      <td>5742062</td>\n",
              "      <td>POINT (37.11000 31.51000)</td>\n",
              "    </tr>\n",
              "    <tr>\n",
              "      <th>1648</th>\n",
              "      <td>turayf</td>\n",
              "      <td>0</td>\n",
              "      <td>Al Hudud ash Shamaliyah</td>\n",
              "      <td>NaN</td>\n",
              "      <td>Saudi Arabia</td>\n",
              "      <td>SA</td>\n",
              "      <td>SA</td>\n",
              "      <td>100</td>\n",
              "      <td>3</td>\n",
              "      <td>41253</td>\n",
              "      <td>38.656399000000000</td>\n",
              "      <td>31.674191000000000</td>\n",
              "      <td>3</td>\n",
              "      <td>172914</td>\n",
              "      <td>5170405</td>\n",
              "      <td>POINT (38.65640 31.67419)</td>\n",
              "    </tr>\n",
              "  </tbody>\n",
              "</table>\n",
              "<p>1649 rows × 16 columns</p>\n",
              "</div>\n",
              "      <button class=\"colab-df-convert\" onclick=\"convertToInteractive('df-acb94a11-c731-4091-98b9-677203bae58e')\"\n",
              "              title=\"Convert this dataframe to an interactive table.\"\n",
              "              style=\"display:none;\">\n",
              "        \n",
              "  <svg xmlns=\"http://www.w3.org/2000/svg\" height=\"24px\"viewBox=\"0 0 24 24\"\n",
              "       width=\"24px\">\n",
              "    <path d=\"M0 0h24v24H0V0z\" fill=\"none\"/>\n",
              "    <path d=\"M18.56 5.44l.94 2.06.94-2.06 2.06-.94-2.06-.94-.94-2.06-.94 2.06-2.06.94zm-11 1L8.5 8.5l.94-2.06 2.06-.94-2.06-.94L8.5 2.5l-.94 2.06-2.06.94zm10 10l.94 2.06.94-2.06 2.06-.94-2.06-.94-.94-2.06-.94 2.06-2.06.94z\"/><path d=\"M17.41 7.96l-1.37-1.37c-.4-.4-.92-.59-1.43-.59-.52 0-1.04.2-1.43.59L10.3 9.45l-7.72 7.72c-.78.78-.78 2.05 0 2.83L4 21.41c.39.39.9.59 1.41.59.51 0 1.02-.2 1.41-.59l7.78-7.78 2.81-2.81c.8-.78.8-2.07 0-2.86zM5.41 20L4 18.59l7.72-7.72 1.47 1.35L5.41 20z\"/>\n",
              "  </svg>\n",
              "      </button>\n",
              "      \n",
              "  <style>\n",
              "    .colab-df-container {\n",
              "      display:flex;\n",
              "      flex-wrap:wrap;\n",
              "      gap: 12px;\n",
              "    }\n",
              "\n",
              "    .colab-df-convert {\n",
              "      background-color: #E8F0FE;\n",
              "      border: none;\n",
              "      border-radius: 50%;\n",
              "      cursor: pointer;\n",
              "      display: none;\n",
              "      fill: #1967D2;\n",
              "      height: 32px;\n",
              "      padding: 0 0 0 0;\n",
              "      width: 32px;\n",
              "    }\n",
              "\n",
              "    .colab-df-convert:hover {\n",
              "      background-color: #E2EBFA;\n",
              "      box-shadow: 0px 1px 2px rgba(60, 64, 67, 0.3), 0px 1px 3px 1px rgba(60, 64, 67, 0.15);\n",
              "      fill: #174EA6;\n",
              "    }\n",
              "\n",
              "    [theme=dark] .colab-df-convert {\n",
              "      background-color: #3B4455;\n",
              "      fill: #D2E3FC;\n",
              "    }\n",
              "\n",
              "    [theme=dark] .colab-df-convert:hover {\n",
              "      background-color: #434B5C;\n",
              "      box-shadow: 0px 1px 3px 1px rgba(0, 0, 0, 0.15);\n",
              "      filter: drop-shadow(0px 1px 2px rgba(0, 0, 0, 0.3));\n",
              "      fill: #FFFFFF;\n",
              "    }\n",
              "  </style>\n",
              "\n",
              "      <script>\n",
              "        const buttonEl =\n",
              "          document.querySelector('#df-acb94a11-c731-4091-98b9-677203bae58e button.colab-df-convert');\n",
              "        buttonEl.style.display =\n",
              "          google.colab.kernel.accessAllowed ? 'block' : 'none';\n",
              "\n",
              "        async function convertToInteractive(key) {\n",
              "          const element = document.querySelector('#df-acb94a11-c731-4091-98b9-677203bae58e');\n",
              "          const dataTable =\n",
              "            await google.colab.kernel.invokeFunction('convertToInteractive',\n",
              "                                                     [key], {});\n",
              "          if (!dataTable) return;\n",
              "\n",
              "          const docLinkHtml = 'Like what you see? Visit the ' +\n",
              "            '<a target=\"_blank\" href=https://colab.research.google.com/notebooks/data_table.ipynb>data table notebook</a>'\n",
              "            + ' to learn more about interactive tables.';\n",
              "          element.innerHTML = '';\n",
              "          dataTable['output_type'] = 'display_data';\n",
              "          await google.colab.output.renderOutput(dataTable, element);\n",
              "          const docLink = document.createElement('div');\n",
              "          docLink.innerHTML = docLinkHtml;\n",
              "          element.appendChild(docLink);\n",
              "        }\n",
              "      </script>\n",
              "    </div>\n",
              "  </div>\n",
              "  "
            ]
          },
          "metadata": {},
          "execution_count": 86
        }
      ],
      "source": [
        "map = gpd.read_file(\"/bin/sau_places/SAU_Places_ESRI.shp\")\n",
        "map['NAME'] = map['NAME'].replace('[^a-zA-Z]', '', regex=True).str.lower()\n",
        "map"
      ]
    },
    {
      "cell_type": "markdown",
      "metadata": {
        "id": "gv5nFGZG4Q7A"
      },
      "source": [
        "Create a copy of Data Frame to check location field"
      ]
    },
    {
      "cell_type": "code",
      "execution_count": null,
      "metadata": {
        "id": "L7D30Rga4Q7A"
      },
      "outputs": [],
      "source": [
        "df_loc = df"
      ]
    },
    {
      "cell_type": "code",
      "execution_count": null,
      "metadata": {
        "id": "SGPkFGH_4Q7B"
      },
      "outputs": [],
      "source": [
        "df_loc[\"company_location\"] = df_loc[\"company_location\"].str.replace('\\n', '')\n",
        "df_loc['company_location_list'] = df_loc['company_location'].str.split(',')\n",
        "df_loc['company_location_list'] = df_loc['company_location_list'].apply(lambda x: [s.strip() for s in x])\n",
        "df_loc['company_location_list'] = df_loc['company_location_list'].apply(lambda x: [item for item in x if item != 'Saudi Arabia'])\n",
        "df_loc['company_location_list'] = df_loc['company_location_list'].apply(lambda x: list(set(x)))\n",
        "df_loc['company_location_list'] = df_loc['company_location_list'].apply(lambda x: [s.lower() for s in x])"
      ]
    },
    {
      "cell_type": "code",
      "execution_count": null,
      "metadata": {
        "colab": {
          "base_uri": "https://localhost:8080/",
          "height": 852
        },
        "id": "gaBCS5gj4Q7B",
        "outputId": "30cd464d-4039-4ab0-b71c-4bfad9caa1eb"
      },
      "outputs": [
        {
          "output_type": "execute_result",
          "data": {
            "text/plain": [
              "                   NAME  LANG                   ADMIN1  ISLANDNAME  \\\n",
              "0            almuwassam     0                    Jizan         NaN   \n",
              "1                mathan     0                    Jizan         NaN   \n",
              "2              mijannah     0                    Jizan         NaN   \n",
              "3               baisari     0                    Jizan         NaN   \n",
              "4               huthrur     0                    Jizan         NaN   \n",
              "...                 ...   ...                      ...         ...   \n",
              "1644         alwashwash     0                    Tabuk         NaN   \n",
              "1645                kaf     0                    Tabuk         NaN   \n",
              "1646         alhadithah     0                    Tabuk         NaN   \n",
              "1647  mujammaalhadithah     0                    Tabuk         NaN   \n",
              "1648             turayf     0  Al Hudud ash Shamaliyah         NaN   \n",
              "\n",
              "           COUNTRY CNTRY_FIPS CNTRY_ISO  TYPE  CLASS  POPEST  \\\n",
              "0     Saudi Arabia         SA        SA   100      5      -1   \n",
              "1     Saudi Arabia         SA        SA   100      6      -1   \n",
              "2     Saudi Arabia         SA        SA   100      5      -1   \n",
              "3     Saudi Arabia         SA        SA   100      5      -1   \n",
              "4     Saudi Arabia         SA        SA   100      5      -1   \n",
              "...            ...        ...       ...   ...    ...     ...   \n",
              "1644  Saudi Arabia         SA        SA   100      6      -1   \n",
              "1645  Saudi Arabia         SA        SA   100      4      -1   \n",
              "1646  Saudi Arabia         SA        SA   100      5      -1   \n",
              "1647  Saudi Arabia         SA        SA   100      6      -1   \n",
              "1648  Saudi Arabia         SA        SA   100      3   41253   \n",
              "\n",
              "               LONGITUDE            LATITUDE  RENDITION      ID    FID_1  \\\n",
              "0     42.820380999999998  16.417249999999999          5  151152  5148896   \n",
              "1     42.930000000000000  16.430000000000000          6  751258  5741866   \n",
              "2     42.966647999999999  16.529630999999998          5  151145  5148889   \n",
              "3     42.791161000000002  16.534268999999998          5  151144  5148888   \n",
              "4     42.867859000000003  16.547670000000000          5  151143  5148887   \n",
              "...                  ...                 ...        ...     ...      ...   \n",
              "1644  37.616667000000000  31.383333000000000          6  300992  5294883   \n",
              "1645  37.495578999999999  31.390190000000000          4  172929  5170420   \n",
              "1646  37.148139999999998  31.456011000000000          5  172924  5170415   \n",
              "1647  37.109999999999999  31.510000000000002          6  751454  5742062   \n",
              "1648  38.656399000000000  31.674191000000000          3  172914  5170405   \n",
              "\n",
              "                       geometry  Job Count  \n",
              "0     POINT (42.82038 16.41725)          0  \n",
              "1     POINT (42.93000 16.43000)          0  \n",
              "2     POINT (42.96665 16.52963)          0  \n",
              "3     POINT (42.79116 16.53427)          0  \n",
              "4     POINT (42.86786 16.54767)          0  \n",
              "...                         ...        ...  \n",
              "1644  POINT (37.61667 31.38333)          0  \n",
              "1645  POINT (37.49558 31.39019)          0  \n",
              "1646  POINT (37.14814 31.45601)          0  \n",
              "1647  POINT (37.11000 31.51000)          0  \n",
              "1648  POINT (38.65640 31.67419)          0  \n",
              "\n",
              "[1649 rows x 17 columns]"
            ],
            "text/html": [
              "\n",
              "  <div id=\"df-f7b83afc-91f7-4210-967c-aaadc83f9b6c\">\n",
              "    <div class=\"colab-df-container\">\n",
              "      <div>\n",
              "<style scoped>\n",
              "    .dataframe tbody tr th:only-of-type {\n",
              "        vertical-align: middle;\n",
              "    }\n",
              "\n",
              "    .dataframe tbody tr th {\n",
              "        vertical-align: top;\n",
              "    }\n",
              "\n",
              "    .dataframe thead th {\n",
              "        text-align: right;\n",
              "    }\n",
              "</style>\n",
              "<table border=\"1\" class=\"dataframe\">\n",
              "  <thead>\n",
              "    <tr style=\"text-align: right;\">\n",
              "      <th></th>\n",
              "      <th>NAME</th>\n",
              "      <th>LANG</th>\n",
              "      <th>ADMIN1</th>\n",
              "      <th>ISLANDNAME</th>\n",
              "      <th>COUNTRY</th>\n",
              "      <th>CNTRY_FIPS</th>\n",
              "      <th>CNTRY_ISO</th>\n",
              "      <th>TYPE</th>\n",
              "      <th>CLASS</th>\n",
              "      <th>POPEST</th>\n",
              "      <th>LONGITUDE</th>\n",
              "      <th>LATITUDE</th>\n",
              "      <th>RENDITION</th>\n",
              "      <th>ID</th>\n",
              "      <th>FID_1</th>\n",
              "      <th>geometry</th>\n",
              "      <th>Job Count</th>\n",
              "    </tr>\n",
              "  </thead>\n",
              "  <tbody>\n",
              "    <tr>\n",
              "      <th>0</th>\n",
              "      <td>almuwassam</td>\n",
              "      <td>0</td>\n",
              "      <td>Jizan</td>\n",
              "      <td>NaN</td>\n",
              "      <td>Saudi Arabia</td>\n",
              "      <td>SA</td>\n",
              "      <td>SA</td>\n",
              "      <td>100</td>\n",
              "      <td>5</td>\n",
              "      <td>-1</td>\n",
              "      <td>42.820380999999998</td>\n",
              "      <td>16.417249999999999</td>\n",
              "      <td>5</td>\n",
              "      <td>151152</td>\n",
              "      <td>5148896</td>\n",
              "      <td>POINT (42.82038 16.41725)</td>\n",
              "      <td>0</td>\n",
              "    </tr>\n",
              "    <tr>\n",
              "      <th>1</th>\n",
              "      <td>mathan</td>\n",
              "      <td>0</td>\n",
              "      <td>Jizan</td>\n",
              "      <td>NaN</td>\n",
              "      <td>Saudi Arabia</td>\n",
              "      <td>SA</td>\n",
              "      <td>SA</td>\n",
              "      <td>100</td>\n",
              "      <td>6</td>\n",
              "      <td>-1</td>\n",
              "      <td>42.930000000000000</td>\n",
              "      <td>16.430000000000000</td>\n",
              "      <td>6</td>\n",
              "      <td>751258</td>\n",
              "      <td>5741866</td>\n",
              "      <td>POINT (42.93000 16.43000)</td>\n",
              "      <td>0</td>\n",
              "    </tr>\n",
              "    <tr>\n",
              "      <th>2</th>\n",
              "      <td>mijannah</td>\n",
              "      <td>0</td>\n",
              "      <td>Jizan</td>\n",
              "      <td>NaN</td>\n",
              "      <td>Saudi Arabia</td>\n",
              "      <td>SA</td>\n",
              "      <td>SA</td>\n",
              "      <td>100</td>\n",
              "      <td>5</td>\n",
              "      <td>-1</td>\n",
              "      <td>42.966647999999999</td>\n",
              "      <td>16.529630999999998</td>\n",
              "      <td>5</td>\n",
              "      <td>151145</td>\n",
              "      <td>5148889</td>\n",
              "      <td>POINT (42.96665 16.52963)</td>\n",
              "      <td>0</td>\n",
              "    </tr>\n",
              "    <tr>\n",
              "      <th>3</th>\n",
              "      <td>baisari</td>\n",
              "      <td>0</td>\n",
              "      <td>Jizan</td>\n",
              "      <td>NaN</td>\n",
              "      <td>Saudi Arabia</td>\n",
              "      <td>SA</td>\n",
              "      <td>SA</td>\n",
              "      <td>100</td>\n",
              "      <td>5</td>\n",
              "      <td>-1</td>\n",
              "      <td>42.791161000000002</td>\n",
              "      <td>16.534268999999998</td>\n",
              "      <td>5</td>\n",
              "      <td>151144</td>\n",
              "      <td>5148888</td>\n",
              "      <td>POINT (42.79116 16.53427)</td>\n",
              "      <td>0</td>\n",
              "    </tr>\n",
              "    <tr>\n",
              "      <th>4</th>\n",
              "      <td>huthrur</td>\n",
              "      <td>0</td>\n",
              "      <td>Jizan</td>\n",
              "      <td>NaN</td>\n",
              "      <td>Saudi Arabia</td>\n",
              "      <td>SA</td>\n",
              "      <td>SA</td>\n",
              "      <td>100</td>\n",
              "      <td>5</td>\n",
              "      <td>-1</td>\n",
              "      <td>42.867859000000003</td>\n",
              "      <td>16.547670000000000</td>\n",
              "      <td>5</td>\n",
              "      <td>151143</td>\n",
              "      <td>5148887</td>\n",
              "      <td>POINT (42.86786 16.54767)</td>\n",
              "      <td>0</td>\n",
              "    </tr>\n",
              "    <tr>\n",
              "      <th>...</th>\n",
              "      <td>...</td>\n",
              "      <td>...</td>\n",
              "      <td>...</td>\n",
              "      <td>...</td>\n",
              "      <td>...</td>\n",
              "      <td>...</td>\n",
              "      <td>...</td>\n",
              "      <td>...</td>\n",
              "      <td>...</td>\n",
              "      <td>...</td>\n",
              "      <td>...</td>\n",
              "      <td>...</td>\n",
              "      <td>...</td>\n",
              "      <td>...</td>\n",
              "      <td>...</td>\n",
              "      <td>...</td>\n",
              "      <td>...</td>\n",
              "    </tr>\n",
              "    <tr>\n",
              "      <th>1644</th>\n",
              "      <td>alwashwash</td>\n",
              "      <td>0</td>\n",
              "      <td>Tabuk</td>\n",
              "      <td>NaN</td>\n",
              "      <td>Saudi Arabia</td>\n",
              "      <td>SA</td>\n",
              "      <td>SA</td>\n",
              "      <td>100</td>\n",
              "      <td>6</td>\n",
              "      <td>-1</td>\n",
              "      <td>37.616667000000000</td>\n",
              "      <td>31.383333000000000</td>\n",
              "      <td>6</td>\n",
              "      <td>300992</td>\n",
              "      <td>5294883</td>\n",
              "      <td>POINT (37.61667 31.38333)</td>\n",
              "      <td>0</td>\n",
              "    </tr>\n",
              "    <tr>\n",
              "      <th>1645</th>\n",
              "      <td>kaf</td>\n",
              "      <td>0</td>\n",
              "      <td>Tabuk</td>\n",
              "      <td>NaN</td>\n",
              "      <td>Saudi Arabia</td>\n",
              "      <td>SA</td>\n",
              "      <td>SA</td>\n",
              "      <td>100</td>\n",
              "      <td>4</td>\n",
              "      <td>-1</td>\n",
              "      <td>37.495578999999999</td>\n",
              "      <td>31.390190000000000</td>\n",
              "      <td>4</td>\n",
              "      <td>172929</td>\n",
              "      <td>5170420</td>\n",
              "      <td>POINT (37.49558 31.39019)</td>\n",
              "      <td>0</td>\n",
              "    </tr>\n",
              "    <tr>\n",
              "      <th>1646</th>\n",
              "      <td>alhadithah</td>\n",
              "      <td>0</td>\n",
              "      <td>Tabuk</td>\n",
              "      <td>NaN</td>\n",
              "      <td>Saudi Arabia</td>\n",
              "      <td>SA</td>\n",
              "      <td>SA</td>\n",
              "      <td>100</td>\n",
              "      <td>5</td>\n",
              "      <td>-1</td>\n",
              "      <td>37.148139999999998</td>\n",
              "      <td>31.456011000000000</td>\n",
              "      <td>5</td>\n",
              "      <td>172924</td>\n",
              "      <td>5170415</td>\n",
              "      <td>POINT (37.14814 31.45601)</td>\n",
              "      <td>0</td>\n",
              "    </tr>\n",
              "    <tr>\n",
              "      <th>1647</th>\n",
              "      <td>mujammaalhadithah</td>\n",
              "      <td>0</td>\n",
              "      <td>Tabuk</td>\n",
              "      <td>NaN</td>\n",
              "      <td>Saudi Arabia</td>\n",
              "      <td>SA</td>\n",
              "      <td>SA</td>\n",
              "      <td>100</td>\n",
              "      <td>6</td>\n",
              "      <td>-1</td>\n",
              "      <td>37.109999999999999</td>\n",
              "      <td>31.510000000000002</td>\n",
              "      <td>6</td>\n",
              "      <td>751454</td>\n",
              "      <td>5742062</td>\n",
              "      <td>POINT (37.11000 31.51000)</td>\n",
              "      <td>0</td>\n",
              "    </tr>\n",
              "    <tr>\n",
              "      <th>1648</th>\n",
              "      <td>turayf</td>\n",
              "      <td>0</td>\n",
              "      <td>Al Hudud ash Shamaliyah</td>\n",
              "      <td>NaN</td>\n",
              "      <td>Saudi Arabia</td>\n",
              "      <td>SA</td>\n",
              "      <td>SA</td>\n",
              "      <td>100</td>\n",
              "      <td>3</td>\n",
              "      <td>41253</td>\n",
              "      <td>38.656399000000000</td>\n",
              "      <td>31.674191000000000</td>\n",
              "      <td>3</td>\n",
              "      <td>172914</td>\n",
              "      <td>5170405</td>\n",
              "      <td>POINT (38.65640 31.67419)</td>\n",
              "      <td>0</td>\n",
              "    </tr>\n",
              "  </tbody>\n",
              "</table>\n",
              "<p>1649 rows × 17 columns</p>\n",
              "</div>\n",
              "      <button class=\"colab-df-convert\" onclick=\"convertToInteractive('df-f7b83afc-91f7-4210-967c-aaadc83f9b6c')\"\n",
              "              title=\"Convert this dataframe to an interactive table.\"\n",
              "              style=\"display:none;\">\n",
              "        \n",
              "  <svg xmlns=\"http://www.w3.org/2000/svg\" height=\"24px\"viewBox=\"0 0 24 24\"\n",
              "       width=\"24px\">\n",
              "    <path d=\"M0 0h24v24H0V0z\" fill=\"none\"/>\n",
              "    <path d=\"M18.56 5.44l.94 2.06.94-2.06 2.06-.94-2.06-.94-.94-2.06-.94 2.06-2.06.94zm-11 1L8.5 8.5l.94-2.06 2.06-.94-2.06-.94L8.5 2.5l-.94 2.06-2.06.94zm10 10l.94 2.06.94-2.06 2.06-.94-2.06-.94-.94-2.06-.94 2.06-2.06.94z\"/><path d=\"M17.41 7.96l-1.37-1.37c-.4-.4-.92-.59-1.43-.59-.52 0-1.04.2-1.43.59L10.3 9.45l-7.72 7.72c-.78.78-.78 2.05 0 2.83L4 21.41c.39.39.9.59 1.41.59.51 0 1.02-.2 1.41-.59l7.78-7.78 2.81-2.81c.8-.78.8-2.07 0-2.86zM5.41 20L4 18.59l7.72-7.72 1.47 1.35L5.41 20z\"/>\n",
              "  </svg>\n",
              "      </button>\n",
              "      \n",
              "  <style>\n",
              "    .colab-df-container {\n",
              "      display:flex;\n",
              "      flex-wrap:wrap;\n",
              "      gap: 12px;\n",
              "    }\n",
              "\n",
              "    .colab-df-convert {\n",
              "      background-color: #E8F0FE;\n",
              "      border: none;\n",
              "      border-radius: 50%;\n",
              "      cursor: pointer;\n",
              "      display: none;\n",
              "      fill: #1967D2;\n",
              "      height: 32px;\n",
              "      padding: 0 0 0 0;\n",
              "      width: 32px;\n",
              "    }\n",
              "\n",
              "    .colab-df-convert:hover {\n",
              "      background-color: #E2EBFA;\n",
              "      box-shadow: 0px 1px 2px rgba(60, 64, 67, 0.3), 0px 1px 3px 1px rgba(60, 64, 67, 0.15);\n",
              "      fill: #174EA6;\n",
              "    }\n",
              "\n",
              "    [theme=dark] .colab-df-convert {\n",
              "      background-color: #3B4455;\n",
              "      fill: #D2E3FC;\n",
              "    }\n",
              "\n",
              "    [theme=dark] .colab-df-convert:hover {\n",
              "      background-color: #434B5C;\n",
              "      box-shadow: 0px 1px 3px 1px rgba(0, 0, 0, 0.15);\n",
              "      filter: drop-shadow(0px 1px 2px rgba(0, 0, 0, 0.3));\n",
              "      fill: #FFFFFF;\n",
              "    }\n",
              "  </style>\n",
              "\n",
              "      <script>\n",
              "        const buttonEl =\n",
              "          document.querySelector('#df-f7b83afc-91f7-4210-967c-aaadc83f9b6c button.colab-df-convert');\n",
              "        buttonEl.style.display =\n",
              "          google.colab.kernel.accessAllowed ? 'block' : 'none';\n",
              "\n",
              "        async function convertToInteractive(key) {\n",
              "          const element = document.querySelector('#df-f7b83afc-91f7-4210-967c-aaadc83f9b6c');\n",
              "          const dataTable =\n",
              "            await google.colab.kernel.invokeFunction('convertToInteractive',\n",
              "                                                     [key], {});\n",
              "          if (!dataTable) return;\n",
              "\n",
              "          const docLinkHtml = 'Like what you see? Visit the ' +\n",
              "            '<a target=\"_blank\" href=https://colab.research.google.com/notebooks/data_table.ipynb>data table notebook</a>'\n",
              "            + ' to learn more about interactive tables.';\n",
              "          element.innerHTML = '';\n",
              "          dataTable['output_type'] = 'display_data';\n",
              "          await google.colab.output.renderOutput(dataTable, element);\n",
              "          const docLink = document.createElement('div');\n",
              "          docLink.innerHTML = docLinkHtml;\n",
              "          element.appendChild(docLink);\n",
              "        }\n",
              "      </script>\n",
              "    </div>\n",
              "  </div>\n",
              "  "
            ]
          },
          "metadata": {},
          "execution_count": 89
        }
      ],
      "source": [
        "map['Job Count']=0\n",
        "map"
      ]
    },
    {
      "cell_type": "code",
      "execution_count": null,
      "metadata": {
        "colab": {
          "base_uri": "https://localhost:8080/",
          "height": 852
        },
        "id": "Xu5Ud50S4Q7C",
        "outputId": "75182878-22c4-4109-8029-c06403850088"
      },
      "outputs": [
        {
          "output_type": "execute_result",
          "data": {
            "text/plain": [
              "                   NAME  LANG                   ADMIN1  ISLANDNAME  \\\n",
              "0            almuwassam     0                    Jizan         NaN   \n",
              "1                mathan     0                    Jizan         NaN   \n",
              "2              mijannah     0                    Jizan         NaN   \n",
              "3               baisari     0                    Jizan         NaN   \n",
              "4               huthrur     0                    Jizan         NaN   \n",
              "...                 ...   ...                      ...         ...   \n",
              "1644         alwashwash     0                    Tabuk         NaN   \n",
              "1645                kaf     0                    Tabuk         NaN   \n",
              "1646         alhadithah     0                    Tabuk         NaN   \n",
              "1647  mujammaalhadithah     0                    Tabuk         NaN   \n",
              "1648             turayf     0  Al Hudud ash Shamaliyah         NaN   \n",
              "\n",
              "           COUNTRY CNTRY_FIPS CNTRY_ISO  TYPE  CLASS  POPEST  \\\n",
              "0     Saudi Arabia         SA        SA   100      5      -1   \n",
              "1     Saudi Arabia         SA        SA   100      6      -1   \n",
              "2     Saudi Arabia         SA        SA   100      5      -1   \n",
              "3     Saudi Arabia         SA        SA   100      5      -1   \n",
              "4     Saudi Arabia         SA        SA   100      5      -1   \n",
              "...            ...        ...       ...   ...    ...     ...   \n",
              "1644  Saudi Arabia         SA        SA   100      6      -1   \n",
              "1645  Saudi Arabia         SA        SA   100      4      -1   \n",
              "1646  Saudi Arabia         SA        SA   100      5      -1   \n",
              "1647  Saudi Arabia         SA        SA   100      6      -1   \n",
              "1648  Saudi Arabia         SA        SA   100      3   41253   \n",
              "\n",
              "               LONGITUDE            LATITUDE  RENDITION      ID    FID_1  \\\n",
              "0     42.820380999999998  16.417249999999999          5  151152  5148896   \n",
              "1     42.930000000000000  16.430000000000000          6  751258  5741866   \n",
              "2     42.966647999999999  16.529630999999998          5  151145  5148889   \n",
              "3     42.791161000000002  16.534268999999998          5  151144  5148888   \n",
              "4     42.867859000000003  16.547670000000000          5  151143  5148887   \n",
              "...                  ...                 ...        ...     ...      ...   \n",
              "1644  37.616667000000000  31.383333000000000          6  300992  5294883   \n",
              "1645  37.495578999999999  31.390190000000000          4  172929  5170420   \n",
              "1646  37.148139999999998  31.456011000000000          5  172924  5170415   \n",
              "1647  37.109999999999999  31.510000000000002          6  751454  5742062   \n",
              "1648  38.656399000000000  31.674191000000000          3  172914  5170405   \n",
              "\n",
              "                       geometry  Job Count  \n",
              "0     POINT (42.82038 16.41725)          0  \n",
              "1     POINT (42.93000 16.43000)          0  \n",
              "2     POINT (42.96665 16.52963)          0  \n",
              "3     POINT (42.79116 16.53427)          0  \n",
              "4     POINT (42.86786 16.54767)          0  \n",
              "...                         ...        ...  \n",
              "1644  POINT (37.61667 31.38333)          0  \n",
              "1645  POINT (37.49558 31.39019)          0  \n",
              "1646  POINT (37.14814 31.45601)          0  \n",
              "1647  POINT (37.11000 31.51000)          0  \n",
              "1648  POINT (38.65640 31.67419)          0  \n",
              "\n",
              "[1649 rows x 17 columns]"
            ],
            "text/html": [
              "\n",
              "  <div id=\"df-727f110c-1a0f-409e-890d-3f4870022eb5\">\n",
              "    <div class=\"colab-df-container\">\n",
              "      <div>\n",
              "<style scoped>\n",
              "    .dataframe tbody tr th:only-of-type {\n",
              "        vertical-align: middle;\n",
              "    }\n",
              "\n",
              "    .dataframe tbody tr th {\n",
              "        vertical-align: top;\n",
              "    }\n",
              "\n",
              "    .dataframe thead th {\n",
              "        text-align: right;\n",
              "    }\n",
              "</style>\n",
              "<table border=\"1\" class=\"dataframe\">\n",
              "  <thead>\n",
              "    <tr style=\"text-align: right;\">\n",
              "      <th></th>\n",
              "      <th>NAME</th>\n",
              "      <th>LANG</th>\n",
              "      <th>ADMIN1</th>\n",
              "      <th>ISLANDNAME</th>\n",
              "      <th>COUNTRY</th>\n",
              "      <th>CNTRY_FIPS</th>\n",
              "      <th>CNTRY_ISO</th>\n",
              "      <th>TYPE</th>\n",
              "      <th>CLASS</th>\n",
              "      <th>POPEST</th>\n",
              "      <th>LONGITUDE</th>\n",
              "      <th>LATITUDE</th>\n",
              "      <th>RENDITION</th>\n",
              "      <th>ID</th>\n",
              "      <th>FID_1</th>\n",
              "      <th>geometry</th>\n",
              "      <th>Job Count</th>\n",
              "    </tr>\n",
              "  </thead>\n",
              "  <tbody>\n",
              "    <tr>\n",
              "      <th>0</th>\n",
              "      <td>almuwassam</td>\n",
              "      <td>0</td>\n",
              "      <td>Jizan</td>\n",
              "      <td>NaN</td>\n",
              "      <td>Saudi Arabia</td>\n",
              "      <td>SA</td>\n",
              "      <td>SA</td>\n",
              "      <td>100</td>\n",
              "      <td>5</td>\n",
              "      <td>-1</td>\n",
              "      <td>42.820380999999998</td>\n",
              "      <td>16.417249999999999</td>\n",
              "      <td>5</td>\n",
              "      <td>151152</td>\n",
              "      <td>5148896</td>\n",
              "      <td>POINT (42.82038 16.41725)</td>\n",
              "      <td>0</td>\n",
              "    </tr>\n",
              "    <tr>\n",
              "      <th>1</th>\n",
              "      <td>mathan</td>\n",
              "      <td>0</td>\n",
              "      <td>Jizan</td>\n",
              "      <td>NaN</td>\n",
              "      <td>Saudi Arabia</td>\n",
              "      <td>SA</td>\n",
              "      <td>SA</td>\n",
              "      <td>100</td>\n",
              "      <td>6</td>\n",
              "      <td>-1</td>\n",
              "      <td>42.930000000000000</td>\n",
              "      <td>16.430000000000000</td>\n",
              "      <td>6</td>\n",
              "      <td>751258</td>\n",
              "      <td>5741866</td>\n",
              "      <td>POINT (42.93000 16.43000)</td>\n",
              "      <td>0</td>\n",
              "    </tr>\n",
              "    <tr>\n",
              "      <th>2</th>\n",
              "      <td>mijannah</td>\n",
              "      <td>0</td>\n",
              "      <td>Jizan</td>\n",
              "      <td>NaN</td>\n",
              "      <td>Saudi Arabia</td>\n",
              "      <td>SA</td>\n",
              "      <td>SA</td>\n",
              "      <td>100</td>\n",
              "      <td>5</td>\n",
              "      <td>-1</td>\n",
              "      <td>42.966647999999999</td>\n",
              "      <td>16.529630999999998</td>\n",
              "      <td>5</td>\n",
              "      <td>151145</td>\n",
              "      <td>5148889</td>\n",
              "      <td>POINT (42.96665 16.52963)</td>\n",
              "      <td>0</td>\n",
              "    </tr>\n",
              "    <tr>\n",
              "      <th>3</th>\n",
              "      <td>baisari</td>\n",
              "      <td>0</td>\n",
              "      <td>Jizan</td>\n",
              "      <td>NaN</td>\n",
              "      <td>Saudi Arabia</td>\n",
              "      <td>SA</td>\n",
              "      <td>SA</td>\n",
              "      <td>100</td>\n",
              "      <td>5</td>\n",
              "      <td>-1</td>\n",
              "      <td>42.791161000000002</td>\n",
              "      <td>16.534268999999998</td>\n",
              "      <td>5</td>\n",
              "      <td>151144</td>\n",
              "      <td>5148888</td>\n",
              "      <td>POINT (42.79116 16.53427)</td>\n",
              "      <td>0</td>\n",
              "    </tr>\n",
              "    <tr>\n",
              "      <th>4</th>\n",
              "      <td>huthrur</td>\n",
              "      <td>0</td>\n",
              "      <td>Jizan</td>\n",
              "      <td>NaN</td>\n",
              "      <td>Saudi Arabia</td>\n",
              "      <td>SA</td>\n",
              "      <td>SA</td>\n",
              "      <td>100</td>\n",
              "      <td>5</td>\n",
              "      <td>-1</td>\n",
              "      <td>42.867859000000003</td>\n",
              "      <td>16.547670000000000</td>\n",
              "      <td>5</td>\n",
              "      <td>151143</td>\n",
              "      <td>5148887</td>\n",
              "      <td>POINT (42.86786 16.54767)</td>\n",
              "      <td>0</td>\n",
              "    </tr>\n",
              "    <tr>\n",
              "      <th>...</th>\n",
              "      <td>...</td>\n",
              "      <td>...</td>\n",
              "      <td>...</td>\n",
              "      <td>...</td>\n",
              "      <td>...</td>\n",
              "      <td>...</td>\n",
              "      <td>...</td>\n",
              "      <td>...</td>\n",
              "      <td>...</td>\n",
              "      <td>...</td>\n",
              "      <td>...</td>\n",
              "      <td>...</td>\n",
              "      <td>...</td>\n",
              "      <td>...</td>\n",
              "      <td>...</td>\n",
              "      <td>...</td>\n",
              "      <td>...</td>\n",
              "    </tr>\n",
              "    <tr>\n",
              "      <th>1644</th>\n",
              "      <td>alwashwash</td>\n",
              "      <td>0</td>\n",
              "      <td>Tabuk</td>\n",
              "      <td>NaN</td>\n",
              "      <td>Saudi Arabia</td>\n",
              "      <td>SA</td>\n",
              "      <td>SA</td>\n",
              "      <td>100</td>\n",
              "      <td>6</td>\n",
              "      <td>-1</td>\n",
              "      <td>37.616667000000000</td>\n",
              "      <td>31.383333000000000</td>\n",
              "      <td>6</td>\n",
              "      <td>300992</td>\n",
              "      <td>5294883</td>\n",
              "      <td>POINT (37.61667 31.38333)</td>\n",
              "      <td>0</td>\n",
              "    </tr>\n",
              "    <tr>\n",
              "      <th>1645</th>\n",
              "      <td>kaf</td>\n",
              "      <td>0</td>\n",
              "      <td>Tabuk</td>\n",
              "      <td>NaN</td>\n",
              "      <td>Saudi Arabia</td>\n",
              "      <td>SA</td>\n",
              "      <td>SA</td>\n",
              "      <td>100</td>\n",
              "      <td>4</td>\n",
              "      <td>-1</td>\n",
              "      <td>37.495578999999999</td>\n",
              "      <td>31.390190000000000</td>\n",
              "      <td>4</td>\n",
              "      <td>172929</td>\n",
              "      <td>5170420</td>\n",
              "      <td>POINT (37.49558 31.39019)</td>\n",
              "      <td>0</td>\n",
              "    </tr>\n",
              "    <tr>\n",
              "      <th>1646</th>\n",
              "      <td>alhadithah</td>\n",
              "      <td>0</td>\n",
              "      <td>Tabuk</td>\n",
              "      <td>NaN</td>\n",
              "      <td>Saudi Arabia</td>\n",
              "      <td>SA</td>\n",
              "      <td>SA</td>\n",
              "      <td>100</td>\n",
              "      <td>5</td>\n",
              "      <td>-1</td>\n",
              "      <td>37.148139999999998</td>\n",
              "      <td>31.456011000000000</td>\n",
              "      <td>5</td>\n",
              "      <td>172924</td>\n",
              "      <td>5170415</td>\n",
              "      <td>POINT (37.14814 31.45601)</td>\n",
              "      <td>0</td>\n",
              "    </tr>\n",
              "    <tr>\n",
              "      <th>1647</th>\n",
              "      <td>mujammaalhadithah</td>\n",
              "      <td>0</td>\n",
              "      <td>Tabuk</td>\n",
              "      <td>NaN</td>\n",
              "      <td>Saudi Arabia</td>\n",
              "      <td>SA</td>\n",
              "      <td>SA</td>\n",
              "      <td>100</td>\n",
              "      <td>6</td>\n",
              "      <td>-1</td>\n",
              "      <td>37.109999999999999</td>\n",
              "      <td>31.510000000000002</td>\n",
              "      <td>6</td>\n",
              "      <td>751454</td>\n",
              "      <td>5742062</td>\n",
              "      <td>POINT (37.11000 31.51000)</td>\n",
              "      <td>0</td>\n",
              "    </tr>\n",
              "    <tr>\n",
              "      <th>1648</th>\n",
              "      <td>turayf</td>\n",
              "      <td>0</td>\n",
              "      <td>Al Hudud ash Shamaliyah</td>\n",
              "      <td>NaN</td>\n",
              "      <td>Saudi Arabia</td>\n",
              "      <td>SA</td>\n",
              "      <td>SA</td>\n",
              "      <td>100</td>\n",
              "      <td>3</td>\n",
              "      <td>41253</td>\n",
              "      <td>38.656399000000000</td>\n",
              "      <td>31.674191000000000</td>\n",
              "      <td>3</td>\n",
              "      <td>172914</td>\n",
              "      <td>5170405</td>\n",
              "      <td>POINT (38.65640 31.67419)</td>\n",
              "      <td>0</td>\n",
              "    </tr>\n",
              "  </tbody>\n",
              "</table>\n",
              "<p>1649 rows × 17 columns</p>\n",
              "</div>\n",
              "      <button class=\"colab-df-convert\" onclick=\"convertToInteractive('df-727f110c-1a0f-409e-890d-3f4870022eb5')\"\n",
              "              title=\"Convert this dataframe to an interactive table.\"\n",
              "              style=\"display:none;\">\n",
              "        \n",
              "  <svg xmlns=\"http://www.w3.org/2000/svg\" height=\"24px\"viewBox=\"0 0 24 24\"\n",
              "       width=\"24px\">\n",
              "    <path d=\"M0 0h24v24H0V0z\" fill=\"none\"/>\n",
              "    <path d=\"M18.56 5.44l.94 2.06.94-2.06 2.06-.94-2.06-.94-.94-2.06-.94 2.06-2.06.94zm-11 1L8.5 8.5l.94-2.06 2.06-.94-2.06-.94L8.5 2.5l-.94 2.06-2.06.94zm10 10l.94 2.06.94-2.06 2.06-.94-2.06-.94-.94-2.06-.94 2.06-2.06.94z\"/><path d=\"M17.41 7.96l-1.37-1.37c-.4-.4-.92-.59-1.43-.59-.52 0-1.04.2-1.43.59L10.3 9.45l-7.72 7.72c-.78.78-.78 2.05 0 2.83L4 21.41c.39.39.9.59 1.41.59.51 0 1.02-.2 1.41-.59l7.78-7.78 2.81-2.81c.8-.78.8-2.07 0-2.86zM5.41 20L4 18.59l7.72-7.72 1.47 1.35L5.41 20z\"/>\n",
              "  </svg>\n",
              "      </button>\n",
              "      \n",
              "  <style>\n",
              "    .colab-df-container {\n",
              "      display:flex;\n",
              "      flex-wrap:wrap;\n",
              "      gap: 12px;\n",
              "    }\n",
              "\n",
              "    .colab-df-convert {\n",
              "      background-color: #E8F0FE;\n",
              "      border: none;\n",
              "      border-radius: 50%;\n",
              "      cursor: pointer;\n",
              "      display: none;\n",
              "      fill: #1967D2;\n",
              "      height: 32px;\n",
              "      padding: 0 0 0 0;\n",
              "      width: 32px;\n",
              "    }\n",
              "\n",
              "    .colab-df-convert:hover {\n",
              "      background-color: #E2EBFA;\n",
              "      box-shadow: 0px 1px 2px rgba(60, 64, 67, 0.3), 0px 1px 3px 1px rgba(60, 64, 67, 0.15);\n",
              "      fill: #174EA6;\n",
              "    }\n",
              "\n",
              "    [theme=dark] .colab-df-convert {\n",
              "      background-color: #3B4455;\n",
              "      fill: #D2E3FC;\n",
              "    }\n",
              "\n",
              "    [theme=dark] .colab-df-convert:hover {\n",
              "      background-color: #434B5C;\n",
              "      box-shadow: 0px 1px 3px 1px rgba(0, 0, 0, 0.15);\n",
              "      filter: drop-shadow(0px 1px 2px rgba(0, 0, 0, 0.3));\n",
              "      fill: #FFFFFF;\n",
              "    }\n",
              "  </style>\n",
              "\n",
              "      <script>\n",
              "        const buttonEl =\n",
              "          document.querySelector('#df-727f110c-1a0f-409e-890d-3f4870022eb5 button.colab-df-convert');\n",
              "        buttonEl.style.display =\n",
              "          google.colab.kernel.accessAllowed ? 'block' : 'none';\n",
              "\n",
              "        async function convertToInteractive(key) {\n",
              "          const element = document.querySelector('#df-727f110c-1a0f-409e-890d-3f4870022eb5');\n",
              "          const dataTable =\n",
              "            await google.colab.kernel.invokeFunction('convertToInteractive',\n",
              "                                                     [key], {});\n",
              "          if (!dataTable) return;\n",
              "\n",
              "          const docLinkHtml = 'Like what you see? Visit the ' +\n",
              "            '<a target=\"_blank\" href=https://colab.research.google.com/notebooks/data_table.ipynb>data table notebook</a>'\n",
              "            + ' to learn more about interactive tables.';\n",
              "          element.innerHTML = '';\n",
              "          dataTable['output_type'] = 'display_data';\n",
              "          await google.colab.output.renderOutput(dataTable, element);\n",
              "          const docLink = document.createElement('div');\n",
              "          docLink.innerHTML = docLinkHtml;\n",
              "          element.appendChild(docLink);\n",
              "        }\n",
              "      </script>\n",
              "    </div>\n",
              "  </div>\n",
              "  "
            ]
          },
          "metadata": {},
          "execution_count": 90
        }
      ],
      "source": [
        "index =0\n",
        "for city in map['NAME']:\n",
        "    count = df_loc['company_location_list'].apply(lambda x: x.count(city)).sum()\n",
        "    map['Job Count'][index]= count\n",
        "    index+=1\n",
        "map"
      ]
    },
    {
      "cell_type": "code",
      "execution_count": null,
      "metadata": {
        "id": "_l9bRz344Q7C"
      },
      "outputs": [],
      "source": [
        "df_filtered = map[map['Job Count'] != 0] #to only plot those not zero\n",
        "# df_filtered"
      ]
    },
    {
      "cell_type": "code",
      "execution_count": null,
      "metadata": {
        "colab": {
          "base_uri": "https://localhost:8080/",
          "height": 542
        },
        "id": "zz4J5AXG4Q7C",
        "outputId": "fc042cd3-9da1-4a33-c928-38e729ae71ef"
      },
      "outputs": [
        {
          "output_type": "display_data",
          "data": {
            "text/html": [
              "<html>\n",
              "<head><meta charset=\"utf-8\" /></head>\n",
              "<body>\n",
              "    <div>            <script src=\"https://cdnjs.cloudflare.com/ajax/libs/mathjax/2.7.5/MathJax.js?config=TeX-AMS-MML_SVG\"></script><script type=\"text/javascript\">if (window.MathJax && window.MathJax.Hub && window.MathJax.Hub.Config) {window.MathJax.Hub.Config({SVG: {font: \"STIX-Web\"}});}</script>                <script type=\"text/javascript\">window.PlotlyConfig = {MathJaxConfig: 'local'};</script>\n",
              "        <script src=\"https://cdn.plot.ly/plotly-2.18.2.min.js\"></script>                <div id=\"8e86bc2f-b721-4baa-97e1-e3c4ae1da544\" class=\"plotly-graph-div\" style=\"height:525px; width:100%;\"></div>            <script type=\"text/javascript\">                                    window.PLOTLYENV=window.PLOTLYENV || {};                                    if (document.getElementById(\"8e86bc2f-b721-4baa-97e1-e3c4ae1da544\")) {                    Plotly.newPlot(                        \"8e86bc2f-b721-4baa-97e1-e3c4ae1da544\",                        [{\"hovertemplate\":\"Job Count=%{marker.color}<br>LATITUDE=%{lat}<br>LONGITUDE=%{lon}<extra></extra>\",\"lat\":[21.42738,21.42738,21.543489,21.543489,24.460899,24.640151,27.012563,28.390409],\"legendgroup\":\"\",\"lon\":[39.814838,39.814838,39.172989,39.172989,39.62019,46.724893,49.658128,36.5732],\"marker\":{\"color\":[17,2,12,3,1,87,1,22],\"coloraxis\":\"coloraxis\",\"size\":[17,2,12,3,1,87,1,22],\"sizemode\":\"area\",\"sizeref\":0.0348},\"mode\":\"markers\",\"name\":\"\",\"showlegend\":false,\"subplot\":\"mapbox\",\"type\":\"scattermapbox\"}],                        {\"template\":{\"data\":{\"histogram2dcontour\":[{\"type\":\"histogram2dcontour\",\"colorbar\":{\"outlinewidth\":0,\"ticks\":\"\"},\"colorscale\":[[0.0,\"#0d0887\"],[0.1111111111111111,\"#46039f\"],[0.2222222222222222,\"#7201a8\"],[0.3333333333333333,\"#9c179e\"],[0.4444444444444444,\"#bd3786\"],[0.5555555555555556,\"#d8576b\"],[0.6666666666666666,\"#ed7953\"],[0.7777777777777778,\"#fb9f3a\"],[0.8888888888888888,\"#fdca26\"],[1.0,\"#f0f921\"]]}],\"choropleth\":[{\"type\":\"choropleth\",\"colorbar\":{\"outlinewidth\":0,\"ticks\":\"\"}}],\"histogram2d\":[{\"type\":\"histogram2d\",\"colorbar\":{\"outlinewidth\":0,\"ticks\":\"\"},\"colorscale\":[[0.0,\"#0d0887\"],[0.1111111111111111,\"#46039f\"],[0.2222222222222222,\"#7201a8\"],[0.3333333333333333,\"#9c179e\"],[0.4444444444444444,\"#bd3786\"],[0.5555555555555556,\"#d8576b\"],[0.6666666666666666,\"#ed7953\"],[0.7777777777777778,\"#fb9f3a\"],[0.8888888888888888,\"#fdca26\"],[1.0,\"#f0f921\"]]}],\"heatmap\":[{\"type\":\"heatmap\",\"colorbar\":{\"outlinewidth\":0,\"ticks\":\"\"},\"colorscale\":[[0.0,\"#0d0887\"],[0.1111111111111111,\"#46039f\"],[0.2222222222222222,\"#7201a8\"],[0.3333333333333333,\"#9c179e\"],[0.4444444444444444,\"#bd3786\"],[0.5555555555555556,\"#d8576b\"],[0.6666666666666666,\"#ed7953\"],[0.7777777777777778,\"#fb9f3a\"],[0.8888888888888888,\"#fdca26\"],[1.0,\"#f0f921\"]]}],\"heatmapgl\":[{\"type\":\"heatmapgl\",\"colorbar\":{\"outlinewidth\":0,\"ticks\":\"\"},\"colorscale\":[[0.0,\"#0d0887\"],[0.1111111111111111,\"#46039f\"],[0.2222222222222222,\"#7201a8\"],[0.3333333333333333,\"#9c179e\"],[0.4444444444444444,\"#bd3786\"],[0.5555555555555556,\"#d8576b\"],[0.6666666666666666,\"#ed7953\"],[0.7777777777777778,\"#fb9f3a\"],[0.8888888888888888,\"#fdca26\"],[1.0,\"#f0f921\"]]}],\"contourcarpet\":[{\"type\":\"contourcarpet\",\"colorbar\":{\"outlinewidth\":0,\"ticks\":\"\"}}],\"contour\":[{\"type\":\"contour\",\"colorbar\":{\"outlinewidth\":0,\"ticks\":\"\"},\"colorscale\":[[0.0,\"#0d0887\"],[0.1111111111111111,\"#46039f\"],[0.2222222222222222,\"#7201a8\"],[0.3333333333333333,\"#9c179e\"],[0.4444444444444444,\"#bd3786\"],[0.5555555555555556,\"#d8576b\"],[0.6666666666666666,\"#ed7953\"],[0.7777777777777778,\"#fb9f3a\"],[0.8888888888888888,\"#fdca26\"],[1.0,\"#f0f921\"]]}],\"surface\":[{\"type\":\"surface\",\"colorbar\":{\"outlinewidth\":0,\"ticks\":\"\"},\"colorscale\":[[0.0,\"#0d0887\"],[0.1111111111111111,\"#46039f\"],[0.2222222222222222,\"#7201a8\"],[0.3333333333333333,\"#9c179e\"],[0.4444444444444444,\"#bd3786\"],[0.5555555555555556,\"#d8576b\"],[0.6666666666666666,\"#ed7953\"],[0.7777777777777778,\"#fb9f3a\"],[0.8888888888888888,\"#fdca26\"],[1.0,\"#f0f921\"]]}],\"mesh3d\":[{\"type\":\"mesh3d\",\"colorbar\":{\"outlinewidth\":0,\"ticks\":\"\"}}],\"scatter\":[{\"fillpattern\":{\"fillmode\":\"overlay\",\"size\":10,\"solidity\":0.2},\"type\":\"scatter\"}],\"parcoords\":[{\"type\":\"parcoords\",\"line\":{\"colorbar\":{\"outlinewidth\":0,\"ticks\":\"\"}}}],\"scatterpolargl\":[{\"type\":\"scatterpolargl\",\"marker\":{\"colorbar\":{\"outlinewidth\":0,\"ticks\":\"\"}}}],\"bar\":[{\"error_x\":{\"color\":\"#2a3f5f\"},\"error_y\":{\"color\":\"#2a3f5f\"},\"marker\":{\"line\":{\"color\":\"#E5ECF6\",\"width\":0.5},\"pattern\":{\"fillmode\":\"overlay\",\"size\":10,\"solidity\":0.2}},\"type\":\"bar\"}],\"scattergeo\":[{\"type\":\"scattergeo\",\"marker\":{\"colorbar\":{\"outlinewidth\":0,\"ticks\":\"\"}}}],\"scatterpolar\":[{\"type\":\"scatterpolar\",\"marker\":{\"colorbar\":{\"outlinewidth\":0,\"ticks\":\"\"}}}],\"histogram\":[{\"marker\":{\"pattern\":{\"fillmode\":\"overlay\",\"size\":10,\"solidity\":0.2}},\"type\":\"histogram\"}],\"scattergl\":[{\"type\":\"scattergl\",\"marker\":{\"colorbar\":{\"outlinewidth\":0,\"ticks\":\"\"}}}],\"scatter3d\":[{\"type\":\"scatter3d\",\"line\":{\"colorbar\":{\"outlinewidth\":0,\"ticks\":\"\"}},\"marker\":{\"colorbar\":{\"outlinewidth\":0,\"ticks\":\"\"}}}],\"scattermapbox\":[{\"type\":\"scattermapbox\",\"marker\":{\"colorbar\":{\"outlinewidth\":0,\"ticks\":\"\"}}}],\"scatterternary\":[{\"type\":\"scatterternary\",\"marker\":{\"colorbar\":{\"outlinewidth\":0,\"ticks\":\"\"}}}],\"scattercarpet\":[{\"type\":\"scattercarpet\",\"marker\":{\"colorbar\":{\"outlinewidth\":0,\"ticks\":\"\"}}}],\"carpet\":[{\"aaxis\":{\"endlinecolor\":\"#2a3f5f\",\"gridcolor\":\"white\",\"linecolor\":\"white\",\"minorgridcolor\":\"white\",\"startlinecolor\":\"#2a3f5f\"},\"baxis\":{\"endlinecolor\":\"#2a3f5f\",\"gridcolor\":\"white\",\"linecolor\":\"white\",\"minorgridcolor\":\"white\",\"startlinecolor\":\"#2a3f5f\"},\"type\":\"carpet\"}],\"table\":[{\"cells\":{\"fill\":{\"color\":\"#EBF0F8\"},\"line\":{\"color\":\"white\"}},\"header\":{\"fill\":{\"color\":\"#C8D4E3\"},\"line\":{\"color\":\"white\"}},\"type\":\"table\"}],\"barpolar\":[{\"marker\":{\"line\":{\"color\":\"#E5ECF6\",\"width\":0.5},\"pattern\":{\"fillmode\":\"overlay\",\"size\":10,\"solidity\":0.2}},\"type\":\"barpolar\"}],\"pie\":[{\"automargin\":true,\"type\":\"pie\"}]},\"layout\":{\"autotypenumbers\":\"strict\",\"colorway\":[\"#636efa\",\"#EF553B\",\"#00cc96\",\"#ab63fa\",\"#FFA15A\",\"#19d3f3\",\"#FF6692\",\"#B6E880\",\"#FF97FF\",\"#FECB52\"],\"font\":{\"color\":\"#2a3f5f\"},\"hovermode\":\"closest\",\"hoverlabel\":{\"align\":\"left\"},\"paper_bgcolor\":\"white\",\"plot_bgcolor\":\"#E5ECF6\",\"polar\":{\"bgcolor\":\"#E5ECF6\",\"angularaxis\":{\"gridcolor\":\"white\",\"linecolor\":\"white\",\"ticks\":\"\"},\"radialaxis\":{\"gridcolor\":\"white\",\"linecolor\":\"white\",\"ticks\":\"\"}},\"ternary\":{\"bgcolor\":\"#E5ECF6\",\"aaxis\":{\"gridcolor\":\"white\",\"linecolor\":\"white\",\"ticks\":\"\"},\"baxis\":{\"gridcolor\":\"white\",\"linecolor\":\"white\",\"ticks\":\"\"},\"caxis\":{\"gridcolor\":\"white\",\"linecolor\":\"white\",\"ticks\":\"\"}},\"coloraxis\":{\"colorbar\":{\"outlinewidth\":0,\"ticks\":\"\"}},\"colorscale\":{\"sequential\":[[0.0,\"#0d0887\"],[0.1111111111111111,\"#46039f\"],[0.2222222222222222,\"#7201a8\"],[0.3333333333333333,\"#9c179e\"],[0.4444444444444444,\"#bd3786\"],[0.5555555555555556,\"#d8576b\"],[0.6666666666666666,\"#ed7953\"],[0.7777777777777778,\"#fb9f3a\"],[0.8888888888888888,\"#fdca26\"],[1.0,\"#f0f921\"]],\"sequentialminus\":[[0.0,\"#0d0887\"],[0.1111111111111111,\"#46039f\"],[0.2222222222222222,\"#7201a8\"],[0.3333333333333333,\"#9c179e\"],[0.4444444444444444,\"#bd3786\"],[0.5555555555555556,\"#d8576b\"],[0.6666666666666666,\"#ed7953\"],[0.7777777777777778,\"#fb9f3a\"],[0.8888888888888888,\"#fdca26\"],[1.0,\"#f0f921\"]],\"diverging\":[[0,\"#8e0152\"],[0.1,\"#c51b7d\"],[0.2,\"#de77ae\"],[0.3,\"#f1b6da\"],[0.4,\"#fde0ef\"],[0.5,\"#f7f7f7\"],[0.6,\"#e6f5d0\"],[0.7,\"#b8e186\"],[0.8,\"#7fbc41\"],[0.9,\"#4d9221\"],[1,\"#276419\"]]},\"xaxis\":{\"gridcolor\":\"white\",\"linecolor\":\"white\",\"ticks\":\"\",\"title\":{\"standoff\":15},\"zerolinecolor\":\"white\",\"automargin\":true,\"zerolinewidth\":2},\"yaxis\":{\"gridcolor\":\"white\",\"linecolor\":\"white\",\"ticks\":\"\",\"title\":{\"standoff\":15},\"zerolinecolor\":\"white\",\"automargin\":true,\"zerolinewidth\":2},\"scene\":{\"xaxis\":{\"backgroundcolor\":\"#E5ECF6\",\"gridcolor\":\"white\",\"linecolor\":\"white\",\"showbackground\":true,\"ticks\":\"\",\"zerolinecolor\":\"white\",\"gridwidth\":2},\"yaxis\":{\"backgroundcolor\":\"#E5ECF6\",\"gridcolor\":\"white\",\"linecolor\":\"white\",\"showbackground\":true,\"ticks\":\"\",\"zerolinecolor\":\"white\",\"gridwidth\":2},\"zaxis\":{\"backgroundcolor\":\"#E5ECF6\",\"gridcolor\":\"white\",\"linecolor\":\"white\",\"showbackground\":true,\"ticks\":\"\",\"zerolinecolor\":\"white\",\"gridwidth\":2}},\"shapedefaults\":{\"line\":{\"color\":\"#2a3f5f\"}},\"annotationdefaults\":{\"arrowcolor\":\"#2a3f5f\",\"arrowhead\":0,\"arrowwidth\":1},\"geo\":{\"bgcolor\":\"white\",\"landcolor\":\"#E5ECF6\",\"subunitcolor\":\"white\",\"showland\":true,\"showlakes\":true,\"lakecolor\":\"white\"},\"title\":{\"x\":0.05},\"mapbox\":{\"style\":\"light\"}}},\"mapbox\":{\"domain\":{\"x\":[0.0,1.0],\"y\":[0.0,1.0]},\"center\":{\"lat\":23.773789311097634,\"lon\":42.912641907216496},\"zoom\":4,\"style\":\"carto-positron\"},\"coloraxis\":{\"colorbar\":{\"title\":{\"text\":\"Job Count\"}},\"colorscale\":[[0.0,\"#000000\"],[0.0625,\"#001f4d\"],[0.125,\"#003786\"],[0.1875,\"#0e58a8\"],[0.25,\"#217eb8\"],[0.3125,\"#30a4ca\"],[0.375,\"#54c8df\"],[0.4375,\"#9be4ef\"],[0.5,\"#e1e9d1\"],[0.5625,\"#f3d573\"],[0.625,\"#e7b000\"],[0.6875,\"#da8200\"],[0.75,\"#c65400\"],[0.8125,\"#ac2301\"],[0.875,\"#820000\"],[0.9375,\"#4c0000\"],[1.0,\"#000000\"]]},\"legend\":{\"tracegroupgap\":0,\"itemsizing\":\"constant\"},\"margin\":{\"t\":60}},                        {\"responsive\": true}                    ).then(function(){\n",
              "                            \n",
              "var gd = document.getElementById('8e86bc2f-b721-4baa-97e1-e3c4ae1da544');\n",
              "var x = new MutationObserver(function (mutations, observer) {{\n",
              "        var display = window.getComputedStyle(gd).display;\n",
              "        if (!display || display === 'none') {{\n",
              "            console.log([gd, 'removed!']);\n",
              "            Plotly.purge(gd);\n",
              "            observer.disconnect();\n",
              "        }}\n",
              "}});\n",
              "\n",
              "// Listen for the removal of the full notebook cells\n",
              "var notebookContainer = gd.closest('#notebook-container');\n",
              "if (notebookContainer) {{\n",
              "    x.observe(notebookContainer, {childList: true});\n",
              "}}\n",
              "\n",
              "// Listen for the clearing of the current output cell\n",
              "var outputEl = gd.closest('.output');\n",
              "if (outputEl) {{\n",
              "    x.observe(outputEl, {childList: true});\n",
              "}}\n",
              "\n",
              "                        })                };                            </script>        </div>\n",
              "</body>\n",
              "</html>"
            ]
          },
          "metadata": {}
        }
      ],
      "source": [
        "fig = px.scatter_mapbox(df_filtered, lat='LATITUDE', lon='LONGITUDE', color=\"Job Count\", size=\"Job Count\",\n",
        "                        center=dict(lat=map.LATITUDE.mean(),\n",
        "                                    lon=map.LONGITUDE.mean()),\n",
        "                  color_continuous_scale=px.colors.cyclical.IceFire, zoom=4,\n",
        "                  mapbox_style=\"carto-positron\",\n",
        "                                          size_max=50)\n",
        "fig.show()"
      ]
    },
    {
      "cell_type": "markdown",
      "metadata": {
        "id": "qC_WG-6T4Q7D"
      },
      "source": [
        "### Date Post Mining"
      ]
    },
    {
      "cell_type": "markdown",
      "metadata": {
        "id": "VW_1XKlJ4Q7E"
      },
      "source": [
        "Create a copy of the Data frame"
      ]
    },
    {
      "cell_type": "code",
      "execution_count": null,
      "metadata": {
        "id": "8-dQ5Yf24Q7V"
      },
      "outputs": [],
      "source": [
        "df_Date = df"
      ]
    },
    {
      "cell_type": "code",
      "execution_count": null,
      "metadata": {
        "colab": {
          "base_uri": "https://localhost:8080/"
        },
        "id": "ImqLcm6B4Q7W",
        "outputId": "3f48c1e3-2f1c-4f30-9905-4ef2991e4816"
      },
      "outputs": [
        {
          "output_type": "execute_result",
          "data": {
            "text/plain": [
              "0     [5, days, ago]\n",
              "1     [1, week, ago]\n",
              "2     [1, week, ago]\n",
              "16    [1, week, ago]\n",
              "17    [1, week, ago]\n",
              "Name: post_date_list, dtype: object"
            ]
          },
          "metadata": {},
          "execution_count": 95
        }
      ],
      "source": [
        "df_Date[\"post_date\"] = df_Date[\"post_date\"].astype('string')\n",
        "df_Date[\"post_date\"] = df_Date[\"post_date\"].str.replace('\\n', '')\n",
        "df_Date['post_date_list'] = df_Date['post_date'].str.split()\n",
        "# df_Date['post_date_list'] = df_Date['post_date'].apply(lambda x: [item for item in x if item != 'ago'])\n",
        "df_Date['post_date_day']=''\n",
        "df_Date['post_date_list'].head()"
      ]
    },
    {
      "cell_type": "code",
      "execution_count": null,
      "metadata": {
        "id": "9MFFdSoF4Q7W"
      },
      "outputs": [],
      "source": [
        "start_date = datetime.datetime.today() - datetime.timedelta(days=1)\n"
      ]
    },
    {
      "cell_type": "code",
      "execution_count": null,
      "metadata": {
        "colab": {
          "base_uri": "https://localhost:8080/"
        },
        "id": "1LQr605j4Q7X",
        "outputId": "6e459807-9c3c-4617-f717-33e366015a7f"
      },
      "outputs": [
        {
          "output_type": "stream",
          "name": "stderr",
          "text": [
            "/usr/local/lib/python3.10/dist-packages/ipykernel/ipkernel.py:283: DeprecationWarning:\n",
            "\n",
            "`should_run_async` will not call `transform_cell` automatically in the future. Please pass the result to `transformed_cell` argument and any exception that happen during thetransform in `preprocessing_exc_tuple` in IPython 7.17 and above.\n",
            "\n"
          ]
        },
        {
          "output_type": "execute_result",
          "data": {
            "text/plain": [
              "             109\n",
              "Monday        30\n",
              "Thursday       6\n",
              "Saturday       5\n",
              "Wednesday      3\n",
              "Sunday         3\n",
              "Friday         1\n",
              "Name: post_date_day, dtype: int64"
            ]
          },
          "metadata": {},
          "execution_count": 166
        }
      ],
      "source": [
        "time = ['hour', 'day', 'week', 'month']\n",
        "index=0\n",
        "for job in df_Date['post_date_list']:\n",
        "    for n in range(len(time)):\n",
        "        pattern = r'({}|{})'.format(time[n], time[n] + 's')\n",
        "        match = re.search(pattern, job[1])\n",
        "        if match and time[n]=='hour':\n",
        "            h = (datetime.datetime.today() - datetime.timedelta(days=4)) - datetime.timedelta(hours=int(job[0]))\n",
        "            df_Date['post_date_day'][index] =str(h.strftime('%A'))\n",
        "        elif match and time[n]=='day':\n",
        "            d = (datetime.datetime.today() - datetime.timedelta(days=4)) - datetime.timedelta(days=int(job[0]))\n",
        "            df_Date['post_date_day'][index] = str(d.strftime('%A'))\n",
        "        elif match and time[n]=='week':\n",
        "            w = (datetime.datetime.today() - datetime.timedelta(days=4)) - datetime.timedelta(days=(int(job[0])*7))\n",
        "            df_Date['post_date_day'][index] = str(w.strftime('%A'))\n",
        "        elif match and time[n]=='month':\n",
        "            m = (datetime.datetime.today() - datetime.timedelta(days=4)) - datetime.timedelta(days=(int(job[0])*30))\n",
        "            df_Date['post_date_day'][index] = str(m.strftime('%A'))\n",
        "    index+=1\n",
        "df_Date['post_date_day'].value_counts()"
      ]
    },
    {
      "cell_type": "code",
      "execution_count": null,
      "metadata": {
        "colab": {
          "base_uri": "https://localhost:8080/",
          "height": 518
        },
        "id": "CWAjT30g4Q7X",
        "outputId": "8d193cae-8aa2-4823-f008-daccc59a8b61"
      },
      "outputs": [
        {
          "output_type": "stream",
          "name": "stderr",
          "text": [
            "/usr/local/lib/python3.10/dist-packages/ipykernel/ipkernel.py:283: DeprecationWarning:\n",
            "\n",
            "`should_run_async` will not call `transform_cell` automatically in the future. Please pass the result to `transformed_cell` argument and any exception that happen during thetransform in `preprocessing_exc_tuple` in IPython 7.17 and above.\n",
            "\n"
          ]
        },
        {
          "output_type": "display_data",
          "data": {
            "text/plain": [
              "<Figure size 640x480 with 1 Axes>"
            ],
            "image/png": "[encoded data removed]"
          },
          "metadata": {}
        }
      ],
      "source": [
        "df_Date['post_date_day'].value_counts().sort_values().plot(kind='pie', autopct='%.3f%%', cmap='GnBu').set(xlabel='', ylabel='', title='Job posting by weekeday')\n",
        "plt.show()"
      ]
    },
    {
      "cell_type": "markdown",
      "metadata": {
        "id": "N_C0Klc34Q7Y"
      },
      "source": [
        "### companies post"
      ]
    },
    {
      "cell_type": "code",
      "execution_count": null,
      "metadata": {
        "id": "nipsfYe34Q7Y"
      },
      "outputs": [],
      "source": [
        "import matplotlib.pyplot as plt\n",
        "\n",
        "SMALL_SIZE = 12\n",
        "MEDIUM_SIZE = 14\n",
        "BIGGER_SIZE = 16\n",
        "\n",
        "plt.rc('font', size=SMALL_SIZE)          # controls default text sizes\n",
        "plt.rc('xtick', labelsize=SMALL_SIZE)    # fontsize of the tick labels\n",
        "plt.rc('ytick', labelsize=SMALL_SIZE)    # fontsize of the tick labels\n",
        "plt.rc('legend', fontsize=SMALL_SIZE)    # legend fontsize"
      ]
    },
    {
      "cell_type": "code",
      "execution_count": null,
      "metadata": {
        "scrolled": false,
        "colab": {
          "base_uri": "https://localhost:8080/",
          "height": 848
        },
        "id": "ZzWuMP9l4Q7Z",
        "outputId": "8d5a52dd-1914-44d3-b9ae-8f4046417dc1"
      },
      "outputs": [
        {
          "output_type": "display_data",
          "data": {
            "text/plain": [
              "<Figure size 800x1000 with 1 Axes>"
            ],
            "image/png": "[encoded data removed]"
          },
          "metadata": {}
        }
      ],
      "source": [
        "# Initialize the matplotlib figure\n",
        "f, ax = plt.subplots(figsize=(8, 10))\n",
        "\n",
        "#Dataset relating to recruiters\n",
        "rec_df = df.groupby('company_name').count().sort_values(by='job_title', ascending=False).reset_index()[['company_name', 'job_title']].copy()\n",
        "\n",
        "# Plot the total crashes\n",
        "sns.set_color_codes(\"bright\")\n",
        "sns.barplot(x=\"job_title\", y=\"company_name\", data=rec_df.loc[0:15,:],\n",
        "            label=\"Total\", color=\"lightblue\")\n",
        "\n",
        "plt.title('Top 15 Companies/Recruiters By Job Postings', fontsize=18);"
      ]
    },
    {
      "cell_type": "markdown",
      "metadata": {
        "id": "eAUsE2we4Q7Z"
      },
      "source": [
        "Unsurprisingly most of the frequently positing companies are recruiters. Although in greater London it seems Harnham and Datatech Analytics have the largest number of roles. It may be worth speaking directly with these 2 to understand more about the roles they contain. Out of interest Harnham have managed to find a different title for every role they've posted. 42 of their 59 roles contain some form of 'Data Scientist' and to not use the same titles feeds nicely into the next section."
      ]
    },
    {
      "cell_type": "code",
      "execution_count": null,
      "metadata": {
        "scrolled": true,
        "colab": {
          "base_uri": "https://localhost:8080/"
        },
        "id": "rhiFiPWO4Q7a",
        "outputId": "58f83c82-f649-45fb-909a-f18f610bf0ed"
      },
      "outputs": [
        {
          "output_type": "execute_result",
          "data": {
            "text/plain": [
              "['dataanalyst(bangkokbased,relocationprovided)',\n",
              " 'seniordataanalyst(bangkokbased,relocationprovided)',\n",
              " 'seniorpeopledataanalyst(bangkokbased,relocationprovided)',\n",
              " 'seniorbusinessintelligenceanalyst(bangkokbased,relocationprovided)',\n",
              " 'senior-staffdataengineer–apachespark(java/scala)(bangkokbased,relocationprovided)',\n",
              " 'senior-staffdataengineer–apachespark(java/scala)(bangkokbased,relocationprovided)']"
            ]
          },
          "metadata": {},
          "execution_count": 101
        }
      ],
      "source": [
        "list(df[(df['job_title'].str.contains('data')|df_clean['job_title'].str.contains(\"intelligence\"))  & (df['company_name']=='Agoda')]['job_title'].values)"
      ]
    },
    {
      "cell_type": "markdown",
      "metadata": {
        "id": "nJOMx4P54Q7d"
      },
      "source": [
        "### Contract Type"
      ]
    },
    {
      "cell_type": "markdown",
      "metadata": {
        "id": "CErZdyY24Q7e"
      },
      "source": [
        "Another important aspect to look into for a job search is whether the role is permanent or contract. Not all adverts on indeed specify this but will look into the split of permanent, contract, missing."
      ]
    },
    {
      "cell_type": "code",
      "execution_count": null,
      "metadata": {
        "colab": {
          "base_uri": "https://localhost:8080/"
        },
        "id": "FSl9nmrt4Q7e",
        "outputId": "cb56fd39-42a6-4772-8027-cb13a3f6d013"
      },
      "outputs": [
        {
          "output_type": "execute_result",
          "data": {
            "text/plain": [
              "0     -\n",
              "1     -\n",
              "2     -\n",
              "16    -\n",
              "17    -\n",
              "Name: work_time, dtype: object"
            ]
          },
          "metadata": {},
          "execution_count": 105
        }
      ],
      "source": [
        "df['work_time'].head()"
      ]
    },
    {
      "cell_type": "code",
      "execution_count": null,
      "metadata": {
        "colab": {
          "base_uri": "https://localhost:8080/",
          "height": 206
        },
        "id": "y9ImmWP14Q7e",
        "outputId": "93699c9d-8b47-4c8d-cb85-0b6d0f987b3a"
      },
      "outputs": [
        {
          "output_type": "execute_result",
          "data": {
            "text/plain": [
              "   worktime1 worktime2\n",
              "0          -      None\n",
              "1          -      None\n",
              "2          -      None\n",
              "16         -      None\n",
              "17         -      None"
            ],
            "text/html": [
              "\n",
              "  <div id=\"df-983aed9d-e6d1-4cf6-b6c2-81425c64aa6b\">\n",
              "    <div class=\"colab-df-container\">\n",
              "      <div>\n",
              "<style scoped>\n",
              "    .dataframe tbody tr th:only-of-type {\n",
              "        vertical-align: middle;\n",
              "    }\n",
              "\n",
              "    .dataframe tbody tr th {\n",
              "        vertical-align: top;\n",
              "    }\n",
              "\n",
              "    .dataframe thead th {\n",
              "        text-align: right;\n",
              "    }\n",
              "</style>\n",
              "<table border=\"1\" class=\"dataframe\">\n",
              "  <thead>\n",
              "    <tr style=\"text-align: right;\">\n",
              "      <th></th>\n",
              "      <th>worktime1</th>\n",
              "      <th>worktime2</th>\n",
              "    </tr>\n",
              "  </thead>\n",
              "  <tbody>\n",
              "    <tr>\n",
              "      <th>0</th>\n",
              "      <td>-</td>\n",
              "      <td>None</td>\n",
              "    </tr>\n",
              "    <tr>\n",
              "      <th>1</th>\n",
              "      <td>-</td>\n",
              "      <td>None</td>\n",
              "    </tr>\n",
              "    <tr>\n",
              "      <th>2</th>\n",
              "      <td>-</td>\n",
              "      <td>None</td>\n",
              "    </tr>\n",
              "    <tr>\n",
              "      <th>16</th>\n",
              "      <td>-</td>\n",
              "      <td>None</td>\n",
              "    </tr>\n",
              "    <tr>\n",
              "      <th>17</th>\n",
              "      <td>-</td>\n",
              "      <td>None</td>\n",
              "    </tr>\n",
              "  </tbody>\n",
              "</table>\n",
              "</div>\n",
              "      <button class=\"colab-df-convert\" onclick=\"convertToInteractive('df-983aed9d-e6d1-4cf6-b6c2-81425c64aa6b')\"\n",
              "              title=\"Convert this dataframe to an interactive table.\"\n",
              "              style=\"display:none;\">\n",
              "        \n",
              "  <svg xmlns=\"http://www.w3.org/2000/svg\" height=\"24px\"viewBox=\"0 0 24 24\"\n",
              "       width=\"24px\">\n",
              "    <path d=\"M0 0h24v24H0V0z\" fill=\"none\"/>\n",
              "    <path d=\"M18.56 5.44l.94 2.06.94-2.06 2.06-.94-2.06-.94-.94-2.06-.94 2.06-2.06.94zm-11 1L8.5 8.5l.94-2.06 2.06-.94-2.06-.94L8.5 2.5l-.94 2.06-2.06.94zm10 10l.94 2.06.94-2.06 2.06-.94-2.06-.94-.94-2.06-.94 2.06-2.06.94z\"/><path d=\"M17.41 7.96l-1.37-1.37c-.4-.4-.92-.59-1.43-.59-.52 0-1.04.2-1.43.59L10.3 9.45l-7.72 7.72c-.78.78-.78 2.05 0 2.83L4 21.41c.39.39.9.59 1.41.59.51 0 1.02-.2 1.41-.59l7.78-7.78 2.81-2.81c.8-.78.8-2.07 0-2.86zM5.41 20L4 18.59l7.72-7.72 1.47 1.35L5.41 20z\"/>\n",
              "  </svg>\n",
              "      </button>\n",
              "      \n",
              "  <style>\n",
              "    .colab-df-container {\n",
              "      display:flex;\n",
              "      flex-wrap:wrap;\n",
              "      gap: 12px;\n",
              "    }\n",
              "\n",
              "    .colab-df-convert {\n",
              "      background-color: #E8F0FE;\n",
              "      border: none;\n",
              "      border-radius: 50%;\n",
              "      cursor: pointer;\n",
              "      display: none;\n",
              "      fill: #1967D2;\n",
              "      height: 32px;\n",
              "      padding: 0 0 0 0;\n",
              "      width: 32px;\n",
              "    }\n",
              "\n",
              "    .colab-df-convert:hover {\n",
              "      background-color: #E2EBFA;\n",
              "      box-shadow: 0px 1px 2px rgba(60, 64, 67, 0.3), 0px 1px 3px 1px rgba(60, 64, 67, 0.15);\n",
              "      fill: #174EA6;\n",
              "    }\n",
              "\n",
              "    [theme=dark] .colab-df-convert {\n",
              "      background-color: #3B4455;\n",
              "      fill: #D2E3FC;\n",
              "    }\n",
              "\n",
              "    [theme=dark] .colab-df-convert:hover {\n",
              "      background-color: #434B5C;\n",
              "      box-shadow: 0px 1px 3px 1px rgba(0, 0, 0, 0.15);\n",
              "      filter: drop-shadow(0px 1px 2px rgba(0, 0, 0, 0.3));\n",
              "      fill: #FFFFFF;\n",
              "    }\n",
              "  </style>\n",
              "\n",
              "      <script>\n",
              "        const buttonEl =\n",
              "          document.querySelector('#df-983aed9d-e6d1-4cf6-b6c2-81425c64aa6b button.colab-df-convert');\n",
              "        buttonEl.style.display =\n",
              "          google.colab.kernel.accessAllowed ? 'block' : 'none';\n",
              "\n",
              "        async function convertToInteractive(key) {\n",
              "          const element = document.querySelector('#df-983aed9d-e6d1-4cf6-b6c2-81425c64aa6b');\n",
              "          const dataTable =\n",
              "            await google.colab.kernel.invokeFunction('convertToInteractive',\n",
              "                                                     [key], {});\n",
              "          if (!dataTable) return;\n",
              "\n",
              "          const docLinkHtml = 'Like what you see? Visit the ' +\n",
              "            '<a target=\"_blank\" href=https://colab.research.google.com/notebooks/data_table.ipynb>data table notebook</a>'\n",
              "            + ' to learn more about interactive tables.';\n",
              "          element.innerHTML = '';\n",
              "          dataTable['output_type'] = 'display_data';\n",
              "          await google.colab.output.renderOutput(dataTable, element);\n",
              "          const docLink = document.createElement('div');\n",
              "          docLink.innerHTML = docLinkHtml;\n",
              "          element.appendChild(docLink);\n",
              "        }\n",
              "      </script>\n",
              "    </div>\n",
              "  </div>\n",
              "  "
            ]
          },
          "metadata": {},
          "execution_count": 106
        }
      ],
      "source": [
        "df3 = df.work_time.str.split('·', expand = True)\n",
        "df3.columns = ['worktime{}'.format(x+1) for x in df3.columns]\n",
        "df3.head()"
      ]
    },
    {
      "cell_type": "code",
      "execution_count": null,
      "metadata": {
        "id": "wpqWjC1A4Q7f"
      },
      "outputs": [],
      "source": [
        "df['Contract'] = df3.worktime1\n",
        "df['level'] = df3.worktime2"
      ]
    },
    {
      "cell_type": "code",
      "execution_count": null,
      "metadata": {
        "id": "lwAuxlYu4Q7g"
      },
      "outputs": [],
      "source": [
        "# Contract# array = df.work_time.str.split('·')\n",
        "# df[['Contract', 'level']] = df.work_time.str.split('·', expand = True)\n",
        "# df.head()"
      ]
    },
    {
      "cell_type": "code",
      "execution_count": null,
      "metadata": {
        "scrolled": false,
        "colab": {
          "base_uri": "https://localhost:8080/",
          "height": 255
        },
        "id": "wj20O5vK4Q7g",
        "outputId": "8079b5e8-e043-45e1-adec-a5c63cb6d9fe"
      },
      "outputs": [
        {
          "output_type": "stream",
          "name": "stdout",
          "text": [
            "Roles with a contract type specified: 79.0 %\n"
          ]
        },
        {
          "output_type": "execute_result",
          "data": {
            "text/plain": [
              "     Contract  job_title\n",
              "0           -         33\n",
              "1   Contract           6\n",
              "2   Full-time         11\n",
              "3  Full-time         102\n",
              "4  Internship          4\n",
              "5   Part-time          1"
            ],
            "text/html": [
              "\n",
              "  <div id=\"df-1e6836a9-28cc-4bcf-a5cc-6b381efc9513\">\n",
              "    <div class=\"colab-df-container\">\n",
              "      <div>\n",
              "<style scoped>\n",
              "    .dataframe tbody tr th:only-of-type {\n",
              "        vertical-align: middle;\n",
              "    }\n",
              "\n",
              "    .dataframe tbody tr th {\n",
              "        vertical-align: top;\n",
              "    }\n",
              "\n",
              "    .dataframe thead th {\n",
              "        text-align: right;\n",
              "    }\n",
              "</style>\n",
              "<table border=\"1\" class=\"dataframe\">\n",
              "  <thead>\n",
              "    <tr style=\"text-align: right;\">\n",
              "      <th></th>\n",
              "      <th>Contract</th>\n",
              "      <th>job_title</th>\n",
              "    </tr>\n",
              "  </thead>\n",
              "  <tbody>\n",
              "    <tr>\n",
              "      <th>0</th>\n",
              "      <td>-</td>\n",
              "      <td>33</td>\n",
              "    </tr>\n",
              "    <tr>\n",
              "      <th>1</th>\n",
              "      <td>Contract</td>\n",
              "      <td>6</td>\n",
              "    </tr>\n",
              "    <tr>\n",
              "      <th>2</th>\n",
              "      <td>Full-time</td>\n",
              "      <td>11</td>\n",
              "    </tr>\n",
              "    <tr>\n",
              "      <th>3</th>\n",
              "      <td>Full-time</td>\n",
              "      <td>102</td>\n",
              "    </tr>\n",
              "    <tr>\n",
              "      <th>4</th>\n",
              "      <td>Internship</td>\n",
              "      <td>4</td>\n",
              "    </tr>\n",
              "    <tr>\n",
              "      <th>5</th>\n",
              "      <td>Part-time</td>\n",
              "      <td>1</td>\n",
              "    </tr>\n",
              "  </tbody>\n",
              "</table>\n",
              "</div>\n",
              "      <button class=\"colab-df-convert\" onclick=\"convertToInteractive('df-1e6836a9-28cc-4bcf-a5cc-6b381efc9513')\"\n",
              "              title=\"Convert this dataframe to an interactive table.\"\n",
              "              style=\"display:none;\">\n",
              "        \n",
              "  <svg xmlns=\"http://www.w3.org/2000/svg\" height=\"24px\"viewBox=\"0 0 24 24\"\n",
              "       width=\"24px\">\n",
              "    <path d=\"M0 0h24v24H0V0z\" fill=\"none\"/>\n",
              "    <path d=\"M18.56 5.44l.94 2.06.94-2.06 2.06-.94-2.06-.94-.94-2.06-.94 2.06-2.06.94zm-11 1L8.5 8.5l.94-2.06 2.06-.94-2.06-.94L8.5 2.5l-.94 2.06-2.06.94zm10 10l.94 2.06.94-2.06 2.06-.94-2.06-.94-.94-2.06-.94 2.06-2.06.94z\"/><path d=\"M17.41 7.96l-1.37-1.37c-.4-.4-.92-.59-1.43-.59-.52 0-1.04.2-1.43.59L10.3 9.45l-7.72 7.72c-.78.78-.78 2.05 0 2.83L4 21.41c.39.39.9.59 1.41.59.51 0 1.02-.2 1.41-.59l7.78-7.78 2.81-2.81c.8-.78.8-2.07 0-2.86zM5.41 20L4 18.59l7.72-7.72 1.47 1.35L5.41 20z\"/>\n",
              "  </svg>\n",
              "      </button>\n",
              "      \n",
              "  <style>\n",
              "    .colab-df-container {\n",
              "      display:flex;\n",
              "      flex-wrap:wrap;\n",
              "      gap: 12px;\n",
              "    }\n",
              "\n",
              "    .colab-df-convert {\n",
              "      background-color: #E8F0FE;\n",
              "      border: none;\n",
              "      border-radius: 50%;\n",
              "      cursor: pointer;\n",
              "      display: none;\n",
              "      fill: #1967D2;\n",
              "      height: 32px;\n",
              "      padding: 0 0 0 0;\n",
              "      width: 32px;\n",
              "    }\n",
              "\n",
              "    .colab-df-convert:hover {\n",
              "      background-color: #E2EBFA;\n",
              "      box-shadow: 0px 1px 2px rgba(60, 64, 67, 0.3), 0px 1px 3px 1px rgba(60, 64, 67, 0.15);\n",
              "      fill: #174EA6;\n",
              "    }\n",
              "\n",
              "    [theme=dark] .colab-df-convert {\n",
              "      background-color: #3B4455;\n",
              "      fill: #D2E3FC;\n",
              "    }\n",
              "\n",
              "    [theme=dark] .colab-df-convert:hover {\n",
              "      background-color: #434B5C;\n",
              "      box-shadow: 0px 1px 3px 1px rgba(0, 0, 0, 0.15);\n",
              "      filter: drop-shadow(0px 1px 2px rgba(0, 0, 0, 0.3));\n",
              "      fill: #FFFFFF;\n",
              "    }\n",
              "  </style>\n",
              "\n",
              "      <script>\n",
              "        const buttonEl =\n",
              "          document.querySelector('#df-1e6836a9-28cc-4bcf-a5cc-6b381efc9513 button.colab-df-convert');\n",
              "        buttonEl.style.display =\n",
              "          google.colab.kernel.accessAllowed ? 'block' : 'none';\n",
              "\n",
              "        async function convertToInteractive(key) {\n",
              "          const element = document.querySelector('#df-1e6836a9-28cc-4bcf-a5cc-6b381efc9513');\n",
              "          const dataTable =\n",
              "            await google.colab.kernel.invokeFunction('convertToInteractive',\n",
              "                                                     [key], {});\n",
              "          if (!dataTable) return;\n",
              "\n",
              "          const docLinkHtml = 'Like what you see? Visit the ' +\n",
              "            '<a target=\"_blank\" href=https://colab.research.google.com/notebooks/data_table.ipynb>data table notebook</a>'\n",
              "            + ' to learn more about interactive tables.';\n",
              "          element.innerHTML = '';\n",
              "          dataTable['output_type'] = 'display_data';\n",
              "          await google.colab.output.renderOutput(dataTable, element);\n",
              "          const docLink = document.createElement('div');\n",
              "          docLink.innerHTML = docLinkHtml;\n",
              "          element.appendChild(docLink);\n",
              "        }\n",
              "      </script>\n",
              "    </div>\n",
              "  </div>\n",
              "  "
            ]
          },
          "metadata": {},
          "execution_count": 109
        }
      ],
      "source": [
        "print('Roles with a contract type specified:', round(df[df['Contract']!='-'].groupby('Contract')['job_title'].count().sum()/len(df),2)*100, '%')\n",
        "df.groupby('Contract')['job_title'].count().reset_index()"
      ]
    },
    {
      "cell_type": "markdown",
      "metadata": {
        "id": "iauC5DMS4Q7h"
      },
      "source": [
        "41% of roles have a type of contract associated with them. It may be possible to further investigate the ones without a contract type and find out from their description. For now an assumption shall be made that these are permanent. There are roles with only a count of 1 that contain a number of different contract types. I will class the contracts as the following:\n",
        "\n",
        "- Contract: Anything that has 'contract' or 'temporary' associated with it\n",
        "- Apprenticeship\n",
        "- Internship\n",
        "- Permanent: Any contract that is classed as 'Full-time' or 'Permanent'"
      ]
    },
    {
      "cell_type": "code",
      "execution_count": null,
      "metadata": {
        "colab": {
          "base_uri": "https://localhost:8080/",
          "height": 206
        },
        "id": "ka7NjODZ4Q7h",
        "outputId": "b9a9576f-f9bc-4312-dda7-bd844cee16ba"
      },
      "outputs": [
        {
          "output_type": "execute_result",
          "data": {
            "text/plain": [
              "  Contract_Type  job_title\n",
              "0             -         33\n",
              "1      Contract          6\n",
              "2    Internship          4\n",
              "3     Part-time          1\n",
              "4     Permanent        113"
            ],
            "text/html": [
              "\n",
              "  <div id=\"df-518987b6-3dff-4e29-bcf6-dd402160649c\">\n",
              "    <div class=\"colab-df-container\">\n",
              "      <div>\n",
              "<style scoped>\n",
              "    .dataframe tbody tr th:only-of-type {\n",
              "        vertical-align: middle;\n",
              "    }\n",
              "\n",
              "    .dataframe tbody tr th {\n",
              "        vertical-align: top;\n",
              "    }\n",
              "\n",
              "    .dataframe thead th {\n",
              "        text-align: right;\n",
              "    }\n",
              "</style>\n",
              "<table border=\"1\" class=\"dataframe\">\n",
              "  <thead>\n",
              "    <tr style=\"text-align: right;\">\n",
              "      <th></th>\n",
              "      <th>Contract_Type</th>\n",
              "      <th>job_title</th>\n",
              "    </tr>\n",
              "  </thead>\n",
              "  <tbody>\n",
              "    <tr>\n",
              "      <th>0</th>\n",
              "      <td>-</td>\n",
              "      <td>33</td>\n",
              "    </tr>\n",
              "    <tr>\n",
              "      <th>1</th>\n",
              "      <td>Contract</td>\n",
              "      <td>6</td>\n",
              "    </tr>\n",
              "    <tr>\n",
              "      <th>2</th>\n",
              "      <td>Internship</td>\n",
              "      <td>4</td>\n",
              "    </tr>\n",
              "    <tr>\n",
              "      <th>3</th>\n",
              "      <td>Part-time</td>\n",
              "      <td>1</td>\n",
              "    </tr>\n",
              "    <tr>\n",
              "      <th>4</th>\n",
              "      <td>Permanent</td>\n",
              "      <td>113</td>\n",
              "    </tr>\n",
              "  </tbody>\n",
              "</table>\n",
              "</div>\n",
              "      <button class=\"colab-df-convert\" onclick=\"convertToInteractive('df-518987b6-3dff-4e29-bcf6-dd402160649c')\"\n",
              "              title=\"Convert this dataframe to an interactive table.\"\n",
              "              style=\"display:none;\">\n",
              "        \n",
              "  <svg xmlns=\"http://www.w3.org/2000/svg\" height=\"24px\"viewBox=\"0 0 24 24\"\n",
              "       width=\"24px\">\n",
              "    <path d=\"M0 0h24v24H0V0z\" fill=\"none\"/>\n",
              "    <path d=\"M18.56 5.44l.94 2.06.94-2.06 2.06-.94-2.06-.94-.94-2.06-.94 2.06-2.06.94zm-11 1L8.5 8.5l.94-2.06 2.06-.94-2.06-.94L8.5 2.5l-.94 2.06-2.06.94zm10 10l.94 2.06.94-2.06 2.06-.94-2.06-.94-.94-2.06-.94 2.06-2.06.94z\"/><path d=\"M17.41 7.96l-1.37-1.37c-.4-.4-.92-.59-1.43-.59-.52 0-1.04.2-1.43.59L10.3 9.45l-7.72 7.72c-.78.78-.78 2.05 0 2.83L4 21.41c.39.39.9.59 1.41.59.51 0 1.02-.2 1.41-.59l7.78-7.78 2.81-2.81c.8-.78.8-2.07 0-2.86zM5.41 20L4 18.59l7.72-7.72 1.47 1.35L5.41 20z\"/>\n",
              "  </svg>\n",
              "      </button>\n",
              "      \n",
              "  <style>\n",
              "    .colab-df-container {\n",
              "      display:flex;\n",
              "      flex-wrap:wrap;\n",
              "      gap: 12px;\n",
              "    }\n",
              "\n",
              "    .colab-df-convert {\n",
              "      background-color: #E8F0FE;\n",
              "      border: none;\n",
              "      border-radius: 50%;\n",
              "      cursor: pointer;\n",
              "      display: none;\n",
              "      fill: #1967D2;\n",
              "      height: 32px;\n",
              "      padding: 0 0 0 0;\n",
              "      width: 32px;\n",
              "    }\n",
              "\n",
              "    .colab-df-convert:hover {\n",
              "      background-color: #E2EBFA;\n",
              "      box-shadow: 0px 1px 2px rgba(60, 64, 67, 0.3), 0px 1px 3px 1px rgba(60, 64, 67, 0.15);\n",
              "      fill: #174EA6;\n",
              "    }\n",
              "\n",
              "    [theme=dark] .colab-df-convert {\n",
              "      background-color: #3B4455;\n",
              "      fill: #D2E3FC;\n",
              "    }\n",
              "\n",
              "    [theme=dark] .colab-df-convert:hover {\n",
              "      background-color: #434B5C;\n",
              "      box-shadow: 0px 1px 3px 1px rgba(0, 0, 0, 0.15);\n",
              "      filter: drop-shadow(0px 1px 2px rgba(0, 0, 0, 0.3));\n",
              "      fill: #FFFFFF;\n",
              "    }\n",
              "  </style>\n",
              "\n",
              "      <script>\n",
              "        const buttonEl =\n",
              "          document.querySelector('#df-518987b6-3dff-4e29-bcf6-dd402160649c button.colab-df-convert');\n",
              "        buttonEl.style.display =\n",
              "          google.colab.kernel.accessAllowed ? 'block' : 'none';\n",
              "\n",
              "        async function convertToInteractive(key) {\n",
              "          const element = document.querySelector('#df-518987b6-3dff-4e29-bcf6-dd402160649c');\n",
              "          const dataTable =\n",
              "            await google.colab.kernel.invokeFunction('convertToInteractive',\n",
              "                                                     [key], {});\n",
              "          if (!dataTable) return;\n",
              "\n",
              "          const docLinkHtml = 'Like what you see? Visit the ' +\n",
              "            '<a target=\"_blank\" href=https://colab.research.google.com/notebooks/data_table.ipynb>data table notebook</a>'\n",
              "            + ' to learn more about interactive tables.';\n",
              "          element.innerHTML = '';\n",
              "          dataTable['output_type'] = 'display_data';\n",
              "          await google.colab.output.renderOutput(dataTable, element);\n",
              "          const docLink = document.createElement('div');\n",
              "          docLink.innerHTML = docLinkHtml;\n",
              "          element.appendChild(docLink);\n",
              "        }\n",
              "      </script>\n",
              "    </div>\n",
              "  </div>\n",
              "  "
            ]
          },
          "metadata": {},
          "execution_count": 110
        }
      ],
      "source": [
        "#Function to return the contract type\n",
        "def contract_type(x):\n",
        "    if re.search('Contract', x):\n",
        "        return 'Contract'\n",
        "    if re.search('Temporary', x):\n",
        "        return 'Contract'\n",
        "    if re.search('Full-time', x):\n",
        "        return 'Permanent'\n",
        "    if re.search('Permanent', x):\n",
        "        return 'Permanent'\n",
        "    if re.search('Internship', x):\n",
        "        return 'Internship'\n",
        "    else:\n",
        "        return x\n",
        "\n",
        "df['Contract_Type'] = df['Contract'].apply(contract_type)\n",
        "df.groupby('Contract_Type')['job_title'].count().reset_index()\n"
      ]
    },
    {
      "cell_type": "markdown",
      "metadata": {
        "id": "m35pD-sd4Q7i"
      },
      "source": [
        "Remove noisy data"
      ]
    },
    {
      "cell_type": "code",
      "execution_count": null,
      "metadata": {
        "id": "6LxeKens4Q7i"
      },
      "outputs": [],
      "source": [
        "#Remove 10,001+ employees\n",
        "# df = df[(df['Contract_Type']!='10,001+ employees') & (df['Contract_Type']!='10,001+ employees')]"
      ]
    },
    {
      "cell_type": "code",
      "execution_count": null,
      "metadata": {
        "colab": {
          "base_uri": "https://localhost:8080/",
          "height": 791
        },
        "id": "qMFt7g9a4Q7i",
        "outputId": "fd71cee9-d926-49d9-dbdd-379ab929877e"
      },
      "outputs": [
        {
          "output_type": "display_data",
          "data": {
            "text/plain": [
              "<Figure size 800x800 with 1 Axes>"
            ],
            "image/png": "[encoded data removed]"
          },
          "metadata": {}
        }
      ],
      "source": [
        "contract_df = df.groupby('Contract_Type').count().reset_index()[['Contract_Type', 'job_title']]\n",
        "\n",
        "f, ax = plt.subplots(figsize=(8,8))\n",
        "plt.xticks(rotation=45)\n",
        "\n",
        "sns.barplot(x='Contract_Type', y='job_title', data=contract_df)\n",
        "\n",
        "ax.set_title('Count Of Jobs By Contract Type', fontsize=18)\n",
        "ax.set_xlabel('Contract Type', fontsize=14)\n",
        "ax.set_ylabel('Count', fontsize=14);"
      ]
    },
    {
      "cell_type": "markdown",
      "metadata": {
        "id": "a2UbXpIA4Q7j"
      },
      "source": [
        "### Job Level Type"
      ]
    },
    {
      "cell_type": "code",
      "execution_count": null,
      "metadata": {
        "colab": {
          "base_uri": "https://localhost:8080/",
          "height": 255
        },
        "id": "7uvjfE524Q7j",
        "outputId": "29954527-360a-42d9-d3e9-4347c68625ca"
      },
      "outputs": [
        {
          "output_type": "stream",
          "name": "stdout",
          "text": [
            "Roles with a contract type specified: 69.0 %\n"
          ]
        },
        {
          "output_type": "execute_result",
          "data": {
            "text/plain": [
              "               level  job_title\n",
              "0          Associate         16\n",
              "1           Director          4\n",
              "2        Entry level         24\n",
              "3          Executive          1\n",
              "4         Internship          2\n",
              "5   Mid-Senior level         61"
            ],
            "text/html": [
              "\n",
              "  <div id=\"df-2bcb236c-4352-45d3-9ba7-778bf9e890e8\">\n",
              "    <div class=\"colab-df-container\">\n",
              "      <div>\n",
              "<style scoped>\n",
              "    .dataframe tbody tr th:only-of-type {\n",
              "        vertical-align: middle;\n",
              "    }\n",
              "\n",
              "    .dataframe tbody tr th {\n",
              "        vertical-align: top;\n",
              "    }\n",
              "\n",
              "    .dataframe thead th {\n",
              "        text-align: right;\n",
              "    }\n",
              "</style>\n",
              "<table border=\"1\" class=\"dataframe\">\n",
              "  <thead>\n",
              "    <tr style=\"text-align: right;\">\n",
              "      <th></th>\n",
              "      <th>level</th>\n",
              "      <th>job_title</th>\n",
              "    </tr>\n",
              "  </thead>\n",
              "  <tbody>\n",
              "    <tr>\n",
              "      <th>0</th>\n",
              "      <td>Associate</td>\n",
              "      <td>16</td>\n",
              "    </tr>\n",
              "    <tr>\n",
              "      <th>1</th>\n",
              "      <td>Director</td>\n",
              "      <td>4</td>\n",
              "    </tr>\n",
              "    <tr>\n",
              "      <th>2</th>\n",
              "      <td>Entry level</td>\n",
              "      <td>24</td>\n",
              "    </tr>\n",
              "    <tr>\n",
              "      <th>3</th>\n",
              "      <td>Executive</td>\n",
              "      <td>1</td>\n",
              "    </tr>\n",
              "    <tr>\n",
              "      <th>4</th>\n",
              "      <td>Internship</td>\n",
              "      <td>2</td>\n",
              "    </tr>\n",
              "    <tr>\n",
              "      <th>5</th>\n",
              "      <td>Mid-Senior level</td>\n",
              "      <td>61</td>\n",
              "    </tr>\n",
              "  </tbody>\n",
              "</table>\n",
              "</div>\n",
              "      <button class=\"colab-df-convert\" onclick=\"convertToInteractive('df-2bcb236c-4352-45d3-9ba7-778bf9e890e8')\"\n",
              "              title=\"Convert this dataframe to an interactive table.\"\n",
              "              style=\"display:none;\">\n",
              "        \n",
              "  <svg xmlns=\"http://www.w3.org/2000/svg\" height=\"24px\"viewBox=\"0 0 24 24\"\n",
              "       width=\"24px\">\n",
              "    <path d=\"M0 0h24v24H0V0z\" fill=\"none\"/>\n",
              "    <path d=\"M18.56 5.44l.94 2.06.94-2.06 2.06-.94-2.06-.94-.94-2.06-.94 2.06-2.06.94zm-11 1L8.5 8.5l.94-2.06 2.06-.94-2.06-.94L8.5 2.5l-.94 2.06-2.06.94zm10 10l.94 2.06.94-2.06 2.06-.94-2.06-.94-.94-2.06-.94 2.06-2.06.94z\"/><path d=\"M17.41 7.96l-1.37-1.37c-.4-.4-.92-.59-1.43-.59-.52 0-1.04.2-1.43.59L10.3 9.45l-7.72 7.72c-.78.78-.78 2.05 0 2.83L4 21.41c.39.39.9.59 1.41.59.51 0 1.02-.2 1.41-.59l7.78-7.78 2.81-2.81c.8-.78.8-2.07 0-2.86zM5.41 20L4 18.59l7.72-7.72 1.47 1.35L5.41 20z\"/>\n",
              "  </svg>\n",
              "      </button>\n",
              "      \n",
              "  <style>\n",
              "    .colab-df-container {\n",
              "      display:flex;\n",
              "      flex-wrap:wrap;\n",
              "      gap: 12px;\n",
              "    }\n",
              "\n",
              "    .colab-df-convert {\n",
              "      background-color: #E8F0FE;\n",
              "      border: none;\n",
              "      border-radius: 50%;\n",
              "      cursor: pointer;\n",
              "      display: none;\n",
              "      fill: #1967D2;\n",
              "      height: 32px;\n",
              "      padding: 0 0 0 0;\n",
              "      width: 32px;\n",
              "    }\n",
              "\n",
              "    .colab-df-convert:hover {\n",
              "      background-color: #E2EBFA;\n",
              "      box-shadow: 0px 1px 2px rgba(60, 64, 67, 0.3), 0px 1px 3px 1px rgba(60, 64, 67, 0.15);\n",
              "      fill: #174EA6;\n",
              "    }\n",
              "\n",
              "    [theme=dark] .colab-df-convert {\n",
              "      background-color: #3B4455;\n",
              "      fill: #D2E3FC;\n",
              "    }\n",
              "\n",
              "    [theme=dark] .colab-df-convert:hover {\n",
              "      background-color: #434B5C;\n",
              "      box-shadow: 0px 1px 3px 1px rgba(0, 0, 0, 0.15);\n",
              "      filter: drop-shadow(0px 1px 2px rgba(0, 0, 0, 0.3));\n",
              "      fill: #FFFFFF;\n",
              "    }\n",
              "  </style>\n",
              "\n",
              "      <script>\n",
              "        const buttonEl =\n",
              "          document.querySelector('#df-2bcb236c-4352-45d3-9ba7-778bf9e890e8 button.colab-df-convert');\n",
              "        buttonEl.style.display =\n",
              "          google.colab.kernel.accessAllowed ? 'block' : 'none';\n",
              "\n",
              "        async function convertToInteractive(key) {\n",
              "          const element = document.querySelector('#df-2bcb236c-4352-45d3-9ba7-778bf9e890e8');\n",
              "          const dataTable =\n",
              "            await google.colab.kernel.invokeFunction('convertToInteractive',\n",
              "                                                     [key], {});\n",
              "          if (!dataTable) return;\n",
              "\n",
              "          const docLinkHtml = 'Like what you see? Visit the ' +\n",
              "            '<a target=\"_blank\" href=https://colab.research.google.com/notebooks/data_table.ipynb>data table notebook</a>'\n",
              "            + ' to learn more about interactive tables.';\n",
              "          element.innerHTML = '';\n",
              "          dataTable['output_type'] = 'display_data';\n",
              "          await google.colab.output.renderOutput(dataTable, element);\n",
              "          const docLink = document.createElement('div');\n",
              "          docLink.innerHTML = docLinkHtml;\n",
              "          element.appendChild(docLink);\n",
              "        }\n",
              "      </script>\n",
              "    </div>\n",
              "  </div>\n",
              "  "
            ]
          },
          "metadata": {},
          "execution_count": 113
        }
      ],
      "source": [
        "print('Roles with a contract type specified:', round(df[df['level']!='-'].groupby('level')['job_title'].count().sum()/len(df),2)*100, '%')\n",
        "df.groupby('level')['job_title'].count().reset_index()"
      ]
    },
    {
      "cell_type": "code",
      "execution_count": null,
      "metadata": {
        "id": "up9vz02c4Q7k"
      },
      "outputs": [],
      "source": [
        "# remove noisy data"
      ]
    },
    {
      "cell_type": "code",
      "execution_count": null,
      "metadata": {
        "colab": {
          "base_uri": "https://localhost:8080/",
          "height": 796
        },
        "id": "RsJuadVf4Q7k",
        "outputId": "da620ffb-4ca9-46ae-b25c-28cacf5ed94f"
      },
      "outputs": [
        {
          "output_type": "display_data",
          "data": {
            "text/plain": [
              "<Figure size 800x800 with 1 Axes>"
            ],
            "image/png": "[encoded data removed]"
          },
          "metadata": {}
        }
      ],
      "source": [
        "contract_df = df.groupby('level').count().reset_index()[['level', 'job_title']]\n",
        "\n",
        "f, ax = plt.subplots(figsize=(8,8))\n",
        "plt.xticks(rotation=45)\n",
        "\n",
        "sns.barplot(x='level', y='job_title', data=contract_df)\n",
        "\n",
        "# show plot\n",
        "plt.show()\n",
        "ax.set_title('Count Of Jobs By level Type', fontsize=18)\n",
        "ax.set_xlabel('Job Level', fontsize=14)\n",
        "ax.set_ylabel('Count', fontsize=14);"
      ]
    },
    {
      "cell_type": "markdown",
      "metadata": {
        "id": "YbFNaeyi4Q7l"
      },
      "source": [
        "### Job Descriabtion"
      ]
    },
    {
      "cell_type": "markdown",
      "metadata": {
        "id": "7dmWLrwt4Q7m"
      },
      "source": [
        "Word Cloud"
      ]
    },
    {
      "cell_type": "code",
      "source": [
        "pg_lan_sf = [\"python\",\"c++\",\"java\",\"matlab\",\".net\",\"c#\",\"javascript\",\"html\",\"bash\",\"swift\",\"php\", \" r \"]\n",
        "pg_lan = [\"python\",\"c++\",\"java\",\"javascript\",\"html\",\"bash\"]\n",
        "big_data = [\"big data\",\"hadoop\",\"spark\",\"impala\",\"cassandra\",\"kafka\",\"hive\"]\n",
        "exp_edu = [\"phd\",\"master\",\"bachelor\"]\n",
        "cloud =[\"aws\",\"gcp\",\"azure\",\"s3\",\"redshift\"]\n",
        "ds_ml = [\"machine learning\",\"regression\",\"stat\",\"numpy\",\"pandas\",\"data visualization\",\"data analysis\",\"time series\",\"data cleaning\",\"deep learning\"]\n",
        "other_skills = [\"sql\",\"excel\",\"sas\",\"communication\"]\n",
        "job = df[\"Description\"].tolist()"
      ],
      "metadata": {
        "id": "8l8sl5Qi6oxb"
      },
      "execution_count": null,
      "outputs": []
    },
    {
      "cell_type": "code",
      "execution_count": null,
      "metadata": {
        "id": "CQO59biZ4Q7n"
      },
      "outputs": [],
      "source": [
        "job = [x.lower() for x in job]"
      ]
    },
    {
      "cell_type": "code",
      "execution_count": null,
      "metadata": {
        "id": "-8f7roLM4Q7o"
      },
      "outputs": [],
      "source": [
        "from collections import defaultdict"
      ]
    },
    {
      "cell_type": "markdown",
      "metadata": {
        "id": "zOejhC3D4Q7o"
      },
      "source": [
        "#### Programming Language"
      ]
    },
    {
      "cell_type": "code",
      "execution_count": null,
      "metadata": {
        "id": "rKkkwBFU4Q7o"
      },
      "outputs": [],
      "source": [
        "pg_lan_required = defaultdict()\n",
        "for item in pg_lan:\n",
        "    counter = 0\n",
        "    for it in job:\n",
        "        if item in it:\n",
        "            counter = counter + 1\n",
        "    pg_lan_required[item] = counter\n",
        "\n",
        "pg_lan_df = pd.DataFrame(list(pg_lan_required.items()),columns = ['Programming Langauge','count'])\n",
        "pg_lan_df.sort_values([\"count\"], axis=0, ascending=False, inplace=True)"
      ]
    },
    {
      "cell_type": "code",
      "execution_count": null,
      "metadata": {
        "colab": {
          "base_uri": "https://localhost:8080/",
          "height": 446
        },
        "id": "20aRgNeQ4Q7p",
        "outputId": "cfdd7957-782c-45a3-9fda-8dacf0307cdc"
      },
      "outputs": [
        {
          "output_type": "display_data",
          "data": {
            "text/plain": [
              "<Figure size 1500x500 with 1 Axes>"
            ],
            "image/png": "[encoded data removed]"
          },
          "metadata": {}
        }
      ],
      "source": [
        "plt.figure(figsize = (15,5))\n",
        "x = pg_lan_df[\"Programming Langauge\"]\n",
        "y = pg_lan_df[\"count\"]\n",
        "plt.bar(x,y,color= \"lightblue\")\n",
        "plt.title(\"Top programming languages requrired by the companies\",fontsize=15)\n",
        "plt.xlabel(\"Programming Languages\",fontsize=15)\n",
        "plt.ylabel(\"Percentage %\",fontsize=15)\n",
        "plt.xticks(fontsize=15, rotation=90)\n",
        "plt.yticks(fontsize=15)\n",
        "for k,v in pg_lan_required.items():\n",
        "    plt.text(k,v+0, str(v), fontsize=12, fontweight='bold',color='k', horizontalalignment='center');"
      ]
    },
    {
      "cell_type": "markdown",
      "metadata": {
        "id": "PX6R3KZr4Q7q"
      },
      "source": [
        "#### Big Data Technologies"
      ]
    },
    {
      "cell_type": "code",
      "execution_count": null,
      "metadata": {
        "id": "v0-g9NQB4Q7q"
      },
      "outputs": [],
      "source": [
        "counter = 0\n",
        "big_data_required = defaultdict()\n",
        "for item in big_data:\n",
        "    counter = 0\n",
        "    for it in job:\n",
        "        if item in it:\n",
        "            counter = counter + 1\n",
        "    big_data_required[item] = counter\n",
        "\n",
        "big_data_df = pd.DataFrame(list(big_data_required.items()),columns = ['Big Data Technologies','count'])\n",
        "big_data_df.sort_values([\"count\"], axis=0, ascending=False, inplace=True)"
      ]
    },
    {
      "cell_type": "code",
      "execution_count": null,
      "metadata": {
        "colab": {
          "base_uri": "https://localhost:8080/",
          "height": 450
        },
        "id": "OJVmjEbd4Q7r",
        "outputId": "3c0e1e13-7ab6-4c84-d42f-3fdc6dff9e8d"
      },
      "outputs": [
        {
          "output_type": "display_data",
          "data": {
            "text/plain": [
              "<Figure size 1500x500 with 1 Axes>"
            ],
            "image/png": "[encoded data removed]"
          },
          "metadata": {}
        }
      ],
      "source": [
        "plt.figure(figsize = (15,5))\n",
        "x = big_data_df[\"Big Data Technologies\"]\n",
        "y = big_data_df[\"count\"]\n",
        "plt.bar(x,y,color= \"lightpink\")\n",
        "plt.title(\"Top Big Data Technologies requrired by the companies\",fontsize=15)\n",
        "plt.xlabel(\"Skills\",fontsize=15)\n",
        "plt.ylabel(\"Percentage %\",fontsize=15)\n",
        "plt.xticks(fontsize=15, rotation=90)\n",
        "plt.yticks(fontsize=15)\n",
        "for k,v in big_data_required.items():\n",
        "    plt.text(k,v+0, str(v), fontsize=12, fontweight='bold',color='k', horizontalalignment='center');"
      ]
    },
    {
      "cell_type": "markdown",
      "metadata": {
        "id": "4LxhkkFk4Q7r"
      },
      "source": [
        "#### Education level"
      ]
    },
    {
      "cell_type": "code",
      "source": [
        "import math"
      ],
      "metadata": {
        "id": "6QpHcWaydGYw"
      },
      "execution_count": null,
      "outputs": []
    },
    {
      "cell_type": "code",
      "execution_count": null,
      "metadata": {
        "id": "TOG0pYGr4Q7r"
      },
      "outputs": [],
      "source": [
        "exp_edu_required = defaultdict()\n",
        "for item in exp_edu:\n",
        "    counter = 0\n",
        "    for it in job:\n",
        "        if item in it:\n",
        "            counter = counter + 1\n",
        "    exp_edu_required[item] = counter # math.ceil((counter/len(job)  *100))\n",
        "\n",
        "exp_edu_df = pd.DataFrame(list(exp_edu_required.items()),columns = ['Education','Percentage'])\n",
        "exp_edu_df.sort_values([\"Percentage\"], axis=0, ascending=False, inplace=True)"
      ]
    },
    {
      "cell_type": "code",
      "execution_count": null,
      "metadata": {
        "colab": {
          "base_uri": "https://localhost:8080/",
          "height": 438
        },
        "id": "5jRhHVzk4Q7s",
        "outputId": "422bc3a3-2f20-4566-a850-cd39ade648e0"
      },
      "outputs": [
        {
          "output_type": "display_data",
          "data": {
            "text/plain": [
              "<Figure size 1500x500 with 1 Axes>"
            ],
            "image/png": "[encoded data removed]"
          },
          "metadata": {}
        }
      ],
      "source": [
        "plt.figure(figsize = (15,5))\n",
        "x = exp_edu_df[\"Education\"]\n",
        "y = exp_edu_df[\"Percentage\"]\n",
        "plt.bar(x,y,color= \"lightyellow\")\n",
        "plt.title(\"Education requrired by the companies\",fontsize=15)\n",
        "plt.xlabel(\"Education\",fontsize=15)\n",
        "plt.ylabel(\"Percentage %\",fontsize=15)\n",
        "plt.xticks(fontsize=15, rotation=90)\n",
        "plt.yticks(fontsize=15)\n",
        "for k,v in exp_edu_required.items():\n",
        "    plt.text(k,v+0, str(v), fontsize=12, fontweight='bold',color='k', horizontalalignment='center');"
      ]
    },
    {
      "cell_type": "markdown",
      "metadata": {
        "id": "6fOMZu3L4Q7t"
      },
      "source": [
        "#### Cloud Computing"
      ]
    },
    {
      "cell_type": "code",
      "execution_count": null,
      "metadata": {
        "id": "eErOf4y94Q7t"
      },
      "outputs": [],
      "source": [
        "counter = 0\n",
        "cloud_required = defaultdict()\n",
        "for item in cloud:\n",
        "    counter = 0\n",
        "    for it in job:\n",
        "        if item in it:\n",
        "            counter = counter + 1\n",
        "    cloud_required[item] = counter\n",
        "\n",
        "\n",
        "\n",
        "cloud_df = pd.DataFrame(list(cloud_required.items()),columns = ['cloud ','count'])\n",
        "cloud_df.sort_values([\"count\"], axis=0, ascending=False, inplace=True)"
      ]
    },
    {
      "cell_type": "code",
      "execution_count": null,
      "metadata": {
        "colab": {
          "base_uri": "https://localhost:8080/",
          "height": 429
        },
        "id": "QKAePXxl4Q7t",
        "outputId": "584b6f13-0605-4604-c4df-fae83410f648"
      },
      "outputs": [
        {
          "output_type": "display_data",
          "data": {
            "text/plain": [
              "<Figure size 1500x500 with 1 Axes>"
            ],
            "image/png": "[encoded data removed]"
          },
          "metadata": {}
        }
      ],
      "source": [
        "plt.figure(figsize = (15,5))\n",
        "x = cloud_df[\"cloud \"]\n",
        "y = cloud_df[\"count\"]\n",
        "plt.bar(x,y,color= \"lightblue\")\n",
        "plt.title(\"Top cloud computing skills requrired by the companies\",fontsize=15)\n",
        "plt.xlabel(\"Skills\",fontsize=15)\n",
        "plt.ylabel(\"Percentage %\",fontsize=15)\n",
        "plt.xticks(fontsize=15, rotation=90)\n",
        "plt.yticks(fontsize=15)\n",
        "for k,v in cloud_required.items():\n",
        "    plt.text(k,v+0, str(v), fontsize=12, fontweight='bold',color='k', horizontalalignment='center');"
      ]
    },
    {
      "cell_type": "markdown",
      "metadata": {
        "id": "b-a4Sxl-4Q7u"
      },
      "source": [
        "#### AI Skills"
      ]
    },
    {
      "cell_type": "code",
      "execution_count": null,
      "metadata": {
        "id": "SCaSJbeC4Q7u"
      },
      "outputs": [],
      "source": [
        "counter = 0\n",
        "ds_ml_required = defaultdict()\n",
        "for item in ds_ml:\n",
        "    counter = 0\n",
        "    for it in job:\n",
        "        if item in it:\n",
        "            counter = counter + 1\n",
        "    ds_ml_required[item] = counter\n",
        "\n",
        "ds_ml_df = pd.DataFrame(list(ds_ml_required.items()),columns = ['Data Engineer /Machine Learning Skills ','count'])\n",
        "ds_ml_df.sort_values([\"count\"], axis=0, ascending=False, inplace=True)"
      ]
    },
    {
      "cell_type": "code",
      "execution_count": null,
      "metadata": {
        "colab": {
          "base_uri": "https://localhost:8080/",
          "height": 589
        },
        "id": "F2FLKMpm4Q7v",
        "outputId": "9837fc28-c4aa-4e76-9553-9dd66835d9a3"
      },
      "outputs": [
        {
          "output_type": "display_data",
          "data": {
            "text/plain": [
              "<Figure size 1500x500 with 1 Axes>"
            ],
            "image/png": "[encoded data removed]"
          },
          "metadata": {}
        }
      ],
      "source": [
        "plt.figure(figsize = (15,5))\n",
        "x = ds_ml_df[\"Data Engineer /Machine Learning Skills \"]\n",
        "y = ds_ml_df[\"count\"]\n",
        "plt.bar(x,y,color= \"lightpink\")\n",
        "plt.title(\"Top data Engineer  or machine learning skills requrired by the companies\",fontsize=15)\n",
        "plt.xlabel(\"Skills\",fontsize=15)\n",
        "plt.ylabel(\"Count\",fontsize=15)\n",
        "plt.xticks(fontsize=15, rotation=90)\n",
        "plt.yticks(fontsize=15)\n",
        "\n",
        "for k,v in ds_ml_required.items():\n",
        "    plt.text(k,v+25, str(v), fontsize=12, fontweight='bold',color='k', horizontalalignment='center');"
      ]
    },
    {
      "cell_type": "markdown",
      "metadata": {
        "id": "nVCSZ6r44Q7v"
      },
      "source": [
        "#### Other Skills"
      ]
    },
    {
      "cell_type": "code",
      "execution_count": null,
      "metadata": {
        "id": "N25iRKQR4Q7w"
      },
      "outputs": [],
      "source": [
        "counter = 0\n",
        "other_skills_required = defaultdict()\n",
        "for item in other_skills:\n",
        "    counter = 0\n",
        "    for it in job:\n",
        "        if item in it:\n",
        "            counter = counter + 1\n",
        "    other_skills_required[item] = counter\n",
        "\n",
        "\n",
        "other_skills_df = pd.DataFrame(list(other_skills_required.items()),columns = ['Other Skills ','count'])\n",
        "other_skills_df.sort_values([\"count\"], axis=0, ascending=False, inplace=True)"
      ]
    },
    {
      "cell_type": "code",
      "execution_count": null,
      "metadata": {
        "colab": {
          "base_uri": "https://localhost:8080/",
          "height": 493
        },
        "id": "E8YbqFQt4Q7w",
        "outputId": "8a608403-8bb8-4092-b77d-0bb64b5d504c"
      },
      "outputs": [
        {
          "output_type": "display_data",
          "data": {
            "text/plain": [
              "<Figure size 1500x500 with 1 Axes>"
            ],
            "image/png": "[encoded data removed]"
          },
          "metadata": {}
        }
      ],
      "source": [
        "plt.figure(figsize = (15,5))\n",
        "plt.title(\"other top skills required by companies\", fontsize=18)\n",
        "plt.bar(other_skills_df[\"Other Skills \"], other_skills_df[\"count\"],color= \"lightblue\")\n",
        "plt.xlabel(\"Skills\",fontsize=15)\n",
        "plt.ylabel(\"Count\",fontsize=15)\n",
        "plt.xticks(fontsize=15, rotation=90)\n",
        "plt.yticks(fontsize=15)\n",
        "\n",
        "for k,v in other_skills_required.items():\n",
        "    plt.text(k,v+0, str(v), fontsize=12, fontweight='bold',color='k', horizontalalignment='center');"
      ]
    },
    {
      "cell_type": "markdown",
      "metadata": {
        "id": "T54w8Jq24Q7z"
      },
      "source": [
        "##  3. Topic modelling ( Used for Data Desc)"
      ]
    },
    {
      "cell_type": "markdown",
      "metadata": {
        "id": "XoHg9puQ4Q7z"
      },
      "source": [
        "### Removing closely worded job descriptions"
      ]
    },
    {
      "cell_type": "markdown",
      "metadata": {
        "id": "RU49aiZA4Q7z"
      },
      "source": [
        "Before apply topic modelling to the job descriptions in the data set, job adverts that are very similar but not identical need to be removed. I've decided the best way to remove these adverts is to transform to a vector based on their word counts and calculate their cosine similarity scores. Anything that is close to 1 without equalling 1 is very likely to be a repetition of an advert which contains a small difference."
      ]
    },
    {
      "cell_type": "code",
      "execution_count": null,
      "metadata": {
        "scrolled": true,
        "colab": {
          "base_uri": "https://localhost:8080/"
        },
        "id": "b0HsTBAd4Q70",
        "outputId": "8d600a9c-710c-4273-fb69-5ce8e6b923d8"
      },
      "outputs": [
        {
          "output_type": "stream",
          "name": "stderr",
          "text": [
            "/usr/local/lib/python3.10/dist-packages/ipykernel/ipkernel.py:283: DeprecationWarning:\n",
            "\n",
            "`should_run_async` will not call `transform_cell` automatically in the future. Please pass the result to `transformed_cell` argument and any exception that happen during thetransform in `preprocessing_exc_tuple` in IPython 7.17 and above.\n",
            "\n"
          ]
        }
      ],
      "source": [
        "from sklearn.feature_extraction.text import CountVectorizer\n",
        "from sklearn.metrics.pairwise import cosine_similarity\n",
        "\n",
        "corpus = df['Description']\n",
        "count_vect = CountVectorizer()\n",
        "\n",
        "X_train_counts = count_vect.fit_transform(corpus)\n",
        "\n",
        "#Dataframe with cosine similarties\n",
        "cos_df = pd.DataFrame(cosine_similarity(X_train_counts))\n",
        "\n",
        "#Dataframe for job advert and similarity with every other advert\n",
        "i, j = np.indices(cos_df.shape).reshape(2, -1)\n",
        "cos_values = cos_df.values.reshape(-1)\n",
        "cos_sim_df = pd.DataFrame({'i': i, 'j': j, 'sim':cos_values})\n",
        "\n",
        "#Any advert that has a cosine similarity above 0.98 and doesn't equal itself\n",
        "cos_rem = cos_sim_df[(cos_sim_df['sim']>0.98)&(i!=j)]\n",
        "\n",
        "#Method to remove duplicates but keep first instance. Trying to drop duplicates on i and j column wouldn't work as the numbers don't duplicate in those\n",
        "#columns. Setting another column that combines their values ensure that duplicates can be dropped.\n",
        "\n",
        "cos_rem['i*j'] = cos_rem['i'] * cos_rem['j']\n",
        "drop_rows = np.unique(cos_rem.drop_duplicates(subset=['i*j'], keep='first')['i'].values)\n",
        "\n",
        "#Drop from original dataframe\n",
        "data_df = data_df[~data_df.index.isin(drop_rows)]\n",
        "data_df = data_df.reset_index()\n",
        "data_df.drop(columns={'index'}, inplace=True)"
      ]
    },
    {
      "cell_type": "code",
      "execution_count": null,
      "metadata": {
        "colab": {
          "base_uri": "https://localhost:8080/"
        },
        "id": "ZEMcYYG64Q71",
        "outputId": "0bf29820-f209-48ad-bb02-3c27bdc889bd"
      },
      "outputs": [
        {
          "output_type": "stream",
          "name": "stderr",
          "text": [
            "/usr/local/lib/python3.10/dist-packages/ipykernel/ipkernel.py:283: DeprecationWarning:\n",
            "\n",
            "`should_run_async` will not call `transform_cell` automatically in the future. Please pass the result to `transformed_cell` argument and any exception that happen during thetransform in `preprocessing_exc_tuple` in IPython 7.17 and above.\n",
            "\n"
          ]
        },
        {
          "output_type": "execute_result",
          "data": {
            "text/plain": [
              "157"
            ]
          },
          "metadata": {},
          "execution_count": 188
        }
      ],
      "source": [
        "len(corpus)"
      ]
    },
    {
      "cell_type": "markdown",
      "metadata": {
        "id": "AGyeLj8w4Q71"
      },
      "source": [
        "Using this method has removed 32 rows that were not identical but had cosine similarity scores of over 0.98."
      ]
    },
    {
      "cell_type": "code",
      "execution_count": null,
      "metadata": {
        "colab": {
          "base_uri": "https://localhost:8080/"
        },
        "id": "hGQ-LcZ14Q71",
        "outputId": "939c4333-f8cf-4789-c05d-7f7d97e92726"
      },
      "outputs": [
        {
          "output_type": "stream",
          "name": "stderr",
          "text": [
            "/usr/local/lib/python3.10/dist-packages/ipykernel/ipkernel.py:283: DeprecationWarning:\n",
            "\n",
            "`should_run_async` will not call `transform_cell` automatically in the future. Please pass the result to `transformed_cell` argument and any exception that happen during thetransform in `preprocessing_exc_tuple` in IPython 7.17 and above.\n",
            "\n"
          ]
        }
      ],
      "source": [
        "corpus = df['Description']"
      ]
    },
    {
      "cell_type": "code",
      "execution_count": null,
      "metadata": {
        "colab": {
          "base_uri": "https://localhost:8080/"
        },
        "id": "rX3KqzH_4Q72",
        "outputId": "7c3f6bef-9db6-4250-f960-4758a080a763"
      },
      "outputs": [
        {
          "output_type": "stream",
          "name": "stderr",
          "text": [
            "/usr/local/lib/python3.10/dist-packages/ipykernel/ipkernel.py:283: DeprecationWarning:\n",
            "\n",
            "`should_run_async` will not call `transform_cell` automatically in the future. Please pass the result to `transformed_cell` argument and any exception that happen during thetransform in `preprocessing_exc_tuple` in IPython 7.17 and above.\n",
            "\n",
            "[nltk_data] Downloading package stopwords to /root/nltk_data...\n",
            "[nltk_data]   Package stopwords is already up-to-date!\n",
            "[nltk_data] Downloading package wordnet to /root/nltk_data...\n",
            "[nltk_data]   Package wordnet is already up-to-date!\n",
            "[nltk_data] Downloading package punkt to /root/nltk_data...\n",
            "[nltk_data]   Package punkt is already up-to-date!\n"
          ]
        },
        {
          "output_type": "execute_result",
          "data": {
            "text/plain": [
              "True"
            ]
          },
          "metadata": {},
          "execution_count": 190
        }
      ],
      "source": [
        "import nltk #google colab\n",
        "nltk.download('stopwords')\n",
        "nltk.download('wordnet')\n",
        "nltk.download('punkt')"
      ]
    },
    {
      "cell_type": "code",
      "execution_count": null,
      "metadata": {
        "scrolled": true,
        "colab": {
          "base_uri": "https://localhost:8080/"
        },
        "id": "tYOiMbHM4Q72",
        "outputId": "e7d7ecf5-8de7-4428-b986-0c826ef556f6"
      },
      "outputs": [
        {
          "output_type": "stream",
          "name": "stderr",
          "text": [
            "/usr/local/lib/python3.10/dist-packages/ipykernel/ipkernel.py:283: DeprecationWarning:\n",
            "\n",
            "`should_run_async` will not call `transform_cell` automatically in the future. Please pass the result to `transformed_cell` argument and any exception that happen during thetransform in `preprocessing_exc_tuple` in IPython 7.17 and above.\n",
            "\n"
          ]
        }
      ],
      "source": [
        "import nltk\n",
        "\n",
        "\n",
        "wpt = nltk.WordPunctTokenizer()\n",
        "stop_words = nltk.corpus.stopwords.words('english')\n",
        "lemmatizer = nltk.WordNetLemmatizer()\n",
        "\n",
        "#Function to pre-process the text information\n",
        "\n",
        "def normalize_document(doc):\n",
        "\n",
        "    # lower case and remove special characters\\whitespaces\n",
        "    doc = re.sub(r'[^a-zA-Z\\s]', '', doc, re.I|re.A) #re.I (ignore case), re.A (ASCII-only matching)\n",
        "    doc = doc.lower()\n",
        "    doc = doc.strip()\n",
        "\n",
        "    # tokenize document\n",
        "    tokens = wpt.tokenize(doc)\n",
        "\n",
        "    # filter stopwords out of document\n",
        "    filtered_tokens = [token for token in tokens if token not in stop_words]\n",
        "\n",
        "    # Lemmatise document from filtered tokens\n",
        "    lem_text = [lemmatizer.lemmatize(i) for i in filtered_tokens]\n",
        "\n",
        "    # Remove words that are only one character.\n",
        "    lem_text = [token for token in lem_text if len(token) > 1]\n",
        "\n",
        "    # Remove numbers, but not words that contain numbers.\n",
        "    lem_text = [token for token in lem_text if not token.isnumeric()]\n",
        "\n",
        "    doc = ' '.join(lem_text)\n",
        "    return doc\n",
        "\n",
        "normalize_corpus = np.vectorize(normalize_document)\n",
        "\n",
        "norm_corpus = normalize_corpus(corpus)"
      ]
    },
    {
      "cell_type": "markdown",
      "metadata": {
        "id": "AjeVC8724Q73"
      },
      "source": [
        "Gensim is a Python library for topic modelling, document indexing and similarity retrieval with large corpora\n",
        "\n",
        "Gensim requires the words (tokens) to be converted to unique ids, which can be done by creating a dictionary that maps the words to ids.\n",
        "Once the dictionary has been created a bag of words corpus can be created that contains the word id and the its frequency in each document. It is effectively an equivalent of a Document-Term matrix."
      ]
    },
    {
      "cell_type": "code",
      "execution_count": null,
      "metadata": {
        "scrolled": true,
        "colab": {
          "base_uri": "https://localhost:8080/"
        },
        "id": "iCmBrgRN4Q73",
        "outputId": "d1ca219b-4c92-4ad1-c138-7853963b36cd"
      },
      "outputs": [
        {
          "output_type": "stream",
          "name": "stderr",
          "text": [
            "/usr/local/lib/python3.10/dist-packages/ipykernel/ipkernel.py:283: DeprecationWarning:\n",
            "\n",
            "`should_run_async` will not call `transform_cell` automatically in the future. Please pass the result to `transformed_cell` argument and any exception that happen during thetransform in `preprocessing_exc_tuple` in IPython 7.17 and above.\n",
            "\n"
          ]
        }
      ],
      "source": [
        "from nltk.tokenize import word_tokenize\n",
        "import gensim.corpora as corpora\n",
        "\n",
        "#Tokenise the corpus\n",
        "tokenized_corp = [word_tokenize(i) for i in norm_corpus]\n",
        "\n",
        "# Create Dictionary\n",
        "id2word = corpora.Dictionary(tokenized_corp)\n",
        "\n",
        "#Remove words that don't feature 20 times and those that feature in over 50% of documents\n",
        "id2word.filter_extremes(no_below=20, no_above=0.5)\n",
        "\n",
        "texts = tokenized_corp\n",
        "\n",
        "# Term Document Frequency\n",
        "corpus = [id2word.doc2bow(text) for text in texts]"
      ]
    },
    {
      "cell_type": "markdown",
      "metadata": {
        "id": "-hWWzD3i4Q73"
      },
      "source": [
        "To find the optimum number of topics, models will be built for a range of topic sizes and the one with the highest coherence score will be chosen. A previous search into optimum numbers has narrowed down the search to  be between 8 and 15."
      ]
    },
    {
      "cell_type": "code",
      "execution_count": null,
      "metadata": {
        "colab": {
          "base_uri": "https://localhost:8080/"
        },
        "id": "qR4fzfSg4Q74",
        "outputId": "70a173a9-1b15-4463-949e-b6817f0ac74a"
      },
      "outputs": [
        {
          "output_type": "stream",
          "name": "stderr",
          "text": [
            "/usr/local/lib/python3.10/dist-packages/ipykernel/ipkernel.py:283: DeprecationWarning:\n",
            "\n",
            "`should_run_async` will not call `transform_cell` automatically in the future. Please pass the result to `transformed_cell` argument and any exception that happen during thetransform in `preprocessing_exc_tuple` in IPython 7.17 and above.\n",
            "\n"
          ]
        }
      ],
      "source": [
        "def compute_coherence_values(corpus, dictionary, texts, end, start=2, step=3):\n",
        "    \"\"\"\n",
        "    Compute c_v coherence for various number of topics\n",
        "\n",
        "    Parameters:\n",
        "    ----------\n",
        "    dictionary : Gensim dictionary\n",
        "    corpus : Gensim corpus\n",
        "    texts : List of input texts\n",
        "    limit : Max num of topics\n",
        "\n",
        "    Returns:\n",
        "    -------\n",
        "    model_list : List of LDA topic models\n",
        "    coherence_values : Coherence values corresponding to the LDA model with respective number of topics\n",
        "    \"\"\"\n",
        "    coherence_values = []\n",
        "    model_list = []\n",
        "\n",
        "    for num_topics in range(start, end, step):\n",
        "\n",
        "        # Build LDA model\n",
        "        lda_model = gensim.models.LdaMulticore(corpus=corpus,\n",
        "                                               id2word=dictionary,\n",
        "                                               num_topics=num_topics,\n",
        "                                               random_state=123,\n",
        "                                               chunksize=100,\n",
        "                                               passes=500, #number of passes was investigated. At 500 the coherence score will remain relatively similar\n",
        "                                               #with any further increase. As the document is quite small this number of passes makes sense.\n",
        "                                               per_word_topics=True)\n",
        "        model_list.append(lda_model)\n",
        "\n",
        "        # Compute Coherence Score\n",
        "        coherence_model_lda = CoherenceModel(model=lda_model, texts=texts, dictionary=dictionary, coherence='c_v')\n",
        "        coherence_values.append(coherence_model_lda.get_coherence())\n",
        "\n",
        "    return model_list, coherence_values"
      ]
    },
    {
      "cell_type": "code",
      "execution_count": null,
      "metadata": {
        "colab": {
          "base_uri": "https://localhost:8080/"
        },
        "id": "DPQW5XU24Q74",
        "outputId": "25e27556-8b01-4e3a-cc39-5b007aadaece"
      },
      "outputs": [
        {
          "output_type": "stream",
          "name": "stderr",
          "text": [
            "/usr/local/lib/python3.10/dist-packages/ipykernel/ipkernel.py:283: DeprecationWarning:\n",
            "\n",
            "`should_run_async` will not call `transform_cell` automatically in the future. Please pass the result to `transformed_cell` argument and any exception that happen during thetransform in `preprocessing_exc_tuple` in IPython 7.17 and above.\n",
            "\n"
          ]
        }
      ],
      "source": [
        "model_list, coherence_values = compute_coherence_values(corpus=corpus, dictionary = id2word, texts=texts, start=8, end=16, step=1)"
      ]
    },
    {
      "cell_type": "code",
      "execution_count": null,
      "metadata": {
        "scrolled": false,
        "colab": {
          "base_uri": "https://localhost:8080/",
          "height": 821
        },
        "id": "-RudETQG4Q75",
        "outputId": "0ae56c68-fc8d-4c61-a459-aefcca926211"
      },
      "outputs": [
        {
          "output_type": "stream",
          "name": "stderr",
          "text": [
            "/usr/local/lib/python3.10/dist-packages/ipykernel/ipkernel.py:283: DeprecationWarning:\n",
            "\n",
            "`should_run_async` will not call `transform_cell` automatically in the future. Please pass the result to `transformed_cell` argument and any exception that happen during thetransform in `preprocessing_exc_tuple` in IPython 7.17 and above.\n",
            "\n"
          ]
        },
        {
          "output_type": "display_data",
          "data": {
            "text/plain": [
              "<Figure size 800x800 with 1 Axes>"
            ],
            "image/png": "[encoded data removed]"
          },
          "metadata": {}
        }
      ],
      "source": [
        "# Show graph\n",
        "end=16; start=8; step=1;\n",
        "x = range(start, end, step)\n",
        "ax = plt.subplots(figsize=(8,8))\n",
        "plt.plot(x, coherence_values)\n",
        "plt.xlabel(\"Number of Topics\", fontsize=14)\n",
        "plt.ylabel(\"Coherence score\", fontsize=14)\n",
        "plt.title('Coherence Scores for Topic Size', fontsize=18)\n",
        "plt.show();"
      ]
    },
    {
      "cell_type": "markdown",
      "metadata": {
        "id": "ejn7ciVj4Q75"
      },
      "source": [
        "10 topics has the highest coherence score and will be chosen to build the final model"
      ]
    },
    {
      "cell_type": "code",
      "execution_count": null,
      "metadata": {
        "colab": {
          "base_uri": "https://localhost:8080/"
        },
        "id": "ej9zKmBN4Q75",
        "outputId": "f3d1db59-69a2-4a06-8185-b9fa615a47bd"
      },
      "outputs": [
        {
          "output_type": "stream",
          "name": "stderr",
          "text": [
            "/usr/local/lib/python3.10/dist-packages/ipykernel/ipkernel.py:283: DeprecationWarning:\n",
            "\n",
            "`should_run_async` will not call `transform_cell` automatically in the future. Please pass the result to `transformed_cell` argument and any exception that happen during thetransform in `preprocessing_exc_tuple` in IPython 7.17 and above.\n",
            "\n"
          ]
        }
      ],
      "source": [
        "lda_model = gensim.models.LdaMulticore(corpus=corpus,\n",
        "                                       id2word=id2word,\n",
        "                                       num_topics=10,\n",
        "                                       random_state=123,\n",
        "                                       chunksize=100,\n",
        "                                       passes=500,\n",
        "                                       per_word_topics=True)"
      ]
    },
    {
      "cell_type": "code",
      "execution_count": null,
      "metadata": {
        "scrolled": false,
        "colab": {
          "base_uri": "https://localhost:8080/"
        },
        "id": "QWXbFXV04Q76",
        "outputId": "66d4275f-68d2-44f1-b87e-e07327ed1a0e"
      },
      "outputs": [
        {
          "output_type": "stream",
          "name": "stderr",
          "text": [
            "/usr/local/lib/python3.10/dist-packages/ipykernel/ipkernel.py:283: DeprecationWarning:\n",
            "\n",
            "`should_run_async` will not call `transform_cell` automatically in the future. Please pass the result to `transformed_cell` argument and any exception that happen during thetransform in `preprocessing_exc_tuple` in IPython 7.17 and above.\n",
            "\n"
          ]
        },
        {
          "output_type": "stream",
          "name": "stdout",
          "text": [
            "\n",
            "Coherence Score:  0.4082193254059394\n"
          ]
        }
      ],
      "source": [
        "# Compute Coherence Score\n",
        "coherence_model_lda = CoherenceModel(model=lda_model, texts=texts, dictionary=id2word, coherence='c_v')\n",
        "coherence_lda = coherence_model_lda.get_coherence()\n",
        "print('\\nCoherence Score: ', coherence_lda)"
      ]
    },
    {
      "cell_type": "markdown",
      "metadata": {
        "id": "ynl3X6lo4Q76"
      },
      "source": [
        "The top 10 keywords for each topic are as follows."
      ]
    },
    {
      "cell_type": "code",
      "execution_count": null,
      "metadata": {
        "scrolled": true,
        "colab": {
          "base_uri": "https://localhost:8080/"
        },
        "id": "DduKjt5O4Q76",
        "outputId": "e037715b-de5d-485a-fafc-49b0778e0337"
      },
      "outputs": [
        {
          "output_type": "stream",
          "name": "stdout",
          "text": [
            "[(0,\n",
            "  '0.057*\"reporting\" + 0.057*\"intelligence\" + 0.055*\"report\" + '\n",
            "  '0.039*\"engineering\" + 0.036*\"project\" + 0.035*\"development\" + '\n",
            "  '0.034*\"operation\" + 0.027*\"manager\" + 0.027*\"saudi\" + 0.020*\"company\"'),\n",
            " (1,\n",
            "  '0.037*\"bi\" + 0.033*\"analytics\" + 0.033*\"power\" + 0.032*\"intelligence\" + '\n",
            "  '0.030*\"visualization\" + 0.030*\"tool\" + 0.028*\"consulting\" + 0.024*\"analyst\" '\n",
            "  '+ 0.024*\"analytical\" + 0.022*\"sql\"'),\n",
            " (2,\n",
            "  '0.036*\"system\" + 0.031*\"database\" + 0.030*\"design\" + 0.025*\"including\" + '\n",
            "  '0.023*\"model\" + 0.021*\"solution\" + 0.018*\"knowledge\" + 0.017*\"information\" '\n",
            "  '+ 0.017*\"platform\" + 0.017*\"technical\"'),\n",
            " (3,\n",
            "  '0.045*\"product\" + 0.020*\"customer\" + 0.020*\"working\" + 0.017*\"status\" + '\n",
            "  '0.017*\"environment\" + 0.016*\"employee\" + 0.015*\"role\" + 0.015*\"different\" + '\n",
            "  '0.015*\"detail\" + 0.014*\"ability\"'),\n",
            " (4,\n",
            "  '0.099*\"customer\" + 0.038*\"test\" + 0.030*\"testing\" + 0.028*\"solution\" + '\n",
            "  '0.026*\"product\" + 0.023*\"engineering\" + 0.022*\"tool\" + 0.021*\"model\" + '\n",
            "  '0.021*\"learning\" + 0.019*\"quality\"'),\n",
            " (5,\n",
            "  '0.075*\"job\" + 0.046*\"support\" + 0.040*\"quality\" + 0.028*\"scientist\" + '\n",
            "  '0.024*\"required\" + 0.024*\"analyst\" + 0.021*\"report\" + 0.020*\"understanding\" '\n",
            "  '+ 0.019*\"product\" + 0.019*\"learn\"'),\n",
            " (6,\n",
            "  '0.057*\"science\" + 0.052*\"learning\" + 0.043*\"machine\" + 0.031*\"model\" + '\n",
            "  '0.025*\"language\" + 0.025*\"company\" + 0.025*\"technique\" + 0.023*\"computer\" + '\n",
            "  '0.020*\"eg\" + 0.019*\"mining\"'),\n",
            " (7,\n",
            "  '0.062*\"client\" + 0.024*\"solution\" + 0.022*\"strategy\" + 0.020*\"complex\" + '\n",
            "  '0.020*\"help\" + 0.019*\"service\" + 0.016*\"role\" + 0.016*\"world\" + '\n",
            "  '0.015*\"build\" + 0.015*\"within\"'),\n",
            " (8,\n",
            "  '0.026*\"project\" + 0.023*\"process\" + 0.022*\"policy\" + 0.016*\"analytics\" + '\n",
            "  '0.016*\"information\" + 0.016*\"ensure\" + 0.015*\"related\" + 0.014*\"across\" + '\n",
            "  '0.014*\"quality\" + 0.013*\"stakeholder\"'),\n",
            " (9,\n",
            "  '0.032*\"join\" + 0.028*\"world\" + 0.023*\"opportunity\" + 0.022*\"global\" + '\n",
            "  '0.021*\"program\" + 0.017*\"energy\" + 0.016*\"people\" + 0.016*\"technical\" + '\n",
            "  '0.015*\"make\" + 0.015*\"research\"')]\n"
          ]
        },
        {
          "output_type": "stream",
          "name": "stderr",
          "text": [
            "/usr/local/lib/python3.10/dist-packages/ipykernel/ipkernel.py:283: DeprecationWarning:\n",
            "\n",
            "`should_run_async` will not call `transform_cell` automatically in the future. Please pass the result to `transformed_cell` argument and any exception that happen during thetransform in `preprocessing_exc_tuple` in IPython 7.17 and above.\n",
            "\n"
          ]
        }
      ],
      "source": [
        "from pprint import pprint\n",
        "# Print the Keyword in the 10 topics\n",
        "pprint(lda_model.print_topics())\n",
        "\n",
        "doc_lda = lda_model[corpus]\n"
      ]
    },
    {
      "cell_type": "markdown",
      "metadata": {
        "id": "dJ20x0VG4Q77"
      },
      "source": [
        "There needs to be some human input in terms of naming the topics. For these 9 that is quite straightforward as it's evident in the majority of the topics that the keywords are connected by 1 or 2 terms. Obviously, the topics related to equal opportunities and referral scheme aren't particularly helpful, but this information is included in most adverts. A possible improvement would include words associated with these topics in the stop words."
      ]
    },
    {
      "cell_type": "code",
      "execution_count": null,
      "metadata": {
        "colab": {
          "base_uri": "https://localhost:8080/"
        },
        "id": "W36XD8tZ4Q77",
        "outputId": "584a0069-f7e5-47bb-dc01-91d6e1bfc5d9"
      },
      "outputs": [
        {
          "output_type": "stream",
          "name": "stderr",
          "text": [
            "/usr/local/lib/python3.10/dist-packages/ipykernel/ipkernel.py:283: DeprecationWarning:\n",
            "\n",
            "`should_run_async` will not call `transform_cell` automatically in the future. Please pass the result to `transformed_cell` argument and any exception that happen during thetransform in `preprocessing_exc_tuple` in IPython 7.17 and above.\n",
            "\n"
          ]
        }
      ],
      "source": [
        "lda_dict = {0:'Project management',\n",
        "            1:'Supporting clients',\n",
        "            2:'Personal Requirment',\n",
        "            3:'Data Base',\n",
        "            4:'Analytics & Statistical Modelling',\n",
        "            5:'Life cycle Phases',\n",
        "            6:'Skills Projects',\n",
        "            7:'Service',\n",
        "            8:'none',\n",
        "            9:'Release Requirment',\n",
        "           '-':'-'}"
      ]
    },
    {
      "cell_type": "markdown",
      "metadata": {
        "id": "Yt69KJto4Q78"
      },
      "source": [
        "### Top 3 topics for each document"
      ]
    },
    {
      "cell_type": "markdown",
      "metadata": {
        "id": "NEpYSiX84Q78"
      },
      "source": [
        "In LDA models, each document is composed of multiple topics, although 1 or 2 will be dominant. For this work, the top 3 topics in each document will be highlighted."
      ]
    },
    {
      "cell_type": "code",
      "execution_count": null,
      "metadata": {
        "scrolled": true,
        "colab": {
          "base_uri": "https://localhost:8080/",
          "height": 470
        },
        "id": "mLwhwZRp4Q78",
        "outputId": "78b397d0-17ff-49b1-8394-ea488b52a135"
      },
      "outputs": [
        {
          "output_type": "stream",
          "name": "stderr",
          "text": [
            "/usr/local/lib/python3.10/dist-packages/ipykernel/ipkernel.py:283: DeprecationWarning:\n",
            "\n",
            "`should_run_async` will not call `transform_cell` automatically in the future. Please pass the result to `transformed_cell` argument and any exception that happen during thetransform in `preprocessing_exc_tuple` in IPython 7.17 and above.\n",
            "\n"
          ]
        },
        {
          "output_type": "error",
          "ename": "KeyError",
          "evalue": "ignored",
          "traceback": [
            "\u001b[0;31m---------------------------------------------------------------------------\u001b[0m",
            "\u001b[0;31mKeyError\u001b[0m                                  Traceback (most recent call last)",
            "\u001b[0;32m<ipython-input-200-6807d00dd768>\u001b[0m in \u001b[0;36m<cell line: 40>\u001b[0;34m()\u001b[0m\n\u001b[1;32m     38\u001b[0m \u001b[0;34m\u001b[0m\u001b[0m\n\u001b[1;32m     39\u001b[0m \u001b[0;31m#Combine the top 3 into one column so it's easier to analyse\u001b[0m\u001b[0;34m\u001b[0m\u001b[0;34m\u001b[0m\u001b[0m\n\u001b[0;32m---> 40\u001b[0;31m \u001b[0mdf\u001b[0m\u001b[0;34m[\u001b[0m\u001b[0;34m'Top 3 Topics'\u001b[0m\u001b[0;34m]\u001b[0m \u001b[0;34m=\u001b[0m \u001b[0mdf\u001b[0m\u001b[0;34m[\u001b[0m\u001b[0;34m'1st Topic'\u001b[0m\u001b[0;34m]\u001b[0m\u001b[0;34m.\u001b[0m\u001b[0mapply\u001b[0m\u001b[0;34m(\u001b[0m\u001b[0;32mlambda\u001b[0m \u001b[0mx\u001b[0m\u001b[0;34m:\u001b[0m \u001b[0mlda_dict\u001b[0m\u001b[0;34m[\u001b[0m\u001b[0mx\u001b[0m\u001b[0;34m]\u001b[0m\u001b[0;34m.\u001b[0m\u001b[0mjoin\u001b[0m\u001b[0;34m(\u001b[0m\u001b[0;34m\" ,\"\u001b[0m\u001b[0;34m)\u001b[0m \u001b[0;34m+\u001b[0m \u001b[0;34m\" \"\u001b[0m\u001b[0;34m)\u001b[0m\u001b[0;34m.\u001b[0m\u001b[0mastype\u001b[0m\u001b[0;34m(\u001b[0m\u001b[0mstr\u001b[0m\u001b[0;34m)\u001b[0m \u001b[0;34m+\u001b[0m \u001b[0mdf\u001b[0m\u001b[0;34m[\u001b[0m\u001b[0;34m'2nd Topic'\u001b[0m\u001b[0;34m]\u001b[0m\u001b[0;34m.\u001b[0m\u001b[0mapply\u001b[0m\u001b[0;34m(\u001b[0m\u001b[0;32mlambda\u001b[0m \u001b[0mx\u001b[0m\u001b[0;34m:\u001b[0m \u001b[0mlda_dict\u001b[0m\u001b[0;34m[\u001b[0m\u001b[0mx\u001b[0m\u001b[0;34m]\u001b[0m\u001b[0;34m.\u001b[0m\u001b[0mjoin\u001b[0m\u001b[0;34m(\u001b[0m\u001b[0;34m\" ,\"\u001b[0m\u001b[0;34m)\u001b[0m \u001b[0;34m+\u001b[0m \u001b[0;34m\" \"\u001b[0m\u001b[0;34m)\u001b[0m\u001b[0;34m.\u001b[0m\u001b[0mastype\u001b[0m\u001b[0;34m(\u001b[0m\u001b[0mstr\u001b[0m\u001b[0;34m)\u001b[0m \u001b[0;34m+\u001b[0m\u001b[0;31m \u001b[0m\u001b[0;31m\\\u001b[0m\u001b[0;34m\u001b[0m\u001b[0;34m\u001b[0m\u001b[0m\n\u001b[0m\u001b[1;32m     41\u001b[0m \u001b[0mdf\u001b[0m\u001b[0;34m[\u001b[0m\u001b[0;34m'3rd Topic'\u001b[0m\u001b[0;34m]\u001b[0m\u001b[0;34m.\u001b[0m\u001b[0mapply\u001b[0m\u001b[0;34m(\u001b[0m\u001b[0;32mlambda\u001b[0m \u001b[0mx\u001b[0m\u001b[0;34m:\u001b[0m \u001b[0mlda_dict\u001b[0m\u001b[0;34m[\u001b[0m\u001b[0mx\u001b[0m\u001b[0;34m]\u001b[0m\u001b[0;34m)\u001b[0m\u001b[0;34m.\u001b[0m\u001b[0mastype\u001b[0m\u001b[0;34m(\u001b[0m\u001b[0mstr\u001b[0m\u001b[0;34m)\u001b[0m\u001b[0;34m\u001b[0m\u001b[0;34m\u001b[0m\u001b[0m\n",
            "\u001b[0;32m/usr/local/lib/python3.10/dist-packages/pandas/core/series.py\u001b[0m in \u001b[0;36mapply\u001b[0;34m(self, func, convert_dtype, args, **kwargs)\u001b[0m\n\u001b[1;32m   4769\u001b[0m         \u001b[0mdtype\u001b[0m\u001b[0;34m:\u001b[0m \u001b[0mfloat64\u001b[0m\u001b[0;34m\u001b[0m\u001b[0;34m\u001b[0m\u001b[0m\n\u001b[1;32m   4770\u001b[0m         \"\"\"\n\u001b[0;32m-> 4771\u001b[0;31m         \u001b[0;32mreturn\u001b[0m \u001b[0mSeriesApply\u001b[0m\u001b[0;34m(\u001b[0m\u001b[0mself\u001b[0m\u001b[0;34m,\u001b[0m \u001b[0mfunc\u001b[0m\u001b[0;34m,\u001b[0m \u001b[0mconvert_dtype\u001b[0m\u001b[0;34m,\u001b[0m \u001b[0margs\u001b[0m\u001b[0;34m,\u001b[0m \u001b[0mkwargs\u001b[0m\u001b[0;34m)\u001b[0m\u001b[0;34m.\u001b[0m\u001b[0mapply\u001b[0m\u001b[0;34m(\u001b[0m\u001b[0;34m)\u001b[0m\u001b[0;34m\u001b[0m\u001b[0;34m\u001b[0m\u001b[0m\n\u001b[0m\u001b[1;32m   4772\u001b[0m \u001b[0;34m\u001b[0m\u001b[0m\n\u001b[1;32m   4773\u001b[0m     def _reduce(\n",
            "\u001b[0;32m/usr/local/lib/python3.10/dist-packages/pandas/core/apply.py\u001b[0m in \u001b[0;36mapply\u001b[0;34m(self)\u001b[0m\n\u001b[1;32m   1121\u001b[0m \u001b[0;34m\u001b[0m\u001b[0m\n\u001b[1;32m   1122\u001b[0m         \u001b[0;31m# self.f is Callable\u001b[0m\u001b[0;34m\u001b[0m\u001b[0;34m\u001b[0m\u001b[0m\n\u001b[0;32m-> 1123\u001b[0;31m         \u001b[0;32mreturn\u001b[0m \u001b[0mself\u001b[0m\u001b[0;34m.\u001b[0m\u001b[0mapply_standard\u001b[0m\u001b[0;34m(\u001b[0m\u001b[0;34m)\u001b[0m\u001b[0;34m\u001b[0m\u001b[0;34m\u001b[0m\u001b[0m\n\u001b[0m\u001b[1;32m   1124\u001b[0m \u001b[0;34m\u001b[0m\u001b[0m\n\u001b[1;32m   1125\u001b[0m     \u001b[0;32mdef\u001b[0m \u001b[0magg\u001b[0m\u001b[0;34m(\u001b[0m\u001b[0mself\u001b[0m\u001b[0;34m)\u001b[0m\u001b[0;34m:\u001b[0m\u001b[0;34m\u001b[0m\u001b[0;34m\u001b[0m\u001b[0m\n",
            "\u001b[0;32m/usr/local/lib/python3.10/dist-packages/pandas/core/apply.py\u001b[0m in \u001b[0;36mapply_standard\u001b[0;34m(self)\u001b[0m\n\u001b[1;32m   1172\u001b[0m             \u001b[0;32melse\u001b[0m\u001b[0;34m:\u001b[0m\u001b[0;34m\u001b[0m\u001b[0;34m\u001b[0m\u001b[0m\n\u001b[1;32m   1173\u001b[0m                 \u001b[0mvalues\u001b[0m \u001b[0;34m=\u001b[0m \u001b[0mobj\u001b[0m\u001b[0;34m.\u001b[0m\u001b[0mastype\u001b[0m\u001b[0;34m(\u001b[0m\u001b[0mobject\u001b[0m\u001b[0;34m)\u001b[0m\u001b[0;34m.\u001b[0m\u001b[0m_values\u001b[0m\u001b[0;34m\u001b[0m\u001b[0;34m\u001b[0m\u001b[0m\n\u001b[0;32m-> 1174\u001b[0;31m                 mapped = lib.map_infer(\n\u001b[0m\u001b[1;32m   1175\u001b[0m                     \u001b[0mvalues\u001b[0m\u001b[0;34m,\u001b[0m\u001b[0;34m\u001b[0m\u001b[0;34m\u001b[0m\u001b[0m\n\u001b[1;32m   1176\u001b[0m                     \u001b[0mf\u001b[0m\u001b[0;34m,\u001b[0m\u001b[0;34m\u001b[0m\u001b[0;34m\u001b[0m\u001b[0m\n",
            "\u001b[0;32m/usr/local/lib/python3.10/dist-packages/pandas/_libs/lib.pyx\u001b[0m in \u001b[0;36mpandas._libs.lib.map_infer\u001b[0;34m()\u001b[0m\n",
            "\u001b[0;32m<ipython-input-200-6807d00dd768>\u001b[0m in \u001b[0;36m<lambda>\u001b[0;34m(x)\u001b[0m\n\u001b[1;32m     38\u001b[0m \u001b[0;34m\u001b[0m\u001b[0m\n\u001b[1;32m     39\u001b[0m \u001b[0;31m#Combine the top 3 into one column so it's easier to analyse\u001b[0m\u001b[0;34m\u001b[0m\u001b[0;34m\u001b[0m\u001b[0m\n\u001b[0;32m---> 40\u001b[0;31m \u001b[0mdf\u001b[0m\u001b[0;34m[\u001b[0m\u001b[0;34m'Top 3 Topics'\u001b[0m\u001b[0;34m]\u001b[0m \u001b[0;34m=\u001b[0m \u001b[0mdf\u001b[0m\u001b[0;34m[\u001b[0m\u001b[0;34m'1st Topic'\u001b[0m\u001b[0;34m]\u001b[0m\u001b[0;34m.\u001b[0m\u001b[0mapply\u001b[0m\u001b[0;34m(\u001b[0m\u001b[0;32mlambda\u001b[0m \u001b[0mx\u001b[0m\u001b[0;34m:\u001b[0m \u001b[0mlda_dict\u001b[0m\u001b[0;34m[\u001b[0m\u001b[0mx\u001b[0m\u001b[0;34m]\u001b[0m\u001b[0;34m.\u001b[0m\u001b[0mjoin\u001b[0m\u001b[0;34m(\u001b[0m\u001b[0;34m\" ,\"\u001b[0m\u001b[0;34m)\u001b[0m \u001b[0;34m+\u001b[0m \u001b[0;34m\" \"\u001b[0m\u001b[0;34m)\u001b[0m\u001b[0;34m.\u001b[0m\u001b[0mastype\u001b[0m\u001b[0;34m(\u001b[0m\u001b[0mstr\u001b[0m\u001b[0;34m)\u001b[0m \u001b[0;34m+\u001b[0m \u001b[0mdf\u001b[0m\u001b[0;34m[\u001b[0m\u001b[0;34m'2nd Topic'\u001b[0m\u001b[0;34m]\u001b[0m\u001b[0;34m.\u001b[0m\u001b[0mapply\u001b[0m\u001b[0;34m(\u001b[0m\u001b[0;32mlambda\u001b[0m \u001b[0mx\u001b[0m\u001b[0;34m:\u001b[0m \u001b[0mlda_dict\u001b[0m\u001b[0;34m[\u001b[0m\u001b[0mx\u001b[0m\u001b[0;34m]\u001b[0m\u001b[0;34m.\u001b[0m\u001b[0mjoin\u001b[0m\u001b[0;34m(\u001b[0m\u001b[0;34m\" ,\"\u001b[0m\u001b[0;34m)\u001b[0m \u001b[0;34m+\u001b[0m \u001b[0;34m\" \"\u001b[0m\u001b[0;34m)\u001b[0m\u001b[0;34m.\u001b[0m\u001b[0mastype\u001b[0m\u001b[0;34m(\u001b[0m\u001b[0mstr\u001b[0m\u001b[0;34m)\u001b[0m \u001b[0;34m+\u001b[0m\u001b[0;31m \u001b[0m\u001b[0;31m\\\u001b[0m\u001b[0;34m\u001b[0m\u001b[0;34m\u001b[0m\u001b[0m\n\u001b[0m\u001b[1;32m     41\u001b[0m \u001b[0mdf\u001b[0m\u001b[0;34m[\u001b[0m\u001b[0;34m'3rd Topic'\u001b[0m\u001b[0;34m]\u001b[0m\u001b[0;34m.\u001b[0m\u001b[0mapply\u001b[0m\u001b[0;34m(\u001b[0m\u001b[0;32mlambda\u001b[0m \u001b[0mx\u001b[0m\u001b[0;34m:\u001b[0m \u001b[0mlda_dict\u001b[0m\u001b[0;34m[\u001b[0m\u001b[0mx\u001b[0m\u001b[0;34m]\u001b[0m\u001b[0;34m)\u001b[0m\u001b[0;34m.\u001b[0m\u001b[0mastype\u001b[0m\u001b[0;34m(\u001b[0m\u001b[0mstr\u001b[0m\u001b[0;34m)\u001b[0m\u001b[0;34m\u001b[0m\u001b[0;34m\u001b[0m\u001b[0m\n",
            "\u001b[0;31mKeyError\u001b[0m: nan"
          ]
        }
      ],
      "source": [
        "topics_df1 = pd.DataFrame()\n",
        "topics_df2 = pd.DataFrame()\n",
        "topics_df3 = pd.DataFrame()\n",
        "\n",
        "for i, row_list in enumerate(lda_model[corpus]):\n",
        "    row = row_list[0] if lda_model.per_word_topics else row_list\n",
        "    row = sorted(row, key=lambda x: (x[1]), reverse=True)\n",
        "    for j, (topic_num, prop_topic) in enumerate(row):\n",
        "        if len(row) >= 3:\n",
        "            if j ==0:\n",
        "                topics_df1 = topics_df1.append(pd.Series([int(topic_num), prop_topic]), ignore_index=True)\n",
        "            elif j ==1:\n",
        "                topics_df2 = topics_df2.append(pd.Series([int(topic_num), prop_topic]), ignore_index=True)\n",
        "            elif j ==2:\n",
        "                topics_df3 = topics_df3.append(pd.Series([int(topic_num), prop_topic]), ignore_index=True)\n",
        "            else:\n",
        "                break\n",
        "        elif len(row) == 2:\n",
        "            if j ==0:\n",
        "                topics_df1 = topics_df1.append(pd.Series([int(topic_num), prop_topic]), ignore_index=True)\n",
        "            elif j ==1:\n",
        "                topics_df2 = topics_df2.append(pd.Series([int(topic_num), prop_topic]), ignore_index=True)\n",
        "                topics_df3 = topics_df3.append(pd.Series(['-', '-']), ignore_index=True)\n",
        "        elif len(row) == 1:\n",
        "                topics_df1 = topics_df1.append(pd.Series([int(topic_num), prop_topic]), ignore_index=True)\n",
        "                topics_df2 = topics_df2.append(pd.Series(['-', '-']), ignore_index=True)\n",
        "                topics_df3 = topics_df3.append(pd.Series(['-', '-']), ignore_index=True)\n",
        "\n",
        "\n",
        "topics_df1.rename(columns={0:'1st Topic', 1:'1st Topic Contribution'}, inplace=True)\n",
        "topics_df2.rename(columns={0:'2nd Topic', 1:'2nd Topic Contribution'}, inplace=True)\n",
        "topics_df3.rename(columns={0:'3rd Topic', 1:'3rd Topic Contribution'}, inplace=True)\n",
        "\n",
        "topics_comb = pd.concat([topics_df1, topics_df2, topics_df3],  axis=1, sort=False)\n",
        "\n",
        "#Join topics dataframe to original data\n",
        "df = pd.concat([df, topics_comb], axis=1, sort=False)\n",
        "\n",
        "#Combine the top 3 into one column so it's easier to analyse\n",
        "df['Top 3 Topics'] = df['1st Topic'].apply(lambda x: lda_dict[x].join(\" ,\") + \" \").astype(str) + df['2nd Topic'].apply(lambda x: lda_dict[x].join(\" ,\") + \" \").astype(str) + \\\n",
        "df['3rd Topic'].apply(lambda x: lda_dict[x]).astype(str)"
      ]
    },
    {
      "cell_type": "markdown",
      "metadata": {
        "id": "_cNVm2ow4Q79"
      },
      "source": [
        "pyLDAVis is the most commonly used and best way to visualise the information contained in a topic model."
      ]
    },
    {
      "cell_type": "code",
      "execution_count": null,
      "metadata": {
        "colab": {
          "base_uri": "https://localhost:8080/"
        },
        "id": "V21NCk2p4Q79",
        "outputId": "cf33ea2b-0b90-40f1-b092-1d01fc2361ff"
      },
      "outputs": [
        {
          "output_type": "stream",
          "name": "stderr",
          "text": [
            "/usr/local/lib/python3.10/dist-packages/ipykernel/ipkernel.py:283: DeprecationWarning:\n",
            "\n",
            "`should_run_async` will not call `transform_cell` automatically in the future. Please pass the result to `transformed_cell` argument and any exception that happen during thetransform in `preprocessing_exc_tuple` in IPython 7.17 and above.\n",
            "\n"
          ]
        },
        {
          "output_type": "stream",
          "name": "stdout",
          "text": [
            "Looking in indexes: https://pypi.org/simple, https://us-python.pkg.dev/colab-wheels/public/simple/\n",
            "Requirement already satisfied: pyLDAvis==2.1.2 in /usr/local/lib/python3.10/dist-packages (2.1.2)\n",
            "Requirement already satisfied: wheel>=0.23.0 in /usr/local/lib/python3.10/dist-packages (from pyLDAvis==2.1.2) (0.40.0)\n",
            "Requirement already satisfied: numpy>=1.9.2 in /usr/local/lib/python3.10/dist-packages (from pyLDAvis==2.1.2) (1.22.4)\n",
            "Requirement already satisfied: scipy>=0.18.0 in /usr/local/lib/python3.10/dist-packages (from pyLDAvis==2.1.2) (1.10.1)\n",
            "Requirement already satisfied: pandas>=0.17.0 in /usr/local/lib/python3.10/dist-packages (from pyLDAvis==2.1.2) (1.5.3)\n",
            "Requirement already satisfied: joblib>=0.8.4 in /usr/local/lib/python3.10/dist-packages (from pyLDAvis==2.1.2) (1.2.0)\n",
            "Requirement already satisfied: jinja2>=2.7.2 in /usr/local/lib/python3.10/dist-packages (from pyLDAvis==2.1.2) (3.1.2)\n",
            "Requirement already satisfied: numexpr in /usr/local/lib/python3.10/dist-packages (from pyLDAvis==2.1.2) (2.8.4)\n",
            "Requirement already satisfied: pytest in /usr/local/lib/python3.10/dist-packages (from pyLDAvis==2.1.2) (7.2.2)\n",
            "Requirement already satisfied: future in /usr/local/lib/python3.10/dist-packages (from pyLDAvis==2.1.2) (0.18.3)\n",
            "Requirement already satisfied: funcy in /usr/local/lib/python3.10/dist-packages (from pyLDAvis==2.1.2) (2.0)\n",
            "Requirement already satisfied: MarkupSafe>=2.0 in /usr/local/lib/python3.10/dist-packages (from jinja2>=2.7.2->pyLDAvis==2.1.2) (2.1.2)\n",
            "Requirement already satisfied: python-dateutil>=2.8.1 in /usr/local/lib/python3.10/dist-packages (from pandas>=0.17.0->pyLDAvis==2.1.2) (2.8.2)\n",
            "Requirement already satisfied: pytz>=2020.1 in /usr/local/lib/python3.10/dist-packages (from pandas>=0.17.0->pyLDAvis==2.1.2) (2022.7.1)\n",
            "Requirement already satisfied: attrs>=19.2.0 in /usr/local/lib/python3.10/dist-packages (from pytest->pyLDAvis==2.1.2) (23.1.0)\n",
            "Requirement already satisfied: iniconfig in /usr/local/lib/python3.10/dist-packages (from pytest->pyLDAvis==2.1.2) (2.0.0)\n",
            "Requirement already satisfied: packaging in /usr/local/lib/python3.10/dist-packages (from pytest->pyLDAvis==2.1.2) (23.1)\n",
            "Requirement already satisfied: pluggy<2.0,>=0.12 in /usr/local/lib/python3.10/dist-packages (from pytest->pyLDAvis==2.1.2) (1.0.0)\n",
            "Requirement already satisfied: exceptiongroup>=1.0.0rc8 in /usr/local/lib/python3.10/dist-packages (from pytest->pyLDAvis==2.1.2) (1.1.1)\n",
            "Requirement already satisfied: tomli>=1.0.0 in /usr/local/lib/python3.10/dist-packages (from pytest->pyLDAvis==2.1.2) (2.0.1)\n",
            "Requirement already satisfied: six>=1.5 in /usr/local/lib/python3.10/dist-packages (from python-dateutil>=2.8.1->pandas>=0.17.0->pyLDAvis==2.1.2) (1.16.0)\n"
          ]
        }
      ],
      "source": [
        "pip install pyLDAvis==2.1.2 # Google Cloab"
      ]
    },
    {
      "cell_type": "code",
      "execution_count": null,
      "metadata": {
        "scrolled": false,
        "colab": {
          "base_uri": "https://localhost:8080/",
          "height": 951
        },
        "id": "orMF_NsT4Q79",
        "outputId": "0930ffd8-01af-4236-d3b0-2060818afffc"
      },
      "outputs": [
        {
          "output_type": "stream",
          "name": "stderr",
          "text": [
            "/usr/local/lib/python3.10/dist-packages/ipykernel/ipkernel.py:283: DeprecationWarning:\n",
            "\n",
            "`should_run_async` will not call `transform_cell` automatically in the future. Please pass the result to `transformed_cell` argument and any exception that happen during thetransform in `preprocessing_exc_tuple` in IPython 7.17 and above.\n",
            "\n"
          ]
        },
        {
          "output_type": "execute_result",
          "data": {
            "text/plain": [
              "PreparedData(topic_coordinates=                       x                  y  topics  cluster  \\\n",
              "topic                                                          \n",
              "8      0.042190093971177  0.054611963394190       1        1   \n",
              "2     -0.077430951131069  0.079354621661891       2        1   \n",
              "6     -0.212790228215997 -0.174592237436164       3        1   \n",
              "3     -0.050568434349657  0.045259380317581       4        1   \n",
              "7      0.099015899851018 -0.006172091635630       5        1   \n",
              "9      0.213387579912704  0.026412261056674       6        1   \n",
              "1      0.053285285795038 -0.221868756443465       7        1   \n",
              "5     -0.097557948751876  0.170801205244161       8        1   \n",
              "4     -0.134808854129140  0.039625876720058       9        1   \n",
              "0      0.165277557047802 -0.013432222879296      10        1   \n",
              "\n",
              "                     Freq  \n",
              "topic                      \n",
              "8      20.418390251459424  \n",
              "2      16.891403492974455  \n",
              "6      11.081910170173712  \n",
              "3      10.842709683403736  \n",
              "7      10.481993766901148  \n",
              "9       9.343011620735945  \n",
              "1       7.512548400743084  \n",
              "5       6.047555827447044  \n",
              "4       3.708515904306324  \n",
              "0       3.671960881855123  , topic_info=                Term                 Freq                Total Category  \\\n",
              "205         customer  102.000000000000000  102.000000000000000  Default   \n",
              "217              job   90.000000000000000   90.000000000000000  Default   \n",
              "134           client  127.000000000000000  127.000000000000000  Default   \n",
              "46      intelligence  113.000000000000000  113.000000000000000  Default   \n",
              "77            report  100.000000000000000  100.000000000000000  Default   \n",
              "163         learning  112.000000000000000  112.000000000000000  Default   \n",
              "82           science  136.000000000000000  136.000000000000000  Default   \n",
              "73           project  135.000000000000000  135.000000000000000  Default   \n",
              "165          machine   82.000000000000000   82.000000000000000  Default   \n",
              "122          product  145.000000000000000  145.000000000000000  Default   \n",
              "75           quality  124.000000000000000  124.000000000000000  Default   \n",
              "78         reporting   64.000000000000000   64.000000000000000  Default   \n",
              "183      engineering  109.000000000000000  109.000000000000000  Default   \n",
              "60             model  137.000000000000000  137.000000000000000  Default   \n",
              "88           support  125.000000000000000  125.000000000000000  Default   \n",
              "89            system  162.000000000000000  162.000000000000000  Default   \n",
              "10                bi   92.000000000000000   92.000000000000000  Default   \n",
              "221        operation   50.000000000000000   50.000000000000000  Default   \n",
              "22       development  143.000000000000000  143.000000000000000  Default   \n",
              "126         solution  165.000000000000000  165.000000000000000  Default   \n",
              "233          testing   68.000000000000000   68.000000000000000  Default   \n",
              "4          analytics  146.000000000000000  146.000000000000000  Default   \n",
              "69             power   73.000000000000000   73.000000000000000  Default   \n",
              "159       consulting   54.000000000000000   54.000000000000000  Default   \n",
              "101          analyst   84.000000000000000   84.000000000000000  Default   \n",
              "160         database  127.000000000000000  127.000000000000000  Default   \n",
              "258            world   76.000000000000000   76.000000000000000  Default   \n",
              "93              tool  143.000000000000000  143.000000000000000  Default   \n",
              "116             join   58.000000000000000   58.000000000000000  Default   \n",
              "267        scientist   59.000000000000000   59.000000000000000  Default   \n",
              "145           policy   67.575326365620683   79.834639323026167   Topic1   \n",
              "72         procedure   29.400414115330758   39.485788162486458   Topic1   \n",
              "142           manage   32.424902131312528   46.472122605846643   Topic1   \n",
              "66            office   27.585366431284822   41.939031576732624   Topic1   \n",
              "210       functional   16.935838489230164   25.990033477446751   Topic1   \n",
              "108          control   28.507091003194819   43.814360542876848   Topic1   \n",
              "241        objective   16.644998166016350   25.656431360982829   Topic1   \n",
              "204       continuous   15.237613233259525   24.033351503154556   Topic1   \n",
              "123   recommendation   14.414199526386589   23.162299139112466   Topic1   \n",
              "253      operational   27.493832403019482   45.452830512152069   Topic1   \n",
              "73           project   79.240118782515751  135.010680529066320   Topic1   \n",
              "172          process   72.126887483085127  123.061542061295782   Topic1   \n",
              "229         standard   34.763294737655201   59.325978596541816   Topic1   \n",
              "36              good   18.153765324587752   31.077544239294511   Topic1   \n",
              "86         strategic   22.142509644894304   38.051576660397238   Topic1   \n",
              "76          relevant   29.780771088920940   51.244902571604584   Topic1   \n",
              "223              per   16.440084049423543   28.699840353988851   Topic1   \n",
              "110         delivery   28.963613697938897   51.298318743458232   Topic1   \n",
              "197          achieve   11.825560036020130   21.025893428299984   Topic1   \n",
              "6           bachelor   13.634269443704991   24.873830512204300   Topic1   \n",
              "27            ensure   48.200518269905274   88.142178430228952   Topic1   \n",
              "56            market   28.402227614251803   52.063979512819905   Topic1   \n",
              "218             lead   22.839258477754647   41.914268055352181   Topic1   \n",
              "2           activity   26.826846724060680   49.401834917872797   Topic1   \n",
              "35          function   18.329449749286724   33.887430299761256   Topic1   \n",
              "216    international   16.696288165517192   31.181855098706315   Topic1   \n",
              "40          identify   35.231625491718063   66.701569014080519   Topic1   \n",
              "221        operation   26.776977372709734   50.705350460243736   Topic1   \n",
              "71      presentation   22.673323035298896   43.759840728164683   Topic1   \n",
              "26           english   10.895172817572627   22.027717629299346   Topic1   \n",
              "85       stakeholder   39.242336655937549   82.104564788025968   Topic1   \n",
              "149          related   45.959615485994817  106.489383902425232   Topic1   \n",
              "1             across   42.632793988234326  105.020522739759357   Topic1   \n",
              "44       information   49.202049333329029  131.673003194247997   Topic1   \n",
              "4          analytics   49.204039391061279  146.409981515485953   Topic1   \n",
              "77            report   37.034333092340503  100.763507194341656   Topic1   \n",
              "75           quality   42.231564414903353  124.442707906006120   Topic1   \n",
              "70          practice   26.211383984886407   59.033452906695203   Topic1   \n",
              "124      requirement   31.726659317250018   90.937977394644747   Topic1   \n",
              "22       development   38.260435844074927  143.773327107224134   Topic1   \n",
              "68       performance   27.333560860424505   73.058091219710690   Topic1   \n",
              "67       opportunity   34.371121077328326  130.349844125663054   Topic1   \n",
              "106          complex   28.717648889006600   84.849234024493825   Topic1   \n",
              "89            system   35.482827143324371  162.286171721946175   Topic1   \n",
              "0            ability   30.395385465333636  121.920204265731144   Topic1   \n",
              "42         including   31.935155250180269  157.980653847707060   Topic1   \n",
              "49         knowledge   26.997410776227483  120.754916192902115   Topic1   \n",
              "184              etl   27.153005279355906   31.478405145138797   Topic2   \n",
              "193        warehouse   31.931881869392694   37.199900612536695   Topic2   \n",
              "240      integration   34.474535829891380   44.556109871456613   Topic2   \n",
              "181           design   76.704393676613449  113.992470024462051   Topic2   \n",
              "174            query   15.114031192444472   22.629548772383878   Topic2   \n",
              "199     architecture   40.274132509304117   60.543394935659677   Topic2   \n",
              "186         planning   23.659185174948519   36.412577047876965   Topic2   \n",
              "53          maintain   34.256303069881248   55.459452025974180   Topic2   \n",
              "160         database   78.147768892883462  127.966426848746906   Topic2   \n",
              "89            system   92.425564722940294  162.286171721946175   Topic2   \n",
              "170          partner   15.067614710947730   27.276272091442895   Topic2   \n",
              "155          various   16.046208937948919   29.290355266212959   Topic2   \n",
              "138   implementation   26.689175910629796   50.162645008113024   Topic2   \n",
              "13            change   15.421497410745253   29.037652953053524   Topic2   \n",
              "238        framework   15.310518233527819   29.119708762712559   Topic2   \n",
              "59         microsoft   14.716390601041425   29.117534640030204   Topic2   \n",
              "144         platform   42.785421056714817   84.977613073804605   Topic2   \n",
              "201              big   24.105518999996757   49.217801114000821   Topic2   \n",
              "234        transform   15.064816946552140   31.729814874460150   Topic2   \n",
              "237       enterprise   18.387743844372576   40.928602585577600   Topic2   \n",
              "161       developing   20.607830558083222   46.557786819102539   Topic2   \n",
              "216    international   13.753657509435985   31.181855098706315   Topic2   \n",
              "120             plan   15.086557907376207   34.410529890872404   Topic2   \n",
              "60             model   58.853924084928259  137.885581230329592   Topic2   \n",
              "189        structure   14.386740918364213   33.843679041772830   Topic2   \n",
              "127              sql   36.018678145429789   85.331842140366575   Topic2   \n",
              "42         including   64.084349380587383  157.980653847707060   Topic2   \n",
              "214            human   11.849304217490982   29.755080721928977   Topic2   \n",
              "220           member   10.580504979308234   27.194742979725429   Topic2   \n",
              "102            andor   11.832302326969648   31.635079089306313   Topic2   \n",
              "49         knowledge   45.071089889652548  120.754916192902115   Topic2   \n",
              "84            source   26.012821126098512   71.824700201364763   Topic2   \n",
              "130        technical   42.570359572163298  124.618494608144317   Topic2   \n",
              "44       information   44.566759550628369  131.673003194247997   Topic2   \n",
              "126         solution   53.366580275146170  165.276056226142686   Topic2   \n",
              "157      application   27.608924302320670   77.645597780664176   Topic2   \n",
              "183      engineering   35.710797972192921  109.855491150820399   Topic2   \n",
              "135         computer   27.869932405725965   88.541479939503205   Topic2   \n",
              "22       development   35.872028661694252  143.773327107224134   Topic2   \n",
              "172          process   32.717128213575826  123.061542061295782   Topic2   \n",
              "9               best   21.366455317583824   59.423795954582609   Topic2   \n",
              "191             user   22.961889980374725   74.374083164823546   Topic2   \n",
              "27            ensure   24.492552590925538   88.142178430228952   Topic2   \n",
              "248               eg   25.404095634486826   97.455528786186164   Topic2   \n",
              "125             role   23.206784768940452  133.820681936959943   Topic2   \n",
              "124      requirement   21.840117305567563   90.937977394644747   Topic2   \n",
              "270       predictive   22.192049736423982   23.031901452311864   Topic3   \n",
              "165          machine   71.321707224160775   82.243917030820597   Topic3   \n",
              "264           mining   31.887335015576671   37.639403697017130   Topic3   \n",
              "146      programming   25.303353163410737   31.530259812571860   Topic3   \n",
              "139         language   42.678261016220596   53.938071559880569   Topic3   \n",
              "163         learning   87.273277161518820  112.762106752995180   Topic3   \n",
              "82           science   95.280269157023255  136.137563913611103   Topic3   \n",
              "236       efficiency   18.155032016398621   27.252254878611403   Topic3   \n",
              "153        statistic   22.416884237132834   34.363702983468976   Topic3   \n",
              "232        technique   41.354245855196858   67.289118671712046   Topic3   \n",
              "148           python   23.731315965891497   39.318825019617528   Topic3   \n",
              "128      statistical   27.795971118346458   47.909278215725962   Topic3   \n",
              "164            least   14.097536343389898   24.963713498007490   Topic3   \n",
              "45           insight   29.843229494744580   66.705287055288480   Topic3   \n",
              "209         engineer   28.721393538122268   64.516221726676449   Topic3   \n",
              "135         computer   38.914853409002411   88.541479939503205   Topic3   \n",
              "100         advanced   16.703674267718366   39.893302273388564   Topic3   \n",
              "24             drive   20.774632009666227   53.065239679647121   Topic3   \n",
              "60             model   52.061727319072759  137.885581230329592   Topic3   \n",
              "29               etc   12.245566933325740   32.936173774289813   Topic3   \n",
              "202          company   42.223366390825120  117.235118505913093   Topic3   \n",
              "99          accuracy   10.079004190144907   29.020043738949052   Topic3   \n",
              "123   recommendation    8.006776602401407   23.162299139112466   Topic3   \n",
              "103            apply    8.296644212028305   24.409907664243541   Topic3   \n",
              "248               eg   32.751910444567166   97.455528786186164   Topic3   \n",
              "121          problem   16.005713208016580   47.975951204903502   Topic3   \n",
              "57            master   15.380395813539760   47.442845640973943   Topic3   \n",
              "52           looking   12.693072638795666   39.197301149813200   Topic3   \n",
              "5            analyze   12.029849960235202   38.234999028619526   Topic3   \n",
              "96             using   29.406028320188998   94.141427768707473   Topic3   \n",
              "185        implement   17.565337207359246   60.149872003465511   Topic3   \n",
              "3         analytical   22.496217575108314   81.318247260128473   Topic3   \n",
              "4          analytics   29.816917198144466  146.409981515485953   Topic3   \n",
              "65               new   21.627482561918075  100.019984154112350   Topic3   \n",
              "129         strategy   20.535127365657782   95.551240084567056   Topic3   \n",
              "67       opportunity   24.045529239438704  130.349844125663054   Topic3   \n",
              "126         solution   24.463054722278716  165.276056226142686   Topic3   \n",
              "22       development   21.527446512938688  143.773327107224134   Topic3   \n",
              "93              tool   21.277798102433380  143.123053250278190   Topic3   \n",
              "42         including   19.205789809841875  157.980653847707060   Topic3   \n",
              "176          service   18.286674662017724  110.625721602579873   Topic3   \n",
              "257           status   28.223161086116033   38.412012123269577   Topic4   \n",
              "247           detail   24.216479879227432   39.767548367810143   Topic4   \n",
              "252         national   16.667148028068198   27.721740561703626   Topic4   \n",
              "249           foster   14.906920357133590   24.887784740894901   Topic4   \n",
              "224           please   20.926471456511820   37.778129736974726   Topic4   \n",
              "141         location   15.967197313614179   28.932202314059317   Topic4   \n",
              "226            pride   10.890053195448138   19.848347476912554   Topic4   \n",
              "255       prioritize   12.566039049675677   24.552526520032337   Topic4   \n",
              "74     qualification   12.068733095446616   23.708087117295843   Topic4   \n",
              "207         employee   26.656625377805700   52.897540665412734   Topic4   \n",
              "122          product   73.211023242642526  145.775356443653351   Topic4   \n",
              "251       innovation   16.149423586790963   33.369338605551306   Topic4   \n",
              "246          culture   16.241848527752744   33.767706775958857   Topic4   \n",
              "7         background   16.770259822353573   35.213249753166856   Topic4   \n",
              "198           always   14.094285799718534   30.045423570570350   Topic4   \n",
              "15     collaboration   21.086693318494028   45.037426675615563   Topic4   \n",
              "21        department   17.132748479971198   40.804010111444562   Topic4   \n",
              "242          privacy    9.931949612080109   23.821720938097869   Topic4   \n",
              "23         different   24.350467180871540   59.783901205490913   Topic4   \n",
              "238        framework   10.848360265180332   29.119708762712559   Topic4   \n",
              "245        challenge   12.005309110192425   33.638504470743669   Topic4   \n",
              "54            making    9.790910025690595   29.030285163624153   Topic4   \n",
              "8              based   22.164336793407870   65.813401142494101   Topic4   \n",
              "175           riyadh   11.354306718995691   33.730172036226698   Topic4   \n",
              "19          decision   18.220608452274984   54.704221495919192   Topic4   \n",
              "170          partner    8.989217352251467   27.276272091442895   Topic4   \n",
              "182           enable    9.956907492026877   30.425610677994669   Topic4   \n",
              "205         customer   33.590084164780102  102.740023317710623   Topic4   \n",
              "169             part   20.007873953746063   61.331913209338907   Topic4   \n",
              "11             build   20.211544181534155   64.205948961612080   Topic4   \n",
              "28       environment   27.863299091504491  107.088124674993296   Topic4   \n",
              "97           working   32.763668789361027  134.574370367095298   Topic4   \n",
              "144         platform   20.830144699282279   84.977613073804605   Topic4   \n",
              "233          testing   17.527955890440779   68.336934166112869   Topic4   \n",
              "248               eg   21.603455668088799   97.455528786186164   Topic4   \n",
              "125             role   24.981132022891799  133.820681936959943   Topic4   \n",
              "202          company   22.874015323762329  117.235118505913093   Topic4   \n",
              "0            ability   23.315934576109889  121.920204265731144   Topic4   \n",
              "93              tool   22.828314441715765  143.123053250278190   Topic4   \n",
              "157      application   18.271868086264661   77.645597780664176   Topic4   \n",
              "243    understanding   18.035279051639847   82.101310198783807   Topic4   \n",
              "149          related   19.167604458099550  106.489383902425232   Topic4   \n",
              "183      engineering   18.491959539229743  109.855491150820399   Topic4   \n",
              "101          analyst   17.310923278174062   84.141949593535472   Topic4   \n",
              "191             user   16.485821234258033   74.374083164823546   Topic4   \n",
              "134           client   98.470766212620177  127.536459622553494   Topic5   \n",
              "113            focus   17.764657274217885   25.928858910438539   Topic5   \n",
              "115       innovative   16.540594868264659   31.487033621024896   Topic5   \n",
              "245        challenge   15.883616950246164   33.638504470743669   Topic5   \n",
              "213       governance   20.912229445811739   44.851438092358926   Topic5   \n",
              "259            youll   19.477941310558663   42.036287667124284   Topic5   \n",
              "179            value   23.171997330846175   55.211380000658032   Topic5   \n",
              "20           deliver   14.057730652460997   35.247996315012912   Topic5   \n",
              "159       consulting   21.778534011196747   54.689383237394132   Topic5   \n",
              "37              help   31.982620862040051   81.124185714369148   Topic5   \n",
              "106          complex   32.444146635170718   84.849234024493825   Topic5   \n",
              "11             build   24.451370253437407   64.205948961612080   Topic5   \n",
              "271            issue   19.226766754354006   51.555229707865728   Topic5   \n",
              "129         strategy   34.853718695669592   95.551240084567056   Topic5   \n",
              "272         feedback    8.219548023624126   22.913070255337345   Topic5   \n",
              "119         managing   20.978358472150088   58.906483318642813   Topic5   \n",
              "234        transform   11.231549269210555   31.729814874460150   Topic5   \n",
              "187     relationship   13.340202740330898   37.925962798118420   Topic5   \n",
              "121          problem   16.707841823765882   47.975951204903502   Topic5   \n",
              "133         building   14.272831206956063   41.793563470771467   Topic5   \n",
              "258            world   25.671325523202540   76.892482052908662   Topic5   \n",
              "114           growth   10.672026517995960   32.495249180084272   Topic5   \n",
              "194           within   23.737446050665735   73.045383223303745   Topic5   \n",
              "104             area   13.591011167932155   42.277957779189080   Topic5   \n",
              "239           impact   16.050745799746291   50.761500945484805   Topic5   \n",
              "17            create   13.506252396246015   44.671513800504570   Topic5   \n",
              "197          achieve    6.268534322978399   21.025893428299984   Topic5   \n",
              "203      competitive    8.979370432909009   30.347879337257091   Topic5   \n",
              "43          industry   15.924419620974611   53.973906248372792   Topic5   \n",
              "173     professional   19.228919236223973   69.595648829705254   Topic5   \n",
              "176          service   30.195647538965801  110.625721602579873   Topic5   \n",
              "126         solution   38.668324034950203  165.276056226142686   Topic5   \n",
              "143     organization   20.355589957348887   79.816402253082884   Topic5   \n",
              "254           people   17.893156603409722   68.795615103154830   Topic5   \n",
              "156             well   19.504224324777436   78.496605794882228   Topic5   \n",
              "125             role   26.082579476966938  133.820681936959943   Topic5   \n",
              "97           working   22.772706038667732  134.574370367095298   Topic5   \n",
              "1             across   19.658913659712187  105.020522739759357   Topic5   \n",
              "75           quality   19.959645493976488  124.442707906006120   Topic5   \n",
              "147          provide   16.339405724373623   69.511923647208945   Topic5   \n",
              "44       information   16.594685940441355  131.673003194247997   Topic5   \n",
              "4          analytics   16.049631174360950  146.409981515485953   Topic5   \n",
              "116             join   45.830185012279451   58.553834642392168   Topic6   \n",
              "260          benefit   21.485245814436649   30.468364566259829   Topic6   \n",
              "208           energy   24.717799935406735   43.055927472923614   Topic6   \n",
              "137           global   30.844143888230011   54.558386242846559   Topic6   \n",
              "211           future   19.018841298179989   33.894911993892265   Topic6   \n",
              "269             grow   13.425972343723052   24.099325371719068   Topic6   \n",
              "266          program   30.089834808510851   54.950104043216626   Topic6   \n",
              "32         expertise   17.290237816960005   32.905856151393515   Topic6   \n",
              "262           career   17.725486988676312   33.872937797806550   Topic6   \n",
              "258            world   39.383465245141444   76.892482052908662   Topic6   \n",
              "265            offer   14.253748472834287   30.015819476988007   Topic6   \n",
              "92              time   15.261220820176456   32.641864232781984   Topic6   \n",
              "261            bring   11.965647945930598   25.815675966178379   Topic6   \n",
              "80          research   21.503863256937077   46.822694259510463   Topic6   \n",
              "162          diverse   18.926177807510264   41.435485219810360   Topic6   \n",
              "215   infrastructure   19.521538563817849   43.008013500394974   Topic6   \n",
              "250             idea   11.746199513924182   27.151341954432748   Topic6   \n",
              "166      mathematics    9.861440062486421   22.816710016411669   Topic6   \n",
              "168              one   19.840830071331592   50.035978644728253   Topic6   \n",
              "203      competitive   11.820095548773926   30.347879337257091   Topic6   \n",
              "180             also   13.637921425658083   35.448856391273949   Topic6   \n",
              "114           growth   12.078168462846545   32.495249180084272   Topic6   \n",
              "31            expert   11.902992382796906   32.274602532997669   Topic6   \n",
              "219             make   21.841666934446302   60.564762677177590   Topic6   \n",
              "117          leading   16.501777020728706   46.300789733305486   Topic6   \n",
              "103            apply    8.582362678513450   24.409907664243541   Topic6   \n",
              "267        scientist   20.292342529156386   59.714108906931067   Topic6   \n",
              "154       successful    8.794161089175772   25.908608809645710   Topic6   \n",
              "254           people   23.022230966240098   68.795615103154830   Topic6   \n",
              "7         background   11.579216266572287   35.213249753166856   Topic6   \n",
              "239           impact   15.699214972459341   50.761500945484805   Topic6   \n",
              "173     professional   20.234451862777998   69.595648829705254   Topic6   \n",
              "67       opportunity   32.109758892679331  130.349844125663054   Topic6   \n",
              "37              help   21.308830150641221   81.124185714369148   Topic6   \n",
              "69             power   19.367719643209966   73.039293638595595   Topic6   \n",
              "68       performance   19.061447712745931   73.058091219710690   Topic6   \n",
              "64              need   19.025015530595315   73.356800125599619   Topic6   \n",
              "9               best   16.952731534277266   59.423795954582609   Topic6   \n",
              "130        technical   22.555484261042707  124.618494608144317   Topic6   \n",
              "207         employee   15.660290463754031   52.897540665412734   Topic6   \n",
              "28       environment   19.416652935323413  107.088124674993296   Topic6   \n",
              "88           support   18.317850110405445  125.557461472041538   Topic6   \n",
              "97           working   15.395798558692078  134.574370367095298   Topic6   \n",
              "90           tableau   23.728881054264736   33.444868714634779   Topic7   \n",
              "132    visualization   33.835583815977458   55.866861115566799   Topic7   \n",
              "159       consulting   32.160595561871993   54.689383237394132   Topic7   \n",
              "69             power   37.064480201452227   73.039293638595595   Topic7   \n",
              "63              must   17.090019367596948   36.077378430228535   Topic7   \n",
              "59         microsoft   13.668884797531559   29.117534640030204   Topic7   \n",
              "10                bi   42.433728471318013   92.360377060639834   Topic7   \n",
              "18         dashboard   17.381568393209051   37.889586164690719   Topic7   \n",
              "154       successful   10.731793497072752   25.908608809645710   Topic7   \n",
              "158       collection   12.210228648203595   30.586881636591144   Topic7   \n",
              "62          multiple   13.414412538739905   36.808514867898062   Topic7   \n",
              "3         analytical   27.013714780418422   81.318247260128473   Topic7   \n",
              "46      intelligence   36.845784308624246  113.424942411097277   Topic7   \n",
              "101          analyst   27.061999965689516   84.141949593535472   Topic7   \n",
              "45           insight   20.988105843117477   66.705287055288480   Topic7   \n",
              "5            analyze   11.711752939470536   38.234999028619526   Topic7   \n",
              "34             field   16.392075499452798   53.724177740691289   Topic7   \n",
              "127              sql   24.699777898340063   85.331842140366575   Topic7   \n",
              "54            making    8.092794492281632   29.030285163624153   Topic7   \n",
              "128      statistical   13.264197723089698   47.909278215725962   Topic7   \n",
              "94             trend   10.404175012708262   38.364816194697745   Topic7   \n",
              "19          decision   14.818479362597687   54.704221495919192   Topic7   \n",
              "256         resource    9.440689077990841   35.255512295134331   Topic7   \n",
              "98           written    9.538850825985101   36.386825575224336   Topic7   \n",
              "206          digital   10.949706398335220   42.750521901286454   Topic7   \n",
              "4          analytics   37.161274888496969  146.409981515485953   Topic7   \n",
              "24             drive   13.311672406280817   53.065239679647121   Topic7   \n",
              "109  crossfunctional    5.268368800471498   22.106448812332712   Topic7   \n",
              "195          writing    6.625322810213033   28.088063387982508   Topic7   \n",
              "93              tool   33.671599987838043  143.123053250278190   Topic7   \n",
              "12         candidate   12.365604859605925   52.683910915498416   Topic7   \n",
              "78         reporting   15.041893308656237   64.521655028338003   Topic7   \n",
              "96             using   15.697975696656629   94.141427768707473   Topic7   \n",
              "134           client   16.654515226471897  127.536459622553494   Topic7   \n",
              "144         platform   13.627832761371065   84.977613073804605   Topic7   \n",
              "124      requirement   13.760065223432234   90.937977394644747   Topic7   \n",
              "0            ability   14.970742653478748  121.920204265731144   Topic7   \n",
              "49         knowledge   14.180432233021842  120.754916192902115   Topic7   \n",
              "77            report   13.530039231031941  100.763507194341656   Topic7   \n",
              "88           support   13.546965604104248  125.557461472041538   Topic7   \n",
              "73           project   13.068572570929881  135.010680529066320   Topic7   \n",
              "217              job   68.683642690498672   90.643169783168744   Topic8   \n",
              "81    responsibility   13.822961886803446   26.843258235366633   Topic8   \n",
              "107          contact   10.781866116394454   22.390979484915878   Topic8   \n",
              "188              set   11.338016924260211   25.546079166600578   Topic8   \n",
              "267        scientist   25.215247086686222   59.714108906931067   Topic8   \n",
              "51             learn   16.978691968493703   42.338417932159324   Topic8   \n",
              "79          required   22.187219891809338   63.820489745373337   Topic8   \n",
              "231             take    9.637281039161421   28.218642804985258   Topic8   \n",
              "88           support   42.268088294205668  125.557461472041538   Topic8   \n",
              "220           member    9.134004173466753   27.194742979725429   Topic8   \n",
              "108          control   14.568338309155388   43.814360542876848   Topic8   \n",
              "102            andor   10.264748979317320   31.635079089306313   Topic8   \n",
              "166      mathematics    7.050303149727829   22.816710016411669   Topic8   \n",
              "75           quality   36.260304927886395  124.442707906006120   Topic8   \n",
              "196             able    7.197613158646481   25.218309918532288   Topic8   \n",
              "101          analyst   21.947670508856238   84.141949593535472   Topic8   \n",
              "263      improvement    9.147022495074829   35.581379471506580   Topic8   \n",
              "235             wide    5.229735931017775   21.634780276934617   Topic8   \n",
              "247           detail    9.488794321835181   39.767548367810143   Topic8   \n",
              "233          testing   16.126267873866194   68.336934166112869   Topic8   \n",
              "141         location    6.644399224171504   28.932202314059317   Topic8   \n",
              "243    understanding   18.332416842311645   82.101310198783807   Topic8   \n",
              "228           result    8.355627106494076   39.064699206314138   Topic8   \n",
              "33          external    7.129977765112612   33.903966984102070   Topic8   \n",
              "52           looking    8.150497402694489   39.197301149813200   Topic8   \n",
              "151            saudi   11.194432945691894   57.460113732324629   Topic8   \n",
              "99          accuracy    5.595515505281741   29.020043738949052   Topic8   \n",
              "77            report   19.226669236960703  100.763507194341656   Topic8   \n",
              "158       collection    5.780559397055625   30.586881636591144   Topic8   \n",
              "153        statistic    6.374669804554036   34.363702983468976   Topic8   \n",
              "57            master    8.374579649944828   47.442845640973943   Topic8   \n",
              "160         database   16.121382170336755  127.966426848746906   Topic8   \n",
              "122          product   17.031121291201337  145.775356443653351   Topic8   \n",
              "84            source   10.253438439364844   71.824700201364763   Topic8   \n",
              "89            system   15.834864958928241  162.286171721946175   Topic8   \n",
              "130        technical   13.232933971811415  124.618494608144317   Topic8   \n",
              "42         including   12.195946804734003  157.980653847707060   Topic8   \n",
              "156             well    8.666629051803778   78.496605794882228   Topic8   \n",
              "65               new    8.539978942110766  100.019984154112350   Topic8   \n",
              "177             test   21.511818674286378   38.272712660321893   Topic9   \n",
              "205         customer   55.707062798496764  102.740023317710623   Topic9   \n",
              "233          testing   16.990628601554661   68.336934166112869   Topic9   \n",
              "47          internal    8.955347738253517   40.563038393054150   Topic9   \n",
              "131       understand    6.822535095974142   31.169921273605560   Topic9   \n",
              "251       innovation    7.137564142013341   33.369338605551306   Topic9   \n",
              "100         advanced    8.305600200217196   39.893302273388564   Topic9   \n",
              "83          software    9.892234422701247   52.744607719671052   Topic9   \n",
              "210       functional    4.491330497257485   25.990033477446751   Topic9   \n",
              "36              good    5.286346199285141   31.077544239294511   Topic9   \n",
              "271            issue    8.441689601639066   51.555229707865728   Topic9   \n",
              "52           looking    6.176104301938055   39.197301149813200   Topic9   \n",
              "196             able    3.852253995429789   25.218309918532288   Topic9   \n",
              "261            bring    3.929528907416335   25.815675966178379   Topic9   \n",
              "234        transform    4.766256713241575   31.729814874460150   Topic9   \n",
              "58              meet    5.746959936380895   39.870529216882737   Topic9   \n",
              "29               etc    4.535237919957900   32.936173774289813   Topic9   \n",
              "241        objective    3.361597347876486   25.656431360982829   Topic9   \n",
              "152         security    5.355524077335998   41.472537808805306   Topic9   \n",
              "112      effectively    3.960372537330948   31.464046041395921   Topic9   \n",
              "165          machine   10.163384251422078   82.243917030820597   Topic9   \n",
              "183      engineering   12.677451132148468  109.855491150820399   Topic9   \n",
              "37              help    9.042622502820295   81.124185714369148   Topic9   \n",
              "103            apply    2.648362889939629   24.409907664243541   Topic9   \n",
              "225        potential    3.955139133156091   37.281917589372625   Topic9   \n",
              "163         learning   11.927861764876768  112.762106752995180   Topic9   \n",
              "122          product   14.448364695929280  145.775356443653351   Topic9   \n",
              "147          provide    6.618505719380242   69.511923647208945   Topic9   \n",
              "126         solution   15.647352504678937  165.276056226142686   Topic9   \n",
              "170          partner    2.571297429030893   27.276272091442895   Topic9   \n",
              "157      application    7.236563466040472   77.645597780664176   Topic9   \n",
              "60             model   12.004810225682188  137.885581230329592   Topic9   \n",
              "93              tool   12.299039369425749  143.123053250278190   Topic9   \n",
              "75           quality   10.429448754223813  124.442707906006120   Topic9   \n",
              "156             well    7.044684863569003   78.496605794882228   Topic9   \n",
              "97           working    8.582778668190107  134.574370367095298   Topic9   \n",
              "65               new    7.381576214627696  100.019984154112350   Topic9   \n",
              "254           people    5.776353078407532   68.795615103154830   Topic9   \n",
              "248               eg    6.324220687194472   97.455528786186164   Topic9   \n",
              "82           science    6.845723576271839  136.137563913611103   Topic9   \n",
              "176          service    6.350418786221200  110.625721602579873   Topic9   \n",
              "42         including    6.783302976509331  157.980653847707060   Topic9   \n",
              "143     organization    5.844089348042540   79.816402253082884   Topic9   \n",
              "172          process    5.992969890223736  123.061542061295782   Topic9   \n",
              "78         reporting   31.496789229235432   64.521655028338003  Topic10   \n",
              "221        operation   18.996906189798484   50.705350460243736  Topic10   \n",
              "55           manager   15.231160250749538   44.033727107160239  Topic10   \n",
              "268           sector    9.427049040895790   28.184960482674754  Topic10   \n",
              "252         national    8.432648834648949   27.721740561703626  Topic10   \n",
              "77            report   30.422880862787856  100.763507194341656  Topic10   \n",
              "46      intelligence   31.394541991735263  113.424942411097277  Topic10   \n",
              "151            saudi   14.993953527811065   57.460113732324629  Topic10   \n",
              "50        leadership   10.513699524030582   49.222713456412563  Topic10   \n",
              "183      engineering   21.782670715247701  109.855491150820399  Topic10   \n",
              "265            offer    5.793377277235712   30.015819476988007  Topic10   \n",
              "25         effective    5.027985045009313   26.820734203270082  Topic10   \n",
              "218             lead    7.670213799565885   41.914268055352181  Topic10   \n",
              "255       prioritize    4.209489454497207   24.552526520032337  Topic10   \n",
              "110         delivery    8.780170699151254   51.298318743458232  Topic10   \n",
              "253      operational    7.434705473867481   45.452830512152069  Topic10   \n",
              "179            value    8.706739325665138   55.211380000658032  Topic10   \n",
              "189        structure    5.087973014762680   33.843679041772830  Topic10   \n",
              "73           project   20.202681345126624  135.010680529066320  Topic10   \n",
              "12         candidate    7.623435988370093   52.683910915498416  Topic10   \n",
              "22       development   19.449023258752820  143.773327107224134  Topic10   \n",
              "48               key    7.411028761307315   55.308342486630934  Topic10   \n",
              "201              big    6.310041198912723   49.217801114000821  Topic10   \n",
              "261            bring    3.184985881212818   25.815675966178379  Topic10   \n",
              "200       automation    2.805096464801766   22.801954499442235  Topic10   \n",
              "164            least    2.773666806740420   24.963713498007490  Topic10   \n",
              "194           within    8.056773459096238   73.045383223303745  Topic10   \n",
              "197          achieve    2.274729259789956   21.025893428299984  Topic10   \n",
              "247           detail    4.199771767487190   39.767548367810143  Topic10   \n",
              "118            level    5.486468000573882   52.502458046729302  Topic10   \n",
              "202          company   11.158140945009221  117.235118505913093  Topic10   \n",
              "64              need    6.982690288060616   73.356800125599619  Topic10   \n",
              "143     organization    7.497165532173689   79.816402253082884  Topic10   \n",
              "28       environment    9.120877253413113  107.088124674993296  Topic10   \n",
              "125             role    9.964759331538879  133.820681936959943  Topic10   \n",
              "176          service    6.502920995101409  110.625721602579873  Topic10   \n",
              "130        technical    6.440183731886347  124.618494608144317  Topic10   \n",
              "42         including    6.070133796806273  157.980653847707060  Topic10   \n",
              "126         solution    6.058312248659655  165.276056226142686  Topic10   \n",
              "\n",
              "                logprob  loglift  \n",
              "205  30.000000000000000  30.0000  \n",
              "217  29.000000000000000  29.0000  \n",
              "134  28.000000000000000  28.0000  \n",
              "46   27.000000000000000  27.0000  \n",
              "77   26.000000000000000  26.0000  \n",
              "163  25.000000000000000  25.0000  \n",
              "82   24.000000000000000  24.0000  \n",
              "73   23.000000000000000  23.0000  \n",
              "165  22.000000000000000  22.0000  \n",
              "122  21.000000000000000  21.0000  \n",
              "75   20.000000000000000  20.0000  \n",
              "78   19.000000000000000  19.0000  \n",
              "183  18.000000000000000  18.0000  \n",
              "60   17.000000000000000  17.0000  \n",
              "88   16.000000000000000  16.0000  \n",
              "89   15.000000000000000  15.0000  \n",
              "10   14.000000000000000  14.0000  \n",
              "221  13.000000000000000  13.0000  \n",
              "22   12.000000000000000  12.0000  \n",
              "126  11.000000000000000  11.0000  \n",
              "233  10.000000000000000  10.0000  \n",
              "4     9.000000000000000   9.0000  \n",
              "69    8.000000000000000   8.0000  \n",
              "159   7.000000000000000   7.0000  \n",
              "101   6.000000000000000   6.0000  \n",
              "160   5.000000000000000   5.0000  \n",
              "258   4.000000000000000   4.0000  \n",
              "93    3.000000000000000   3.0000  \n",
              "116   2.000000000000000   2.0000  \n",
              "267   1.000000000000000   1.0000  \n",
              "145  -3.822000026702881   1.4220  \n",
              "72   -4.654200077056885   1.2938  \n",
              "142  -4.556300163269043   1.2288  \n",
              "66   -4.717999935150146   1.1698  \n",
              "210  -5.205800056457520   1.1605  \n",
              "108  -4.685100078582764   1.1589  \n",
              "241  -5.223100185394287   1.1560  \n",
              "204  -5.311500072479248   1.1331  \n",
              "123  -5.367000102996826   1.1144  \n",
              "253  -4.721300125122070   1.0860  \n",
              "73   -3.662800073623657   1.0559  \n",
              "172  -3.756799936294556   1.0545  \n",
              "229  -4.486700057983398   1.0542  \n",
              "36   -5.136400222778320   1.0511  \n",
              "86   -4.937699794769287   1.0473  \n",
              "76   -4.641399860382080   1.0460  \n",
              "223  -5.235499858856201   1.0316  \n",
              "110  -4.669199943542480   1.0171  \n",
              "197  -5.565000057220459   1.0132  \n",
              "6    -5.422699928283691   0.9875  \n",
              "27   -4.159900188446045   0.9852  \n",
              "56   -4.688799858093262   0.9827  \n",
              "218  -4.906799793243408   0.9816  \n",
              "2    -4.745800018310547   0.9781  \n",
              "35   -5.126699924468994   0.9742  \n",
              "216  -5.220099925994873   0.9641  \n",
              "40   -4.473299980163574   0.9504  \n",
              "221  -4.747700214385986   0.9502  \n",
              "71   -4.914000034332275   0.9312  \n",
              "26   -5.646900177001953   0.8848  \n",
              "85   -4.365499973297119   0.8505  \n",
              "149  -4.207499980926514   0.7485  \n",
              "1    -4.282599925994873   0.6872  \n",
              "44   -4.139299869537354   0.6043  \n",
              "4    -4.139299869537354   0.4983  \n",
              "77   -4.423399925231934   0.5878  \n",
              "75   -4.292099952697754   0.5081  \n",
              "70   -4.769000053405762   0.7768  \n",
              "124  -4.578100204467773   0.5357  \n",
              "22   -4.390799999237061   0.2649  \n",
              "68   -4.727099895477295   0.6056  \n",
              "67   -4.498000144958496   0.2557  \n",
              "106  -4.677700042724609   0.5054  \n",
              "89   -4.466199874877930   0.0684  \n",
              "0    -4.620900154113770   0.1997  \n",
              "42   -4.571499824523926  -0.0100  \n",
              "49   -4.739500045776367   0.0907  \n",
              "184  -4.544099807739258   1.6306  \n",
              "193  -4.381999969482422   1.6257  \n",
              "240  -4.305399894714355   1.5218  \n",
              "181  -3.505599975585938   1.3822  \n",
              "174  -5.130000114440918   1.3747  \n",
              "199  -4.149899959564209   1.3707  \n",
              "186  -4.681900024414062   1.3472  \n",
              "53   -4.311699867248535   1.2966  \n",
              "160  -3.486999988555908   1.2852  \n",
              "89   -3.319200038909912   1.2154  \n",
              "170  -5.133100032806396   1.1849  \n",
              "155  -5.070099830627441   1.1766  \n",
              "138  -4.561299800872803   1.1474  \n",
              "13   -5.109799861907959   1.1455  \n",
              "238  -5.117099761962891   1.1355  \n",
              "59   -5.156599998474121   1.0960  \n",
              "144  -4.089399814605713   1.0922  \n",
              "201  -4.663199901580811   1.0646  \n",
              "234  -5.133200168609619   1.0335  \n",
              "237  -4.933899879455566   0.9782  \n",
              "161  -4.819900035858154   0.9633  \n",
              "216  -5.224299907684326   0.9598  \n",
              "120  -5.131800174713135   0.9538  \n",
              "60   -3.770499944686890   0.9270  \n",
              "189  -5.179299831390381   0.9229  \n",
              "127  -4.261600017547607   0.9159  \n",
              "42   -3.685400009155273   0.8761  \n",
              "214  -5.373300075531006   0.8576  \n",
              "220  -5.486599922180176   0.8344  \n",
              "102  -5.374800205230713   0.7949  \n",
              "49   -4.037399768829346   0.7928  \n",
              "84   -4.586999893188477   0.7627  \n",
              "130  -4.094399929046631   0.7043  \n",
              "44   -4.048600196838379   0.6950  \n",
              "126  -3.868400096893311   0.6479  \n",
              "157  -4.527500152587891   0.7443  \n",
              "183  -4.270199775695801   0.6547  \n",
              "135  -4.518099784851074   0.6224  \n",
              "22   -4.265600204467773   0.3901  \n",
              "172  -4.357699871063232   0.4536  \n",
              "9    -4.783800125122070   0.7555  \n",
              "191  -4.711800098419189   0.6031  \n",
              "27   -4.647200107574463   0.4978  \n",
              "248  -4.610700130462646   0.4339  \n",
              "125  -4.701200008392334   0.0263  \n",
              "124  -4.761899948120117   0.3519  \n",
              "270  -4.324399948120117   2.1627  \n",
              "165  -3.156899929046631   2.0574  \n",
              "264  -3.961899995803833   2.0340  \n",
              "146  -4.193200111389160   1.9798  \n",
              "139  -3.670399904251099   1.9657  \n",
              "163  -2.955100059509277   1.9436  \n",
              "82   -2.867300033569336   1.8430  \n",
              "236  -4.525199890136719   1.7937  \n",
              "153  -4.314300060272217   1.7727  \n",
              "232  -3.701900005340576   1.7130  \n",
              "148  -4.257299900054932   1.6949  \n",
              "128  -4.099199771881104   1.6554  \n",
              "164  -4.778100013732910   1.6284  \n",
              "45   -4.028200149536133   1.3955  \n",
              "209  -4.066500186920166   1.3906  \n",
              "135  -3.762700080871582   1.3778  \n",
              "100  -4.608500003814697   1.3293  \n",
              "24   -4.390399932861328   1.2621  \n",
              "60   -3.471699953079224   1.2259  \n",
              "29   -4.919000148773193   1.2104  \n",
              "202  -3.681099891662598   1.1786  \n",
              "99   -5.113699913024902   1.1423  \n",
              "123  -5.343800067901611   1.1376  \n",
              "103  -5.308300018310547   1.1207  \n",
              "248  -3.935199975967407   1.1094  \n",
              "121  -4.651199817657471   1.1021  \n",
              "57   -4.690999984741211   1.0734  \n",
              "52   -4.883100032806396   1.0723  \n",
              "5    -4.936699867248535   1.0435  \n",
              "96   -4.042900085449219   1.0363  \n",
              "185  -4.558199882507324   0.9689  \n",
              "3    -4.310800075531006   0.9148  \n",
              "4    -4.028999805450439   0.6085  \n",
              "65   -4.350200176239014   0.6685  \n",
              "129  -4.401999950408936   0.6623  \n",
              "67   -4.244200229644775   0.5096  \n",
              "126  -4.227000236511230   0.2894  \n",
              "22   -4.354800224304199   0.3009  \n",
              "93   -4.366499900817871   0.2938  \n",
              "42   -4.468900203704834   0.0926  \n",
              "176  -4.517899990081787   0.3999  \n",
              "257  -4.062200069427490   1.9134  \n",
              "247  -4.215300083160400   1.7257  \n",
              "252  -4.588900089263916   1.7129  \n",
              "249  -4.700500011444092   1.7091  \n",
              "224  -4.361299991607666   1.6310  \n",
              "141  -4.631800174713135   1.6273  \n",
              "226  -5.014400005340576   1.6214  \n",
              "255  -4.871300220489502   1.5519  \n",
              "74   -4.911699771881104   1.5465  \n",
              "207  -4.119299888610840   1.5364  \n",
              "122  -3.108900070190430   1.5330  \n",
              "251  -4.620399951934814   1.4959  \n",
              "246  -4.614699840545654   1.4898  \n",
              "7    -4.582699775695801   1.4799  \n",
              "198  -4.756499767303467   1.4647  \n",
              "15   -4.353700160980225   1.4628  \n",
              "21   -4.561299800872803   1.3539  \n",
              "242  -5.106500148773193   1.3468  \n",
              "23   -4.209700107574463   1.3235  \n",
              "238  -5.018300056457520   1.2343  \n",
              "245  -4.916900157928467   1.1914  \n",
              "54   -5.120800018310547   1.1348  \n",
              "8    -4.303800106048584   1.1333  \n",
              "175  -4.972700119018555   1.1329  \n",
              "19   -4.499700069427490   1.1223  \n",
              "170  -5.206299781799316   1.1117  \n",
              "182  -5.104000091552734   1.1047  \n",
              "205  -3.888099908828735   1.1037  \n",
              "169  -4.406199932098389   1.1015  \n",
              "11   -4.395999908447266   1.0658  \n",
              "28   -4.074999809265137   0.8753  \n",
              "97   -3.913000106811523   0.8089  \n",
              "144  -4.365900039672852   0.8157  \n",
              "233  -4.538499832153320   0.8610  \n",
              "248  -4.329400062561035   0.7151  \n",
              "125  -4.184199810028076   0.5433  \n",
              "202  -4.272299766540527   0.5875  \n",
              "0    -4.253200054168701   0.5674  \n",
              "93   -4.274300098419189   0.3860  \n",
              "157  -4.496900081634521   0.7749  \n",
              "243  -4.510000228881836   0.7061  \n",
              "149  -4.449100017547607   0.5069  \n",
              "183  -4.485000133514404   0.4398  \n",
              "101  -4.551000118255615   0.6405  \n",
              "191  -4.599800109863281   0.7151  \n",
              "134  -2.778700113296509   1.9969  \n",
              "113  -4.491199970245361   1.8774  \n",
              "115  -4.562600135803223   1.6118  \n",
              "245  -4.603199958801270   1.5051  \n",
              "213  -4.328100204467773   1.4925  \n",
              "259  -4.399199962615967   1.4863  \n",
              "179  -4.225500106811523   1.3873  \n",
              "20   -4.725299835205078   1.3363  \n",
              "159  -4.287499904632568   1.3348  \n",
              "37   -3.903300046920776   1.3247  \n",
              "106  -3.888900041580200   1.2942  \n",
              "11   -4.171800136566162   1.2901  \n",
              "271  -4.412199974060059   1.2692  \n",
              "129  -3.817300081253052   1.2470  \n",
              "272  -5.261899948120117   1.2303  \n",
              "119  -4.324999809265137   1.2231  \n",
              "234  -4.949699878692627   1.2170  \n",
              "187  -4.777699947357178   1.2107  \n",
              "121  -4.552599906921387   1.2007  \n",
              "133  -4.710100173950195   1.1811  \n",
              "258  -4.123099803924561   1.1585  \n",
              "114  -5.000800132751465   1.1420  \n",
              "194  -4.201399803161621   1.1315  \n",
              "104  -4.759099960327148   1.1207  \n",
              "239  -4.592700004577637   1.1041  \n",
              "17   -4.765299797058105   1.0593  \n",
              "197  -5.532899856567383   1.0453  \n",
              "203  -5.173500061035156   1.0377  \n",
              "43   -4.600599765777588   1.0349  \n",
              "173  -4.412000179290771   0.9692  \n",
              "176  -3.960799932479858   0.9571  \n",
              "126  -3.713399887084961   0.8029  \n",
              "143  -4.355100154876709   0.8891  \n",
              "254  -4.484000205993652   0.9088  \n",
              "156  -4.397799968719482   0.8631  \n",
              "125  -4.107200145721436   0.6203  \n",
              "97   -4.242899894714355   0.4790  \n",
              "1    -4.389900207519531   0.5799  \n",
              "75   -4.374700069427490   0.4254  \n",
              "147  -4.574900150299072   0.8076  \n",
              "44   -4.559400081634521   0.1843  \n",
              "4    -4.592800140380859   0.0448  \n",
              "116  -3.428499937057495   2.1255  \n",
              "260  -4.186100006103516   2.0212  \n",
              "208  -4.045899868011475   1.8156  \n",
              "137  -3.824500083923340   1.8002  \n",
              "211  -4.308000087738037   1.7927  \n",
              "269  -4.656199932098389   1.7855  \n",
              "266  -3.849200010299683   1.7683  \n",
              "32   -4.403299808502197   1.7270  \n",
              "262  -4.378399848937988   1.7229  \n",
              "258  -3.580100059509277   1.7015  \n",
              "265  -4.596399784088135   1.6258  \n",
              "92   -4.528100013732910   1.6103  \n",
              "261  -4.771399974822998   1.6016  \n",
              "80   -4.185200214385986   1.5924  \n",
              "162  -4.312900066375732   1.5869  \n",
              "215  -4.281899929046631   1.5807  \n",
              "250  -4.789899826049805   1.5326  \n",
              "166  -4.964799880981445   1.5317  \n",
              "168  -4.265699863433838   1.4455  \n",
              "203  -4.783599853515625   1.4276  \n",
              "180  -4.640600204467773   1.4153  \n",
              "114  -4.762000083923340   1.3808  \n",
              "31   -4.776599884033203   1.3731  \n",
              "219  -4.169600009918213   1.3506  \n",
              "117  -4.449999809265137   1.3389  \n",
              "103  -5.103700160980225   1.3253  \n",
              "267  -4.243199825286865   1.2912  \n",
              "154  -5.079299926757812   1.2901  \n",
              "254  -4.117000102996826   1.2759  \n",
              "7    -4.804200172424316   1.2583  \n",
              "239  -4.499800205230713   1.1970  \n",
              "173  -4.245999813079834   1.1352  \n",
              "67   -3.784300088882446   0.9695  \n",
              "37   -4.194300174713135   1.0337  \n",
              "69   -4.289800167083740   1.0432  \n",
              "68   -4.305799961090088   1.0270  \n",
              "64   -4.307700157165527   1.0210  \n",
              "9    -4.422999858856201   1.1163  \n",
              "130  -4.137499809265137   0.6613  \n",
              "207  -4.502299785614014   1.1533  \n",
              "28   -4.287300109863281   0.6630  \n",
              "88   -4.345600128173828   0.4457  \n",
              "97   -4.519299983978271   0.2025  \n",
              "90   -3.868700027465820   2.2454  \n",
              "132  -3.513900041580200   2.0871  \n",
              "159  -3.564599990844727   2.0577  \n",
              "69   -3.422699928283691   1.9103  \n",
              "63   -4.196899890899658   1.8414  \n",
              "59   -4.420300006866455   1.8324  \n",
              "10   -3.287400007247925   1.8108  \n",
              "18   -4.179999828338623   1.8093  \n",
              "154  -4.662199974060059   1.7072  \n",
              "158  -4.533100128173828   1.6703  \n",
              "62   -4.439000129699707   1.5792  \n",
              "3    -3.739000082015991   1.4866  \n",
              "46   -3.428600072860718   1.4642  \n",
              "101  -3.737200021743774   1.4542  \n",
              "45   -3.991400003433228   1.4323  \n",
              "5    -4.574800014495850   1.4054  \n",
              "34   -4.238599777221680   1.4015  \n",
              "127  -3.828599929809570   1.3488  \n",
              "54   -4.944399833679199   1.3112  \n",
              "128  -4.450300216674805   1.3044  \n",
              "94   -4.693200111389160   1.2837  \n",
              "19   -4.339499950408936   1.2825  \n",
              "256  -4.790299892425537   1.2710  \n",
              "98   -4.780000209808350   1.2498  \n",
              "206  -4.642099857330322   1.2265  \n",
              "4    -3.420099973678589   1.2175  \n",
              "24   -4.446700096130371   1.2057  \n",
              "109  -5.373700141906738   1.1544  \n",
              "195  -5.144499778747559   1.1441  \n",
              "93   -3.518699884414673   1.1415  \n",
              "12   -4.520500183105469   1.1392  \n",
              "78   -4.324500083923340   1.1324  \n",
              "96   -4.281799793243408   0.7973  \n",
              "134  -4.222700119018555   0.5529  \n",
              "144  -4.423299789428711   0.7583  \n",
              "124  -4.413599967956543   0.7002  \n",
              "0    -4.329299926757812   0.4913  \n",
              "49   -4.383500099182129   0.4467  \n",
              "77   -4.430500030517578   0.5807  \n",
              "88   -4.429200172424316   0.3620  \n",
              "73   -4.465199947357178   0.2535  \n",
              "217  -2.588900089263916   2.5281  \n",
              "81   -4.192100048065186   2.1418  \n",
              "107  -4.440599918365479   2.0747  \n",
              "188  -4.390299797058105   1.9932  \n",
              "267  -3.591000080108643   1.9434  \n",
              "51   -3.986500024795532   1.8918  \n",
              "79   -3.718899965286255   1.7490  \n",
              "231  -4.552800178527832   1.7312  \n",
              "88   -3.074399948120117   1.7168  \n",
              "220  -4.606500148773193   1.7145  \n",
              "108  -4.139599800109863   1.7044  \n",
              "102  -4.489699840545654   1.6800  \n",
              "166  -4.865399837493896   1.6311  \n",
              "75   -3.227699995040894   1.5724  \n",
              "196  -4.844699859619141   1.5517  \n",
              "101  -3.729799985885620   1.4617  \n",
              "263  -4.605000019073486   1.4471  \n",
              "235  -5.164100170135498   1.3856  \n",
              "247  -4.568299770355225   1.3726  \n",
              "233  -4.038000106811523   1.3615  \n",
              "141  -4.924699783325195   1.3343  \n",
              "243  -3.909800052642822   1.3062  \n",
              "228  -4.695499897003174   1.2632  \n",
              "33   -4.854100227355957   1.2463  \n",
              "52   -4.720399856567383   1.2350  \n",
              "151  -4.402999877929688   1.1698  \n",
              "99   -5.096499919891357   1.1595  \n",
              "77   -3.862200021743774   1.1490  \n",
              "158  -5.064000129699707   1.1394  \n",
              "153  -4.966100215911865   1.1208  \n",
              "57   -4.693299770355225   1.0712  \n",
              "160  -4.038300037384033   0.7339  \n",
              "122  -3.983400106430054   0.6585  \n",
              "84   -4.490799903869629   0.8589  \n",
              "89   -4.056200027465820   0.4784  \n",
              "130  -4.235700130462646   0.5630  \n",
              "42   -4.317399978637695   0.2441  \n",
              "156  -4.658999919891357   0.6019  \n",
              "65   -4.673699855804443   0.3449  \n",
              "177  -3.260799884796143   2.7184  \n",
              "205  -2.309299945831299   2.6824  \n",
              "233  -3.496799945831299   1.9027  \n",
              "47   -4.137199878692627   1.7839  \n",
              "131  -4.409200191497803   1.7753  \n",
              "251  -4.364099979400635   1.7523  \n",
              "100  -4.212500095367432   1.7253  \n",
              "83   -4.037700176239014   1.6208  \n",
              "210  -4.827300071716309   1.5390  \n",
              "36   -4.664299964904785   1.5232  \n",
              "271  -4.196300029754639   1.4851  \n",
              "52   -4.508699893951416   1.4466  \n",
              "196  -4.980800151824951   1.4156  \n",
              "261  -4.960899829864502   1.4121  \n",
              "234  -4.767899990081787   1.3988  \n",
              "58   -4.580800056457520   1.3576  \n",
              "29   -4.817599773406982   1.3118  \n",
              "241  -5.117000102996826   1.2622  \n",
              "152  -4.651299953460693   1.2476  \n",
              "112  -4.953100204467773   1.2220  \n",
              "165  -4.010600090026855   1.2036  \n",
              "183  -3.789599895477295   1.1352  \n",
              "37   -4.127500057220459   1.1005  \n",
              "103  -5.355500221252441   1.0735  \n",
              "225  -4.954400062561035   1.0510  \n",
              "163  -3.850600004196167   1.0481  \n",
              "122  -3.658900022506714   0.9831  \n",
              "147  -4.439599990844727   0.9429  \n",
              "126  -3.579099893569946   0.9372  \n",
              "170  -5.385000228881836   0.9329  \n",
              "157  -4.350299835205078   0.9215  \n",
              "60   -3.844099998474121   0.8534  \n",
              "93   -3.819900035858154   0.8404  \n",
              "75   -3.984800100326538   0.8153  \n",
              "156  -4.377200126647949   0.8838  \n",
              "97   -4.179699897766113   0.5422  \n",
              "65   -4.330399990081787   0.6882  \n",
              "254  -4.575699806213379   0.8172  \n",
              "248  -4.485000133514404   0.5595  \n",
              "82   -4.405799865722656   0.3045  \n",
              "176  -4.480899810791016   0.4369  \n",
              "42   -4.414999961853027   0.1465  \n",
              "143  -4.564000129699707   0.6802  \n",
              "172  -4.538799762725830   0.2724  \n",
              "78   -2.869600057601929   2.5873  \n",
              "221  -3.375299930572510   2.3227  \n",
              "55   -3.596199989318848   2.2428  \n",
              "268  -4.075900077819824   2.2092  \n",
              "252  -4.187399864196777   2.1143  \n",
              "77   -2.904299974441528   2.1069  \n",
              "46   -2.872900009155273   2.0199  \n",
              "151  -3.611900091171265   1.9610  \n",
              "50   -3.966799974441528   1.7608  \n",
              "183  -3.238399982452393   1.6864  \n",
              "265  -4.562799930572510   1.6594  \n",
              "25   -4.704500198364258   1.6303  \n",
              "218  -4.282199859619141   1.6062  \n",
              "255  -4.882199764251709   1.5410  \n",
              "110  -4.146999835968018   1.5393  \n",
              "253  -4.313399791717529   1.4939  \n",
              "179  -4.155399799346924   1.4574  \n",
              "189  -4.692599773406982   1.4096  \n",
              "73   -3.313699960708618   1.4049  \n",
              "12   -4.288300037384033   1.3714  \n",
              "22   -3.351700067520142   1.3040  \n",
              "48   -4.316599845886230   1.2945  \n",
              "201  -4.477399826049805   1.2503  \n",
              "261  -5.161099910736084   1.2119  \n",
              "200  -5.288099765777588   1.2090  \n",
              "164  -5.299399852752686   1.1072  \n",
              "194  -4.232999801635742   1.0999  \n",
              "197  -5.497700214385986   1.0806  \n",
              "247  -4.884500026702881   1.0564  \n",
              "118  -4.617199897766113   1.0459  \n",
              "202  -3.907399892807007   0.9524  \n",
              "64   -4.376100063323975   0.9525  \n",
              "143  -4.304999828338623   0.9392  \n",
              "28   -4.109000205993652   0.8414  \n",
              "125  -4.020500183105469   0.7070  \n",
              "176  -4.447299957275391   0.4705  \n",
              "130  -4.456999778747559   0.3417  \n",
              "42   -4.516099929809570   0.0454  \n",
              "126  -4.518099784851074  -0.0017  , token_table=      Topic               Freq     Term\n",
              "term                                   \n",
              "0         1  0.246062579870794  ability\n",
              "0         2  0.147637547922476  ability\n",
              "0         3  0.049212515974159  ability\n",
              "0         4  0.188647977900942  ability\n",
              "0         5  0.065616687965545  ability\n",
              "...     ...                ...      ...\n",
              "98        5  0.137412371674557  written\n",
              "98        7  0.274824743349114  written\n",
              "259       4  0.285467643932434    youll\n",
              "259       5  0.451990436226354    youll\n",
              "259       6  0.237889703277028    youll\n",
              "\n",
              "[1180 rows x 3 columns], R=30, lambda_step=0.01, plot_opts={'xlab': 'PC1', 'ylab': 'PC2'}, topic_order=[9, 3, 7, 4, 8, 10, 2, 6, 5, 1])"
            ],
            "text/html": [
              "\n",
              "<link rel=\"stylesheet\" type=\"text/css\" href=\"https://cdn.rawgit.com/bmabey/pyLDAvis/files/ldavis.v1.0.0.css\">\n",
              "\n",
              "\n",
              "<div id=\"ldavis_el1721400215005695046513740247\"></div>\n",
              "<script type=\"text/javascript\">\n",
              "\n",
              "var ldavis_el1721400215005695046513740247_data = {\"mdsDat\": {\"x\": [0.04219009397117654, -0.07743095113106879, -0.21279022821599713, -0.050568434349656625, 0.0990158998510185, 0.21338757991270393, 0.053285285795038106, -0.09755794875187615, -0.13480885412913987, 0.16527755704780192], \"y\": [0.05461196339418981, 0.0793546216618912, -0.17459223743616412, 0.0452593803175813, -0.00617209163563006, 0.02641226105667388, -0.22186875644346535, 0.1708012052441614, 0.039625876720057567, -0.013432222879296232], \"topics\": [1, 2, 3, 4, 5, 6, 7, 8, 9, 10], \"cluster\": [1, 1, 1, 1, 1, 1, 1, 1, 1, 1], \"Freq\": [20.418390251459424, 16.891403492974455, 11.081910170173712, 10.842709683403736, 10.481993766901148, 9.343011620735945, 7.512548400743084, 6.047555827447044, 3.708515904306324, 3.6719608818551235]}, \"tinfo\": {\"Term\": [\"customer\", \"job\", \"client\", \"intelligence\", \"report\", \"learning\", \"science\", \"project\", \"machine\", \"product\", \"quality\", \"reporting\", \"engineering\", \"model\", \"support\", \"system\", \"bi\", \"operation\", \"development\", \"solution\", \"testing\", \"analytics\", \"power\", \"consulting\", \"analyst\", \"database\", \"world\", \"tool\", \"join\", \"scientist\", \"policy\", \"procedure\", \"manage\", \"office\", \"functional\", \"control\", \"objective\", \"continuous\", \"recommendation\", \"operational\", \"project\", \"process\", \"standard\", \"good\", \"strategic\", \"relevant\", \"per\", \"delivery\", \"achieve\", \"bachelor\", \"ensure\", \"market\", \"lead\", \"activity\", \"function\", \"international\", \"identify\", \"operation\", \"presentation\", \"english\", \"stakeholder\", \"related\", \"across\", \"information\", \"analytics\", \"report\", \"quality\", \"practice\", \"requirement\", \"development\", \"performance\", \"opportunity\", \"complex\", \"system\", \"ability\", \"including\", \"knowledge\", \"etl\", \"warehouse\", \"integration\", \"design\", \"query\", \"architecture\", \"planning\", \"maintain\", \"database\", \"system\", \"partner\", \"various\", \"implementation\", \"change\", \"framework\", \"microsoft\", \"platform\", \"big\", \"transform\", \"enterprise\", \"developing\", \"international\", \"plan\", \"model\", \"structure\", \"sql\", \"including\", \"human\", \"member\", \"andor\", \"knowledge\", \"source\", \"technical\", \"information\", \"solution\", \"application\", \"engineering\", \"computer\", \"development\", \"process\", \"best\", \"user\", \"ensure\", \"eg\", \"role\", \"requirement\", \"predictive\", \"machine\", \"mining\", \"programming\", \"language\", \"learning\", \"science\", \"efficiency\", \"statistic\", \"technique\", \"python\", \"statistical\", \"least\", \"insight\", \"engineer\", \"computer\", \"advanced\", \"drive\", \"model\", \"etc\", \"company\", \"accuracy\", \"recommendation\", \"apply\", \"eg\", \"problem\", \"master\", \"looking\", \"analyze\", \"using\", \"implement\", \"analytical\", \"analytics\", \"new\", \"strategy\", \"opportunity\", \"solution\", \"development\", \"tool\", \"including\", \"service\", \"status\", \"detail\", \"national\", \"foster\", \"please\", \"location\", \"pride\", \"prioritize\", \"qualification\", \"employee\", \"product\", \"innovation\", \"culture\", \"background\", \"always\", \"collaboration\", \"department\", \"privacy\", \"different\", \"framework\", \"challenge\", \"making\", \"based\", \"riyadh\", \"decision\", \"partner\", \"enable\", \"customer\", \"part\", \"build\", \"environment\", \"working\", \"platform\", \"testing\", \"eg\", \"role\", \"company\", \"ability\", \"tool\", \"application\", \"understanding\", \"related\", \"engineering\", \"analyst\", \"user\", \"client\", \"focus\", \"innovative\", \"challenge\", \"governance\", \"youll\", \"value\", \"deliver\", \"consulting\", \"help\", \"complex\", \"build\", \"issue\", \"strategy\", \"feedback\", \"managing\", \"transform\", \"relationship\", \"problem\", \"building\", \"world\", \"growth\", \"within\", \"area\", \"impact\", \"create\", \"achieve\", \"competitive\", \"industry\", \"professional\", \"service\", \"solution\", \"organization\", \"people\", \"well\", \"role\", \"working\", \"across\", \"quality\", \"provide\", \"information\", \"analytics\", \"join\", \"benefit\", \"energy\", \"global\", \"future\", \"grow\", \"program\", \"expertise\", \"career\", \"world\", \"offer\", \"time\", \"bring\", \"research\", \"diverse\", \"infrastructure\", \"idea\", \"mathematics\", \"one\", \"competitive\", \"also\", \"growth\", \"expert\", \"make\", \"leading\", \"apply\", \"scientist\", \"successful\", \"people\", \"background\", \"impact\", \"professional\", \"opportunity\", \"help\", \"power\", \"performance\", \"need\", \"best\", \"technical\", \"employee\", \"environment\", \"support\", \"working\", \"tableau\", \"visualization\", \"consulting\", \"power\", \"must\", \"microsoft\", \"bi\", \"dashboard\", \"successful\", \"collection\", \"multiple\", \"analytical\", \"intelligence\", \"analyst\", \"insight\", \"analyze\", \"field\", \"sql\", \"making\", \"statistical\", \"trend\", \"decision\", \"resource\", \"written\", \"digital\", \"analytics\", \"drive\", \"crossfunctional\", \"writing\", \"tool\", \"candidate\", \"reporting\", \"using\", \"client\", \"platform\", \"requirement\", \"ability\", \"knowledge\", \"report\", \"support\", \"project\", \"job\", \"responsibility\", \"contact\", \"set\", \"scientist\", \"learn\", \"required\", \"take\", \"support\", \"member\", \"control\", \"andor\", \"mathematics\", \"quality\", \"able\", \"analyst\", \"improvement\", \"wide\", \"detail\", \"testing\", \"location\", \"understanding\", \"result\", \"external\", \"looking\", \"saudi\", \"accuracy\", \"report\", \"collection\", \"statistic\", \"master\", \"database\", \"product\", \"source\", \"system\", \"technical\", \"including\", \"well\", \"new\", \"test\", \"customer\", \"testing\", \"internal\", \"understand\", \"innovation\", \"advanced\", \"software\", \"functional\", \"good\", \"issue\", \"looking\", \"able\", \"bring\", \"transform\", \"meet\", \"etc\", \"objective\", \"security\", \"effectively\", \"machine\", \"engineering\", \"help\", \"apply\", \"potential\", \"learning\", \"product\", \"provide\", \"solution\", \"partner\", \"application\", \"model\", \"tool\", \"quality\", \"well\", \"working\", \"new\", \"people\", \"eg\", \"science\", \"service\", \"including\", \"organization\", \"process\", \"reporting\", \"operation\", \"manager\", \"sector\", \"national\", \"report\", \"intelligence\", \"saudi\", \"leadership\", \"engineering\", \"offer\", \"effective\", \"lead\", \"prioritize\", \"delivery\", \"operational\", \"value\", \"structure\", \"project\", \"candidate\", \"development\", \"key\", \"big\", \"bring\", \"automation\", \"least\", \"within\", \"achieve\", \"detail\", \"level\", \"company\", \"need\", \"organization\", \"environment\", \"role\", \"service\", \"technical\", \"including\", \"solution\"], \"Freq\": [102.0, 90.0, 127.0, 113.0, 100.0, 112.0, 136.0, 135.0, 82.0, 145.0, 124.0, 64.0, 109.0, 137.0, 125.0, 162.0, 92.0, 50.0, 143.0, 165.0, 68.0, 146.0, 73.0, 54.0, 84.0, 127.0, 76.0, 143.0, 58.0, 59.0, 67.57532636562068, 29.400414115330758, 32.42490213131253, 27.58536643128482, 16.935838489230164, 28.50709100319482, 16.64499816601635, 15.237613233259525, 14.41419952638659, 27.493832403019482, 79.24011878251575, 72.12688748308513, 34.7632947376552, 18.153765324587752, 22.142509644894304, 29.78077108892094, 16.440084049423543, 28.963613697938897, 11.82556003602013, 13.63426944370499, 48.200518269905274, 28.402227614251803, 22.839258477754647, 26.82684672406068, 18.329449749286724, 16.696288165517192, 35.23162549171806, 26.776977372709734, 22.673323035298896, 10.895172817572627, 39.24233665593755, 45.95961548599482, 42.632793988234326, 49.20204933332903, 49.20403939106128, 37.0343330923405, 42.23156441490335, 26.211383984886407, 31.726659317250018, 38.26043584407493, 27.333560860424505, 34.371121077328326, 28.7176488890066, 35.48282714332437, 30.395385465333636, 31.93515525018027, 26.997410776227483, 27.153005279355906, 31.931881869392694, 34.47453582989138, 76.70439367661345, 15.114031192444472, 40.27413250930412, 23.65918517494852, 34.25630306988125, 78.14776889288346, 92.4255647229403, 15.06761471094773, 16.04620893794892, 26.689175910629796, 15.421497410745253, 15.31051823352782, 14.716390601041425, 42.78542105671482, 24.105518999996757, 15.06481694655214, 18.387743844372576, 20.607830558083222, 13.753657509435985, 15.086557907376207, 58.85392408492826, 14.386740918364213, 36.01867814542979, 64.08434938058738, 11.849304217490982, 10.580504979308234, 11.832302326969648, 45.07108988965255, 26.012821126098512, 42.5703595721633, 44.56675955062837, 53.36658027514617, 27.60892430232067, 35.71079797219292, 27.869932405725965, 35.87202866169425, 32.717128213575826, 21.366455317583824, 22.961889980374725, 24.492552590925538, 25.404095634486826, 23.20678476894045, 21.840117305567563, 22.192049736423982, 71.32170722416078, 31.88733501557667, 25.303353163410737, 42.678261016220596, 87.27327716151882, 95.28026915702326, 18.15503201639862, 22.416884237132834, 41.35424585519686, 23.731315965891497, 27.795971118346458, 14.097536343389898, 29.84322949474458, 28.721393538122268, 38.91485340900241, 16.703674267718366, 20.774632009666227, 52.06172731907276, 12.24556693332574, 42.22336639082512, 10.079004190144907, 8.006776602401407, 8.296644212028305, 32.751910444567166, 16.00571320801658, 15.38039581353976, 12.693072638795666, 12.029849960235202, 29.406028320188998, 17.565337207359246, 22.496217575108314, 29.816917198144466, 21.627482561918075, 20.535127365657782, 24.045529239438704, 24.463054722278716, 21.52744651293869, 21.27779810243338, 19.205789809841875, 18.286674662017724, 28.223161086116033, 24.216479879227432, 16.667148028068198, 14.90692035713359, 20.92647145651182, 15.967197313614179, 10.890053195448138, 12.566039049675677, 12.068733095446616, 26.6566253778057, 73.21102324264253, 16.149423586790963, 16.241848527752744, 16.770259822353573, 14.094285799718534, 21.086693318494028, 17.132748479971198, 9.931949612080109, 24.35046718087154, 10.848360265180332, 12.005309110192425, 9.790910025690595, 22.16433679340787, 11.35430671899569, 18.220608452274984, 8.989217352251467, 9.956907492026877, 33.5900841647801, 20.007873953746063, 20.211544181534155, 27.86329909150449, 32.76366878936103, 20.83014469928228, 17.52795589044078, 21.6034556680888, 24.9811320228918, 22.87401532376233, 23.31593457610989, 22.828314441715765, 18.27186808626466, 18.035279051639847, 19.16760445809955, 18.491959539229743, 17.310923278174062, 16.485821234258033, 98.47076621262018, 17.764657274217885, 16.54059486826466, 15.883616950246164, 20.91222944581174, 19.477941310558663, 23.171997330846175, 14.057730652460997, 21.778534011196747, 31.98262086204005, 32.44414663517072, 24.451370253437407, 19.226766754354006, 34.85371869566959, 8.219548023624126, 20.978358472150088, 11.231549269210555, 13.340202740330898, 16.707841823765882, 14.272831206956063, 25.67132552320254, 10.67202651799596, 23.737446050665735, 13.591011167932155, 16.05074579974629, 13.506252396246015, 6.268534322978399, 8.97937043290901, 15.92441962097461, 19.228919236223973, 30.1956475389658, 38.6683240349502, 20.355589957348887, 17.89315660340972, 19.504224324777436, 26.082579476966938, 22.77270603866773, 19.658913659712187, 19.95964549397649, 16.339405724373623, 16.594685940441355, 16.04963117436095, 45.83018501227945, 21.48524581443665, 24.717799935406735, 30.84414388823001, 19.01884129817999, 13.425972343723052, 30.08983480851085, 17.290237816960005, 17.725486988676312, 39.383465245141444, 14.253748472834287, 15.261220820176456, 11.965647945930598, 21.503863256937077, 18.926177807510264, 19.52153856381785, 11.746199513924182, 9.861440062486421, 19.84083007133159, 11.820095548773926, 13.637921425658083, 12.078168462846545, 11.902992382796906, 21.8416669344463, 16.501777020728706, 8.58236267851345, 20.292342529156386, 8.794161089175772, 23.022230966240098, 11.579216266572287, 15.699214972459341, 20.234451862778, 32.10975889267933, 21.30883015064122, 19.367719643209966, 19.06144771274593, 19.025015530595315, 16.952731534277266, 22.555484261042707, 15.66029046375403, 19.416652935323413, 18.317850110405445, 15.395798558692078, 23.728881054264736, 33.83558381597746, 32.16059556187199, 37.06448020145223, 17.09001936759695, 13.66888479753156, 42.43372847131801, 17.38156839320905, 10.731793497072752, 12.210228648203595, 13.414412538739905, 27.01371478041842, 36.845784308624246, 27.061999965689516, 20.988105843117477, 11.711752939470536, 16.392075499452798, 24.699777898340063, 8.092794492281632, 13.264197723089698, 10.404175012708262, 14.818479362597687, 9.440689077990841, 9.5388508259851, 10.94970639833522, 37.16127488849697, 13.311672406280817, 5.268368800471498, 6.625322810213033, 33.67159998783804, 12.365604859605925, 15.041893308656237, 15.697975696656629, 16.654515226471897, 13.627832761371065, 13.760065223432234, 14.970742653478748, 14.180432233021842, 13.53003923103194, 13.546965604104248, 13.06857257092988, 68.68364269049867, 13.822961886803446, 10.781866116394454, 11.338016924260211, 25.215247086686222, 16.978691968493703, 22.187219891809338, 9.63728103916142, 42.26808829420567, 9.134004173466753, 14.568338309155388, 10.26474897931732, 7.050303149727829, 36.260304927886395, 7.197613158646481, 21.947670508856238, 9.147022495074829, 5.229735931017775, 9.488794321835181, 16.126267873866194, 6.6443992241715035, 18.332416842311645, 8.355627106494076, 7.129977765112612, 8.150497402694489, 11.194432945691894, 5.595515505281741, 19.226669236960703, 5.780559397055625, 6.374669804554036, 8.374579649944828, 16.121382170336755, 17.031121291201337, 10.253438439364844, 15.834864958928241, 13.232933971811415, 12.195946804734003, 8.666629051803778, 8.539978942110766, 21.511818674286378, 55.707062798496764, 16.99062860155466, 8.955347738253517, 6.822535095974142, 7.137564142013341, 8.305600200217196, 9.892234422701247, 4.491330497257485, 5.286346199285141, 8.441689601639066, 6.176104301938055, 3.852253995429789, 3.929528907416335, 4.766256713241575, 5.746959936380895, 4.5352379199579005, 3.3615973478764856, 5.355524077335998, 3.960372537330948, 10.163384251422078, 12.677451132148468, 9.042622502820295, 2.648362889939629, 3.9551391331560914, 11.927861764876768, 14.44836469592928, 6.618505719380242, 15.647352504678937, 2.5712974290308934, 7.236563466040472, 12.004810225682188, 12.29903936942575, 10.429448754223813, 7.044684863569003, 8.582778668190107, 7.381576214627696, 5.776353078407532, 6.324220687194472, 6.845723576271839, 6.3504187862212, 6.783302976509331, 5.84408934804254, 5.992969890223736, 31.496789229235432, 18.996906189798484, 15.231160250749538, 9.42704904089579, 8.43264883464895, 30.422880862787856, 31.394541991735263, 14.993953527811065, 10.513699524030582, 21.7826707152477, 5.793377277235712, 5.027985045009313, 7.670213799565885, 4.209489454497207, 8.780170699151254, 7.434705473867481, 8.706739325665138, 5.08797301476268, 20.202681345126624, 7.623435988370093, 19.44902325875282, 7.411028761307315, 6.310041198912723, 3.184985881212818, 2.805096464801766, 2.77366680674042, 8.056773459096238, 2.274729259789956, 4.19977176748719, 5.486468000573882, 11.15814094500922, 6.982690288060616, 7.497165532173689, 9.120877253413113, 9.964759331538879, 6.502920995101409, 6.440183731886347, 6.070133796806273, 6.0583122486596555], \"Total\": [102.0, 90.0, 127.0, 113.0, 100.0, 112.0, 136.0, 135.0, 82.0, 145.0, 124.0, 64.0, 109.0, 137.0, 125.0, 162.0, 92.0, 50.0, 143.0, 165.0, 68.0, 146.0, 73.0, 54.0, 84.0, 127.0, 76.0, 143.0, 58.0, 59.0, 79.83463932302617, 39.48578816248646, 46.47212260584664, 41.939031576732624, 25.99003347744675, 43.81436054287685, 25.65643136098283, 24.033351503154556, 23.162299139112466, 45.45283051215207, 135.01068052906632, 123.06154206129578, 59.325978596541816, 31.07754423929451, 38.05157666039724, 51.244902571604584, 28.69984035398885, 51.29831874345823, 21.025893428299984, 24.8738305122043, 88.14217843022895, 52.063979512819905, 41.91426805535218, 49.4018349178728, 33.887430299761256, 31.181855098706315, 66.70156901408052, 50.705350460243736, 43.75984072816468, 22.027717629299346, 82.10456478802597, 106.48938390242523, 105.02052273975936, 131.673003194248, 146.40998151548595, 100.76350719434166, 124.44270790600612, 59.0334529066952, 90.93797739464475, 143.77332710722413, 73.05809121971069, 130.34984412566305, 84.84923402449382, 162.28617172194618, 121.92020426573114, 157.98065384770706, 120.75491619290212, 31.478405145138797, 37.199900612536695, 44.55610987145661, 113.99247002446205, 22.629548772383878, 60.54339493565968, 36.412577047876965, 55.45945202597418, 127.9664268487469, 162.28617172194618, 27.276272091442895, 29.29035526621296, 50.162645008113024, 29.037652953053524, 29.11970876271256, 29.117534640030204, 84.9776130738046, 49.21780111400082, 31.72981487446015, 40.9286025855776, 46.55778681910254, 31.181855098706315, 34.410529890872404, 137.8855812303296, 33.84367904177283, 85.33184214036658, 157.98065384770706, 29.755080721928977, 27.19474297972543, 31.635079089306313, 120.75491619290212, 71.82470020136476, 124.61849460814432, 131.673003194248, 165.27605622614269, 77.64559778066418, 109.8554911508204, 88.5414799395032, 143.77332710722413, 123.06154206129578, 59.42379595458261, 74.37408316482355, 88.14217843022895, 97.45552878618616, 133.82068193695994, 90.93797739464475, 23.031901452311864, 82.2439170308206, 37.63940369701713, 31.53025981257186, 53.93807155988057, 112.76210675299518, 136.1375639136111, 27.252254878611403, 34.363702983468976, 67.28911867171205, 39.31882501961753, 47.90927821572596, 24.96371349800749, 66.70528705528848, 64.51622172667645, 88.5414799395032, 39.893302273388564, 53.06523967964712, 137.8855812303296, 32.93617377428981, 117.23511850591309, 29.020043738949052, 23.162299139112466, 24.40990766424354, 97.45552878618616, 47.9759512049035, 47.44284564097394, 39.1973011498132, 38.23499902861953, 94.14142776870747, 60.14987200346551, 81.31824726012847, 146.40998151548595, 100.01998415411235, 95.55124008456706, 130.34984412566305, 165.27605622614269, 143.77332710722413, 143.1230532502782, 157.98065384770706, 110.62572160257987, 38.41201212326958, 39.76754836781014, 27.721740561703626, 24.8877847408949, 37.778129736974726, 28.932202314059317, 19.848347476912554, 24.552526520032337, 23.708087117295843, 52.897540665412734, 145.77535644365335, 33.369338605551306, 33.76770677595886, 35.213249753166856, 30.04542357057035, 45.03742667561556, 40.80401011144456, 23.82172093809787, 59.78390120549091, 29.11970876271256, 33.63850447074367, 29.030285163624153, 65.8134011424941, 33.7301720362267, 54.70422149591919, 27.276272091442895, 30.42561067799467, 102.74002331771062, 61.33191320933891, 64.20594896161208, 107.0881246749933, 134.5743703670953, 84.9776130738046, 68.33693416611287, 97.45552878618616, 133.82068193695994, 117.23511850591309, 121.92020426573114, 143.1230532502782, 77.64559778066418, 82.1013101987838, 106.48938390242523, 109.8554911508204, 84.14194959353547, 74.37408316482355, 127.5364596225535, 25.92885891043854, 31.487033621024896, 33.63850447074367, 44.851438092358926, 42.036287667124284, 55.21138000065803, 35.24799631501291, 54.68938323739413, 81.12418571436915, 84.84923402449382, 64.20594896161208, 51.55522970786573, 95.55124008456706, 22.913070255337345, 58.90648331864281, 31.72981487446015, 37.92596279811842, 47.9759512049035, 41.79356347077147, 76.89248205290866, 32.49524918008427, 73.04538322330374, 42.27795777918908, 50.761500945484805, 44.67151380050457, 21.025893428299984, 30.34787933725709, 53.97390624837279, 69.59564882970525, 110.62572160257987, 165.27605622614269, 79.81640225308288, 68.79561510315483, 78.49660579488223, 133.82068193695994, 134.5743703670953, 105.02052273975936, 124.44270790600612, 69.51192364720895, 131.673003194248, 146.40998151548595, 58.55383464239217, 30.46836456625983, 43.055927472923614, 54.55838624284656, 33.894911993892265, 24.09932537171907, 54.950104043216626, 32.905856151393515, 33.87293779780655, 76.89248205290866, 30.015819476988007, 32.641864232781984, 25.81567596617838, 46.82269425951046, 41.43548521981036, 43.00801350039497, 27.15134195443275, 22.81671001641167, 50.03597864472825, 30.34787933725709, 35.44885639127395, 32.49524918008427, 32.27460253299767, 60.56476267717759, 46.300789733305486, 24.40990766424354, 59.71410890693107, 25.90860880964571, 68.79561510315483, 35.213249753166856, 50.761500945484805, 69.59564882970525, 130.34984412566305, 81.12418571436915, 73.0392936385956, 73.05809121971069, 73.35680012559962, 59.42379595458261, 124.61849460814432, 52.897540665412734, 107.0881246749933, 125.55746147204154, 134.5743703670953, 33.44486871463478, 55.8668611155668, 54.68938323739413, 73.0392936385956, 36.077378430228535, 29.117534640030204, 92.36037706063983, 37.88958616469072, 25.90860880964571, 30.586881636591144, 36.80851486789806, 81.31824726012847, 113.42494241109728, 84.14194959353547, 66.70528705528848, 38.23499902861953, 53.72417774069129, 85.33184214036658, 29.030285163624153, 47.90927821572596, 38.364816194697745, 54.70422149591919, 35.25551229513433, 36.386825575224336, 42.750521901286454, 146.40998151548595, 53.06523967964712, 22.10644881233271, 28.08806338798251, 143.1230532502782, 52.683910915498416, 64.521655028338, 94.14142776870747, 127.5364596225535, 84.9776130738046, 90.93797739464475, 121.92020426573114, 120.75491619290212, 100.76350719434166, 125.55746147204154, 135.01068052906632, 90.64316978316874, 26.843258235366633, 22.390979484915878, 25.546079166600578, 59.71410890693107, 42.338417932159324, 63.82048974537334, 28.218642804985258, 125.55746147204154, 27.19474297972543, 43.81436054287685, 31.635079089306313, 22.81671001641167, 124.44270790600612, 25.218309918532288, 84.14194959353547, 35.58137947150658, 21.634780276934617, 39.76754836781014, 68.33693416611287, 28.932202314059317, 82.1013101987838, 39.06469920631414, 33.90396698410207, 39.1973011498132, 57.46011373232463, 29.020043738949052, 100.76350719434166, 30.586881636591144, 34.363702983468976, 47.44284564097394, 127.9664268487469, 145.77535644365335, 71.82470020136476, 162.28617172194618, 124.61849460814432, 157.98065384770706, 78.49660579488223, 100.01998415411235, 38.27271266032189, 102.74002331771062, 68.33693416611287, 40.56303839305415, 31.16992127360556, 33.369338605551306, 39.893302273388564, 52.74460771967105, 25.99003347744675, 31.07754423929451, 51.55522970786573, 39.1973011498132, 25.218309918532288, 25.81567596617838, 31.72981487446015, 39.87052921688274, 32.93617377428981, 25.65643136098283, 41.472537808805306, 31.46404604139592, 82.2439170308206, 109.8554911508204, 81.12418571436915, 24.40990766424354, 37.281917589372625, 112.76210675299518, 145.77535644365335, 69.51192364720895, 165.27605622614269, 27.276272091442895, 77.64559778066418, 137.8855812303296, 143.1230532502782, 124.44270790600612, 78.49660579488223, 134.5743703670953, 100.01998415411235, 68.79561510315483, 97.45552878618616, 136.1375639136111, 110.62572160257987, 157.98065384770706, 79.81640225308288, 123.06154206129578, 64.521655028338, 50.705350460243736, 44.03372710716024, 28.184960482674754, 27.721740561703626, 100.76350719434166, 113.42494241109728, 57.46011373232463, 49.22271345641256, 109.8554911508204, 30.015819476988007, 26.82073420327008, 41.91426805535218, 24.552526520032337, 51.29831874345823, 45.45283051215207, 55.21138000065803, 33.84367904177283, 135.01068052906632, 52.683910915498416, 143.77332710722413, 55.308342486630934, 49.21780111400082, 25.81567596617838, 22.801954499442235, 24.96371349800749, 73.04538322330374, 21.025893428299984, 39.76754836781014, 52.5024580467293, 117.23511850591309, 73.35680012559962, 79.81640225308288, 107.0881246749933, 133.82068193695994, 110.62572160257987, 124.61849460814432, 157.98065384770706, 165.27605622614269], \"Category\": [\"Default\", \"Default\", \"Default\", \"Default\", \"Default\", \"Default\", \"Default\", \"Default\", \"Default\", \"Default\", \"Default\", \"Default\", \"Default\", \"Default\", \"Default\", \"Default\", \"Default\", \"Default\", \"Default\", \"Default\", \"Default\", \"Default\", \"Default\", \"Default\", \"Default\", \"Default\", \"Default\", \"Default\", \"Default\", \"Default\", \"Topic1\", \"Topic1\", \"Topic1\", \"Topic1\", \"Topic1\", \"Topic1\", \"Topic1\", \"Topic1\", \"Topic1\", \"Topic1\", \"Topic1\", \"Topic1\", \"Topic1\", \"Topic1\", \"Topic1\", \"Topic1\", \"Topic1\", \"Topic1\", \"Topic1\", \"Topic1\", \"Topic1\", \"Topic1\", \"Topic1\", \"Topic1\", \"Topic1\", \"Topic1\", \"Topic1\", \"Topic1\", \"Topic1\", \"Topic1\", \"Topic1\", \"Topic1\", \"Topic1\", \"Topic1\", \"Topic1\", \"Topic1\", \"Topic1\", \"Topic1\", \"Topic1\", \"Topic1\", \"Topic1\", \"Topic1\", \"Topic1\", \"Topic1\", \"Topic1\", \"Topic1\", \"Topic1\", \"Topic2\", \"Topic2\", \"Topic2\", \"Topic2\", \"Topic2\", \"Topic2\", \"Topic2\", \"Topic2\", \"Topic2\", \"Topic2\", \"Topic2\", \"Topic2\", \"Topic2\", \"Topic2\", \"Topic2\", \"Topic2\", \"Topic2\", \"Topic2\", \"Topic2\", \"Topic2\", \"Topic2\", \"Topic2\", \"Topic2\", \"Topic2\", \"Topic2\", \"Topic2\", \"Topic2\", \"Topic2\", \"Topic2\", \"Topic2\", \"Topic2\", \"Topic2\", \"Topic2\", \"Topic2\", \"Topic2\", \"Topic2\", \"Topic2\", \"Topic2\", \"Topic2\", \"Topic2\", \"Topic2\", \"Topic2\", \"Topic2\", \"Topic2\", \"Topic2\", \"Topic2\", \"Topic3\", \"Topic3\", \"Topic3\", \"Topic3\", \"Topic3\", \"Topic3\", \"Topic3\", \"Topic3\", \"Topic3\", \"Topic3\", \"Topic3\", \"Topic3\", \"Topic3\", \"Topic3\", \"Topic3\", \"Topic3\", \"Topic3\", \"Topic3\", \"Topic3\", \"Topic3\", \"Topic3\", \"Topic3\", \"Topic3\", \"Topic3\", \"Topic3\", \"Topic3\", \"Topic3\", \"Topic3\", \"Topic3\", \"Topic3\", \"Topic3\", \"Topic3\", \"Topic3\", \"Topic3\", \"Topic3\", \"Topic3\", \"Topic3\", \"Topic3\", \"Topic3\", \"Topic3\", \"Topic3\", \"Topic4\", \"Topic4\", \"Topic4\", \"Topic4\", \"Topic4\", \"Topic4\", \"Topic4\", \"Topic4\", \"Topic4\", \"Topic4\", \"Topic4\", \"Topic4\", \"Topic4\", \"Topic4\", \"Topic4\", \"Topic4\", \"Topic4\", \"Topic4\", \"Topic4\", \"Topic4\", \"Topic4\", \"Topic4\", \"Topic4\", \"Topic4\", \"Topic4\", \"Topic4\", \"Topic4\", \"Topic4\", \"Topic4\", \"Topic4\", \"Topic4\", \"Topic4\", \"Topic4\", \"Topic4\", \"Topic4\", \"Topic4\", \"Topic4\", \"Topic4\", \"Topic4\", \"Topic4\", \"Topic4\", \"Topic4\", \"Topic4\", \"Topic4\", \"Topic4\", \"Topic5\", \"Topic5\", \"Topic5\", \"Topic5\", \"Topic5\", \"Topic5\", \"Topic5\", \"Topic5\", \"Topic5\", \"Topic5\", \"Topic5\", \"Topic5\", \"Topic5\", \"Topic5\", \"Topic5\", \"Topic5\", \"Topic5\", \"Topic5\", \"Topic5\", \"Topic5\", \"Topic5\", \"Topic5\", \"Topic5\", \"Topic5\", \"Topic5\", \"Topic5\", \"Topic5\", \"Topic5\", \"Topic5\", \"Topic5\", \"Topic5\", \"Topic5\", \"Topic5\", \"Topic5\", \"Topic5\", \"Topic5\", \"Topic5\", \"Topic5\", \"Topic5\", \"Topic5\", \"Topic5\", \"Topic5\", \"Topic6\", \"Topic6\", \"Topic6\", \"Topic6\", \"Topic6\", \"Topic6\", \"Topic6\", \"Topic6\", \"Topic6\", \"Topic6\", \"Topic6\", \"Topic6\", \"Topic6\", \"Topic6\", \"Topic6\", \"Topic6\", \"Topic6\", \"Topic6\", \"Topic6\", \"Topic6\", \"Topic6\", \"Topic6\", \"Topic6\", \"Topic6\", \"Topic6\", \"Topic6\", \"Topic6\", \"Topic6\", \"Topic6\", \"Topic6\", \"Topic6\", \"Topic6\", \"Topic6\", \"Topic6\", \"Topic6\", \"Topic6\", \"Topic6\", \"Topic6\", \"Topic6\", \"Topic6\", \"Topic6\", \"Topic6\", \"Topic6\", \"Topic7\", \"Topic7\", \"Topic7\", \"Topic7\", \"Topic7\", \"Topic7\", \"Topic7\", \"Topic7\", \"Topic7\", \"Topic7\", \"Topic7\", \"Topic7\", \"Topic7\", \"Topic7\", \"Topic7\", \"Topic7\", \"Topic7\", \"Topic7\", \"Topic7\", \"Topic7\", \"Topic7\", \"Topic7\", \"Topic7\", \"Topic7\", \"Topic7\", \"Topic7\", \"Topic7\", \"Topic7\", \"Topic7\", \"Topic7\", \"Topic7\", \"Topic7\", \"Topic7\", \"Topic7\", \"Topic7\", \"Topic7\", \"Topic7\", \"Topic7\", \"Topic7\", \"Topic7\", \"Topic7\", \"Topic8\", \"Topic8\", \"Topic8\", \"Topic8\", \"Topic8\", \"Topic8\", \"Topic8\", \"Topic8\", \"Topic8\", \"Topic8\", \"Topic8\", \"Topic8\", \"Topic8\", \"Topic8\", \"Topic8\", \"Topic8\", \"Topic8\", \"Topic8\", \"Topic8\", \"Topic8\", \"Topic8\", \"Topic8\", \"Topic8\", \"Topic8\", \"Topic8\", \"Topic8\", \"Topic8\", \"Topic8\", \"Topic8\", \"Topic8\", \"Topic8\", \"Topic8\", \"Topic8\", \"Topic8\", \"Topic8\", \"Topic8\", \"Topic8\", \"Topic8\", \"Topic8\", \"Topic9\", \"Topic9\", \"Topic9\", \"Topic9\", \"Topic9\", \"Topic9\", \"Topic9\", \"Topic9\", \"Topic9\", \"Topic9\", \"Topic9\", \"Topic9\", \"Topic9\", \"Topic9\", \"Topic9\", \"Topic9\", \"Topic9\", \"Topic9\", \"Topic9\", \"Topic9\", \"Topic9\", \"Topic9\", \"Topic9\", \"Topic9\", \"Topic9\", \"Topic9\", \"Topic9\", \"Topic9\", \"Topic9\", \"Topic9\", \"Topic9\", \"Topic9\", \"Topic9\", \"Topic9\", \"Topic9\", \"Topic9\", \"Topic9\", \"Topic9\", \"Topic9\", \"Topic9\", \"Topic9\", \"Topic9\", \"Topic9\", \"Topic9\", \"Topic10\", \"Topic10\", \"Topic10\", \"Topic10\", \"Topic10\", \"Topic10\", \"Topic10\", \"Topic10\", \"Topic10\", \"Topic10\", \"Topic10\", \"Topic10\", \"Topic10\", \"Topic10\", \"Topic10\", \"Topic10\", \"Topic10\", \"Topic10\", \"Topic10\", \"Topic10\", \"Topic10\", \"Topic10\", \"Topic10\", \"Topic10\", \"Topic10\", \"Topic10\", \"Topic10\", \"Topic10\", \"Topic10\", \"Topic10\", \"Topic10\", \"Topic10\", \"Topic10\", \"Topic10\", \"Topic10\", \"Topic10\", \"Topic10\", \"Topic10\", \"Topic10\"], \"logprob\": [30.0, 29.0, 28.0, 27.0, 26.0, 25.0, 24.0, 23.0, 22.0, 21.0, 20.0, 19.0, 18.0, 17.0, 16.0, 15.0, 14.0, 13.0, 12.0, 11.0, 10.0, 9.0, 8.0, 7.0, 6.0, 5.0, 4.0, 3.0, 2.0, 1.0, -3.822000026702881, -4.654200077056885, -4.556300163269043, -4.7179999351501465, -5.2058000564575195, -4.685100078582764, -5.223100185394287, -5.311500072479248, -5.367000102996826, -4.72130012512207, -3.6628000736236572, -3.7567999362945557, -4.486700057983398, -5.13640022277832, -4.937699794769287, -4.64139986038208, -5.235499858856201, -4.6691999435424805, -5.565000057220459, -5.422699928283691, -4.159900188446045, -4.688799858093262, -4.906799793243408, -4.745800018310547, -5.126699924468994, -5.220099925994873, -4.473299980163574, -4.747700214385986, -4.914000034332275, -5.646900177001953, -4.365499973297119, -4.207499980926514, -4.282599925994873, -4.1392998695373535, -4.1392998695373535, -4.423399925231934, -4.292099952697754, -4.769000053405762, -4.578100204467773, -4.3907999992370605, -4.727099895477295, -4.498000144958496, -4.677700042724609, -4.46619987487793, -4.6209001541137695, -4.571499824523926, -4.739500045776367, -4.544099807739258, -4.381999969482422, -4.3053998947143555, -3.5055999755859375, -5.130000114440918, -4.149899959564209, -4.6819000244140625, -4.311699867248535, -3.486999988555908, -3.319200038909912, -5.1331000328063965, -5.070099830627441, -4.561299800872803, -5.109799861907959, -5.117099761962891, -5.156599998474121, -4.089399814605713, -4.6631999015808105, -5.133200168609619, -4.933899879455566, -4.819900035858154, -5.224299907684326, -5.131800174713135, -3.7704999446868896, -5.179299831390381, -4.261600017547607, -3.6854000091552734, -5.373300075531006, -5.486599922180176, -5.374800205230713, -4.037399768829346, -4.586999893188477, -4.094399929046631, -4.048600196838379, -3.8684000968933105, -4.527500152587891, -4.270199775695801, -4.518099784851074, -4.265600204467773, -4.357699871063232, -4.78380012512207, -4.7118000984191895, -4.647200107574463, -4.6107001304626465, -4.701200008392334, -4.761899948120117, -4.324399948120117, -3.156899929046631, -3.961899995803833, -4.19320011138916, -3.6703999042510986, -2.9551000595092773, -2.867300033569336, -4.525199890136719, -4.314300060272217, -3.701900005340576, -4.257299900054932, -4.0991997718811035, -4.77810001373291, -4.028200149536133, -4.066500186920166, -3.762700080871582, -4.608500003814697, -4.390399932861328, -3.4716999530792236, -4.919000148773193, -3.6810998916625977, -5.113699913024902, -5.343800067901611, -5.308300018310547, -3.9351999759674072, -4.651199817657471, -4.690999984741211, -4.8831000328063965, -4.936699867248535, -4.042900085449219, -4.558199882507324, -4.310800075531006, -4.0289998054504395, -4.350200176239014, -4.4019999504089355, -4.244200229644775, -4.2270002365112305, -4.354800224304199, -4.366499900817871, -4.468900203704834, -4.517899990081787, -4.06220006942749, -4.2153000831604, -4.588900089263916, -4.700500011444092, -4.361299991607666, -4.631800174713135, -5.014400005340576, -4.871300220489502, -4.9116997718811035, -4.11929988861084, -3.1089000701904297, -4.6203999519348145, -4.614699840545654, -4.582699775695801, -4.756499767303467, -4.353700160980225, -4.561299800872803, -5.106500148773193, -4.209700107574463, -5.0183000564575195, -4.916900157928467, -5.120800018310547, -4.303800106048584, -4.972700119018555, -4.49970006942749, -5.206299781799316, -5.104000091552734, -3.8880999088287354, -4.406199932098389, -4.395999908447266, -4.074999809265137, -3.9130001068115234, -4.365900039672852, -4.53849983215332, -4.329400062561035, -4.184199810028076, -4.272299766540527, -4.253200054168701, -4.2743000984191895, -4.4969000816345215, -4.510000228881836, -4.449100017547607, -4.485000133514404, -4.551000118255615, -4.599800109863281, -2.778700113296509, -4.491199970245361, -4.562600135803223, -4.6031999588012695, -4.328100204467773, -4.399199962615967, -4.225500106811523, -4.725299835205078, -4.287499904632568, -3.9033000469207764, -3.8889000415802, -4.171800136566162, -4.412199974060059, -3.8173000812530518, -5.261899948120117, -4.324999809265137, -4.949699878692627, -4.777699947357178, -4.552599906921387, -4.710100173950195, -4.1230998039245605, -5.000800132751465, -4.201399803161621, -4.759099960327148, -4.592700004577637, -4.7652997970581055, -5.532899856567383, -5.173500061035156, -4.600599765777588, -4.4120001792907715, -3.9607999324798584, -3.713399887084961, -4.355100154876709, -4.484000205993652, -4.397799968719482, -4.1072001457214355, -4.2428998947143555, -4.389900207519531, -4.37470006942749, -4.574900150299072, -4.5594000816345215, -4.592800140380859, -3.428499937057495, -4.186100006103516, -4.045899868011475, -3.82450008392334, -4.308000087738037, -4.656199932098389, -3.8492000102996826, -4.403299808502197, -4.378399848937988, -3.5801000595092773, -4.596399784088135, -4.52810001373291, -4.771399974822998, -4.185200214385986, -4.312900066375732, -4.281899929046631, -4.789899826049805, -4.964799880981445, -4.265699863433838, -4.783599853515625, -4.640600204467773, -4.76200008392334, -4.776599884033203, -4.169600009918213, -4.449999809265137, -5.103700160980225, -4.243199825286865, -5.0792999267578125, -4.117000102996826, -4.804200172424316, -4.499800205230713, -4.245999813079834, -3.7843000888824463, -4.194300174713135, -4.28980016708374, -4.305799961090088, -4.307700157165527, -4.422999858856201, -4.137499809265137, -4.502299785614014, -4.287300109863281, -4.345600128173828, -4.5192999839782715, -3.8687000274658203, -3.5139000415802, -3.5645999908447266, -3.4226999282836914, -4.196899890899658, -4.420300006866455, -3.287400007247925, -4.179999828338623, -4.662199974060059, -4.533100128173828, -4.439000129699707, -3.739000082015991, -3.4286000728607178, -3.7372000217437744, -3.9914000034332275, -4.57480001449585, -4.23859977722168, -3.8285999298095703, -4.944399833679199, -4.450300216674805, -4.69320011138916, -4.3394999504089355, -4.790299892425537, -4.78000020980835, -4.642099857330322, -3.420099973678589, -4.446700096130371, -5.373700141906738, -5.144499778747559, -3.518699884414673, -4.520500183105469, -4.32450008392334, -4.281799793243408, -4.222700119018555, -4.423299789428711, -4.413599967956543, -4.3292999267578125, -4.383500099182129, -4.430500030517578, -4.429200172424316, -4.465199947357178, -2.588900089263916, -4.1921000480651855, -4.4405999183654785, -4.3902997970581055, -3.5910000801086426, -3.9865000247955322, -3.718899965286255, -4.552800178527832, -3.074399948120117, -4.606500148773193, -4.139599800109863, -4.489699840545654, -4.8653998374938965, -3.2276999950408936, -4.844699859619141, -3.72979998588562, -4.605000019073486, -5.164100170135498, -4.568299770355225, -4.038000106811523, -4.924699783325195, -3.9098000526428223, -4.695499897003174, -4.854100227355957, -4.720399856567383, -4.4029998779296875, -5.096499919891357, -3.8622000217437744, -5.064000129699707, -4.966100215911865, -4.693299770355225, -4.038300037384033, -3.9834001064300537, -4.490799903869629, -4.05620002746582, -4.2357001304626465, -4.317399978637695, -4.658999919891357, -4.673699855804443, -3.2607998847961426, -2.309299945831299, -3.496799945831299, -4.137199878692627, -4.409200191497803, -4.364099979400635, -4.212500095367432, -4.037700176239014, -4.827300071716309, -4.664299964904785, -4.196300029754639, -4.508699893951416, -4.980800151824951, -4.960899829864502, -4.767899990081787, -4.5808000564575195, -4.817599773406982, -5.117000102996826, -4.651299953460693, -4.953100204467773, -4.0106000900268555, -3.789599895477295, -4.127500057220459, -5.355500221252441, -4.954400062561035, -3.850600004196167, -3.658900022506714, -4.439599990844727, -3.5790998935699463, -5.385000228881836, -4.350299835205078, -3.844099998474121, -3.8199000358581543, -3.984800100326538, -4.377200126647949, -4.179699897766113, -4.330399990081787, -4.575699806213379, -4.485000133514404, -4.405799865722656, -4.480899810791016, -4.414999961853027, -4.564000129699707, -4.53879976272583, -2.8696000576019287, -3.3752999305725098, -3.5961999893188477, -4.075900077819824, -4.187399864196777, -2.9042999744415283, -2.8729000091552734, -3.6119000911712646, -3.9667999744415283, -3.2383999824523926, -4.56279993057251, -4.704500198364258, -4.282199859619141, -4.882199764251709, -4.146999835968018, -4.313399791717529, -4.155399799346924, -4.692599773406982, -3.313699960708618, -4.288300037384033, -3.3517000675201416, -4.3165998458862305, -4.477399826049805, -5.161099910736084, -5.288099765777588, -5.2993998527526855, -4.232999801635742, -5.497700214385986, -4.884500026702881, -4.617199897766113, -3.907399892807007, -4.376100063323975, -4.304999828338623, -4.109000205993652, -4.020500183105469, -4.447299957275391, -4.456999778747559, -4.51609992980957, -4.518099784851074], \"loglift\": [30.0, 29.0, 28.0, 27.0, 26.0, 25.0, 24.0, 23.0, 22.0, 21.0, 20.0, 19.0, 18.0, 17.0, 16.0, 15.0, 14.0, 13.0, 12.0, 11.0, 10.0, 9.0, 8.0, 7.0, 6.0, 5.0, 4.0, 3.0, 2.0, 1.0, 1.422, 1.2938, 1.2288, 1.1698, 1.1605, 1.1589, 1.156, 1.1331, 1.1144, 1.086, 1.0559, 1.0545, 1.0542, 1.0511, 1.0473, 1.046, 1.0316, 1.0171, 1.0132, 0.9875, 0.9852, 0.9827, 0.9816, 0.9781, 0.9742, 0.9641, 0.9504, 0.9502, 0.9312, 0.8848, 0.8505, 0.7485, 0.6872, 0.6043, 0.4983, 0.5878, 0.5081, 0.7768, 0.5357, 0.2649, 0.6056, 0.2557, 0.5054, 0.0684, 0.1997, -0.01, 0.0907, 1.6306, 1.6257, 1.5218, 1.3822, 1.3747, 1.3707, 1.3472, 1.2966, 1.2852, 1.2154, 1.1849, 1.1766, 1.1474, 1.1455, 1.1355, 1.096, 1.0922, 1.0646, 1.0335, 0.9782, 0.9633, 0.9598, 0.9538, 0.927, 0.9229, 0.9159, 0.8761, 0.8576, 0.8344, 0.7949, 0.7928, 0.7627, 0.7043, 0.695, 0.6479, 0.7443, 0.6547, 0.6224, 0.3901, 0.4536, 0.7555, 0.6031, 0.4978, 0.4339, 0.0263, 0.3519, 2.1627, 2.0574, 2.034, 1.9798, 1.9657, 1.9436, 1.843, 1.7937, 1.7727, 1.713, 1.6949, 1.6554, 1.6284, 1.3955, 1.3906, 1.3778, 1.3293, 1.2621, 1.2259, 1.2104, 1.1786, 1.1423, 1.1376, 1.1207, 1.1094, 1.1021, 1.0734, 1.0723, 1.0435, 1.0363, 0.9689, 0.9148, 0.6085, 0.6685, 0.6623, 0.5096, 0.2894, 0.3009, 0.2938, 0.0926, 0.3999, 1.9134, 1.7257, 1.7129, 1.7091, 1.631, 1.6273, 1.6214, 1.5519, 1.5465, 1.5364, 1.533, 1.4959, 1.4898, 1.4799, 1.4647, 1.4628, 1.3539, 1.3468, 1.3235, 1.2343, 1.1914, 1.1348, 1.1333, 1.1329, 1.1223, 1.1117, 1.1047, 1.1037, 1.1015, 1.0658, 0.8753, 0.8089, 0.8157, 0.861, 0.7151, 0.5433, 0.5875, 0.5674, 0.386, 0.7749, 0.7061, 0.5069, 0.4398, 0.6405, 0.7151, 1.9969, 1.8774, 1.6118, 1.5051, 1.4925, 1.4863, 1.3873, 1.3363, 1.3348, 1.3247, 1.2942, 1.2901, 1.2692, 1.247, 1.2303, 1.2231, 1.217, 1.2107, 1.2007, 1.1811, 1.1585, 1.142, 1.1315, 1.1207, 1.1041, 1.0593, 1.0453, 1.0377, 1.0349, 0.9692, 0.9571, 0.8029, 0.8891, 0.9088, 0.8631, 0.6203, 0.479, 0.5799, 0.4254, 0.8076, 0.1843, 0.0448, 2.1255, 2.0212, 1.8156, 1.8002, 1.7927, 1.7855, 1.7683, 1.727, 1.7229, 1.7015, 1.6258, 1.6103, 1.6016, 1.5924, 1.5869, 1.5807, 1.5326, 1.5317, 1.4455, 1.4276, 1.4153, 1.3808, 1.3731, 1.3506, 1.3389, 1.3253, 1.2912, 1.2901, 1.2759, 1.2583, 1.197, 1.1352, 0.9695, 1.0337, 1.0432, 1.027, 1.021, 1.1163, 0.6613, 1.1533, 0.663, 0.4457, 0.2025, 2.2454, 2.0871, 2.0577, 1.9103, 1.8414, 1.8324, 1.8108, 1.8093, 1.7072, 1.6703, 1.5792, 1.4866, 1.4642, 1.4542, 1.4323, 1.4054, 1.4015, 1.3488, 1.3112, 1.3044, 1.2837, 1.2825, 1.271, 1.2498, 1.2265, 1.2175, 1.2057, 1.1544, 1.1441, 1.1415, 1.1392, 1.1324, 0.7973, 0.5529, 0.7583, 0.7002, 0.4913, 0.4467, 0.5807, 0.362, 0.2535, 2.5281, 2.1418, 2.0747, 1.9932, 1.9434, 1.8918, 1.749, 1.7312, 1.7168, 1.7145, 1.7044, 1.68, 1.6311, 1.5724, 1.5517, 1.4617, 1.4471, 1.3856, 1.3726, 1.3615, 1.3343, 1.3062, 1.2632, 1.2463, 1.235, 1.1698, 1.1595, 1.149, 1.1394, 1.1208, 1.0712, 0.7339, 0.6585, 0.8589, 0.4784, 0.563, 0.2441, 0.6019, 0.3449, 2.7184, 2.6824, 1.9027, 1.7839, 1.7753, 1.7523, 1.7253, 1.6208, 1.539, 1.5232, 1.4851, 1.4466, 1.4156, 1.4121, 1.3988, 1.3576, 1.3118, 1.2622, 1.2476, 1.222, 1.2036, 1.1352, 1.1005, 1.0735, 1.051, 1.0481, 0.9831, 0.9429, 0.9372, 0.9329, 0.9215, 0.8534, 0.8404, 0.8153, 0.8838, 0.5422, 0.6882, 0.8172, 0.5595, 0.3045, 0.4369, 0.1465, 0.6802, 0.2724, 2.5873, 2.3227, 2.2428, 2.2092, 2.1143, 2.1069, 2.0199, 1.961, 1.7608, 1.6864, 1.6594, 1.6303, 1.6062, 1.541, 1.5393, 1.4939, 1.4574, 1.4096, 1.4049, 1.3714, 1.304, 1.2945, 1.2503, 1.2119, 1.209, 1.1072, 1.0999, 1.0806, 1.0564, 1.0459, 0.9524, 0.9525, 0.9392, 0.8414, 0.707, 0.4705, 0.3417, 0.0454, -0.0017]}, \"token.table\": {\"Topic\": [1, 2, 3, 4, 5, 6, 7, 8, 9, 10, 5, 6, 7, 8, 9, 1, 3, 4, 8, 1, 5, 10, 1, 2, 4, 5, 6, 9, 10, 1, 2, 4, 5, 6, 1, 2, 3, 7, 9, 4, 5, 6, 7, 1, 4, 6, 1, 2, 4, 5, 7, 8, 1, 3, 4, 5, 7, 9, 1, 2, 3, 4, 5, 7, 1, 2, 3, 7, 1, 2, 8, 1, 2, 3, 4, 5, 9, 3, 6, 7, 9, 1, 2, 4, 5, 1, 5, 6, 7, 8, 1, 2, 4, 9, 10, 1, 3, 5, 8, 4, 5, 6, 10, 2, 3, 4, 5, 7, 9, 10, 1, 2, 3, 6, 1, 2, 5, 6, 8, 1, 2, 3, 4, 7, 10, 2, 3, 4, 6, 8, 10, 5, 6, 9, 10, 1, 4, 5, 6, 1, 3, 5, 6, 9, 1, 2, 3, 5, 7, 10, 5, 6, 7, 4, 5, 6, 9, 1, 2, 6, 3, 5, 6, 7, 9, 1, 2, 4, 9, 3, 5, 7, 8, 1, 2, 3, 4, 5, 7, 8, 10, 1, 5, 6, 7, 10, 1, 2, 5, 8, 9, 1, 2, 3, 4, 8, 9, 5, 7, 1, 5, 8, 1, 2, 6, 1, 8, 1, 2, 3, 5, 6, 1, 6, 7, 8, 9, 1, 4, 5, 6, 1, 4, 8, 9, 1, 4, 7, 2, 3, 4, 7, 8, 9, 1, 3, 4, 6, 7, 2, 5, 6, 1, 2, 5, 9, 10, 1, 4, 6, 8, 1, 2, 4, 5, 8, 9, 10, 4, 8, 9, 10, 2, 3, 5, 6, 8, 1, 2, 3, 5, 6, 7, 9, 10, 2, 3, 4, 7, 10, 1, 2, 6, 7, 1, 2, 4, 5, 6, 3, 4, 5, 7, 10, 1, 6, 7, 8, 10, 1, 5, 7, 8, 9, 3, 4, 1, 2, 3, 4, 9, 1, 4, 6, 10, 2, 3, 4, 5, 1, 2, 6, 3, 4, 6, 8, 9, 10, 2, 3, 4, 6, 8, 9, 10, 1, 2, 6, 1, 2, 6, 8, 10, 1, 2, 5, 7, 10, 1, 2, 4, 5, 6, 8, 10, 3, 4, 6, 7, 8, 9, 2, 5, 7, 1, 2, 4, 6, 10, 4, 5, 6, 7, 8, 1, 2, 6, 8, 9, 1, 5, 6, 9, 1, 2, 3, 6, 7, 4, 5, 4, 5, 6, 2, 3, 4, 1, 2, 6, 8, 1, 2, 9, 2, 4, 5, 6, 1, 5, 6, 7, 9, 1, 4, 9, 1, 2, 4, 5, 5, 6, 7, 10, 4, 5, 6, 1, 3, 5, 6, 9, 1, 2, 5, 7, 4, 5, 6, 7, 1, 3, 4, 7, 8, 9, 1, 3, 5, 6, 1, 2, 3, 8, 9, 1, 2, 4, 5, 10, 1, 2, 3, 4, 8, 1, 2, 3, 5, 7, 8, 9, 10, 2, 3, 5, 7, 1, 2, 3, 4, 5, 8, 1, 2, 5, 6, 1, 4, 9, 1, 2, 3, 5, 8, 1, 3, 5, 7, 2, 4, 5, 1, 3, 4, 7, 8, 10, 1, 2, 6, 8, 9, 1, 2, 1, 2, 4, 5, 8, 9, 2, 4, 5, 8, 5, 6, 7, 8, 9, 1, 2, 5, 6, 7, 10, 1, 2, 3, 4, 5, 6, 7, 8, 2, 3, 9, 1, 2, 5, 10, 1, 2, 5, 6, 10, 1, 5, 6, 7, 10, 4, 5, 6, 7, 8, 9, 3, 4, 5, 9, 3, 4, 8, 10, 2, 4, 5, 6, 7, 8, 10, 4, 6, 8, 3, 5, 6, 8, 9, 3, 9, 1, 2, 8, 1, 2, 4, 5, 6, 1, 3, 4, 7, 1, 2, 5, 7, 1, 4, 5, 6, 9, 10, 1, 2, 5, 6, 8, 10, 1, 5, 6, 8, 1, 3, 5, 8, 1, 6, 8, 1, 5, 6, 7, 9, 2, 3, 8, 2, 7, 1, 3, 2, 3, 5, 6, 7, 8, 9, 1, 4, 5, 7, 8, 9, 2, 5, 6, 7, 4, 8, 10, 2, 3, 4, 6, 7, 8, 9, 10, 1, 2, 3, 4, 5, 6, 8, 9, 1, 4, 9, 5, 6, 7, 8, 10, 1, 2, 6, 8, 2, 3, 4, 6, 7, 10, 1, 6, 8, 10, 1, 2, 4, 10, 1, 3, 4, 5, 6, 7, 10, 1, 4, 5, 6, 7, 9, 10, 1, 2, 4, 5, 6, 7, 8, 9, 10, 2, 4, 9, 1, 4, 5, 6, 9, 1, 2, 6, 1, 2, 3, 5, 6, 9, 10, 1, 2, 3, 9, 2, 4, 8, 2, 4, 7, 9, 10, 1, 4, 5, 7, 10, 1, 4, 1, 5, 6, 7, 9, 1, 4, 5, 6, 7, 1, 2, 5, 10, 3, 1, 2, 3, 4, 7, 1, 4, 5, 1, 4, 8, 9, 10, 1, 2, 4, 5, 1, 2, 3, 5, 8, 1, 2, 8, 1, 2, 3, 4, 9, 1, 2, 3, 4, 5, 8, 9, 1, 2, 3, 5, 6, 7, 9, 1, 6, 7, 8, 10, 3, 8, 9, 1, 5, 6, 7, 10, 1, 5, 6, 7, 9, 10, 3, 4, 7, 9, 1, 4, 1, 2, 5, 8, 9, 2, 4, 8, 1, 3, 1, 2, 3, 4, 5, 6, 8, 1, 2, 5, 6, 1, 2, 5, 7, 9, 10, 1, 7, 8, 10, 2, 4, 5, 7, 8, 10, 1, 2, 4, 8, 9, 10, 1, 2, 3, 4, 7, 8, 9, 1, 3, 6, 8, 1, 4, 6, 7, 1, 5, 8, 1, 2, 3, 4, 8, 1, 2, 4, 7, 8, 1, 2, 4, 5, 6, 7, 8, 10, 1, 2, 3, 8, 9, 10, 1, 2, 3, 4, 5, 9, 3, 6, 8, 9, 1, 2, 8, 10, 1, 2, 5, 8, 9, 1, 2, 3, 4, 5, 6, 7, 9, 10, 3, 4, 5, 7, 8, 2, 4, 7, 8, 9, 1, 2, 3, 4, 5, 6, 9, 10, 1, 2, 3, 7, 8, 9, 2, 4, 7, 8, 9, 1, 2, 3, 4, 5, 6, 1, 2, 4, 8, 1, 3, 8, 3, 7, 8, 3, 4, 5, 1, 2, 4, 5, 6, 10, 1, 2, 3, 5, 1, 2, 6, 10, 2, 6, 7, 1, 2, 5, 6, 7, 8, 9, 10, 1, 2, 4, 5, 8, 9, 4, 7, 1, 2, 4, 6, 8, 1, 2, 3, 5, 6, 8, 9, 10, 2, 3, 5, 6, 7, 8, 2, 3, 4, 8, 9, 2, 4, 6, 8, 9, 1, 3, 5, 6, 8, 9, 1, 2, 3, 4, 5, 7, 8, 9, 2, 5, 9, 1, 3, 5, 7, 8, 2, 4, 5, 7, 9, 1, 2, 4, 5, 6, 8, 1, 2, 3, 4, 5, 8, 9, 1, 2, 3, 4, 5, 6, 7, 9, 2, 4, 5, 6, 10, 2, 3, 4, 7, 1, 3, 4, 7, 8, 2, 4, 1, 2, 4, 5, 6, 8, 9, 1, 2, 5, 6, 8, 1, 5, 6, 7, 9, 10, 1, 2, 4, 5, 6, 7, 8, 9, 10, 1, 4, 5, 6, 9, 1, 2, 5, 7, 9, 1, 2, 3, 5, 7, 4, 5, 6], \"Freq\": [0.24606257987079408, 0.14763754792247646, 0.04921251597415882, 0.18864797790094215, 0.0656166879655451, 0.07381877396123823, 0.12303128993539704, 0.04921251597415882, 0.02460625798707941, 0.02460625798707941, 0.15861491166228006, 0.2775760954089901, 0.11896118374671005, 0.2775760954089901, 0.15861491166228006, 0.2756715348868636, 0.34458941860857945, 0.17229470930428972, 0.20675365116514766, 0.570724856041004, 0.285362428020502, 0.09512080934016733, 0.4094437818268522, 0.15235117463324732, 0.14282922621866936, 0.19043896829155915, 0.057131690487467746, 0.019043896829155915, 0.028565845243733873, 0.5465384037836989, 0.2631481203402995, 0.1012108155154998, 0.02024216310309996, 0.06072648930929988, 0.07520059330864659, 0.15040118661729318, 0.426136695415664, 0.12533432218107765, 0.20053491548972424, 0.22567723798190767, 0.19746758323416921, 0.39493516646833843, 0.16925792848643076, 0.299546451021431, 0.4659611460333371, 0.19969763401428733, 0.059423391354175896, 0.11884678270835179, 0.20203953060419805, 0.02376935654167036, 0.32088631331254985, 0.26146292195837395, 0.18446044406265405, 0.27054198462522594, 0.04918945175004108, 0.11067626643759243, 0.3320287993127773, 0.03689208881253081, 0.33467663538238485, 0.047810947911769264, 0.20490406247901113, 0.047810947911769264, 0.1092821666554726, 0.2527150103907804, 0.2876945280361147, 0.07846214400984948, 0.3138485760393979, 0.3138485760393979, 0.28449431008510717, 0.3793257467801429, 0.3161047889834524, 0.20606448346495218, 0.3606128460636663, 0.051516120866238045, 0.2318225438980712, 0.051516120866238045, 0.09015321151591657, 0.32773577475340765, 0.3687027465975836, 0.16386788737670382, 0.12290091553252787, 0.04955123516261588, 0.6606831355015451, 0.11561954871277039, 0.16517078387538628, 0.3311418227228413, 0.3311418227228413, 0.16557091136142066, 0.047305974674691616, 0.11826493668672904, 0.482414785989906, 0.17542355854178399, 0.131567668906338, 0.08771177927089199, 0.131567668906338, 0.5628405320656553, 0.08040579029509362, 0.16081158059018724, 0.16081158059018724, 0.48277282327431675, 0.08519520410723236, 0.34078081642892943, 0.08519520410723236, 0.16713921190888842, 0.1975281595286863, 0.33427842381777684, 0.10636131666929262, 0.10636131666929262, 0.030388947619797893, 0.04558342142969684, 0.09846278402885303, 0.09846278402885303, 0.06564185601923536, 0.6892394882019712, 0.2524241300819026, 0.3533937821146637, 0.050484826016380525, 0.28608068075948967, 0.050484826016380525, 0.18406161322661702, 0.15158015206897874, 0.021654307438425533, 0.12992584463055318, 0.45474045620693615, 0.05413576859606383, 0.4876284485852986, 0.2031785202438744, 0.1015892601219372, 0.06095355607316232, 0.02031785202438744, 0.12190711214632464, 0.2324169240371903, 0.4648338480743806, 0.15494461602479354, 0.11620846201859515, 0.21804833082321426, 0.31149761546173466, 0.3737971385540816, 0.07787440386543366, 0.1435627762202218, 0.19141703496029572, 0.3349798111805175, 0.23927129370036965, 0.0717813881101109, 0.1328678884760007, 0.15184901540114368, 0.20879239617657255, 0.11388676155085775, 0.2277735231017155, 0.15184901540114368, 0.26569883172586223, 0.5313976634517245, 0.2066546468978928, 0.35673405190878, 0.47564540254504, 0.089183512977195, 0.05945567531813, 0.1721902251564107, 0.5165706754692321, 0.2755043602502571, 0.015681790179208652, 0.7684077187812239, 0.06272716071683461, 0.13329521652327353, 0.015681790179208652, 0.24424130799541632, 0.1998337974507952, 0.4662788607185221, 0.06661126581693172, 0.16346877263939488, 0.22885628169515282, 0.39232505433454773, 0.19616252716727386, 0.06823893814374826, 0.14500774355546506, 0.3582544252546783, 0.19618694716327623, 0.06823893814374826, 0.03411946907187413, 0.03411946907187413, 0.09382853994765385, 0.09885369473961889, 0.2965610842188567, 0.39541477895847554, 0.13180492631949184, 0.06590246315974592, 0.3417826964899699, 0.14142732268550479, 0.3771395271613461, 0.09428488179033652, 0.04714244089516826, 0.09035313172386632, 0.31623596103353213, 0.4404715171538483, 0.06776484879289973, 0.06776484879289973, 0.01129414146548329, 0.40227186151474814, 0.5851227076578155, 0.22330421066967382, 0.2679650528036086, 0.4912692634732824, 0.6241326765445567, 0.1664353804118818, 0.1664353804118818, 0.6618834473601531, 0.34235350725525165, 0.26862756551277783, 0.24624193505337966, 0.06715689137819446, 0.31339882643157413, 0.11192815229699075, 0.3618853515512167, 0.22617834471951043, 0.22617834471951043, 0.09047133788780418, 0.04523566894390209, 0.05922818547523971, 0.4738254838019177, 0.17768455642571915, 0.23691274190095885, 0.09733305168791188, 0.3309323757389004, 0.029199915506373565, 0.5450650894523066, 0.3694946664011493, 0.158354857029064, 0.44867209491568133, 0.6095348750512042, 0.109403695522011, 0.10158914584186736, 0.03125819872057457, 0.1250327948822983, 0.02344364904043093, 0.10968074923518628, 0.18280124872531048, 0.32904224770555884, 0.09140062436265524, 0.27420187308796573, 0.34044488352629937, 0.3971856974473493, 0.2553336626447245, 0.5653206715219726, 0.09746908129689183, 0.09746908129689183, 0.058481448778135096, 0.17544434633440528, 0.4411331129180224, 0.41662571775591, 0.049014790324224705, 0.09802958064844941, 0.04386254635000919, 0.6754832137901415, 0.026317527810005514, 0.12281512978002573, 0.05263505562001103, 0.03509003708000735, 0.03509003708000735, 0.603507155583843, 0.22631518334394116, 0.025146131482660126, 0.1005845259306405, 0.45105236813756266, 0.10739342098513396, 0.15035078937918755, 0.15035078937918755, 0.12887210518216075, 0.26430493586379994, 0.2503941497657052, 0.15301864707904206, 0.0417323582942842, 0.09737550268666313, 0.048687751343331566, 0.013910786098094732, 0.13215246793189997, 0.28435748850793663, 0.20072293306442585, 0.4014458661288517, 0.05018073326610646, 0.05018073326610646, 0.2105237456698551, 0.3040898548564574, 0.2105237456698551, 0.2573068002631562, 0.04826780691453801, 0.04826780691453801, 0.21720513111542106, 0.19307122765815204, 0.45854416568811107, 0.3957392848270585, 0.2261367341868906, 0.0376894556978151, 0.24498146203579813, 0.0753789113956302, 0.33556128373632244, 0.22370752249088163, 0.11185376124544082, 0.11185376124544082, 0.186422935409068, 0.44495231101495303, 0.19069384757783703, 0.09534692378891851, 0.15891153964819751, 0.127129231718558, 0.6604958041151698, 0.29355369071785326, 0.11287199543223037, 0.2565272623459781, 0.3386159862966911, 0.22574399086446073, 0.061566542963034744, 0.15123576444889114, 0.5104207050150076, 0.3024715288977823, 0.037808941112222785, 0.3286704778363743, 0.19720228670182458, 0.3286704778363743, 0.13146819113454972, 0.27870726992343586, 0.13935363496171793, 0.5806401456738247, 0.4494993541757414, 0.20149971049257373, 0.0774998886509899, 0.12399982184158384, 0.0774998886509899, 0.0774998886509899, 0.3277032365234767, 0.10013154449328455, 0.16385161826173836, 0.02730860304362306, 0.0637200737684538, 0.11833727985569992, 0.2002630889865691, 0.49937084654511643, 0.27238409811551806, 0.18158939874367871, 0.5445746957342965, 0.27228734786714825, 0.07941714312791823, 0.05672653080565588, 0.03403591848339353, 0.1954623293886666, 0.4397902411244998, 0.1954623293886666, 0.04886558234716665, 0.0977311646943333, 0.14940965721978175, 0.14940965721978175, 0.26146690013461804, 0.13073345006730902, 0.17742396794849083, 0.03735241430494544, 0.08404293218612724, 0.36434104587361865, 0.18217052293680933, 0.06072350764560311, 0.21253227675961087, 0.030361753822801554, 0.15180876911400776, 0.8577308753575656, 0.03176781019842836, 0.06353562039685672, 0.12393646043852548, 0.3098411510963137, 0.12393646043852548, 0.37180938131557645, 0.09295234532889411, 0.1519486372576347, 0.12155890980610774, 0.5166253666759579, 0.12155890980610774, 0.09116918235458081, 0.47192117687887586, 0.20646551488450818, 0.05899014710985948, 0.20646551488450818, 0.05899014710985948, 0.39278891478559275, 0.34914570203163797, 0.13092963826186424, 0.08728642550790949, 0.186135933960063, 0.16752234056405668, 0.2233631207520756, 0.0930679669800315, 0.2978174943361008, 0.2699694585164299, 0.6942071790422483, 0.6027053092978752, 0.2009017697659584, 0.2009017697659584, 0.5151150419199014, 0.06868200558932018, 0.37775103074126104, 0.5311704027356365, 0.26558520136781827, 0.1180378672745859, 0.05901893363729295, 0.654096887360765, 0.15390514996723884, 0.15390514996723884, 0.11801181253165033, 0.20652067193038806, 0.08850885939873775, 0.5605561095253391, 0.18328987876380148, 0.07331595150552059, 0.5681986241677845, 0.12830291513466102, 0.036657975752760294, 0.5791963438745833, 0.22524302261789353, 0.16088787329849538, 0.1560708039190509, 0.2898457787068088, 0.06688748739387895, 0.46821241175715267, 0.20747468748098558, 0.5394341874505625, 0.12448481248859133, 0.08298987499239423, 0.2769635632003687, 0.33851102168933955, 0.36928475093382496, 0.13559458135863448, 0.08628746086458558, 0.3944569639523912, 0.2588623825937567, 0.11094102111161003, 0.3024693525152213, 0.403292470020295, 0.2016462350101475, 0.10082311750507375, 0.2209835524914243, 0.18415296040952026, 0.4419671049828486, 0.1473223683276162, 0.5247252878356069, 0.20989011513424277, 0.0749607554050867, 0.0749607554050867, 0.02998430216203468, 0.05996860432406936, 0.2560995982754986, 0.11819981458869165, 0.3151995055698444, 0.3151995055698444, 0.2826273678358044, 0.3325027856891816, 0.29925250712026347, 0.04987541785337725, 0.04987541785337725, 0.1395460705644182, 0.5382491293198988, 0.2192866823155143, 0.05980545881332208, 0.03987030587554805, 0.16862752622631663, 0.25294128933947496, 0.22483670163508884, 0.05620917540877221, 0.25294128933947496, 0.20255644739164022, 0.40511289478328044, 0.12026789063878639, 0.07595866777186508, 0.03797933388593254, 0.07595866777186508, 0.0443092228669213, 0.03797933388593254, 0.3334944837449608, 0.22232965582997388, 0.29643954110663184, 0.14821977055331592, 0.3721339895902102, 0.34175570472570327, 0.07594571216126739, 0.03797285608063369, 0.12910771067415455, 0.03797285608063369, 0.18601184637199136, 0.30226925035448593, 0.04650296159299784, 0.4650296159299784, 0.26970867197537934, 0.4794820835117855, 0.20977341153640616, 0.09527731434176144, 0.1270364191223486, 0.19055462868352288, 0.5399047812699815, 0.0635182095611743, 0.07495657721787127, 0.44973946330722764, 0.14991315443574255, 0.31481762431505933, 0.7630827758098552, 0.0673308331596931, 0.1346616663193862, 0.12342964168549815, 0.11461323870796257, 0.14106244764056933, 0.32620691016881653, 0.017632805955071166, 0.27330849230360305, 0.32048881235252996, 0.14791791339347538, 0.12326492782789614, 0.17257089895905459, 0.22187687009021306, 0.5451888589112616, 0.4489790602798625, 0.23276009180828405, 0.019396674317357004, 0.05819002295207101, 0.36853681202978306, 0.15517339453885604, 0.15517339453885604, 0.044129083411012265, 0.15445179193854291, 0.0330968125582592, 0.7612266888399616, 0.06831320313057782, 0.7856018360016448, 0.051234902347933355, 0.06831320313057782, 0.03415660156528891, 0.28928728073649107, 0.14464364036824554, 0.25312637064442967, 0.14464364036824554, 0.018080455046030692, 0.12656318532221483, 0.22359338113297486, 0.37265563522162476, 0.033124945353033314, 0.10765607239735826, 0.0910935997208416, 0.024843709014774985, 0.1159373087356166, 0.016562472676516657, 0.16685802327968746, 0.7972105556696178, 0.018539780364409716, 0.5487391541616828, 0.21472401684587591, 0.023858224093986212, 0.1908657927518897, 0.4266323110893878, 0.06094747301276968, 0.14221077036312926, 0.14221077036312926, 0.22347406771348885, 0.1295874224729266, 0.21597903745487765, 0.367164363673292, 0.21597903745487765, 0.08639161498195105, 0.11809605186503937, 0.21257289335707086, 0.047238420746015745, 0.14171526223804723, 0.4015265763411338, 0.07085763111902361, 0.7715357801053953, 0.044341136787666394, 0.07094581886026624, 0.10641872829039935, 0.560813999131877, 0.24034885677080445, 0.08011628559026815, 0.12017442838540222, 0.3237943637775838, 0.11428036368620605, 0.13332709096724038, 0.15237381824827473, 0.07618690912413736, 0.07618690912413736, 0.09523363640517171, 0.5530170094319076, 0.20738137853696534, 0.24194494162645958, 0.3316554869508396, 0.10204784213871987, 0.20409568427743974, 0.20409568427743974, 0.1530717632080798, 0.8632857305834912, 0.12158953951880158, 0.23440548950810963, 0.6130605110212098, 0.14424953200499055, 0.08255625513883393, 0.2641800164442686, 0.08255625513883393, 0.19813501233320144, 0.3632475226108693, 0.10334035587632094, 0.2755742823368558, 0.3444678529210698, 0.2755742823368558, 0.6885848591726277, 0.10759138424572308, 0.06455483054743386, 0.1291096610948677, 0.3179381106198364, 0.13625919026564418, 0.09083946017709611, 0.045419730088548056, 0.045419730088548056, 0.3406479756641104, 0.30556908146481276, 0.1358084806510279, 0.35649726170894824, 0.06790424032551395, 0.08488030040689243, 0.05092818024413546, 0.5377998428473079, 0.11524282346728025, 0.2496927841791072, 0.07682854897818683, 0.21077993667739683, 0.31616990501609527, 0.2740139176806159, 0.16862394934191746, 0.2191376406328338, 0.4382752812656676, 0.30679269688596733, 0.3009741840827819, 0.15048709204139096, 0.17556827404828945, 0.20064945605518794, 0.15048709204139096, 0.40448994161117313, 0.2574026901162011, 0.3309463158636871, 0.5151535040806065, 0.4808099371418994, 0.13283951149301132, 0.8501728735552725, 0.4278910055246751, 0.37712427605564586, 0.014504779848294073, 0.014504779848294073, 0.05801911939317629, 0.021757169772441107, 0.08702867908976443, 0.2716762693602, 0.16300576161612, 0.10867050774407999, 0.35317915016826, 0.08150288080806, 0.027167626936019998, 0.027718200254875487, 0.16630920152925294, 0.30490020280363034, 0.4712094043328833, 0.6132371076109397, 0.07214554207187526, 0.28858216828750105, 0.19084801921607214, 0.0817920082354595, 0.19084801921607214, 0.25900802607895507, 0.09542400960803607, 0.05452800549030633, 0.027264002745153164, 0.09542400960803607, 0.19996003967750772, 0.11997602380650464, 0.2199560436452585, 0.08998201785487848, 0.05998801190325232, 0.14997002975813079, 0.08998201785487848, 0.0699860138871277, 0.6626018934906455, 0.19488290985018983, 0.1169297459101139, 0.16657882700265142, 0.46642071560742393, 0.09994729620159085, 0.06663153080106056, 0.1998945924031817, 0.6676358262772604, 0.07153240995827789, 0.2145972298748337, 0.0476882733055186, 0.11991371334219231, 0.15988495112292309, 0.1398993322325577, 0.39971237780730773, 0.07994247556146154, 0.09992809445182693, 0.5324881842828351, 0.039443569206135926, 0.05916535380920389, 0.3747139074582913, 0.5940224117127623, 0.04400166012687128, 0.17600664050748513, 0.15400581044404948, 0.26083652211522773, 0.18411989796369016, 0.12274659864246011, 0.09205994898184508, 0.24549319728492022, 0.06904496173638382, 0.02301498724546127, 0.21298880330506728, 0.15034503762710633, 0.2505750627118439, 0.11275877822032974, 0.11275877822032974, 0.07517251881355316, 0.08770127194914536, 0.13043780279109007, 0.08152362674443128, 0.32609450697772513, 0.03260945069777252, 0.21196142953552136, 0.06521890139554504, 0.06521890139554504, 0.03260945069777252, 0.04891417604665877, 0.5499285221130272, 0.3299571132678163, 0.10998570442260544, 0.08721486087453925, 0.21803715218634814, 0.2616445826236178, 0.33432363335240045, 0.08721486087453925, 0.557494390305075, 0.1742169969703359, 0.2090603963644031, 0.3695689217885772, 0.09581416490814965, 0.10950190275217103, 0.06843868922010689, 0.26006701903640617, 0.06843868922010689, 0.04106321353206414, 0.40685220612407896, 0.4359130779900846, 0.02906087186600564, 0.08718261559801692, 0.6591129204737054, 0.21970430682456846, 0.10985215341228423, 0.5060156251112127, 0.24712390993803413, 0.16474927329202274, 0.023535610470288962, 0.07060683141086689, 0.1323517081129173, 0.5558771740742526, 0.1323517081129173, 0.07941102486775038, 0.07941102486775038, 0.8517605963604225, 0.15031069347536866, 0.48280778360850674, 0.08046796393475113, 0.26822654644917043, 0.08046796393475113, 0.10729061857966816, 0.09583882388891346, 0.041073781666677196, 0.08214756333335439, 0.2601339505556222, 0.5065766405556854, 0.4404282439838657, 0.3218514090651326, 0.16939547845533295, 0.03387909569106659, 0.9551968622977811, 0.5255960629033266, 0.11426001367463623, 0.022852002734927247, 0.2513720300841997, 0.06855600820478173, 0.35267419658701293, 0.5542023089224488, 0.10076405616771798, 0.20364503001027262, 0.5294770780267088, 0.04072900600205453, 0.08145801200410906, 0.1629160240082181, 0.2938494669713371, 0.16791398112647837, 0.41978495281619593, 0.08395699056323919, 0.1459064348740739, 0.06253132923174595, 0.3335004225693118, 0.3543441989798938, 0.10421888205290993, 0.734441462347496, 0.17727897367008524, 0.0759767030014651, 0.5850731170273934, 0.26815851197088864, 0.04063007757134676, 0.04875609308561611, 0.04875609308561611, 0.17149675095916, 0.0274394801534656, 0.0548789603069312, 0.5007705128007472, 0.020579610115099203, 0.11661779065222881, 0.0960381805371296, 0.10058100064744588, 0.17242457253847865, 0.07184357189103277, 0.2730055731859245, 0.2873742875641311, 0.057474857512826216, 0.028737428756413108, 0.18198327690399452, 0.5459498307119836, 0.14558662152319563, 0.036396655380798906, 0.07279331076159781, 0.7928891213903638, 0.1268622594224582, 0.0634311297112291, 0.5851388919041273, 0.05184774991555558, 0.11110232124761911, 0.09628867841460323, 0.1481364283301588, 0.3596505273955802, 0.23017633753317132, 0.10070214767076245, 0.12947418986240888, 0.10070214767076245, 0.07193010547911605, 0.610394638904534, 0.1525986597261335, 0.12716554977177794, 0.10173243981742235, 0.46397669898787963, 0.5061563988958687, 0.3375047096509936, 0.12053739630392628, 0.16071652840523504, 0.28928975112942307, 0.08035826420261752, 0.6628501589172362, 0.13257003178344723, 0.17676004237792964, 0.6044304978498112, 0.3453888559141778, 0.4319679419138078, 0.12207789662781525, 0.08451546689617978, 0.17842154122526843, 0.08451546689617978, 0.046953037164544326, 0.046953037164544326, 0.3164059423850762, 0.26367161865423017, 0.3427731042504992, 0.052734323730846036, 0.585424081118721, 0.039028272074581406, 0.058542408111872106, 0.15611308829832563, 0.07805654414916281, 0.07805654414916281, 0.367196428848377, 0.1389391892939805, 0.18856032832754493, 0.29772683420138674, 0.12398937994517327, 0.061994689972586635, 0.046496017479439974, 0.23248008739719989, 0.046496017479439974, 0.4804588472875464, 0.32904792933718274, 0.17235843917661953, 0.03133789803211264, 0.34471687835323905, 0.03133789803211264, 0.06267579606422528, 0.35188818705664826, 0.24192312860144566, 0.08797204676416207, 0.12096156430072283, 0.1539510818372836, 0.021993011691040516, 0.021993011691040516, 0.25628597819448634, 0.12814298909724317, 0.46985762668989167, 0.12814298909724317, 0.3120079466698922, 0.22691487030537613, 0.1701861527290321, 0.25527922909354817, 0.4097863196617182, 0.03725330178742892, 0.5215462250240049, 0.12799279404644273, 0.2303870292835969, 0.2303870292835969, 0.15359135285573128, 0.20478847047430834, 0.17788228276914544, 0.3557645655382909, 0.3261175184101, 0.08894114138457272, 0.05929409425638182, 0.18681716187769065, 0.1718717889274754, 0.18681716187769065, 0.19428984835279828, 0.11209029712661439, 0.014945372950215252, 0.05230880532575338, 0.07472686475107626, 0.10442025972922246, 0.19143714283690785, 0.20884051945844492, 0.19143714283690785, 0.034806753243074154, 0.26105064932305616, 0.03672755598280614, 0.10283715675185717, 0.6978235636733165, 0.07345511196561227, 0.02938204478624491, 0.051418578375928586, 0.200957532811934, 0.33492922135322334, 0.4186615266915292, 0.03349292213532233, 0.46123889398358664, 0.14191965968725742, 0.035479914921814355, 0.31931923429632925, 0.4340221493794938, 0.19289873305755278, 0.048224683264388196, 0.1446740497931646, 0.12056170816097049, 0.1898292702256169, 0.16271080305052876, 0.16271080305052876, 0.02711846717508813, 0.2711846717508813, 0.03615795623345084, 0.03615795623345084, 0.05423693435017626, 0.06327642340853896, 0.19572475162987413, 0.11743485097792448, 0.11743485097792448, 0.1565798013038993, 0.43059445358572307, 0.30334854484153867, 0.24647069268375016, 0.113755704315577, 0.15167427242076933, 0.18959284052596165, 0.0605048319057013, 0.3206756091002169, 0.14521159657368313, 0.05445434871513117, 0.23596884443223506, 0.04840386552456104, 0.09680773104912208, 0.03630289914342078, 0.18099623059412343, 0.36199246118824685, 0.1113822957502298, 0.1670734436253447, 0.13922786968778725, 0.02784557393755745, 0.4218823723596851, 0.17578432181653547, 0.2929738696942258, 0.08203268351438321, 0.02343790957553806, 0.4750040402831258, 0.12179590776490405, 0.1948734524238465, 0.04871836310596162, 0.10961631698841365, 0.060897953882452026, 0.5899607697670611, 0.3202644178735474, 0.050568065980033806, 0.050568065980033806, 0.14550236342123266, 0.6402103990534237, 0.1746028361054792, 0.5844379427701157, 0.2713461877146966, 0.12523670202216763, 0.1301676148584535, 0.7289386432073395, 0.10413409188676279, 0.5781626395233403, 0.1051204799133346, 0.07884035993500096, 0.02628011997833365, 0.1051204799133346, 0.1051204799133346, 0.2511741342002358, 0.16744942280015723, 0.21977736742520637, 0.3662956123753439, 0.20683330530820798, 0.41366661061641596, 0.20683330530820798, 0.14773807522014856, 0.23158325651843625, 0.3473748847776544, 0.42456930361713313, 0.1433606556628906, 0.16725409827337237, 0.03982240435080294, 0.1433606556628906, 0.11150273218224824, 0.33450819654674474, 0.023893442610481767, 0.03982240435080294, 0.2156684061779917, 0.5668998105250068, 0.09242931693342502, 0.0061619544622283345, 0.09859127139565335, 0.012323908924456669, 0.2690995762845314, 0.7175988700920838, 0.1417502616140468, 0.1417502616140468, 0.2835005232280936, 0.0354375654035117, 0.354375654035117, 0.2086367684167226, 0.3450531169968874, 0.01604898218590174, 0.06419592874360695, 0.18456329513786998, 0.1043183842083613, 0.02407347327885261, 0.04814694655770522, 0.26750238902396406, 0.6093109972212515, 0.02972248766932934, 0.01486124383466467, 0.04458373150399401, 0.02972248766932934, 0.1306413800447336, 0.07838482802684017, 0.15676965605368035, 0.05225655201789344, 0.5748220721968279, 0.20486725327725286, 0.2634007542136108, 0.04390012570226847, 0.23413400374543183, 0.24876737897952134, 0.12254202062340636, 0.15317752577925794, 0.09190651546755477, 0.4595325773377738, 0.06127101031170318, 0.09190651546755477, 0.14672688657135802, 0.1397398919727219, 0.14672688657135802, 0.1607008757686302, 0.04890896219045267, 0.23755781635362724, 0.03493497299318048, 0.08384393518363314, 0.47274149122356673, 0.34667709356394893, 0.15758049707452224, 0.41704878550183955, 0.20852439275091977, 0.07819664728159491, 0.2606554909386497, 0.02606554909386497, 0.16041105641912418, 0.2887399015544235, 0.25665769027059865, 0.06416442256764966, 0.22457547898677382, 0.21924132460759, 0.20706125101827944, 0.21924132460759, 0.09744058871448444, 0.02436014717862111, 0.21924132460759, 0.06722771948555371, 0.3092475096335471, 0.21512870235377188, 0.21512870235377188, 0.05378217558844297, 0.10756435117688594, 0.026891087794221485, 0.2230686372379449, 0.09560084453054782, 0.30804716570954294, 0.053111580294748786, 0.03186694817684927, 0.06373389635369854, 0.16995705694319613, 0.04248926423579903, 0.03622441605292538, 0.14489766421170153, 0.41658078460864184, 0.23545870434401495, 0.1630098722381642, 0.5462548970328241, 0.13656372425820604, 0.06828186212910302, 0.20484558638730907, 0.035799398070043315, 0.19689668938523824, 0.12529789324515161, 0.6085897671907363, 0.017899699035021657, 0.860217352011304, 0.13440896125176624, 0.12739404333138662, 0.1656122563308026, 0.11465463899824795, 0.25478808666277325, 0.15287285199766393, 0.11465463899824795, 0.08917583033197063, 0.27733121960091045, 0.1848874797339403, 0.13866560980045523, 0.13866560980045523, 0.23110934966742536, 0.2874925022407213, 0.32856285970368154, 0.15059131069752069, 0.09583083408024044, 0.013690119154320063, 0.1095209532345605, 0.14861670870495997, 0.141185873269712, 0.24521756936318395, 0.17090921501070397, 0.11146253152871999, 0.04458501261148799, 0.04458501261148799, 0.066877518917232, 0.029723341740991997, 0.02601034518073987, 0.10404138072295949, 0.3381344873496184, 0.5072017310244276, 0.02601034518073987, 0.21361387280858612, 0.3560231213476435, 0.10680693640429306, 0.24921618494335046, 0.0712046242695287, 0.3297896920189366, 0.08244742300473415, 0.1648948460094683, 0.13741237167455692, 0.27482474334911383, 0.28546764393243396, 0.45199043622635376, 0.2378897032770283], \"Term\": [\"ability\", \"ability\", \"ability\", \"ability\", \"ability\", \"ability\", \"ability\", \"ability\", \"ability\", \"ability\", \"able\", \"able\", \"able\", \"able\", \"able\", \"accuracy\", \"accuracy\", \"accuracy\", \"accuracy\", \"achieve\", \"achieve\", \"achieve\", \"across\", \"across\", \"across\", \"across\", \"across\", \"across\", \"across\", \"activity\", \"activity\", \"activity\", \"activity\", \"activity\", \"advanced\", \"advanced\", \"advanced\", \"advanced\", \"advanced\", \"also\", \"also\", \"also\", \"also\", \"always\", \"always\", \"always\", \"analyst\", \"analyst\", \"analyst\", \"analyst\", \"analyst\", \"analyst\", \"analytical\", \"analytical\", \"analytical\", \"analytical\", \"analytical\", \"analytical\", \"analytics\", \"analytics\", \"analytics\", \"analytics\", \"analytics\", \"analytics\", \"analyze\", \"analyze\", \"analyze\", \"analyze\", \"andor\", \"andor\", \"andor\", \"application\", \"application\", \"application\", \"application\", \"application\", \"application\", \"apply\", \"apply\", \"apply\", \"apply\", \"architecture\", \"architecture\", \"architecture\", \"architecture\", \"area\", \"area\", \"area\", \"area\", \"area\", \"automation\", \"automation\", \"automation\", \"automation\", \"automation\", \"bachelor\", \"bachelor\", \"bachelor\", \"bachelor\", \"background\", \"background\", \"background\", \"background\", \"based\", \"based\", \"based\", \"based\", \"based\", \"based\", \"based\", \"benefit\", \"benefit\", \"benefit\", \"benefit\", \"best\", \"best\", \"best\", \"best\", \"best\", \"bi\", \"bi\", \"bi\", \"bi\", \"bi\", \"bi\", \"big\", \"big\", \"big\", \"big\", \"big\", \"big\", \"bring\", \"bring\", \"bring\", \"bring\", \"build\", \"build\", \"build\", \"build\", \"building\", \"building\", \"building\", \"building\", \"building\", \"candidate\", \"candidate\", \"candidate\", \"candidate\", \"candidate\", \"candidate\", \"career\", \"career\", \"career\", \"challenge\", \"challenge\", \"challenge\", \"challenge\", \"change\", \"change\", \"change\", \"client\", \"client\", \"client\", \"client\", \"client\", \"collaboration\", \"collaboration\", \"collaboration\", \"collaboration\", \"collection\", \"collection\", \"collection\", \"collection\", \"company\", \"company\", \"company\", \"company\", \"company\", \"company\", \"company\", \"company\", \"competitive\", \"competitive\", \"competitive\", \"competitive\", \"competitive\", \"complex\", \"complex\", \"complex\", \"complex\", \"complex\", \"computer\", \"computer\", \"computer\", \"computer\", \"computer\", \"computer\", \"consulting\", \"consulting\", \"contact\", \"contact\", \"contact\", \"continuous\", \"continuous\", \"continuous\", \"control\", \"control\", \"create\", \"create\", \"create\", \"create\", \"create\", \"crossfunctional\", \"crossfunctional\", \"crossfunctional\", \"crossfunctional\", \"crossfunctional\", \"culture\", \"culture\", \"culture\", \"culture\", \"customer\", \"customer\", \"customer\", \"customer\", \"dashboard\", \"dashboard\", \"dashboard\", \"database\", \"database\", \"database\", \"database\", \"database\", \"database\", \"decision\", \"decision\", \"decision\", \"decision\", \"decision\", \"deliver\", \"deliver\", \"deliver\", \"delivery\", \"delivery\", \"delivery\", \"delivery\", \"delivery\", \"department\", \"department\", \"department\", \"department\", \"design\", \"design\", \"design\", \"design\", \"design\", \"design\", \"design\", \"detail\", \"detail\", \"detail\", \"detail\", \"developing\", \"developing\", \"developing\", \"developing\", \"developing\", \"development\", \"development\", \"development\", \"development\", \"development\", \"development\", \"development\", \"development\", \"different\", \"different\", \"different\", \"different\", \"different\", \"digital\", \"digital\", \"digital\", \"digital\", \"diverse\", \"diverse\", \"diverse\", \"diverse\", \"diverse\", \"drive\", \"drive\", \"drive\", \"drive\", \"drive\", \"effective\", \"effective\", \"effective\", \"effective\", \"effective\", \"effectively\", \"effectively\", \"effectively\", \"effectively\", \"effectively\", \"efficiency\", \"efficiency\", \"eg\", \"eg\", \"eg\", \"eg\", \"eg\", \"employee\", \"employee\", \"employee\", \"employee\", \"enable\", \"enable\", \"enable\", \"enable\", \"energy\", \"energy\", \"energy\", \"engineer\", \"engineer\", \"engineer\", \"engineer\", \"engineer\", \"engineer\", \"engineering\", \"engineering\", \"engineering\", \"engineering\", \"engineering\", \"engineering\", \"engineering\", \"english\", \"english\", \"english\", \"ensure\", \"ensure\", \"ensure\", \"ensure\", \"ensure\", \"enterprise\", \"enterprise\", \"enterprise\", \"enterprise\", \"enterprise\", \"environment\", \"environment\", \"environment\", \"environment\", \"environment\", \"environment\", \"environment\", \"etc\", \"etc\", \"etc\", \"etc\", \"etc\", \"etc\", \"etl\", \"etl\", \"etl\", \"expert\", \"expert\", \"expert\", \"expert\", \"expert\", \"expertise\", \"expertise\", \"expertise\", \"expertise\", \"expertise\", \"external\", \"external\", \"external\", \"external\", \"external\", \"feedback\", \"feedback\", \"feedback\", \"feedback\", \"field\", \"field\", \"field\", \"field\", \"field\", \"focus\", \"focus\", \"foster\", \"foster\", \"foster\", \"framework\", \"framework\", \"framework\", \"function\", \"function\", \"function\", \"function\", \"functional\", \"functional\", \"functional\", \"future\", \"future\", \"future\", \"future\", \"global\", \"global\", \"global\", \"global\", \"global\", \"good\", \"good\", \"good\", \"governance\", \"governance\", \"governance\", \"governance\", \"grow\", \"grow\", \"grow\", \"grow\", \"growth\", \"growth\", \"growth\", \"help\", \"help\", \"help\", \"help\", \"help\", \"human\", \"human\", \"human\", \"human\", \"idea\", \"idea\", \"idea\", \"idea\", \"identify\", \"identify\", \"identify\", \"identify\", \"identify\", \"identify\", \"impact\", \"impact\", \"impact\", \"impact\", \"implement\", \"implement\", \"implement\", \"implement\", \"implement\", \"implementation\", \"implementation\", \"implementation\", \"implementation\", \"implementation\", \"improvement\", \"improvement\", \"improvement\", \"improvement\", \"improvement\", \"including\", \"including\", \"including\", \"including\", \"including\", \"including\", \"including\", \"including\", \"industry\", \"industry\", \"industry\", \"industry\", \"information\", \"information\", \"information\", \"information\", \"information\", \"information\", \"infrastructure\", \"infrastructure\", \"infrastructure\", \"infrastructure\", \"innovation\", \"innovation\", \"innovation\", \"innovative\", \"innovative\", \"innovative\", \"innovative\", \"innovative\", \"insight\", \"insight\", \"insight\", \"insight\", \"integration\", \"integration\", \"integration\", \"intelligence\", \"intelligence\", \"intelligence\", \"intelligence\", \"intelligence\", \"intelligence\", \"internal\", \"internal\", \"internal\", \"internal\", \"internal\", \"international\", \"international\", \"issue\", \"issue\", \"issue\", \"issue\", \"issue\", \"issue\", \"job\", \"job\", \"job\", \"job\", \"join\", \"join\", \"join\", \"join\", \"join\", \"key\", \"key\", \"key\", \"key\", \"key\", \"key\", \"knowledge\", \"knowledge\", \"knowledge\", \"knowledge\", \"knowledge\", \"knowledge\", \"knowledge\", \"knowledge\", \"language\", \"language\", \"language\", \"lead\", \"lead\", \"lead\", \"lead\", \"leadership\", \"leadership\", \"leadership\", \"leadership\", \"leadership\", \"leading\", \"leading\", \"leading\", \"leading\", \"leading\", \"learn\", \"learn\", \"learn\", \"learn\", \"learn\", \"learn\", \"learning\", \"learning\", \"learning\", \"learning\", \"least\", \"least\", \"least\", \"least\", \"level\", \"level\", \"level\", \"level\", \"level\", \"level\", \"level\", \"location\", \"location\", \"location\", \"looking\", \"looking\", \"looking\", \"looking\", \"looking\", \"machine\", \"machine\", \"maintain\", \"maintain\", \"maintain\", \"make\", \"make\", \"make\", \"make\", \"make\", \"making\", \"making\", \"making\", \"making\", \"manage\", \"manage\", \"manage\", \"manage\", \"manager\", \"manager\", \"manager\", \"manager\", \"manager\", \"manager\", \"managing\", \"managing\", \"managing\", \"managing\", \"managing\", \"managing\", \"market\", \"market\", \"market\", \"market\", \"master\", \"master\", \"master\", \"master\", \"mathematics\", \"mathematics\", \"mathematics\", \"meet\", \"meet\", \"meet\", \"meet\", \"meet\", \"member\", \"member\", \"member\", \"microsoft\", \"microsoft\", \"mining\", \"mining\", \"model\", \"model\", \"model\", \"model\", \"model\", \"model\", \"model\", \"multiple\", \"multiple\", \"multiple\", \"multiple\", \"multiple\", \"multiple\", \"must\", \"must\", \"must\", \"must\", \"national\", \"national\", \"national\", \"need\", \"need\", \"need\", \"need\", \"need\", \"need\", \"need\", \"need\", \"new\", \"new\", \"new\", \"new\", \"new\", \"new\", \"new\", \"new\", \"objective\", \"objective\", \"objective\", \"offer\", \"offer\", \"offer\", \"offer\", \"offer\", \"office\", \"office\", \"office\", \"office\", \"one\", \"one\", \"one\", \"one\", \"one\", \"one\", \"operation\", \"operation\", \"operation\", \"operation\", \"operational\", \"operational\", \"operational\", \"operational\", \"opportunity\", \"opportunity\", \"opportunity\", \"opportunity\", \"opportunity\", \"opportunity\", \"opportunity\", \"organization\", \"organization\", \"organization\", \"organization\", \"organization\", \"organization\", \"organization\", \"part\", \"part\", \"part\", \"part\", \"part\", \"part\", \"part\", \"part\", \"part\", \"partner\", \"partner\", \"partner\", \"people\", \"people\", \"people\", \"people\", \"people\", \"per\", \"per\", \"per\", \"performance\", \"performance\", \"performance\", \"performance\", \"performance\", \"performance\", \"performance\", \"plan\", \"plan\", \"plan\", \"plan\", \"planning\", \"planning\", \"planning\", \"platform\", \"platform\", \"platform\", \"platform\", \"platform\", \"please\", \"please\", \"please\", \"please\", \"please\", \"policy\", \"policy\", \"potential\", \"potential\", \"potential\", \"potential\", \"potential\", \"power\", \"power\", \"power\", \"power\", \"power\", \"practice\", \"practice\", \"practice\", \"practice\", \"predictive\", \"presentation\", \"presentation\", \"presentation\", \"presentation\", \"presentation\", \"pride\", \"pride\", \"pride\", \"prioritize\", \"prioritize\", \"prioritize\", \"prioritize\", \"prioritize\", \"privacy\", \"privacy\", \"privacy\", \"privacy\", \"problem\", \"problem\", \"problem\", \"problem\", \"problem\", \"procedure\", \"procedure\", \"procedure\", \"process\", \"process\", \"process\", \"process\", \"process\", \"product\", \"product\", \"product\", \"product\", \"product\", \"product\", \"product\", \"professional\", \"professional\", \"professional\", \"professional\", \"professional\", \"professional\", \"professional\", \"program\", \"program\", \"program\", \"program\", \"program\", \"programming\", \"programming\", \"programming\", \"project\", \"project\", \"project\", \"project\", \"project\", \"provide\", \"provide\", \"provide\", \"provide\", \"provide\", \"provide\", \"python\", \"python\", \"python\", \"python\", \"qualification\", \"qualification\", \"quality\", \"quality\", \"quality\", \"quality\", \"quality\", \"query\", \"query\", \"query\", \"recommendation\", \"recommendation\", \"related\", \"related\", \"related\", \"related\", \"related\", \"related\", \"related\", \"relationship\", \"relationship\", \"relationship\", \"relationship\", \"relevant\", \"relevant\", \"relevant\", \"relevant\", \"relevant\", \"relevant\", \"report\", \"report\", \"report\", \"report\", \"reporting\", \"reporting\", \"reporting\", \"reporting\", \"reporting\", \"reporting\", \"required\", \"required\", \"required\", \"required\", \"required\", \"required\", \"requirement\", \"requirement\", \"requirement\", \"requirement\", \"requirement\", \"requirement\", \"requirement\", \"research\", \"research\", \"research\", \"research\", \"resource\", \"resource\", \"resource\", \"resource\", \"responsibility\", \"responsibility\", \"responsibility\", \"result\", \"result\", \"result\", \"result\", \"result\", \"riyadh\", \"riyadh\", \"riyadh\", \"riyadh\", \"riyadh\", \"role\", \"role\", \"role\", \"role\", \"role\", \"role\", \"role\", \"role\", \"saudi\", \"saudi\", \"saudi\", \"saudi\", \"saudi\", \"saudi\", \"science\", \"science\", \"science\", \"science\", \"science\", \"science\", \"scientist\", \"scientist\", \"scientist\", \"scientist\", \"sector\", \"sector\", \"sector\", \"sector\", \"security\", \"security\", \"security\", \"security\", \"security\", \"service\", \"service\", \"service\", \"service\", \"service\", \"service\", \"service\", \"service\", \"service\", \"set\", \"set\", \"set\", \"set\", \"set\", \"software\", \"software\", \"software\", \"software\", \"software\", \"solution\", \"solution\", \"solution\", \"solution\", \"solution\", \"solution\", \"solution\", \"solution\", \"source\", \"source\", \"source\", \"source\", \"source\", \"source\", \"sql\", \"sql\", \"sql\", \"sql\", \"sql\", \"stakeholder\", \"stakeholder\", \"stakeholder\", \"stakeholder\", \"stakeholder\", \"stakeholder\", \"standard\", \"standard\", \"standard\", \"standard\", \"statistic\", \"statistic\", \"statistic\", \"statistical\", \"statistical\", \"statistical\", \"status\", \"status\", \"status\", \"strategic\", \"strategic\", \"strategic\", \"strategic\", \"strategic\", \"strategic\", \"strategy\", \"strategy\", \"strategy\", \"strategy\", \"structure\", \"structure\", \"structure\", \"structure\", \"successful\", \"successful\", \"successful\", \"support\", \"support\", \"support\", \"support\", \"support\", \"support\", \"support\", \"support\", \"system\", \"system\", \"system\", \"system\", \"system\", \"system\", \"tableau\", \"tableau\", \"take\", \"take\", \"take\", \"take\", \"take\", \"technical\", \"technical\", \"technical\", \"technical\", \"technical\", \"technical\", \"technical\", \"technical\", \"technique\", \"technique\", \"technique\", \"technique\", \"technique\", \"technique\", \"test\", \"test\", \"test\", \"test\", \"test\", \"testing\", \"testing\", \"testing\", \"testing\", \"testing\", \"time\", \"time\", \"time\", \"time\", \"time\", \"time\", \"tool\", \"tool\", \"tool\", \"tool\", \"tool\", \"tool\", \"tool\", \"tool\", \"transform\", \"transform\", \"transform\", \"trend\", \"trend\", \"trend\", \"trend\", \"trend\", \"understand\", \"understand\", \"understand\", \"understand\", \"understand\", \"understanding\", \"understanding\", \"understanding\", \"understanding\", \"understanding\", \"understanding\", \"user\", \"user\", \"user\", \"user\", \"user\", \"user\", \"user\", \"using\", \"using\", \"using\", \"using\", \"using\", \"using\", \"using\", \"using\", \"value\", \"value\", \"value\", \"value\", \"value\", \"various\", \"various\", \"various\", \"various\", \"visualization\", \"visualization\", \"visualization\", \"visualization\", \"visualization\", \"warehouse\", \"warehouse\", \"well\", \"well\", \"well\", \"well\", \"well\", \"well\", \"well\", \"wide\", \"wide\", \"wide\", \"wide\", \"wide\", \"within\", \"within\", \"within\", \"within\", \"within\", \"within\", \"working\", \"working\", \"working\", \"working\", \"working\", \"working\", \"working\", \"working\", \"working\", \"world\", \"world\", \"world\", \"world\", \"world\", \"writing\", \"writing\", \"writing\", \"writing\", \"writing\", \"written\", \"written\", \"written\", \"written\", \"written\", \"youll\", \"youll\", \"youll\"]}, \"R\": 30, \"lambda.step\": 0.01, \"plot.opts\": {\"xlab\": \"PC1\", \"ylab\": \"PC2\"}, \"topic.order\": [9, 3, 7, 4, 8, 10, 2, 6, 5, 1]};\n",
              "\n",
              "function LDAvis_load_lib(url, callback){\n",
              "  var s = document.createElement('script');\n",
              "  s.src = url;\n",
              "  s.async = true;\n",
              "  s.onreadystatechange = s.onload = callback;\n",
              "  s.onerror = function(){console.warn(\"failed to load library \" + url);};\n",
              "  document.getElementsByTagName(\"head\")[0].appendChild(s);\n",
              "}\n",
              "\n",
              "if(typeof(LDAvis) !== \"undefined\"){\n",
              "   // already loaded: just create the visualization\n",
              "   !function(LDAvis){\n",
              "       new LDAvis(\"#\" + \"ldavis_el1721400215005695046513740247\", ldavis_el1721400215005695046513740247_data);\n",
              "   }(LDAvis);\n",
              "}else if(typeof define === \"function\" && define.amd){\n",
              "   // require.js is available: use it to load d3/LDAvis\n",
              "   require.config({paths: {d3: \"https://cdnjs.cloudflare.com/ajax/libs/d3/3.5.5/d3.min\"}});\n",
              "   require([\"d3\"], function(d3){\n",
              "      window.d3 = d3;\n",
              "      LDAvis_load_lib(\"https://cdn.rawgit.com/bmabey/pyLDAvis/files/ldavis.v1.0.0.js\", function(){\n",
              "        new LDAvis(\"#\" + \"ldavis_el1721400215005695046513740247\", ldavis_el1721400215005695046513740247_data);\n",
              "      });\n",
              "    });\n",
              "}else{\n",
              "    // require.js not available: dynamically load d3 & LDAvis\n",
              "    LDAvis_load_lib(\"https://cdnjs.cloudflare.com/ajax/libs/d3/3.5.5/d3.min.js\", function(){\n",
              "         LDAvis_load_lib(\"https://cdn.rawgit.com/bmabey/pyLDAvis/files/ldavis.v1.0.0.js\", function(){\n",
              "                 new LDAvis(\"#\" + \"ldavis_el1721400215005695046513740247\", ldavis_el1721400215005695046513740247_data);\n",
              "            })\n",
              "         });\n",
              "}\n",
              "</script>"
            ]
          },
          "metadata": {},
          "execution_count": 202
        }
      ],
      "source": [
        "import pyLDAvis.gensim\n",
        "import pickle\n",
        "import pyLDAvis\n",
        "# Visualize the topics\n",
        "pyLDAvis.enable_notebook()\n",
        "LDAvis_prepared = pyLDAvis.gensim.prepare(lda_model, corpus, id2word)\n",
        "LDAvis_prepared"
      ]
    }
  ],
  "metadata": {
    "kernelspec": {
      "display_name": "Python 3",
      "language": "python",
      "name": "python3"
    },
    "language_info": {
      "codemirror_mode": {
        "name": "ipython",
        "version": 3
      },
      "file_extension": ".py",
      "mimetype": "text/x-python",
      "name": "python",
      "nbconvert_exporter": "python",
      "pygments_lexer": "ipython3",
      "version": "3.11.0"
    },
    "colab": {
      "provenance": [],
      "collapsed_sections": [
        "Dnpb3pmD4Q69",
        "nJOMx4P54Q7d",
        "a2UbXpIA4Q7j"
      ],
      "toc_visible": true
    }
  },
  "nbformat": 4,
  "nbformat_minor": 0
}
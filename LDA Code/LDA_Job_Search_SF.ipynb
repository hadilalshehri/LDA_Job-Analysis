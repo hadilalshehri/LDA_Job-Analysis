{
  "cells": [
    {
      "cell_type": "code",
      "execution_count": null,
      "metadata": {
        "id": "_MWDDULMl80J"
      },
      "outputs": [],
      "source": [
        "import matplotlib.pyplot as plt\n",
        "import numpy as np\n",
        "import pandas as pd\n",
        "import seaborn as sns\n",
        "# import statsmodels\n",
        "\n",
        "\n",
        "from IPython.display import HTML\n",
        "%matplotlib inline\n",
        "\n",
        "pd.options.display.precision = 15\n",
        "pd.options.display.max_rows = 500\n",
        "\n",
        "import warnings\n",
        "warnings.filterwarnings(\"ignore\")\n",
        "\n",
        "# from bs4 import BeautifulSoup\n",
        "# import requests\n",
        "import time, random\n",
        "import datetime\n",
        "import re\n",
        "import gensim\n",
        "from gensim.models import CoherenceModel"
      ]
    },
    {
      "cell_type": "markdown",
      "metadata": {
        "id": "FUmyQasMl80M"
      },
      "source": [
        "## 1. Analysing data from Linked In"
      ]
    },
    {
      "cell_type": "code",
      "execution_count": null,
      "metadata": {
        "scrolled": true,
        "colab": {
          "base_uri": "https://localhost:8080/",
          "height": 424
        },
        "id": "XiXWH_cYl80O",
        "outputId": "c41c603e-8796-4351-95c5-243d84b88f21"
      },
      "outputs": [
        {
          "output_type": "stream",
          "name": "stdout",
          "text": [
            "(828, 8)\n"
          ]
        },
        {
          "output_type": "execute_result",
          "data": {
            "text/plain": [
              "   Unnamed: 0                                          job_title  \\\n",
              "0           0                             مطور اعمال               \n",
              "1           1                          iOS Developer               \n",
              "2           2                 Lead Online Programmer               \n",
              "3           3                Senior Software Engineer        ...   \n",
              "4           4                     Digital Strategist               \n",
              "\n",
              "                                        company_name  \\\n",
              "0                      شركةميزة للتقييم العقاري  ...   \n",
              "1                      PROVEN Consult            ...   \n",
              "2                      Savvy Games Studios       ...   \n",
              "3                           Acquia                     \n",
              "4                          Edelman                     \n",
              "\n",
              "                                    company_location work_time  \\\n",
              "0                        Riyadh Region                     NaN   \n",
              "1                  Riyadh, Saudi Arabia          ...       NaN   \n",
              "2                  Riyadh, Saudi Arabia          ...       NaN   \n",
              "3                                 EMEA                     NaN   \n",
              "4                  Riyadh, Riyadh, Saudi Arabia  ...       NaN   \n",
              "\n",
              "                                   post_date  \\\n",
              "0                   2 days ago                 \n",
              "1                  3 weeks ago                 \n",
              "2                  4 weeks ago                 \n",
              "3                   1 week ago                 \n",
              "4                   5 days ago                 \n",
              "\n",
              "                                         Description  work_method  \n",
              "0  About the jobانضم إلى فريق ميزة للتقييم العقار...          NaN  \n",
              "1  About the jobPosition : iOS Developer (swift)Q...          NaN  \n",
              "2  About the jobSavvy Games Studios (SGS) mission...          NaN  \n",
              "3  About the jobAcquia empowers the world’s most ...          NaN  \n",
              "4  About the jobSocial Strategist, Digital - Conn...          NaN  "
            ],
            "text/html": [
              "\n",
              "  <div id=\"df-a9dd9c6c-f1bf-44a0-95a0-d7ec4a953618\">\n",
              "    <div class=\"colab-df-container\">\n",
              "      <div>\n",
              "<style scoped>\n",
              "    .dataframe tbody tr th:only-of-type {\n",
              "        vertical-align: middle;\n",
              "    }\n",
              "\n",
              "    .dataframe tbody tr th {\n",
              "        vertical-align: top;\n",
              "    }\n",
              "\n",
              "    .dataframe thead th {\n",
              "        text-align: right;\n",
              "    }\n",
              "</style>\n",
              "<table border=\"1\" class=\"dataframe\">\n",
              "  <thead>\n",
              "    <tr style=\"text-align: right;\">\n",
              "      <th></th>\n",
              "      <th>Unnamed: 0</th>\n",
              "      <th>job_title</th>\n",
              "      <th>company_name</th>\n",
              "      <th>company_location</th>\n",
              "      <th>work_time</th>\n",
              "      <th>post_date</th>\n",
              "      <th>Description</th>\n",
              "      <th>work_method</th>\n",
              "    </tr>\n",
              "  </thead>\n",
              "  <tbody>\n",
              "    <tr>\n",
              "      <th>0</th>\n",
              "      <td>0</td>\n",
              "      <td>مطور اعمال</td>\n",
              "      <td>شركةميزة للتقييم العقاري  ...</td>\n",
              "      <td>Riyadh Region</td>\n",
              "      <td>NaN</td>\n",
              "      <td>2 days ago</td>\n",
              "      <td>About the jobانضم إلى فريق ميزة للتقييم العقار...</td>\n",
              "      <td>NaN</td>\n",
              "    </tr>\n",
              "    <tr>\n",
              "      <th>1</th>\n",
              "      <td>1</td>\n",
              "      <td>iOS Developer</td>\n",
              "      <td>PROVEN Consult            ...</td>\n",
              "      <td>Riyadh, Saudi Arabia          ...</td>\n",
              "      <td>NaN</td>\n",
              "      <td>3 weeks ago</td>\n",
              "      <td>About the jobPosition : iOS Developer (swift)Q...</td>\n",
              "      <td>NaN</td>\n",
              "    </tr>\n",
              "    <tr>\n",
              "      <th>2</th>\n",
              "      <td>2</td>\n",
              "      <td>Lead Online Programmer</td>\n",
              "      <td>Savvy Games Studios       ...</td>\n",
              "      <td>Riyadh, Saudi Arabia          ...</td>\n",
              "      <td>NaN</td>\n",
              "      <td>4 weeks ago</td>\n",
              "      <td>About the jobSavvy Games Studios (SGS) mission...</td>\n",
              "      <td>NaN</td>\n",
              "    </tr>\n",
              "    <tr>\n",
              "      <th>3</th>\n",
              "      <td>3</td>\n",
              "      <td>Senior Software Engineer        ...</td>\n",
              "      <td>Acquia</td>\n",
              "      <td>EMEA</td>\n",
              "      <td>NaN</td>\n",
              "      <td>1 week ago</td>\n",
              "      <td>About the jobAcquia empowers the world’s most ...</td>\n",
              "      <td>NaN</td>\n",
              "    </tr>\n",
              "    <tr>\n",
              "      <th>4</th>\n",
              "      <td>4</td>\n",
              "      <td>Digital Strategist</td>\n",
              "      <td>Edelman</td>\n",
              "      <td>Riyadh, Riyadh, Saudi Arabia  ...</td>\n",
              "      <td>NaN</td>\n",
              "      <td>5 days ago</td>\n",
              "      <td>About the jobSocial Strategist, Digital - Conn...</td>\n",
              "      <td>NaN</td>\n",
              "    </tr>\n",
              "  </tbody>\n",
              "</table>\n",
              "</div>\n",
              "      <button class=\"colab-df-convert\" onclick=\"convertToInteractive('df-a9dd9c6c-f1bf-44a0-95a0-d7ec4a953618')\"\n",
              "              title=\"Convert this dataframe to an interactive table.\"\n",
              "              style=\"display:none;\">\n",
              "        \n",
              "  <svg xmlns=\"http://www.w3.org/2000/svg\" height=\"24px\"viewBox=\"0 0 24 24\"\n",
              "       width=\"24px\">\n",
              "    <path d=\"M0 0h24v24H0V0z\" fill=\"none\"/>\n",
              "    <path d=\"M18.56 5.44l.94 2.06.94-2.06 2.06-.94-2.06-.94-.94-2.06-.94 2.06-2.06.94zm-11 1L8.5 8.5l.94-2.06 2.06-.94-2.06-.94L8.5 2.5l-.94 2.06-2.06.94zm10 10l.94 2.06.94-2.06 2.06-.94-2.06-.94-.94-2.06-.94 2.06-2.06.94z\"/><path d=\"M17.41 7.96l-1.37-1.37c-.4-.4-.92-.59-1.43-.59-.52 0-1.04.2-1.43.59L10.3 9.45l-7.72 7.72c-.78.78-.78 2.05 0 2.83L4 21.41c.39.39.9.59 1.41.59.51 0 1.02-.2 1.41-.59l7.78-7.78 2.81-2.81c.8-.78.8-2.07 0-2.86zM5.41 20L4 18.59l7.72-7.72 1.47 1.35L5.41 20z\"/>\n",
              "  </svg>\n",
              "      </button>\n",
              "      \n",
              "  <style>\n",
              "    .colab-df-container {\n",
              "      display:flex;\n",
              "      flex-wrap:wrap;\n",
              "      gap: 12px;\n",
              "    }\n",
              "\n",
              "    .colab-df-convert {\n",
              "      background-color: #E8F0FE;\n",
              "      border: none;\n",
              "      border-radius: 50%;\n",
              "      cursor: pointer;\n",
              "      display: none;\n",
              "      fill: #1967D2;\n",
              "      height: 32px;\n",
              "      padding: 0 0 0 0;\n",
              "      width: 32px;\n",
              "    }\n",
              "\n",
              "    .colab-df-convert:hover {\n",
              "      background-color: #E2EBFA;\n",
              "      box-shadow: 0px 1px 2px rgba(60, 64, 67, 0.3), 0px 1px 3px 1px rgba(60, 64, 67, 0.15);\n",
              "      fill: #174EA6;\n",
              "    }\n",
              "\n",
              "    [theme=dark] .colab-df-convert {\n",
              "      background-color: #3B4455;\n",
              "      fill: #D2E3FC;\n",
              "    }\n",
              "\n",
              "    [theme=dark] .colab-df-convert:hover {\n",
              "      background-color: #434B5C;\n",
              "      box-shadow: 0px 1px 3px 1px rgba(0, 0, 0, 0.15);\n",
              "      filter: drop-shadow(0px 1px 2px rgba(0, 0, 0, 0.3));\n",
              "      fill: #FFFFFF;\n",
              "    }\n",
              "  </style>\n",
              "\n",
              "      <script>\n",
              "        const buttonEl =\n",
              "          document.querySelector('#df-a9dd9c6c-f1bf-44a0-95a0-d7ec4a953618 button.colab-df-convert');\n",
              "        buttonEl.style.display =\n",
              "          google.colab.kernel.accessAllowed ? 'block' : 'none';\n",
              "\n",
              "        async function convertToInteractive(key) {\n",
              "          const element = document.querySelector('#df-a9dd9c6c-f1bf-44a0-95a0-d7ec4a953618');\n",
              "          const dataTable =\n",
              "            await google.colab.kernel.invokeFunction('convertToInteractive',\n",
              "                                                     [key], {});\n",
              "          if (!dataTable) return;\n",
              "\n",
              "          const docLinkHtml = 'Like what you see? Visit the ' +\n",
              "            '<a target=\"_blank\" href=https://colab.research.google.com/notebooks/data_table.ipynb>data table notebook</a>'\n",
              "            + ' to learn more about interactive tables.';\n",
              "          element.innerHTML = '';\n",
              "          dataTable['output_type'] = 'display_data';\n",
              "          await google.colab.output.renderOutput(dataTable, element);\n",
              "          const docLink = document.createElement('div');\n",
              "          docLink.innerHTML = docLinkHtml;\n",
              "          element.appendChild(docLink);\n",
              "        }\n",
              "      </script>\n",
              "    </div>\n",
              "  </div>\n",
              "  "
            ]
          },
          "metadata": {},
          "execution_count": 2
        }
      ],
      "source": [
        "#read in data\n",
        "df = pd.read_excel('/combined and filtered - software engineering.xlsx') #, encoding='cp1252'\n",
        "\n",
        "#print first few rows\n",
        "print(df.shape)\n",
        "df.head()"
      ]
    },
    {
      "cell_type": "code",
      "execution_count": null,
      "metadata": {
        "scrolled": true,
        "colab": {
          "base_uri": "https://localhost:8080/"
        },
        "id": "ZPTcuBNWl80P",
        "outputId": "91462da8-d022-4753-b9bf-9d8874dadc28"
      },
      "outputs": [
        {
          "output_type": "execute_result",
          "data": {
            "text/plain": [
              "2484"
            ]
          },
          "metadata": {},
          "execution_count": 3
        }
      ],
      "source": [
        "df['post_date'].apply(lambda x: len(x.split())).sum()  # Description"
      ]
    },
    {
      "cell_type": "code",
      "execution_count": null,
      "metadata": {
        "id": "QYBvkipdl80Q"
      },
      "outputs": [],
      "source": [
        "df = df.drop_duplicates(subset =['job_title', 'Description']).reset_index(drop=True)\n",
        "#Replace missing values\n",
        "df = df.fillna('-')"
      ]
    },
    {
      "cell_type": "code",
      "source": [
        "len(df)"
      ],
      "metadata": {
        "colab": {
          "base_uri": "https://localhost:8080/"
        },
        "id": "JggXYgL_uxWg",
        "outputId": "8a9f529d-4010-4a67-9ddd-63bdf7ccea71"
      },
      "execution_count": null,
      "outputs": [
        {
          "output_type": "execute_result",
          "data": {
            "text/plain": [
              "299"
            ]
          },
          "metadata": {},
          "execution_count": 6
        }
      ]
    },
    {
      "cell_type": "code",
      "execution_count": null,
      "metadata": {
        "id": "G4uXYV9Kl80R"
      },
      "outputs": [],
      "source": [
        "data_df = df"
      ]
    },
    {
      "cell_type": "markdown",
      "metadata": {
        "id": "5pHOnqfkl80R"
      },
      "source": [
        "### Location Mining"
      ]
    },
    {
      "cell_type": "code",
      "execution_count": null,
      "metadata": {
        "colab": {
          "base_uri": "https://localhost:8080/"
        },
        "id": "iRJPl0pNl80S",
        "outputId": "5a729c75-c65e-44dd-d761-40db598275fb"
      },
      "outputs": [
        {
          "output_type": "stream",
          "name": "stdout",
          "text": [
            "Looking in indexes: https://pypi.org/simple, https://us-python.pkg.dev/colab-wheels/public/simple/\n",
            "Collecting geopandas\n",
            "  Downloading geopandas-0.13.0-py3-none-any.whl (1.1 MB)\n",
            "\u001b[2K     \u001b[90m━━━━━━━━━━━━━━━━━━━━━━━━━━━━━━━━━━━━━━━━\u001b[0m \u001b[32m1.1/1.1 MB\u001b[0m \u001b[31m17.1 MB/s\u001b[0m eta \u001b[36m0:00:00\u001b[0m\n",
            "\u001b[?25hCollecting fiona>=1.8.19 (from geopandas)\n",
            "  Downloading Fiona-1.9.4.post1-cp310-cp310-manylinux_2_17_x86_64.manylinux2014_x86_64.whl (16.4 MB)\n",
            "\u001b[2K     \u001b[90m━━━━━━━━━━━━━━━━━━━━━━━━━━━━━━━━━━━━━━━━\u001b[0m \u001b[32m16.4/16.4 MB\u001b[0m \u001b[31m85.2 MB/s\u001b[0m eta \u001b[36m0:00:00\u001b[0m\n",
            "\u001b[?25hRequirement already satisfied: packaging in /usr/local/lib/python3.10/dist-packages (from geopandas) (23.1)\n",
            "Requirement already satisfied: pandas>=1.1.0 in /usr/local/lib/python3.10/dist-packages (from geopandas) (1.5.3)\n",
            "Collecting pyproj>=3.0.1 (from geopandas)\n",
            "  Downloading pyproj-3.5.0-cp310-cp310-manylinux_2_17_x86_64.manylinux2014_x86_64.whl (7.7 MB)\n",
            "\u001b[2K     \u001b[90m━━━━━━━━━━━━━━━━━━━━━━━━━━━━━━━━━━━━━━━━\u001b[0m \u001b[32m7.7/7.7 MB\u001b[0m \u001b[31m126.3 MB/s\u001b[0m eta \u001b[36m0:00:00\u001b[0m\n",
            "\u001b[?25hRequirement already satisfied: shapely>=1.7.1 in /usr/local/lib/python3.10/dist-packages (from geopandas) (2.0.1)\n",
            "Requirement already satisfied: attrs>=19.2.0 in /usr/local/lib/python3.10/dist-packages (from fiona>=1.8.19->geopandas) (23.1.0)\n",
            "Requirement already satisfied: certifi in /usr/local/lib/python3.10/dist-packages (from fiona>=1.8.19->geopandas) (2022.12.7)\n",
            "Requirement already satisfied: click~=8.0 in /usr/local/lib/python3.10/dist-packages (from fiona>=1.8.19->geopandas) (8.1.3)\n",
            "Collecting click-plugins>=1.0 (from fiona>=1.8.19->geopandas)\n",
            "  Downloading click_plugins-1.1.1-py2.py3-none-any.whl (7.5 kB)\n",
            "Collecting cligj>=0.5 (from fiona>=1.8.19->geopandas)\n",
            "  Downloading cligj-0.7.2-py3-none-any.whl (7.1 kB)\n",
            "Requirement already satisfied: six in /usr/local/lib/python3.10/dist-packages (from fiona>=1.8.19->geopandas) (1.16.0)\n",
            "Requirement already satisfied: python-dateutil>=2.8.1 in /usr/local/lib/python3.10/dist-packages (from pandas>=1.1.0->geopandas) (2.8.2)\n",
            "Requirement already satisfied: pytz>=2020.1 in /usr/local/lib/python3.10/dist-packages (from pandas>=1.1.0->geopandas) (2022.7.1)\n",
            "Requirement already satisfied: numpy>=1.21.0 in /usr/local/lib/python3.10/dist-packages (from pandas>=1.1.0->geopandas) (1.22.4)\n",
            "Installing collected packages: pyproj, cligj, click-plugins, fiona, geopandas\n",
            "Successfully installed click-plugins-1.1.1 cligj-0.7.2 fiona-1.9.4.post1 geopandas-0.13.0 pyproj-3.5.0\n"
          ]
        }
      ],
      "source": [
        "!pip install geopandas #Google Colab"
      ]
    },
    {
      "cell_type": "code",
      "execution_count": null,
      "metadata": {
        "colab": {
          "base_uri": "https://localhost:8080/"
        },
        "id": "qyFWxmFKl80T",
        "outputId": "2477a0b6-3598-421b-f8db-1402940e26bb"
      },
      "outputs": [
        {
          "output_type": "stream",
          "name": "stdout",
          "text": [
            "Looking in indexes: https://pypi.org/simple, https://us-python.pkg.dev/colab-wheels/public/simple/\n",
            "Collecting plotly_express\n",
            "  Downloading plotly_express-0.4.1-py2.py3-none-any.whl (2.9 kB)\n",
            "Requirement already satisfied: pandas>=0.20.0 in /usr/local/lib/python3.10/dist-packages (from plotly_express) (1.5.3)\n",
            "Requirement already satisfied: plotly>=4.1.0 in /usr/local/lib/python3.10/dist-packages (from plotly_express) (5.13.1)\n",
            "Requirement already satisfied: statsmodels>=0.9.0 in /usr/local/lib/python3.10/dist-packages (from plotly_express) (0.13.5)\n",
            "Requirement already satisfied: scipy>=0.18 in /usr/local/lib/python3.10/dist-packages (from plotly_express) (1.10.1)\n",
            "Requirement already satisfied: patsy>=0.5 in /usr/local/lib/python3.10/dist-packages (from plotly_express) (0.5.3)\n",
            "Requirement already satisfied: numpy>=1.11 in /usr/local/lib/python3.10/dist-packages (from plotly_express) (1.22.4)\n",
            "Requirement already satisfied: python-dateutil>=2.8.1 in /usr/local/lib/python3.10/dist-packages (from pandas>=0.20.0->plotly_express) (2.8.2)\n",
            "Requirement already satisfied: pytz>=2020.1 in /usr/local/lib/python3.10/dist-packages (from pandas>=0.20.0->plotly_express) (2022.7.1)\n",
            "Requirement already satisfied: six in /usr/local/lib/python3.10/dist-packages (from patsy>=0.5->plotly_express) (1.16.0)\n",
            "Requirement already satisfied: tenacity>=6.2.0 in /usr/local/lib/python3.10/dist-packages (from plotly>=4.1.0->plotly_express) (8.2.2)\n",
            "Requirement already satisfied: packaging>=21.3 in /usr/local/lib/python3.10/dist-packages (from statsmodels>=0.9.0->plotly_express) (23.1)\n",
            "Installing collected packages: plotly_express\n",
            "Successfully installed plotly_express-0.4.1\n"
          ]
        }
      ],
      "source": [
        "!pip install plotly_express #Google Colab"
      ]
    },
    {
      "cell_type": "code",
      "execution_count": null,
      "metadata": {
        "id": "B92XFsDUl80T"
      },
      "outputs": [],
      "source": [
        "import geopandas as gpd\n",
        "import plotly_express as px"
      ]
    },
    {
      "cell_type": "code",
      "execution_count": null,
      "metadata": {
        "id": "N7Kg0E-ml80T"
      },
      "outputs": [],
      "source": [
        "map = gpd.read_file(\"/bin/sau_places/SAU_Places_ESRI.shp\")\n",
        "map['NAME'] = map['NAME'].replace('[^a-zA-Z]', '', regex=True).str.lower()"
      ]
    },
    {
      "cell_type": "markdown",
      "metadata": {
        "id": "veTa7w88l80U"
      },
      "source": [
        "Create a copy of Data Frame to check location field"
      ]
    },
    {
      "cell_type": "code",
      "execution_count": null,
      "metadata": {
        "id": "vz-_qy7tl80U"
      },
      "outputs": [],
      "source": [
        "df_loc = df"
      ]
    },
    {
      "cell_type": "code",
      "execution_count": null,
      "metadata": {
        "id": "MYMMd3kul80V"
      },
      "outputs": [],
      "source": [
        "df_loc[\"company_location\"] = df_loc[\"company_location\"].str.replace('\\n', '')\n",
        "df_loc['company_location_list'] = df_loc['company_location'].str.split(',')\n",
        "df_loc['company_location_list'] = df_loc['company_location_list'].apply(lambda x: [s.strip() for s in x])\n",
        "df_loc['company_location_list'] = df_loc['company_location_list'].apply(lambda x: [item for item in x if item != 'Saudi Arabia'])\n",
        "df_loc['company_location_list'] = df_loc['company_location_list'].apply(lambda x: list(set(x)))\n",
        "df_loc['company_location_list'] = df_loc['company_location_list'].apply(lambda x: [s.lower() for s in x])"
      ]
    },
    {
      "cell_type": "code",
      "execution_count": null,
      "metadata": {
        "id": "NWcWlLpBl80V"
      },
      "outputs": [],
      "source": [
        "map['Job Count']=0"
      ]
    },
    {
      "cell_type": "code",
      "execution_count": null,
      "metadata": {
        "id": "LIJ91uzbl80V"
      },
      "outputs": [],
      "source": [
        "index =0\n",
        "for city in map['NAME']:\n",
        "    count = df_loc['company_location_list'].apply(lambda x: x.count(city)).sum()\n",
        "    map['Job Count'][index]= count\n",
        "    index+=1"
      ]
    },
    {
      "cell_type": "code",
      "execution_count": null,
      "metadata": {
        "id": "g0WmzJUjl80W"
      },
      "outputs": [],
      "source": [
        "df_filtered = map[map['Job Count'] != 0] #to only plot those not zero\n",
        "# df_filtered"
      ]
    },
    {
      "cell_type": "code",
      "execution_count": null,
      "metadata": {
        "colab": {
          "base_uri": "https://localhost:8080/",
          "height": 542
        },
        "id": "GuQoklZLl80W",
        "outputId": "3f124ac7-e774-4362-d2bc-0057841e12ce"
      },
      "outputs": [
        {
          "output_type": "display_data",
          "data": {
            "text/html": [
              "<html>\n",
              "<head><meta charset=\"utf-8\" /></head>\n",
              "<body>\n",
              "    <div>            <script src=\"https://cdnjs.cloudflare.com/ajax/libs/mathjax/2.7.5/MathJax.js?config=TeX-AMS-MML_SVG\"></script><script type=\"text/javascript\">if (window.MathJax && window.MathJax.Hub && window.MathJax.Hub.Config) {window.MathJax.Hub.Config({SVG: {font: \"STIX-Web\"}});}</script>                <script type=\"text/javascript\">window.PlotlyConfig = {MathJaxConfig: 'local'};</script>\n",
              "        <script src=\"https://cdn.plot.ly/plotly-2.18.2.min.js\"></script>                <div id=\"f4cd2e1b-2095-4cd3-8d70-baf5e736bf91\" class=\"plotly-graph-div\" style=\"height:525px; width:100%;\"></div>            <script type=\"text/javascript\">                                    window.PLOTLYENV=window.PLOTLYENV || {};                                    if (document.getElementById(\"f4cd2e1b-2095-4cd3-8d70-baf5e736bf91\")) {                    Plotly.newPlot(                        \"f4cd2e1b-2095-4cd3-8d70-baf5e736bf91\",                        [{\"hovertemplate\":\"Job Count=%{marker.color}<br>LATITUDE=%{lat}<br>LONGITUDE=%{lon}<extra></extra>\",\"lat\":[17.661989,18.220221,21.42738,21.42738,21.543489,21.543489,22.310061,24.640151,26.288768,27.012563,28.390409],\"legendgroup\":\"\",\"lon\":[43.505878,42.50816,39.814838,39.814838,39.172989,39.172989,39.125881,46.724893,50.114103,49.658128,36.5732],\"marker\":{\"color\":[6,1,25,1,8,13,2,148,6,2,46],\"coloraxis\":\"coloraxis\",\"size\":[6,1,25,1,8,13,2,148,6,2,46],\"sizemode\":\"area\",\"sizeref\":0.0592},\"mode\":\"markers\",\"name\":\"\",\"showlegend\":false,\"subplot\":\"mapbox\",\"type\":\"scattermapbox\"}],                        {\"template\":{\"data\":{\"histogram2dcontour\":[{\"type\":\"histogram2dcontour\",\"colorbar\":{\"outlinewidth\":0,\"ticks\":\"\"},\"colorscale\":[[0.0,\"#0d0887\"],[0.1111111111111111,\"#46039f\"],[0.2222222222222222,\"#7201a8\"],[0.3333333333333333,\"#9c179e\"],[0.4444444444444444,\"#bd3786\"],[0.5555555555555556,\"#d8576b\"],[0.6666666666666666,\"#ed7953\"],[0.7777777777777778,\"#fb9f3a\"],[0.8888888888888888,\"#fdca26\"],[1.0,\"#f0f921\"]]}],\"choropleth\":[{\"type\":\"choropleth\",\"colorbar\":{\"outlinewidth\":0,\"ticks\":\"\"}}],\"histogram2d\":[{\"type\":\"histogram2d\",\"colorbar\":{\"outlinewidth\":0,\"ticks\":\"\"},\"colorscale\":[[0.0,\"#0d0887\"],[0.1111111111111111,\"#46039f\"],[0.2222222222222222,\"#7201a8\"],[0.3333333333333333,\"#9c179e\"],[0.4444444444444444,\"#bd3786\"],[0.5555555555555556,\"#d8576b\"],[0.6666666666666666,\"#ed7953\"],[0.7777777777777778,\"#fb9f3a\"],[0.8888888888888888,\"#fdca26\"],[1.0,\"#f0f921\"]]}],\"heatmap\":[{\"type\":\"heatmap\",\"colorbar\":{\"outlinewidth\":0,\"ticks\":\"\"},\"colorscale\":[[0.0,\"#0d0887\"],[0.1111111111111111,\"#46039f\"],[0.2222222222222222,\"#7201a8\"],[0.3333333333333333,\"#9c179e\"],[0.4444444444444444,\"#bd3786\"],[0.5555555555555556,\"#d8576b\"],[0.6666666666666666,\"#ed7953\"],[0.7777777777777778,\"#fb9f3a\"],[0.8888888888888888,\"#fdca26\"],[1.0,\"#f0f921\"]]}],\"heatmapgl\":[{\"type\":\"heatmapgl\",\"colorbar\":{\"outlinewidth\":0,\"ticks\":\"\"},\"colorscale\":[[0.0,\"#0d0887\"],[0.1111111111111111,\"#46039f\"],[0.2222222222222222,\"#7201a8\"],[0.3333333333333333,\"#9c179e\"],[0.4444444444444444,\"#bd3786\"],[0.5555555555555556,\"#d8576b\"],[0.6666666666666666,\"#ed7953\"],[0.7777777777777778,\"#fb9f3a\"],[0.8888888888888888,\"#fdca26\"],[1.0,\"#f0f921\"]]}],\"contourcarpet\":[{\"type\":\"contourcarpet\",\"colorbar\":{\"outlinewidth\":0,\"ticks\":\"\"}}],\"contour\":[{\"type\":\"contour\",\"colorbar\":{\"outlinewidth\":0,\"ticks\":\"\"},\"colorscale\":[[0.0,\"#0d0887\"],[0.1111111111111111,\"#46039f\"],[0.2222222222222222,\"#7201a8\"],[0.3333333333333333,\"#9c179e\"],[0.4444444444444444,\"#bd3786\"],[0.5555555555555556,\"#d8576b\"],[0.6666666666666666,\"#ed7953\"],[0.7777777777777778,\"#fb9f3a\"],[0.8888888888888888,\"#fdca26\"],[1.0,\"#f0f921\"]]}],\"surface\":[{\"type\":\"surface\",\"colorbar\":{\"outlinewidth\":0,\"ticks\":\"\"},\"colorscale\":[[0.0,\"#0d0887\"],[0.1111111111111111,\"#46039f\"],[0.2222222222222222,\"#7201a8\"],[0.3333333333333333,\"#9c179e\"],[0.4444444444444444,\"#bd3786\"],[0.5555555555555556,\"#d8576b\"],[0.6666666666666666,\"#ed7953\"],[0.7777777777777778,\"#fb9f3a\"],[0.8888888888888888,\"#fdca26\"],[1.0,\"#f0f921\"]]}],\"mesh3d\":[{\"type\":\"mesh3d\",\"colorbar\":{\"outlinewidth\":0,\"ticks\":\"\"}}],\"scatter\":[{\"fillpattern\":{\"fillmode\":\"overlay\",\"size\":10,\"solidity\":0.2},\"type\":\"scatter\"}],\"parcoords\":[{\"type\":\"parcoords\",\"line\":{\"colorbar\":{\"outlinewidth\":0,\"ticks\":\"\"}}}],\"scatterpolargl\":[{\"type\":\"scatterpolargl\",\"marker\":{\"colorbar\":{\"outlinewidth\":0,\"ticks\":\"\"}}}],\"bar\":[{\"error_x\":{\"color\":\"#2a3f5f\"},\"error_y\":{\"color\":\"#2a3f5f\"},\"marker\":{\"line\":{\"color\":\"#E5ECF6\",\"width\":0.5},\"pattern\":{\"fillmode\":\"overlay\",\"size\":10,\"solidity\":0.2}},\"type\":\"bar\"}],\"scattergeo\":[{\"type\":\"scattergeo\",\"marker\":{\"colorbar\":{\"outlinewidth\":0,\"ticks\":\"\"}}}],\"scatterpolar\":[{\"type\":\"scatterpolar\",\"marker\":{\"colorbar\":{\"outlinewidth\":0,\"ticks\":\"\"}}}],\"histogram\":[{\"marker\":{\"pattern\":{\"fillmode\":\"overlay\",\"size\":10,\"solidity\":0.2}},\"type\":\"histogram\"}],\"scattergl\":[{\"type\":\"scattergl\",\"marker\":{\"colorbar\":{\"outlinewidth\":0,\"ticks\":\"\"}}}],\"scatter3d\":[{\"type\":\"scatter3d\",\"line\":{\"colorbar\":{\"outlinewidth\":0,\"ticks\":\"\"}},\"marker\":{\"colorbar\":{\"outlinewidth\":0,\"ticks\":\"\"}}}],\"scattermapbox\":[{\"type\":\"scattermapbox\",\"marker\":{\"colorbar\":{\"outlinewidth\":0,\"ticks\":\"\"}}}],\"scatterternary\":[{\"type\":\"scatterternary\",\"marker\":{\"colorbar\":{\"outlinewidth\":0,\"ticks\":\"\"}}}],\"scattercarpet\":[{\"type\":\"scattercarpet\",\"marker\":{\"colorbar\":{\"outlinewidth\":0,\"ticks\":\"\"}}}],\"carpet\":[{\"aaxis\":{\"endlinecolor\":\"#2a3f5f\",\"gridcolor\":\"white\",\"linecolor\":\"white\",\"minorgridcolor\":\"white\",\"startlinecolor\":\"#2a3f5f\"},\"baxis\":{\"endlinecolor\":\"#2a3f5f\",\"gridcolor\":\"white\",\"linecolor\":\"white\",\"minorgridcolor\":\"white\",\"startlinecolor\":\"#2a3f5f\"},\"type\":\"carpet\"}],\"table\":[{\"cells\":{\"fill\":{\"color\":\"#EBF0F8\"},\"line\":{\"color\":\"white\"}},\"header\":{\"fill\":{\"color\":\"#C8D4E3\"},\"line\":{\"color\":\"white\"}},\"type\":\"table\"}],\"barpolar\":[{\"marker\":{\"line\":{\"color\":\"#E5ECF6\",\"width\":0.5},\"pattern\":{\"fillmode\":\"overlay\",\"size\":10,\"solidity\":0.2}},\"type\":\"barpolar\"}],\"pie\":[{\"automargin\":true,\"type\":\"pie\"}]},\"layout\":{\"autotypenumbers\":\"strict\",\"colorway\":[\"#636efa\",\"#EF553B\",\"#00cc96\",\"#ab63fa\",\"#FFA15A\",\"#19d3f3\",\"#FF6692\",\"#B6E880\",\"#FF97FF\",\"#FECB52\"],\"font\":{\"color\":\"#2a3f5f\"},\"hovermode\":\"closest\",\"hoverlabel\":{\"align\":\"left\"},\"paper_bgcolor\":\"white\",\"plot_bgcolor\":\"#E5ECF6\",\"polar\":{\"bgcolor\":\"#E5ECF6\",\"angularaxis\":{\"gridcolor\":\"white\",\"linecolor\":\"white\",\"ticks\":\"\"},\"radialaxis\":{\"gridcolor\":\"white\",\"linecolor\":\"white\",\"ticks\":\"\"}},\"ternary\":{\"bgcolor\":\"#E5ECF6\",\"aaxis\":{\"gridcolor\":\"white\",\"linecolor\":\"white\",\"ticks\":\"\"},\"baxis\":{\"gridcolor\":\"white\",\"linecolor\":\"white\",\"ticks\":\"\"},\"caxis\":{\"gridcolor\":\"white\",\"linecolor\":\"white\",\"ticks\":\"\"}},\"coloraxis\":{\"colorbar\":{\"outlinewidth\":0,\"ticks\":\"\"}},\"colorscale\":{\"sequential\":[[0.0,\"#0d0887\"],[0.1111111111111111,\"#46039f\"],[0.2222222222222222,\"#7201a8\"],[0.3333333333333333,\"#9c179e\"],[0.4444444444444444,\"#bd3786\"],[0.5555555555555556,\"#d8576b\"],[0.6666666666666666,\"#ed7953\"],[0.7777777777777778,\"#fb9f3a\"],[0.8888888888888888,\"#fdca26\"],[1.0,\"#f0f921\"]],\"sequentialminus\":[[0.0,\"#0d0887\"],[0.1111111111111111,\"#46039f\"],[0.2222222222222222,\"#7201a8\"],[0.3333333333333333,\"#9c179e\"],[0.4444444444444444,\"#bd3786\"],[0.5555555555555556,\"#d8576b\"],[0.6666666666666666,\"#ed7953\"],[0.7777777777777778,\"#fb9f3a\"],[0.8888888888888888,\"#fdca26\"],[1.0,\"#f0f921\"]],\"diverging\":[[0,\"#8e0152\"],[0.1,\"#c51b7d\"],[0.2,\"#de77ae\"],[0.3,\"#f1b6da\"],[0.4,\"#fde0ef\"],[0.5,\"#f7f7f7\"],[0.6,\"#e6f5d0\"],[0.7,\"#b8e186\"],[0.8,\"#7fbc41\"],[0.9,\"#4d9221\"],[1,\"#276419\"]]},\"xaxis\":{\"gridcolor\":\"white\",\"linecolor\":\"white\",\"ticks\":\"\",\"title\":{\"standoff\":15},\"zerolinecolor\":\"white\",\"automargin\":true,\"zerolinewidth\":2},\"yaxis\":{\"gridcolor\":\"white\",\"linecolor\":\"white\",\"ticks\":\"\",\"title\":{\"standoff\":15},\"zerolinecolor\":\"white\",\"automargin\":true,\"zerolinewidth\":2},\"scene\":{\"xaxis\":{\"backgroundcolor\":\"#E5ECF6\",\"gridcolor\":\"white\",\"linecolor\":\"white\",\"showbackground\":true,\"ticks\":\"\",\"zerolinecolor\":\"white\",\"gridwidth\":2},\"yaxis\":{\"backgroundcolor\":\"#E5ECF6\",\"gridcolor\":\"white\",\"linecolor\":\"white\",\"showbackground\":true,\"ticks\":\"\",\"zerolinecolor\":\"white\",\"gridwidth\":2},\"zaxis\":{\"backgroundcolor\":\"#E5ECF6\",\"gridcolor\":\"white\",\"linecolor\":\"white\",\"showbackground\":true,\"ticks\":\"\",\"zerolinecolor\":\"white\",\"gridwidth\":2}},\"shapedefaults\":{\"line\":{\"color\":\"#2a3f5f\"}},\"annotationdefaults\":{\"arrowcolor\":\"#2a3f5f\",\"arrowhead\":0,\"arrowwidth\":1},\"geo\":{\"bgcolor\":\"white\",\"landcolor\":\"#E5ECF6\",\"subunitcolor\":\"white\",\"showland\":true,\"showlakes\":true,\"lakecolor\":\"white\"},\"title\":{\"x\":0.05},\"mapbox\":{\"style\":\"light\"}}},\"mapbox\":{\"domain\":{\"x\":[0.0,1.0],\"y\":[0.0,1.0]},\"center\":{\"lat\":23.773789311097634,\"lon\":42.912641907216496},\"zoom\":4,\"style\":\"carto-positron\"},\"coloraxis\":{\"colorbar\":{\"title\":{\"text\":\"Job Count\"}},\"colorscale\":[[0.0,\"#000000\"],[0.0625,\"#001f4d\"],[0.125,\"#003786\"],[0.1875,\"#0e58a8\"],[0.25,\"#217eb8\"],[0.3125,\"#30a4ca\"],[0.375,\"#54c8df\"],[0.4375,\"#9be4ef\"],[0.5,\"#e1e9d1\"],[0.5625,\"#f3d573\"],[0.625,\"#e7b000\"],[0.6875,\"#da8200\"],[0.75,\"#c65400\"],[0.8125,\"#ac2301\"],[0.875,\"#820000\"],[0.9375,\"#4c0000\"],[1.0,\"#000000\"]]},\"legend\":{\"tracegroupgap\":0,\"itemsizing\":\"constant\"},\"margin\":{\"t\":60}},                        {\"responsive\": true}                    ).then(function(){\n",
              "                            \n",
              "var gd = document.getElementById('f4cd2e1b-2095-4cd3-8d70-baf5e736bf91');\n",
              "var x = new MutationObserver(function (mutations, observer) {{\n",
              "        var display = window.getComputedStyle(gd).display;\n",
              "        if (!display || display === 'none') {{\n",
              "            console.log([gd, 'removed!']);\n",
              "            Plotly.purge(gd);\n",
              "            observer.disconnect();\n",
              "        }}\n",
              "}});\n",
              "\n",
              "// Listen for the removal of the full notebook cells\n",
              "var notebookContainer = gd.closest('#notebook-container');\n",
              "if (notebookContainer) {{\n",
              "    x.observe(notebookContainer, {childList: true});\n",
              "}}\n",
              "\n",
              "// Listen for the clearing of the current output cell\n",
              "var outputEl = gd.closest('.output');\n",
              "if (outputEl) {{\n",
              "    x.observe(outputEl, {childList: true});\n",
              "}}\n",
              "\n",
              "                        })                };                            </script>        </div>\n",
              "</body>\n",
              "</html>"
            ]
          },
          "metadata": {}
        }
      ],
      "source": [
        "fig = px.scatter_mapbox(df_filtered, lat='LATITUDE', lon='LONGITUDE', color=\"Job Count\", size=\"Job Count\",\n",
        "                        center=dict(lat=map.LATITUDE.mean(),\n",
        "                                    lon=map.LONGITUDE.mean()),\n",
        "                  color_continuous_scale=px.colors.cyclical.IceFire, zoom=4,\n",
        "                  mapbox_style=\"carto-positron\",\n",
        "                                          size_max=50)\n",
        "fig.show()"
      ]
    },
    {
      "cell_type": "markdown",
      "metadata": {
        "id": "oyuG7RySl80W"
      },
      "source": [
        "### Date Post Mining"
      ]
    },
    {
      "cell_type": "markdown",
      "metadata": {
        "id": "8nuvitSrl80W"
      },
      "source": [
        "Create a copy of the Data frame"
      ]
    },
    {
      "cell_type": "code",
      "execution_count": null,
      "metadata": {
        "id": "6nurI3oIl80W"
      },
      "outputs": [],
      "source": [
        "df_Date = df"
      ]
    },
    {
      "cell_type": "code",
      "execution_count": null,
      "metadata": {
        "colab": {
          "base_uri": "https://localhost:8080/"
        },
        "id": "ArjhdB_3l80W",
        "outputId": "57b5cd98-c2b7-4f73-92bc-176cc4c7ecc5"
      },
      "outputs": [
        {
          "output_type": "execute_result",
          "data": {
            "text/plain": [
              "0     [2, days, ago]\n",
              "1    [3, weeks, ago]\n",
              "2    [4, weeks, ago]\n",
              "3     [1, week, ago]\n",
              "4     [5, days, ago]\n",
              "Name: post_date_list, dtype: object"
            ]
          },
          "metadata": {},
          "execution_count": 31
        }
      ],
      "source": [
        "df_Date[\"post_date\"] = df_Date[\"post_date\"].astype('string')\n",
        "df_Date[\"post_date\"] = df_Date[\"post_date\"].str.replace('\\n', '')\n",
        "df_Date['post_date_list'] = df_Date['post_date'].str.split()\n",
        "# df_Date['post_date_list'] = df_Date['post_date'].apply(lambda x: [item for item in x if item != 'ago'])\n",
        "df_Date['post_date_day']=''\n",
        "df_Date['post_date_list'].head()"
      ]
    },
    {
      "cell_type": "code",
      "execution_count": null,
      "metadata": {
        "id": "34f7xTa4l80X"
      },
      "outputs": [],
      "source": [
        "start_date = datetime.datetime.today() - datetime.timedelta(days=1)\n"
      ]
    },
    {
      "cell_type": "code",
      "execution_count": null,
      "metadata": {
        "colab": {
          "base_uri": "https://localhost:8080/"
        },
        "id": "388vHV6Nl80X",
        "outputId": "146ed4c5-0301-482d-cb65-729c8385b806"
      },
      "outputs": [
        {
          "output_type": "execute_result",
          "data": {
            "text/plain": [
              "Tuesday      198\n",
              "Sunday        33\n",
              "Wednesday     21\n",
              "Friday        16\n",
              "Thursday      15\n",
              "Monday         9\n",
              "Saturday       7\n",
              "Name: post_date_day, dtype: int64"
            ]
          },
          "metadata": {},
          "execution_count": 33
        }
      ],
      "source": [
        "time = ['hour', 'day', 'week', 'month']\n",
        "index=0\n",
        "for job in df_Date['post_date_list']:\n",
        "    for n in range(len(time)):\n",
        "        pattern = r'({}|{})'.format(time[n], time[n] + 's')\n",
        "        match = re.search(pattern, job[1])\n",
        "        if match and time[n]=='hour':\n",
        "            h = (datetime.datetime.today() - datetime.timedelta(days=3)) - datetime.timedelta(hours=int(job[0]))\n",
        "            df_Date['post_date_day'][index] =str(h.strftime('%A'))\n",
        "        elif match and time[n]=='day':\n",
        "            d = (datetime.datetime.today() - datetime.timedelta(days=3)) - datetime.timedelta(days=int(job[0]))\n",
        "            df_Date['post_date_day'][index] = str(d.strftime('%A'))\n",
        "        elif match and time[n]=='week':\n",
        "            w = (datetime.datetime.today() - datetime.timedelta(days=3)) - datetime.timedelta(days=(int(job[0])*7))\n",
        "            df_Date['post_date_day'][index] = str(w.strftime('%A'))\n",
        "        elif match and time[n]=='month':\n",
        "            m = (datetime.datetime.today() - datetime.timedelta(days=3)) - datetime.timedelta(days=(int(job[0])*30))\n",
        "            df_Date['post_date_day'][index] = str(m.strftime('%A'))\n",
        "    index+=1\n",
        "df_Date['post_date_day'].value_counts()"
      ]
    },
    {
      "cell_type": "code",
      "execution_count": null,
      "metadata": {
        "colab": {
          "base_uri": "https://localhost:8080/",
          "height": 428
        },
        "id": "uWbKufPJl80X",
        "outputId": "acd254f8-5c17-4936-83cd-18854c46a932"
      },
      "outputs": [
        {
          "output_type": "display_data",
          "data": {
            "text/plain": [
              "<Figure size 640x480 with 1 Axes>"
            ],
            "image/png": "[encoded data removed]"
          },
          "metadata": {}
        }
      ],
      "source": [
        "df_Date['post_date_day'].value_counts().sort_values().plot(kind='pie', autopct='%.3f%%', cmap='GnBu').set(xlabel='', ylabel='', title='Job posting by weekeday')\n",
        "plt.show()"
      ]
    },
    {
      "cell_type": "markdown",
      "metadata": {
        "id": "oE1eFtjel80X"
      },
      "source": [
        "### companies post"
      ]
    },
    {
      "cell_type": "code",
      "execution_count": null,
      "metadata": {
        "id": "VgB4IsIOl80Y"
      },
      "outputs": [],
      "source": [
        "import matplotlib.pyplot as plt\n",
        "\n",
        "SMALL_SIZE = 12\n",
        "MEDIUM_SIZE = 14\n",
        "BIGGER_SIZE = 16\n",
        "\n",
        "plt.rc('font', size=SMALL_SIZE)          # controls default text sizes\n",
        "plt.rc('xtick', labelsize=SMALL_SIZE)    # fontsize of the tick labels\n",
        "plt.rc('ytick', labelsize=SMALL_SIZE)    # fontsize of the tick labels\n",
        "plt.rc('legend', fontsize=SMALL_SIZE)    # legend fontsize"
      ]
    },
    {
      "cell_type": "code",
      "execution_count": null,
      "metadata": {
        "scrolled": false,
        "colab": {
          "base_uri": "https://localhost:8080/",
          "height": 769
        },
        "id": "uDcLPba4l80Y",
        "outputId": "c79f4a24-c4d4-4d51-cd62-85f7c0dd30c1"
      },
      "outputs": [
        {
          "output_type": "display_data",
          "data": {
            "text/plain": [
              "<Figure size 800x1000 with 1 Axes>"
            ],
            "image/png": "[encoded data removed]"
          },
          "metadata": {}
        }
      ],
      "source": [
        "# Initialize the matplotlib figure\n",
        "f, ax = plt.subplots(figsize=(8, 10))\n",
        "\n",
        "#Dataset relating to recruiters\n",
        "rec_df = df.groupby('company_name').count().sort_values(by='job_title', ascending=False).reset_index()[['company_name', 'job_title']].copy()\n",
        "\n",
        "# Plot the total crashes\n",
        "sns.set_color_codes(\"bright\")\n",
        "sns.barplot(x=\"job_title\", y=\"company_name\", data=rec_df.loc[0:15,:],\n",
        "            label=\"Total\", color=\"lightblue\")\n",
        "\n",
        "plt.title('Top 15 Companies/Recruiters By Job Postings', fontsize=18);"
      ]
    },
    {
      "cell_type": "markdown",
      "metadata": {
        "id": "9TxsAVIsl80Y"
      },
      "source": [
        "### Contract Type"
      ]
    },
    {
      "cell_type": "markdown",
      "metadata": {
        "id": "6e0u4bVWl80Y"
      },
      "source": [
        "Another important aspect to look into for a job search is whether the role is permanent or contract. Not all adverts on linkedIn specify this but will look into the split of permanent, contract, missing."
      ]
    },
    {
      "cell_type": "code",
      "execution_count": null,
      "metadata": {
        "colab": {
          "base_uri": "https://localhost:8080/"
        },
        "id": "ZPqNqMNll80Z",
        "outputId": "b77bd960-d4bd-4df3-b223-8cc27cbbe4f5"
      },
      "outputs": [
        {
          "output_type": "execute_result",
          "data": {
            "text/plain": [
              "0    -\n",
              "1    -\n",
              "2    -\n",
              "3    -\n",
              "4    -\n",
              "Name: work_time, dtype: object"
            ]
          },
          "metadata": {},
          "execution_count": 38
        }
      ],
      "source": [
        "df['work_time'].head()"
      ]
    },
    {
      "cell_type": "code",
      "execution_count": null,
      "metadata": {
        "colab": {
          "base_uri": "https://localhost:8080/",
          "height": 206
        },
        "id": "Z1nmIhqgl80Z",
        "outputId": "59d9a01a-e8a2-494e-8fe8-c4e973f7c84e"
      },
      "outputs": [
        {
          "output_type": "execute_result",
          "data": {
            "text/plain": [
              "  worktime1 worktime2\n",
              "0         -      None\n",
              "1         -      None\n",
              "2         -      None\n",
              "3         -      None\n",
              "4         -      None"
            ],
            "text/html": [
              "\n",
              "  <div id=\"df-4d32c794-a9ec-41a3-b3e5-325651634d73\">\n",
              "    <div class=\"colab-df-container\">\n",
              "      <div>\n",
              "<style scoped>\n",
              "    .dataframe tbody tr th:only-of-type {\n",
              "        vertical-align: middle;\n",
              "    }\n",
              "\n",
              "    .dataframe tbody tr th {\n",
              "        vertical-align: top;\n",
              "    }\n",
              "\n",
              "    .dataframe thead th {\n",
              "        text-align: right;\n",
              "    }\n",
              "</style>\n",
              "<table border=\"1\" class=\"dataframe\">\n",
              "  <thead>\n",
              "    <tr style=\"text-align: right;\">\n",
              "      <th></th>\n",
              "      <th>worktime1</th>\n",
              "      <th>worktime2</th>\n",
              "    </tr>\n",
              "  </thead>\n",
              "  <tbody>\n",
              "    <tr>\n",
              "      <th>0</th>\n",
              "      <td>-</td>\n",
              "      <td>None</td>\n",
              "    </tr>\n",
              "    <tr>\n",
              "      <th>1</th>\n",
              "      <td>-</td>\n",
              "      <td>None</td>\n",
              "    </tr>\n",
              "    <tr>\n",
              "      <th>2</th>\n",
              "      <td>-</td>\n",
              "      <td>None</td>\n",
              "    </tr>\n",
              "    <tr>\n",
              "      <th>3</th>\n",
              "      <td>-</td>\n",
              "      <td>None</td>\n",
              "    </tr>\n",
              "    <tr>\n",
              "      <th>4</th>\n",
              "      <td>-</td>\n",
              "      <td>None</td>\n",
              "    </tr>\n",
              "  </tbody>\n",
              "</table>\n",
              "</div>\n",
              "      <button class=\"colab-df-convert\" onclick=\"convertToInteractive('df-4d32c794-a9ec-41a3-b3e5-325651634d73')\"\n",
              "              title=\"Convert this dataframe to an interactive table.\"\n",
              "              style=\"display:none;\">\n",
              "        \n",
              "  <svg xmlns=\"http://www.w3.org/2000/svg\" height=\"24px\"viewBox=\"0 0 24 24\"\n",
              "       width=\"24px\">\n",
              "    <path d=\"M0 0h24v24H0V0z\" fill=\"none\"/>\n",
              "    <path d=\"M18.56 5.44l.94 2.06.94-2.06 2.06-.94-2.06-.94-.94-2.06-.94 2.06-2.06.94zm-11 1L8.5 8.5l.94-2.06 2.06-.94-2.06-.94L8.5 2.5l-.94 2.06-2.06.94zm10 10l.94 2.06.94-2.06 2.06-.94-2.06-.94-.94-2.06-.94 2.06-2.06.94z\"/><path d=\"M17.41 7.96l-1.37-1.37c-.4-.4-.92-.59-1.43-.59-.52 0-1.04.2-1.43.59L10.3 9.45l-7.72 7.72c-.78.78-.78 2.05 0 2.83L4 21.41c.39.39.9.59 1.41.59.51 0 1.02-.2 1.41-.59l7.78-7.78 2.81-2.81c.8-.78.8-2.07 0-2.86zM5.41 20L4 18.59l7.72-7.72 1.47 1.35L5.41 20z\"/>\n",
              "  </svg>\n",
              "      </button>\n",
              "      \n",
              "  <style>\n",
              "    .colab-df-container {\n",
              "      display:flex;\n",
              "      flex-wrap:wrap;\n",
              "      gap: 12px;\n",
              "    }\n",
              "\n",
              "    .colab-df-convert {\n",
              "      background-color: #E8F0FE;\n",
              "      border: none;\n",
              "      border-radius: 50%;\n",
              "      cursor: pointer;\n",
              "      display: none;\n",
              "      fill: #1967D2;\n",
              "      height: 32px;\n",
              "      padding: 0 0 0 0;\n",
              "      width: 32px;\n",
              "    }\n",
              "\n",
              "    .colab-df-convert:hover {\n",
              "      background-color: #E2EBFA;\n",
              "      box-shadow: 0px 1px 2px rgba(60, 64, 67, 0.3), 0px 1px 3px 1px rgba(60, 64, 67, 0.15);\n",
              "      fill: #174EA6;\n",
              "    }\n",
              "\n",
              "    [theme=dark] .colab-df-convert {\n",
              "      background-color: #3B4455;\n",
              "      fill: #D2E3FC;\n",
              "    }\n",
              "\n",
              "    [theme=dark] .colab-df-convert:hover {\n",
              "      background-color: #434B5C;\n",
              "      box-shadow: 0px 1px 3px 1px rgba(0, 0, 0, 0.15);\n",
              "      filter: drop-shadow(0px 1px 2px rgba(0, 0, 0, 0.3));\n",
              "      fill: #FFFFFF;\n",
              "    }\n",
              "  </style>\n",
              "\n",
              "      <script>\n",
              "        const buttonEl =\n",
              "          document.querySelector('#df-4d32c794-a9ec-41a3-b3e5-325651634d73 button.colab-df-convert');\n",
              "        buttonEl.style.display =\n",
              "          google.colab.kernel.accessAllowed ? 'block' : 'none';\n",
              "\n",
              "        async function convertToInteractive(key) {\n",
              "          const element = document.querySelector('#df-4d32c794-a9ec-41a3-b3e5-325651634d73');\n",
              "          const dataTable =\n",
              "            await google.colab.kernel.invokeFunction('convertToInteractive',\n",
              "                                                     [key], {});\n",
              "          if (!dataTable) return;\n",
              "\n",
              "          const docLinkHtml = 'Like what you see? Visit the ' +\n",
              "            '<a target=\"_blank\" href=https://colab.research.google.com/notebooks/data_table.ipynb>data table notebook</a>'\n",
              "            + ' to learn more about interactive tables.';\n",
              "          element.innerHTML = '';\n",
              "          dataTable['output_type'] = 'display_data';\n",
              "          await google.colab.output.renderOutput(dataTable, element);\n",
              "          const docLink = document.createElement('div');\n",
              "          docLink.innerHTML = docLinkHtml;\n",
              "          element.appendChild(docLink);\n",
              "        }\n",
              "      </script>\n",
              "    </div>\n",
              "  </div>\n",
              "  "
            ]
          },
          "metadata": {},
          "execution_count": 39
        }
      ],
      "source": [
        "df3 = df.work_time.str.split('·', expand = True)\n",
        "df3.columns = ['worktime{}'.format(x+1) for x in df3.columns]\n",
        "df3.head()"
      ]
    },
    {
      "cell_type": "code",
      "execution_count": null,
      "metadata": {
        "id": "SicTzoI2l80Z"
      },
      "outputs": [],
      "source": [
        "df['Contract'] = df3.worktime1\n",
        "df['level'] = df3.worktime2"
      ]
    },
    {
      "cell_type": "code",
      "execution_count": null,
      "metadata": {
        "scrolled": false,
        "colab": {
          "base_uri": "https://localhost:8080/",
          "height": 192
        },
        "id": "mT-MvWRcl80Z",
        "outputId": "5312636a-5318-4414-ebd8-814d654b5431"
      },
      "outputs": [
        {
          "output_type": "stream",
          "name": "stdout",
          "text": [
            "Roles with a contract type specified: 2.0 %\n"
          ]
        },
        {
          "output_type": "execute_result",
          "data": {
            "text/plain": [
              "     Contract  job_title\n",
              "0           -        292\n",
              "1    Contract          1\n",
              "2   Full-time          3\n",
              "3  Full-time           3"
            ],
            "text/html": [
              "\n",
              "  <div id=\"df-6d784a43-826d-4bb8-bad6-c227f08f6d97\">\n",
              "    <div class=\"colab-df-container\">\n",
              "      <div>\n",
              "<style scoped>\n",
              "    .dataframe tbody tr th:only-of-type {\n",
              "        vertical-align: middle;\n",
              "    }\n",
              "\n",
              "    .dataframe tbody tr th {\n",
              "        vertical-align: top;\n",
              "    }\n",
              "\n",
              "    .dataframe thead th {\n",
              "        text-align: right;\n",
              "    }\n",
              "</style>\n",
              "<table border=\"1\" class=\"dataframe\">\n",
              "  <thead>\n",
              "    <tr style=\"text-align: right;\">\n",
              "      <th></th>\n",
              "      <th>Contract</th>\n",
              "      <th>job_title</th>\n",
              "    </tr>\n",
              "  </thead>\n",
              "  <tbody>\n",
              "    <tr>\n",
              "      <th>0</th>\n",
              "      <td>-</td>\n",
              "      <td>292</td>\n",
              "    </tr>\n",
              "    <tr>\n",
              "      <th>1</th>\n",
              "      <td>Contract</td>\n",
              "      <td>1</td>\n",
              "    </tr>\n",
              "    <tr>\n",
              "      <th>2</th>\n",
              "      <td>Full-time</td>\n",
              "      <td>3</td>\n",
              "    </tr>\n",
              "    <tr>\n",
              "      <th>3</th>\n",
              "      <td>Full-time</td>\n",
              "      <td>3</td>\n",
              "    </tr>\n",
              "  </tbody>\n",
              "</table>\n",
              "</div>\n",
              "      <button class=\"colab-df-convert\" onclick=\"convertToInteractive('df-6d784a43-826d-4bb8-bad6-c227f08f6d97')\"\n",
              "              title=\"Convert this dataframe to an interactive table.\"\n",
              "              style=\"display:none;\">\n",
              "        \n",
              "  <svg xmlns=\"http://www.w3.org/2000/svg\" height=\"24px\"viewBox=\"0 0 24 24\"\n",
              "       width=\"24px\">\n",
              "    <path d=\"M0 0h24v24H0V0z\" fill=\"none\"/>\n",
              "    <path d=\"M18.56 5.44l.94 2.06.94-2.06 2.06-.94-2.06-.94-.94-2.06-.94 2.06-2.06.94zm-11 1L8.5 8.5l.94-2.06 2.06-.94-2.06-.94L8.5 2.5l-.94 2.06-2.06.94zm10 10l.94 2.06.94-2.06 2.06-.94-2.06-.94-.94-2.06-.94 2.06-2.06.94z\"/><path d=\"M17.41 7.96l-1.37-1.37c-.4-.4-.92-.59-1.43-.59-.52 0-1.04.2-1.43.59L10.3 9.45l-7.72 7.72c-.78.78-.78 2.05 0 2.83L4 21.41c.39.39.9.59 1.41.59.51 0 1.02-.2 1.41-.59l7.78-7.78 2.81-2.81c.8-.78.8-2.07 0-2.86zM5.41 20L4 18.59l7.72-7.72 1.47 1.35L5.41 20z\"/>\n",
              "  </svg>\n",
              "      </button>\n",
              "      \n",
              "  <style>\n",
              "    .colab-df-container {\n",
              "      display:flex;\n",
              "      flex-wrap:wrap;\n",
              "      gap: 12px;\n",
              "    }\n",
              "\n",
              "    .colab-df-convert {\n",
              "      background-color: #E8F0FE;\n",
              "      border: none;\n",
              "      border-radius: 50%;\n",
              "      cursor: pointer;\n",
              "      display: none;\n",
              "      fill: #1967D2;\n",
              "      height: 32px;\n",
              "      padding: 0 0 0 0;\n",
              "      width: 32px;\n",
              "    }\n",
              "\n",
              "    .colab-df-convert:hover {\n",
              "      background-color: #E2EBFA;\n",
              "      box-shadow: 0px 1px 2px rgba(60, 64, 67, 0.3), 0px 1px 3px 1px rgba(60, 64, 67, 0.15);\n",
              "      fill: #174EA6;\n",
              "    }\n",
              "\n",
              "    [theme=dark] .colab-df-convert {\n",
              "      background-color: #3B4455;\n",
              "      fill: #D2E3FC;\n",
              "    }\n",
              "\n",
              "    [theme=dark] .colab-df-convert:hover {\n",
              "      background-color: #434B5C;\n",
              "      box-shadow: 0px 1px 3px 1px rgba(0, 0, 0, 0.15);\n",
              "      filter: drop-shadow(0px 1px 2px rgba(0, 0, 0, 0.3));\n",
              "      fill: #FFFFFF;\n",
              "    }\n",
              "  </style>\n",
              "\n",
              "      <script>\n",
              "        const buttonEl =\n",
              "          document.querySelector('#df-6d784a43-826d-4bb8-bad6-c227f08f6d97 button.colab-df-convert');\n",
              "        buttonEl.style.display =\n",
              "          google.colab.kernel.accessAllowed ? 'block' : 'none';\n",
              "\n",
              "        async function convertToInteractive(key) {\n",
              "          const element = document.querySelector('#df-6d784a43-826d-4bb8-bad6-c227f08f6d97');\n",
              "          const dataTable =\n",
              "            await google.colab.kernel.invokeFunction('convertToInteractive',\n",
              "                                                     [key], {});\n",
              "          if (!dataTable) return;\n",
              "\n",
              "          const docLinkHtml = 'Like what you see? Visit the ' +\n",
              "            '<a target=\"_blank\" href=https://colab.research.google.com/notebooks/data_table.ipynb>data table notebook</a>'\n",
              "            + ' to learn more about interactive tables.';\n",
              "          element.innerHTML = '';\n",
              "          dataTable['output_type'] = 'display_data';\n",
              "          await google.colab.output.renderOutput(dataTable, element);\n",
              "          const docLink = document.createElement('div');\n",
              "          docLink.innerHTML = docLinkHtml;\n",
              "          element.appendChild(docLink);\n",
              "        }\n",
              "      </script>\n",
              "    </div>\n",
              "  </div>\n",
              "  "
            ]
          },
          "metadata": {},
          "execution_count": 42
        }
      ],
      "source": [
        "print('Roles with a contract type specified:', round(df[df['Contract']!='-'].groupby('Contract')['job_title'].count().sum()/len(df),2)*100, '%')\n",
        "df.groupby('Contract')['job_title'].count().reset_index()"
      ]
    },
    {
      "cell_type": "code",
      "execution_count": null,
      "metadata": {
        "colab": {
          "base_uri": "https://localhost:8080/",
          "height": 143
        },
        "id": "16Hzl3w7l80h",
        "outputId": "c765cdad-6161-42b3-e7fc-a231b840ca11"
      },
      "outputs": [
        {
          "output_type": "execute_result",
          "data": {
            "text/plain": [
              "  Contract_Type  job_title\n",
              "0             -        292\n",
              "1      Contract          1\n",
              "2     Permanent          6"
            ],
            "text/html": [
              "\n",
              "  <div id=\"df-568415de-1a36-4ff6-b0d2-bfb0e1c48902\">\n",
              "    <div class=\"colab-df-container\">\n",
              "      <div>\n",
              "<style scoped>\n",
              "    .dataframe tbody tr th:only-of-type {\n",
              "        vertical-align: middle;\n",
              "    }\n",
              "\n",
              "    .dataframe tbody tr th {\n",
              "        vertical-align: top;\n",
              "    }\n",
              "\n",
              "    .dataframe thead th {\n",
              "        text-align: right;\n",
              "    }\n",
              "</style>\n",
              "<table border=\"1\" class=\"dataframe\">\n",
              "  <thead>\n",
              "    <tr style=\"text-align: right;\">\n",
              "      <th></th>\n",
              "      <th>Contract_Type</th>\n",
              "      <th>job_title</th>\n",
              "    </tr>\n",
              "  </thead>\n",
              "  <tbody>\n",
              "    <tr>\n",
              "      <th>0</th>\n",
              "      <td>-</td>\n",
              "      <td>292</td>\n",
              "    </tr>\n",
              "    <tr>\n",
              "      <th>1</th>\n",
              "      <td>Contract</td>\n",
              "      <td>1</td>\n",
              "    </tr>\n",
              "    <tr>\n",
              "      <th>2</th>\n",
              "      <td>Permanent</td>\n",
              "      <td>6</td>\n",
              "    </tr>\n",
              "  </tbody>\n",
              "</table>\n",
              "</div>\n",
              "      <button class=\"colab-df-convert\" onclick=\"convertToInteractive('df-568415de-1a36-4ff6-b0d2-bfb0e1c48902')\"\n",
              "              title=\"Convert this dataframe to an interactive table.\"\n",
              "              style=\"display:none;\">\n",
              "        \n",
              "  <svg xmlns=\"http://www.w3.org/2000/svg\" height=\"24px\"viewBox=\"0 0 24 24\"\n",
              "       width=\"24px\">\n",
              "    <path d=\"M0 0h24v24H0V0z\" fill=\"none\"/>\n",
              "    <path d=\"M18.56 5.44l.94 2.06.94-2.06 2.06-.94-2.06-.94-.94-2.06-.94 2.06-2.06.94zm-11 1L8.5 8.5l.94-2.06 2.06-.94-2.06-.94L8.5 2.5l-.94 2.06-2.06.94zm10 10l.94 2.06.94-2.06 2.06-.94-2.06-.94-.94-2.06-.94 2.06-2.06.94z\"/><path d=\"M17.41 7.96l-1.37-1.37c-.4-.4-.92-.59-1.43-.59-.52 0-1.04.2-1.43.59L10.3 9.45l-7.72 7.72c-.78.78-.78 2.05 0 2.83L4 21.41c.39.39.9.59 1.41.59.51 0 1.02-.2 1.41-.59l7.78-7.78 2.81-2.81c.8-.78.8-2.07 0-2.86zM5.41 20L4 18.59l7.72-7.72 1.47 1.35L5.41 20z\"/>\n",
              "  </svg>\n",
              "      </button>\n",
              "      \n",
              "  <style>\n",
              "    .colab-df-container {\n",
              "      display:flex;\n",
              "      flex-wrap:wrap;\n",
              "      gap: 12px;\n",
              "    }\n",
              "\n",
              "    .colab-df-convert {\n",
              "      background-color: #E8F0FE;\n",
              "      border: none;\n",
              "      border-radius: 50%;\n",
              "      cursor: pointer;\n",
              "      display: none;\n",
              "      fill: #1967D2;\n",
              "      height: 32px;\n",
              "      padding: 0 0 0 0;\n",
              "      width: 32px;\n",
              "    }\n",
              "\n",
              "    .colab-df-convert:hover {\n",
              "      background-color: #E2EBFA;\n",
              "      box-shadow: 0px 1px 2px rgba(60, 64, 67, 0.3), 0px 1px 3px 1px rgba(60, 64, 67, 0.15);\n",
              "      fill: #174EA6;\n",
              "    }\n",
              "\n",
              "    [theme=dark] .colab-df-convert {\n",
              "      background-color: #3B4455;\n",
              "      fill: #D2E3FC;\n",
              "    }\n",
              "\n",
              "    [theme=dark] .colab-df-convert:hover {\n",
              "      background-color: #434B5C;\n",
              "      box-shadow: 0px 1px 3px 1px rgba(0, 0, 0, 0.15);\n",
              "      filter: drop-shadow(0px 1px 2px rgba(0, 0, 0, 0.3));\n",
              "      fill: #FFFFFF;\n",
              "    }\n",
              "  </style>\n",
              "\n",
              "      <script>\n",
              "        const buttonEl =\n",
              "          document.querySelector('#df-568415de-1a36-4ff6-b0d2-bfb0e1c48902 button.colab-df-convert');\n",
              "        buttonEl.style.display =\n",
              "          google.colab.kernel.accessAllowed ? 'block' : 'none';\n",
              "\n",
              "        async function convertToInteractive(key) {\n",
              "          const element = document.querySelector('#df-568415de-1a36-4ff6-b0d2-bfb0e1c48902');\n",
              "          const dataTable =\n",
              "            await google.colab.kernel.invokeFunction('convertToInteractive',\n",
              "                                                     [key], {});\n",
              "          if (!dataTable) return;\n",
              "\n",
              "          const docLinkHtml = 'Like what you see? Visit the ' +\n",
              "            '<a target=\"_blank\" href=https://colab.research.google.com/notebooks/data_table.ipynb>data table notebook</a>'\n",
              "            + ' to learn more about interactive tables.';\n",
              "          element.innerHTML = '';\n",
              "          dataTable['output_type'] = 'display_data';\n",
              "          await google.colab.output.renderOutput(dataTable, element);\n",
              "          const docLink = document.createElement('div');\n",
              "          docLink.innerHTML = docLinkHtml;\n",
              "          element.appendChild(docLink);\n",
              "        }\n",
              "      </script>\n",
              "    </div>\n",
              "  </div>\n",
              "  "
            ]
          },
          "metadata": {},
          "execution_count": 43
        }
      ],
      "source": [
        "#Function to return the contract type\n",
        "def contract_type(x):\n",
        "    if re.search('Contract', x):\n",
        "        return 'Contract'\n",
        "    if re.search('Temporary', x):\n",
        "        return 'Contract'\n",
        "    if re.search('Full-time', x):\n",
        "        return 'Permanent'\n",
        "    if re.search('Permanent', x):\n",
        "        return 'Permanent'\n",
        "    if re.search('Internship', x):\n",
        "        return 'Internship'\n",
        "    else:\n",
        "        return x\n",
        "\n",
        "df['Contract_Type'] = df['Contract'].apply(contract_type)\n",
        "df.groupby('Contract_Type')['job_title'].count().reset_index()\n"
      ]
    },
    {
      "cell_type": "code",
      "execution_count": null,
      "metadata": {
        "colab": {
          "base_uri": "https://localhost:8080/",
          "height": 791
        },
        "id": "fE3OjIMCl80i",
        "outputId": "585622f0-4f8f-418b-f13a-96ef4333d849"
      },
      "outputs": [
        {
          "output_type": "display_data",
          "data": {
            "text/plain": [
              "<Figure size 800x800 with 1 Axes>"
            ],
            "image/png": "[encoded data removed]"
          },
          "metadata": {}
        }
      ],
      "source": [
        "contract_df = df.groupby('Contract_Type').count().reset_index()[['Contract_Type', 'job_title']]\n",
        "\n",
        "f, ax = plt.subplots(figsize=(8,8))\n",
        "plt.xticks(rotation=45)\n",
        "\n",
        "sns.barplot(x='Contract_Type', y='job_title', data=contract_df)\n",
        "\n",
        "ax.set_title('Count Of Jobs By Contract Type', fontsize=18)\n",
        "ax.set_xlabel('Contract Type', fontsize=14)\n",
        "ax.set_ylabel('Count', fontsize=14);"
      ]
    },
    {
      "cell_type": "markdown",
      "metadata": {
        "id": "cM9OqAgZl80i"
      },
      "source": [
        "### Job Level Type"
      ]
    },
    {
      "cell_type": "code",
      "execution_count": null,
      "metadata": {
        "colab": {
          "base_uri": "https://localhost:8080/",
          "height": 129
        },
        "id": "V56LyoqXl80i",
        "outputId": "47f58848-2eee-4e92-8a34-6bc3783fbc0e"
      },
      "outputs": [
        {
          "output_type": "stream",
          "name": "stdout",
          "text": [
            "Roles with a contract type specified: 1.0 %\n"
          ]
        },
        {
          "output_type": "execute_result",
          "data": {
            "text/plain": [
              "               level  job_title\n",
              "0           Director          1\n",
              "1   Mid-Senior level          2"
            ],
            "text/html": [
              "\n",
              "  <div id=\"df-bdb78d96-568a-465a-b882-dbb8df921446\">\n",
              "    <div class=\"colab-df-container\">\n",
              "      <div>\n",
              "<style scoped>\n",
              "    .dataframe tbody tr th:only-of-type {\n",
              "        vertical-align: middle;\n",
              "    }\n",
              "\n",
              "    .dataframe tbody tr th {\n",
              "        vertical-align: top;\n",
              "    }\n",
              "\n",
              "    .dataframe thead th {\n",
              "        text-align: right;\n",
              "    }\n",
              "</style>\n",
              "<table border=\"1\" class=\"dataframe\">\n",
              "  <thead>\n",
              "    <tr style=\"text-align: right;\">\n",
              "      <th></th>\n",
              "      <th>level</th>\n",
              "      <th>job_title</th>\n",
              "    </tr>\n",
              "  </thead>\n",
              "  <tbody>\n",
              "    <tr>\n",
              "      <th>0</th>\n",
              "      <td>Director</td>\n",
              "      <td>1</td>\n",
              "    </tr>\n",
              "    <tr>\n",
              "      <th>1</th>\n",
              "      <td>Mid-Senior level</td>\n",
              "      <td>2</td>\n",
              "    </tr>\n",
              "  </tbody>\n",
              "</table>\n",
              "</div>\n",
              "      <button class=\"colab-df-convert\" onclick=\"convertToInteractive('df-bdb78d96-568a-465a-b882-dbb8df921446')\"\n",
              "              title=\"Convert this dataframe to an interactive table.\"\n",
              "              style=\"display:none;\">\n",
              "        \n",
              "  <svg xmlns=\"http://www.w3.org/2000/svg\" height=\"24px\"viewBox=\"0 0 24 24\"\n",
              "       width=\"24px\">\n",
              "    <path d=\"M0 0h24v24H0V0z\" fill=\"none\"/>\n",
              "    <path d=\"M18.56 5.44l.94 2.06.94-2.06 2.06-.94-2.06-.94-.94-2.06-.94 2.06-2.06.94zm-11 1L8.5 8.5l.94-2.06 2.06-.94-2.06-.94L8.5 2.5l-.94 2.06-2.06.94zm10 10l.94 2.06.94-2.06 2.06-.94-2.06-.94-.94-2.06-.94 2.06-2.06.94z\"/><path d=\"M17.41 7.96l-1.37-1.37c-.4-.4-.92-.59-1.43-.59-.52 0-1.04.2-1.43.59L10.3 9.45l-7.72 7.72c-.78.78-.78 2.05 0 2.83L4 21.41c.39.39.9.59 1.41.59.51 0 1.02-.2 1.41-.59l7.78-7.78 2.81-2.81c.8-.78.8-2.07 0-2.86zM5.41 20L4 18.59l7.72-7.72 1.47 1.35L5.41 20z\"/>\n",
              "  </svg>\n",
              "      </button>\n",
              "      \n",
              "  <style>\n",
              "    .colab-df-container {\n",
              "      display:flex;\n",
              "      flex-wrap:wrap;\n",
              "      gap: 12px;\n",
              "    }\n",
              "\n",
              "    .colab-df-convert {\n",
              "      background-color: #E8F0FE;\n",
              "      border: none;\n",
              "      border-radius: 50%;\n",
              "      cursor: pointer;\n",
              "      display: none;\n",
              "      fill: #1967D2;\n",
              "      height: 32px;\n",
              "      padding: 0 0 0 0;\n",
              "      width: 32px;\n",
              "    }\n",
              "\n",
              "    .colab-df-convert:hover {\n",
              "      background-color: #E2EBFA;\n",
              "      box-shadow: 0px 1px 2px rgba(60, 64, 67, 0.3), 0px 1px 3px 1px rgba(60, 64, 67, 0.15);\n",
              "      fill: #174EA6;\n",
              "    }\n",
              "\n",
              "    [theme=dark] .colab-df-convert {\n",
              "      background-color: #3B4455;\n",
              "      fill: #D2E3FC;\n",
              "    }\n",
              "\n",
              "    [theme=dark] .colab-df-convert:hover {\n",
              "      background-color: #434B5C;\n",
              "      box-shadow: 0px 1px 3px 1px rgba(0, 0, 0, 0.15);\n",
              "      filter: drop-shadow(0px 1px 2px rgba(0, 0, 0, 0.3));\n",
              "      fill: #FFFFFF;\n",
              "    }\n",
              "  </style>\n",
              "\n",
              "      <script>\n",
              "        const buttonEl =\n",
              "          document.querySelector('#df-bdb78d96-568a-465a-b882-dbb8df921446 button.colab-df-convert');\n",
              "        buttonEl.style.display =\n",
              "          google.colab.kernel.accessAllowed ? 'block' : 'none';\n",
              "\n",
              "        async function convertToInteractive(key) {\n",
              "          const element = document.querySelector('#df-bdb78d96-568a-465a-b882-dbb8df921446');\n",
              "          const dataTable =\n",
              "            await google.colab.kernel.invokeFunction('convertToInteractive',\n",
              "                                                     [key], {});\n",
              "          if (!dataTable) return;\n",
              "\n",
              "          const docLinkHtml = 'Like what you see? Visit the ' +\n",
              "            '<a target=\"_blank\" href=https://colab.research.google.com/notebooks/data_table.ipynb>data table notebook</a>'\n",
              "            + ' to learn more about interactive tables.';\n",
              "          element.innerHTML = '';\n",
              "          dataTable['output_type'] = 'display_data';\n",
              "          await google.colab.output.renderOutput(dataTable, element);\n",
              "          const docLink = document.createElement('div');\n",
              "          docLink.innerHTML = docLinkHtml;\n",
              "          element.appendChild(docLink);\n",
              "        }\n",
              "      </script>\n",
              "    </div>\n",
              "  </div>\n",
              "  "
            ]
          },
          "metadata": {},
          "execution_count": 46
        }
      ],
      "source": [
        "print('Roles with a contract type specified:', round(df[df['level']!='-'].groupby('level')['job_title'].count().sum()/len(df),2)*100, '%')\n",
        "df.groupby('level')['job_title'].count().reset_index()"
      ]
    },
    {
      "cell_type": "code",
      "execution_count": null,
      "metadata": {
        "id": "5_4t-OlEl80i"
      },
      "outputs": [],
      "source": [
        "# remove noisy data"
      ]
    },
    {
      "cell_type": "code",
      "execution_count": null,
      "metadata": {
        "colab": {
          "base_uri": "https://localhost:8080/",
          "height": 796
        },
        "id": "LONEgN-_l80i",
        "outputId": "eaf85378-a4a1-4e5c-d951-5a6fa259432e"
      },
      "outputs": [
        {
          "output_type": "display_data",
          "data": {
            "text/plain": [
              "<Figure size 800x800 with 1 Axes>"
            ],
            "image/png": "[encoded data removed]"
          },
          "metadata": {}
        }
      ],
      "source": [
        "contract_df = df.groupby('level').count().reset_index()[['level', 'job_title']]\n",
        "\n",
        "f, ax = plt.subplots(figsize=(8,8))\n",
        "plt.xticks(rotation=45)\n",
        "\n",
        "sns.barplot(x='level', y='job_title', data=contract_df)\n",
        "\n",
        "# show plot\n",
        "plt.show()\n",
        "ax.set_title('Count Of Jobs By level Type', fontsize=18)\n",
        "ax.set_xlabel('Job Level', fontsize=14)\n",
        "ax.set_ylabel('Count', fontsize=14);"
      ]
    },
    {
      "cell_type": "markdown",
      "source": [
        "### Job Description\n"
      ],
      "metadata": {
        "id": "Tw31WwQ6L1Ti"
      }
    },
    {
      "cell_type": "code",
      "source": [
        "pg_lan = [\"python\",\"c++\",\"java\",\".net\",\"c#\",\"javascript\",\"html\",\"bash\",\"swift\",\"php\"]\n",
        "exp_edu = [\"phd\",\"master\",\"bachelor\"]\n",
        "other_skills = [\"sql\",\"oracle\"]\n",
        "job = df[\"Description\"].tolist()"
      ],
      "metadata": {
        "id": "g0ZdOEtOL85L"
      },
      "execution_count": null,
      "outputs": []
    },
    {
      "cell_type": "code",
      "source": [
        "job = [x.lower() for x in job]"
      ],
      "metadata": {
        "id": "zzRN6bbbMhHp"
      },
      "execution_count": null,
      "outputs": []
    },
    {
      "cell_type": "code",
      "source": [
        "from collections import defaultdict"
      ],
      "metadata": {
        "id": "YvUXbPKQNMRb"
      },
      "execution_count": null,
      "outputs": []
    },
    {
      "cell_type": "markdown",
      "source": [
        "#### Programming Language"
      ],
      "metadata": {
        "id": "-c7MgYXJNOYQ"
      }
    },
    {
      "cell_type": "code",
      "source": [
        "pg_lan_required = defaultdict()\n",
        "for item in pg_lan:\n",
        "    counter = 0\n",
        "    for it in job:\n",
        "        if item in it:\n",
        "            counter = counter + 1\n",
        "    pg_lan_required[item] = counter\n",
        "\n",
        "pg_lan_df = pd.DataFrame(list(pg_lan_required.items()),columns = ['Programming Langauge','count'])\n",
        "pg_lan_df.sort_values([\"count\"], axis=0, ascending=False, inplace=True)"
      ],
      "metadata": {
        "id": "LdV0ne21NRFQ"
      },
      "execution_count": null,
      "outputs": []
    },
    {
      "cell_type": "code",
      "source": [
        "plt.figure(figsize = (15,5))\n",
        "x = pg_lan_df[\"Programming Langauge\"]\n",
        "y = pg_lan_df[\"count\"]\n",
        "plt.bar(x,y,color= \"lightblue\")\n",
        "plt.title(\"Top programming languages requrired by the companies\",fontsize=15)\n",
        "plt.xlabel(\"Programming Languages\",fontsize=15)\n",
        "plt.ylabel(\"Percentage %\",fontsize=15)\n",
        "plt.xticks(fontsize=15, rotation=90)\n",
        "plt.yticks(fontsize=15)\n",
        "for k,v in pg_lan_required.items():\n",
        "    plt.text(k,v+0, str(v), fontsize=12, fontweight='bold',color='k', horizontalalignment='center');"
      ],
      "metadata": {
        "colab": {
          "base_uri": "https://localhost:8080/",
          "height": 439
        },
        "id": "BLgiQve3NU5l",
        "outputId": "4669d825-c4d7-4945-9c4d-c1d1fdabf544"
      },
      "execution_count": null,
      "outputs": [
        {
          "output_type": "display_data",
          "data": {
            "text/plain": [
              "<Figure size 1500x500 with 1 Axes>"
            ],
            "image/png": "[encoded data removed]"
          },
          "metadata": {}
        }
      ]
    },
    {
      "cell_type": "markdown",
      "source": [
        "#### Education level"
      ],
      "metadata": {
        "id": "A-S4IStNNrre"
      }
    },
    {
      "cell_type": "code",
      "source": [
        "import math"
      ],
      "metadata": {
        "id": "x8EFPUEUfl00"
      },
      "execution_count": null,
      "outputs": []
    },
    {
      "cell_type": "code",
      "source": [
        "exp_edu_required = defaultdict()\n",
        "for item in exp_edu:\n",
        "    counter = 0\n",
        "    for it in job:\n",
        "        if item in it:\n",
        "            counter = counter + 1\n",
        "    exp_edu_required[item] = counter# math.ceil((counter/len(job)  *100))\n",
        "\n",
        "exp_edu_df = pd.DataFrame(list(exp_edu_required.items()),columns = ['Experience/Education','count'])\n",
        "exp_edu_df.sort_values([\"count\"], axis=0, ascending=False, inplace=True)"
      ],
      "metadata": {
        "id": "hEfYyXrMNkxm"
      },
      "execution_count": null,
      "outputs": []
    },
    {
      "cell_type": "code",
      "source": [
        "plt.figure(figsize = (15,5))\n",
        "x = exp_edu_df[\"Experience/Education\"]\n",
        "y = exp_edu_df[\"count\"]\n",
        "plt.bar(x,y,color= \"lightpink\")\n",
        "plt.title(\"Education requrired by the companies\",fontsize=15)\n",
        "plt.xlabel(\"Education\",fontsize=15)\n",
        "plt.ylabel(\"Percentage %\",fontsize=15)\n",
        "plt.xticks(fontsize=15, rotation=90)\n",
        "plt.yticks(fontsize=15)\n",
        "for k,v in exp_edu_required.items():\n",
        "    plt.text(k,v+0, str(v), fontsize=12, fontweight='bold',color='k', horizontalalignment='center');"
      ],
      "metadata": {
        "colab": {
          "base_uri": "https://localhost:8080/",
          "height": 438
        },
        "id": "NgO8RCNQNwOq",
        "outputId": "ecdec609-14f2-4795-e35f-0aa2c4ebd3fa"
      },
      "execution_count": null,
      "outputs": [
        {
          "output_type": "display_data",
          "data": {
            "text/plain": [
              "<Figure size 1500x500 with 1 Axes>"
            ],
            "image/png": "[encoded data removed]"
          },
          "metadata": {}
        }
      ]
    },
    {
      "cell_type": "markdown",
      "source": [
        "#### Databsase Skills"
      ],
      "metadata": {
        "id": "0Qq5e57qN_Gd"
      }
    },
    {
      "cell_type": "code",
      "source": [
        "counter = 0\n",
        "other_skills_required = defaultdict()\n",
        "for item in other_skills:\n",
        "    counter = 0\n",
        "    for it in job:\n",
        "        if item in it:\n",
        "            counter = counter + 1\n",
        "    other_skills_required[item] = counter\n",
        "\n",
        "\n",
        "other_skills_df = pd.DataFrame(list(other_skills_required.items()),columns = ['Other Skills ','count'])\n",
        "other_skills_df.sort_values([\"count\"], axis=0, ascending=False, inplace=True)"
      ],
      "metadata": {
        "id": "DkZU99rkN6wq"
      },
      "execution_count": null,
      "outputs": []
    },
    {
      "cell_type": "code",
      "source": [
        "plt.figure(figsize = (15,5))\n",
        "plt.title(\"DataBase skills required by companies\", fontsize=18)\n",
        "plt.bar(other_skills_df[\"Other Skills \"], other_skills_df[\"count\"],color= \"lightyellow\")\n",
        "plt.xlabel(\"Skills\",fontsize=15)\n",
        "plt.ylabel(\"Count\",fontsize=15)\n",
        "plt.xticks(fontsize=15, rotation=90)\n",
        "plt.yticks(fontsize=15)\n",
        "\n",
        "for k,v in other_skills_required.items():\n",
        "    plt.text(k,v+0, str(v), fontsize=12, fontweight='bold',color='k', horizontalalignment='center');"
      ],
      "metadata": {
        "colab": {
          "base_uri": "https://localhost:8080/",
          "height": 420
        },
        "id": "j28Ma6fVODG9",
        "outputId": "435e8583-446d-4382-e4bb-c689345ddd0d"
      },
      "execution_count": null,
      "outputs": [
        {
          "output_type": "display_data",
          "data": {
            "text/plain": [
              "<Figure size 1500x500 with 1 Axes>"
            ],
            "image/png": "[encoded data removed]"
          },
          "metadata": {}
        }
      ]
    },
    {
      "cell_type": "markdown",
      "metadata": {
        "id": "2bLmLzybl80j"
      },
      "source": [
        "##  3. Topic modelling ( Used for Data Desc)"
      ]
    },
    {
      "cell_type": "markdown",
      "metadata": {
        "id": "jugS0Et4l80j"
      },
      "source": [
        "### Removing closely worded job descriptions"
      ]
    },
    {
      "cell_type": "markdown",
      "metadata": {
        "id": "jMqe7c7xl80k"
      },
      "source": [
        "Before apply topic modelling to the job descriptions in the data set, job adverts that are very similar but not identical need to be removed. I've decided the best way to remove these adverts is to transform to a vector based on their word counts and calculate their cosine similarity scores. Anything that is close to 1 without equalling 1 is very likely to be a repetition of an advert which contains a small difference."
      ]
    },
    {
      "cell_type": "code",
      "execution_count": null,
      "metadata": {
        "id": "8GTWJ5zLl80k"
      },
      "outputs": [],
      "source": [
        "corpus = data_df['Description'] # data_df Description"
      ]
    },
    {
      "cell_type": "code",
      "execution_count": null,
      "metadata": {
        "scrolled": true,
        "id": "C-_7k8WHl80k"
      },
      "outputs": [],
      "source": [
        "from sklearn.feature_extraction.text import CountVectorizer\n",
        "from sklearn.metrics.pairwise import cosine_similarity\n",
        "\n",
        "corpus = data_df['Description']\n",
        "count_vect = CountVectorizer()\n",
        "\n",
        "X_train_counts = count_vect.fit_transform(corpus)\n",
        "\n",
        "#Dataframe with cosine similarties\n",
        "cos_df = pd.DataFrame(cosine_similarity(X_train_counts))\n",
        "\n",
        "#Dataframe for job advert and similarity with every other advert\n",
        "i, j = np.indices(cos_df.shape).reshape(2, -1)\n",
        "cos_values = cos_df.values.reshape(-1)\n",
        "cos_sim_df = pd.DataFrame({'i': i, 'j': j, 'sim':cos_values})\n",
        "\n",
        "#Any advert that has a cosine similarity above 0.98 and doesn't equal itself\n",
        "cos_rem = cos_sim_df[(cos_sim_df['sim']>0.98)&(i!=j)]\n",
        "\n",
        "#Method to remove duplicates but keep first instance. Trying to drop duplicates on i and j column wouldn't work as the numbers don't duplicate in those\n",
        "#columns. Setting another column that combines their values ensure that duplicates can be dropped.\n",
        "\n",
        "cos_rem['i*j'] = cos_rem['i'] * cos_rem['j']\n",
        "drop_rows = np.unique(cos_rem.drop_duplicates(subset=['i*j'], keep='first')['i'].values)\n",
        "\n",
        "#Drop from original dataframe\n",
        "data_df = data_df[~data_df.index.isin(drop_rows)]\n",
        "data_df = data_df.reset_index()\n",
        "data_df.drop(columns={'index'}, inplace=True)"
      ]
    },
    {
      "cell_type": "code",
      "execution_count": null,
      "metadata": {
        "colab": {
          "base_uri": "https://localhost:8080/"
        },
        "id": "aG_22NxOl80k",
        "outputId": "5007d30a-35f8-4f63-efe4-f7b3fd175419"
      },
      "outputs": [
        {
          "output_type": "execute_result",
          "data": {
            "text/plain": [
              "175"
            ]
          },
          "metadata": {},
          "execution_count": 53
        }
      ],
      "source": [
        "len(data_df['Description'])"
      ]
    },
    {
      "cell_type": "markdown",
      "metadata": {
        "id": "aSBarusUl80k"
      },
      "source": [
        "Using this method has removed 32 rows that were not identical but had cosine similarity scores of over 0.98."
      ]
    },
    {
      "cell_type": "code",
      "execution_count": null,
      "metadata": {
        "id": "iSTnJ4ljl80l"
      },
      "outputs": [],
      "source": [
        "corpus = data_df['Description']"
      ]
    },
    {
      "cell_type": "code",
      "execution_count": null,
      "metadata": {
        "colab": {
          "base_uri": "https://localhost:8080/"
        },
        "id": "iOVxCKGgl80l",
        "outputId": "ce555910-db49-4e1b-a42c-042d821c03b7"
      },
      "outputs": [
        {
          "output_type": "stream",
          "name": "stderr",
          "text": [
            "[nltk_data] Downloading package stopwords to /root/nltk_data...\n",
            "[nltk_data]   Unzipping corpora/stopwords.zip.\n",
            "[nltk_data] Downloading package wordnet to /root/nltk_data...\n",
            "[nltk_data] Downloading package punkt to /root/nltk_data...\n",
            "[nltk_data]   Unzipping tokenizers/punkt.zip.\n"
          ]
        },
        {
          "output_type": "execute_result",
          "data": {
            "text/plain": [
              "True"
            ]
          },
          "metadata": {},
          "execution_count": 55
        }
      ],
      "source": [
        "import nltk #google colab\n",
        "nltk.download('stopwords')\n",
        "nltk.download('wordnet')\n",
        "nltk.download('punkt')"
      ]
    },
    {
      "cell_type": "code",
      "execution_count": null,
      "metadata": {
        "scrolled": true,
        "id": "dclZj3d_l80l"
      },
      "outputs": [],
      "source": [
        "import nltk\n",
        "\n",
        "\n",
        "wpt = nltk.WordPunctTokenizer()\n",
        "stop_words = nltk.corpus.stopwords.words('english')\n",
        "lemmatizer = nltk.WordNetLemmatizer()\n",
        "\n",
        "#Function to pre-process the text information\n",
        "\n",
        "def normalize_document(doc):\n",
        "\n",
        "    # lower case and remove special characters\\whitespaces\n",
        "    doc = re.sub(r'[^a-zA-Z\\s]', '', doc, re.I|re.A) #re.I (ignore case), re.A (ASCII-only matching)\n",
        "    doc = doc.lower()\n",
        "    doc = doc.strip()\n",
        "\n",
        "    # tokenize document\n",
        "    tokens = wpt.tokenize(doc)\n",
        "\n",
        "    # filter stopwords out of document\n",
        "    filtered_tokens = [token for token in tokens if token not in stop_words]\n",
        "\n",
        "    # Lemmatise document from filtered tokens\n",
        "    lem_text = [lemmatizer.lemmatize(i) for i in filtered_tokens]\n",
        "\n",
        "    # Remove words that are only one character.\n",
        "    lem_text = [token for token in lem_text if len(token) > 1]\n",
        "\n",
        "    # Remove numbers, but not words that contain numbers.\n",
        "    lem_text = [token for token in lem_text if not token.isnumeric()]\n",
        "\n",
        "    doc = ' '.join(lem_text)\n",
        "    return doc\n",
        "\n",
        "normalize_corpus = np.vectorize(normalize_document)\n",
        "\n",
        "norm_corpus = normalize_corpus(corpus)"
      ]
    },
    {
      "cell_type": "markdown",
      "metadata": {
        "id": "6GbsHCpKl80l"
      },
      "source": [
        "Gensim is a Python library for topic modelling, document indexing and similarity retrieval with large corpora\n",
        "\n",
        "Gensim requires the words (tokens) to be converted to unique ids, which can be done by creating a dictionary that maps the words to ids.\n",
        "Once the dictionary has been created a bag of words corpus can be created that contains the word id and the its frequency in each document. It is effectively an equivalent of a Document-Term matrix."
      ]
    },
    {
      "cell_type": "code",
      "execution_count": null,
      "metadata": {
        "scrolled": true,
        "id": "pMHqj6fsl80l"
      },
      "outputs": [],
      "source": [
        "from nltk.tokenize import word_tokenize\n",
        "import gensim.corpora as corpora\n",
        "\n",
        "#Tokenise the corpus\n",
        "tokenized_corp = [word_tokenize(i) for i in norm_corpus]\n",
        "\n",
        "# Create Dictionary\n",
        "id2word = corpora.Dictionary(tokenized_corp)\n",
        "\n",
        "#Remove words that don't feature 20 times and those that feature in over 50% of documents\n",
        "id2word.filter_extremes(no_below=20, no_above=0.5)\n",
        "\n",
        "texts = tokenized_corp\n",
        "\n",
        "# Term Document Frequency\n",
        "corpus = [id2word.doc2bow(text) for text in texts]"
      ]
    },
    {
      "cell_type": "markdown",
      "metadata": {
        "id": "N-RK78ljl80m"
      },
      "source": [
        "To find the optimum number of topics, models will be built for a range of topic sizes and the one with the highest coherence score will be chosen. A previous search into optimum numbers has narrowed down the search to  be between 8 and 15."
      ]
    },
    {
      "cell_type": "code",
      "execution_count": null,
      "metadata": {
        "id": "h-GGF8u3l80m"
      },
      "outputs": [],
      "source": [
        "def compute_coherence_values(corpus, dictionary, texts, end, start=2, step=3):\n",
        "    \"\"\"\n",
        "    Compute c_v coherence for various number of topics\n",
        "\n",
        "    Parameters:\n",
        "    ----------\n",
        "    dictionary : Gensim dictionary\n",
        "    corpus : Gensim corpus\n",
        "    texts : List of input texts\n",
        "    limit : Max num of topics\n",
        "\n",
        "    Returns:\n",
        "    -------\n",
        "    model_list : List of LDA topic models\n",
        "    coherence_values : Coherence values corresponding to the LDA model with respective number of topics\n",
        "    \"\"\"\n",
        "    coherence_values = []\n",
        "    model_list = []\n",
        "\n",
        "    for num_topics in range(start, end, step):\n",
        "\n",
        "        # Build LDA model\n",
        "        lda_model = gensim.models.LdaMulticore(corpus=corpus,\n",
        "                                               id2word=dictionary,\n",
        "                                               num_topics=num_topics,\n",
        "                                               random_state=123,\n",
        "                                               chunksize=100,\n",
        "                                               passes=500, #number of passes was investigated. At 500 the coherence score will remain relatively similar\n",
        "                                               #with any further increase. As the document is quite small this number of passes makes sense.\n",
        "                                               per_word_topics=True)\n",
        "        model_list.append(lda_model)\n",
        "\n",
        "        # Compute Coherence Score\n",
        "        coherence_model_lda = CoherenceModel(model=lda_model, texts=texts, dictionary=dictionary, coherence='c_v')\n",
        "        coherence_values.append(coherence_model_lda.get_coherence())\n",
        "\n",
        "    return model_list, coherence_values"
      ]
    },
    {
      "cell_type": "code",
      "execution_count": null,
      "metadata": {
        "id": "n0K5NrR8l80m"
      },
      "outputs": [],
      "source": [
        "model_list, coherence_values = compute_coherence_values(corpus=corpus, dictionary = id2word, texts=texts, start=8, end=16, step=1)"
      ]
    },
    {
      "cell_type": "code",
      "execution_count": null,
      "metadata": {
        "scrolled": false,
        "colab": {
          "base_uri": "https://localhost:8080/",
          "height": 732
        },
        "id": "jERxZFjkl80m",
        "outputId": "c030e5f8-36e8-4def-bd2d-7f8f3cc450d2"
      },
      "outputs": [
        {
          "output_type": "display_data",
          "data": {
            "text/plain": [
              "<Figure size 800x800 with 1 Axes>"
            ],
            "image/png": "[encoded data removed]"
          },
          "metadata": {}
        }
      ],
      "source": [
        "# Show graph\n",
        "end=16; start=8; step=1;\n",
        "x = range(start, end, step)\n",
        "ax = plt.subplots(figsize=(8,8))\n",
        "plt.plot(x, coherence_values)\n",
        "plt.xlabel(\"Number of Topics\", fontsize=14)\n",
        "plt.ylabel(\"Coherence score\", fontsize=14)\n",
        "plt.title('Coherence Scores for Topic Size', fontsize=18)\n",
        "plt.show();"
      ]
    },
    {
      "cell_type": "markdown",
      "metadata": {
        "id": "IIp7hlSel80m"
      },
      "source": [
        "9 topics has the highest coherence score and will be chosen to build the final model"
      ]
    },
    {
      "cell_type": "code",
      "execution_count": null,
      "metadata": {
        "colab": {
          "base_uri": "https://localhost:8080/"
        },
        "id": "wJ8ceeECl80m",
        "outputId": "8e300454-25b4-4ce3-fde1-19c23f23fef2"
      },
      "outputs": [
        {
          "output_type": "stream",
          "name": "stderr",
          "text": [
            "/usr/local/lib/python3.10/dist-packages/ipykernel/ipkernel.py:283: DeprecationWarning:\n",
            "\n",
            "`should_run_async` will not call `transform_cell` automatically in the future. Please pass the result to `transformed_cell` argument and any exception that happen during thetransform in `preprocessing_exc_tuple` in IPython 7.17 and above.\n",
            "\n"
          ]
        }
      ],
      "source": [
        "lda_model = gensim.models.LdaMulticore(corpus=corpus,\n",
        "                                       id2word=id2word,\n",
        "                                       num_topics=9,\n",
        "                                       random_state=123,\n",
        "                                       chunksize=100,\n",
        "                                       passes=500,\n",
        "                                       per_word_topics=True)"
      ]
    },
    {
      "cell_type": "code",
      "execution_count": null,
      "metadata": {
        "scrolled": false,
        "colab": {
          "base_uri": "https://localhost:8080/"
        },
        "id": "hro3R4gIl80n",
        "outputId": "26fe7e53-fd87-4241-b5d8-cbd806b2752e"
      },
      "outputs": [
        {
          "output_type": "stream",
          "name": "stderr",
          "text": [
            "/usr/local/lib/python3.10/dist-packages/ipykernel/ipkernel.py:283: DeprecationWarning:\n",
            "\n",
            "`should_run_async` will not call `transform_cell` automatically in the future. Please pass the result to `transformed_cell` argument and any exception that happen during thetransform in `preprocessing_exc_tuple` in IPython 7.17 and above.\n",
            "\n"
          ]
        },
        {
          "output_type": "stream",
          "name": "stdout",
          "text": [
            "\n",
            "Coherence Score:  0.34851272934977157\n"
          ]
        }
      ],
      "source": [
        "# Compute Coherence Score\n",
        "coherence_model_lda = CoherenceModel(model=lda_model, texts=texts, dictionary=id2word, coherence='c_v')\n",
        "coherence_lda = coherence_model_lda.get_coherence()\n",
        "print('\\nCoherence Score: ', coherence_lda)"
      ]
    },
    {
      "cell_type": "markdown",
      "metadata": {
        "id": "fsK4f3Q3l80n"
      },
      "source": [
        "The top 10 keywords for each topic are as follows."
      ]
    },
    {
      "cell_type": "code",
      "execution_count": null,
      "metadata": {
        "scrolled": true,
        "colab": {
          "base_uri": "https://localhost:8080/"
        },
        "id": "IIf56iffl80n",
        "outputId": "8e65f234-386c-44d2-faff-c5d122c0907e"
      },
      "outputs": [
        {
          "output_type": "stream",
          "name": "stdout",
          "text": [
            "[(0,\n",
            "  '0.082*\"system\" + 0.048*\"application\" + 0.036*\"architecture\" + '\n",
            "  '0.033*\"solution\" + 0.033*\"network\" + 0.030*\"information\" + '\n",
            "  '0.027*\"technical\" + 0.025*\"requirement\" + 0.024*\"design\" + '\n",
            "  '0.023*\"business\"'),\n",
            " (1,\n",
            "  '0.027*\"application\" + 0.024*\"development\" + 0.022*\"work\" + 0.020*\"design\" + '\n",
            "  '0.019*\"new\" + 0.019*\"software\" + 0.017*\"knowledge\" + 0.016*\"solution\" + '\n",
            "  '0.016*\"science\" + 0.015*\"skill\"'),\n",
            " (2,\n",
            "  '0.043*\"development\" + 0.036*\"support\" + 0.028*\"skill\" + 0.027*\"business\" + '\n",
            "  '0.025*\"process\" + 0.024*\"system\" + 0.023*\"strategy\" + 0.019*\"related\" + '\n",
            "  '0.018*\"management\" + 0.018*\"ability\"'),\n",
            " (3,\n",
            "  '0.052*\"strategy\" + 0.044*\"saudi\" + 0.043*\"leading\" + 0.038*\"global\" + '\n",
            "  '0.038*\"develop\" + 0.031*\"part\" + 0.028*\"practice\" + 0.028*\"well\" + '\n",
            "  '0.027*\"key\" + 0.027*\"best\"'),\n",
            " (4,\n",
            "  '0.085*\"service\" + 0.079*\"customer\" + 0.046*\"knowledge\" + 0.043*\"technical\" '\n",
            "  '+ 0.035*\"support\" + 0.032*\"solution\" + 0.030*\"level\" + 0.026*\"work\" + '\n",
            "  '0.023*\"ability\" + 0.021*\"system\"'),\n",
            " (5,\n",
            "  '0.069*\"project\" + 0.053*\"engineering\" + 0.040*\"client\" + 0.040*\"design\" + '\n",
            "  '0.037*\"work\" + 0.033*\"technical\" + 0.018*\"requirement\" + 0.017*\"quality\" + '\n",
            "  '0.017*\"ensure\" + 0.016*\"within\"'),\n",
            " (6,\n",
            "  '0.124*\"project\" + 0.107*\"risk\" + 0.081*\"management\" + 0.021*\"process\" + '\n",
            "  '0.019*\"knowledge\" + 0.017*\"stakeholder\" + 0.016*\"delivery\" + '\n",
            "  '0.016*\"compliance\" + 0.015*\"plan\" + 0.014*\"planning\"'),\n",
            " (7,\n",
            "  '0.117*\"technology\" + 0.090*\"cloud\" + 0.072*\"security\" + 0.059*\"business\" + '\n",
            "  '0.034*\"solution\" + 0.028*\"organization\" + 0.025*\"technical\" + '\n",
            "  '0.025*\"digital\" + 0.019*\"year\" + 0.017*\"leading\"'),\n",
            " (8,\n",
            "  '0.172*\"data\" + 0.073*\"digital\" + 0.048*\"client\" + 0.039*\"business\" + '\n",
            "  '0.038*\"ability\" + 0.033*\"across\" + 0.028*\"product\" + 0.025*\"management\" + '\n",
            "  '0.023*\"able\" + 0.022*\"tool\"')]\n"
          ]
        },
        {
          "output_type": "stream",
          "name": "stderr",
          "text": [
            "/usr/local/lib/python3.10/dist-packages/ipykernel/ipkernel.py:283: DeprecationWarning:\n",
            "\n",
            "`should_run_async` will not call `transform_cell` automatically in the future. Please pass the result to `transformed_cell` argument and any exception that happen during thetransform in `preprocessing_exc_tuple` in IPython 7.17 and above.\n",
            "\n"
          ]
        }
      ],
      "source": [
        "from pprint import pprint\n",
        "# Print the Keyword in the 10 topics\n",
        "pprint(lda_model.print_topics())\n",
        "\n",
        "doc_lda = lda_model[corpus]\n"
      ]
    },
    {
      "cell_type": "code",
      "execution_count": null,
      "metadata": {
        "colab": {
          "base_uri": "https://localhost:8080/"
        },
        "id": "FjLIyy6zl80n",
        "outputId": "13a4f899-ba75-4aac-de92-5833ce2b4ce3"
      },
      "outputs": [
        {
          "output_type": "stream",
          "name": "stdout",
          "text": [
            "(6,\n",
            " '0.124*\"project\" + 0.107*\"risk\" + 0.081*\"management\" + 0.021*\"process\" + '\n",
            " '0.019*\"knowledge\" + 0.017*\"stakeholder\" + 0.016*\"delivery\" + '\n",
            " '0.016*\"compliance\" + 0.015*\"plan\" + 0.014*\"planning\"')\n"
          ]
        },
        {
          "output_type": "stream",
          "name": "stderr",
          "text": [
            "/usr/local/lib/python3.10/dist-packages/ipykernel/ipkernel.py:283: DeprecationWarning:\n",
            "\n",
            "`should_run_async` will not call `transform_cell` automatically in the future. Please pass the result to `transformed_cell` argument and any exception that happen during thetransform in `preprocessing_exc_tuple` in IPython 7.17 and above.\n",
            "\n"
          ]
        }
      ],
      "source": [
        "pprint(lda_model.print_topics()[6])"
      ]
    },
    {
      "cell_type": "markdown",
      "metadata": {
        "id": "WS3jAxRvl80o"
      },
      "source": [
        "There needs to be some human input in terms of naming the topics. For these 9 that is quite straightforward as it's evident in the majority of the topics that the keywords are connected by 1 or 2 terms. Obviously, the topics related to equal opportunities and referral scheme aren't particularly helpful, but this information is included in most adverts. A possible improvement would include words associated with these topics in the stop words."
      ]
    },
    {
      "cell_type": "code",
      "execution_count": null,
      "metadata": {
        "colab": {
          "base_uri": "https://localhost:8080/"
        },
        "id": "wAmnwFvrl80o",
        "outputId": "2993915e-66c3-4e49-a7fa-275fc5ddd9b6"
      },
      "outputs": [
        {
          "output_type": "stream",
          "name": "stderr",
          "text": [
            "/usr/local/lib/python3.10/dist-packages/ipykernel/ipkernel.py:283: DeprecationWarning:\n",
            "\n",
            "`should_run_async` will not call `transform_cell` automatically in the future. Please pass the result to `transformed_cell` argument and any exception that happen during thetransform in `preprocessing_exc_tuple` in IPython 7.17 and above.\n",
            "\n"
          ]
        }
      ],
      "source": [
        "lda_dict = {0:'Project management',\n",
        "            1:'Supporting clients',\n",
        "            2:'Personal Requirment',\n",
        "            3:'Data Base',\n",
        "            4:'Analytics & Statistical Modelling',\n",
        "            5:'Life cycle Phases',\n",
        "            6:'Skills Projects',\n",
        "            7:'Service',\n",
        "            8:'none',\n",
        "            9:'Release Requirment',\n",
        "           '-':'-'}"
      ]
    },
    {
      "cell_type": "markdown",
      "metadata": {
        "id": "MFef2HNql80o"
      },
      "source": [
        "### Top 3 topics for each document"
      ]
    },
    {
      "cell_type": "markdown",
      "metadata": {
        "id": "eu9N41Dfl80o"
      },
      "source": [
        "In LDA models, each document is composed of multiple topics, although 1 or 2 will be dominant. For this work, the top 3 topics in each document will be highlighted."
      ]
    },
    {
      "cell_type": "code",
      "execution_count": null,
      "metadata": {
        "scrolled": true,
        "id": "Uuojt-8-l80o"
      },
      "outputs": [],
      "source": [
        "topics_df1 = pd.DataFrame()\n",
        "topics_df2 = pd.DataFrame()\n",
        "topics_df3 = pd.DataFrame()\n",
        "\n",
        "for i, row_list in enumerate(lda_model[corpus]):\n",
        "    row = row_list[0] if lda_model.per_word_topics else row_list\n",
        "    row = sorted(row, key=lambda x: (x[1]), reverse=True)\n",
        "    for j, (topic_num, prop_topic) in enumerate(row):\n",
        "        if len(row) >= 3:\n",
        "            if j ==0:\n",
        "                topics_df1 = topics_df1.append(pd.Series([int(topic_num), prop_topic]), ignore_index=True)\n",
        "            elif j ==1:\n",
        "                topics_df2 = topics_df2.append(pd.Series([int(topic_num), prop_topic]), ignore_index=True)\n",
        "            elif j ==2:\n",
        "                topics_df3 = topics_df3.append(pd.Series([int(topic_num), prop_topic]), ignore_index=True)\n",
        "            else:\n",
        "                break\n",
        "        elif len(row) == 2:\n",
        "            if j ==0:\n",
        "                topics_df1 = topics_df1.append(pd.Series([int(topic_num), prop_topic]), ignore_index=True)\n",
        "            elif j ==1:\n",
        "                topics_df2 = topics_df2.append(pd.Series([int(topic_num), prop_topic]), ignore_index=True)\n",
        "                topics_df3 = topics_df3.append(pd.Series(['-', '-']), ignore_index=True)\n",
        "        elif len(row) == 1:\n",
        "                topics_df1 = topics_df1.append(pd.Series([int(topic_num), prop_topic]), ignore_index=True)\n",
        "                topics_df2 = topics_df2.append(pd.Series(['-', '-']), ignore_index=True)\n",
        "                topics_df3 = topics_df3.append(pd.Series(['-', '-']), ignore_index=True)\n",
        "\n",
        "\n",
        "topics_df1.rename(columns={0:'1st Topic', 1:'1st Topic Contribution'}, inplace=True)\n",
        "topics_df2.rename(columns={0:'2nd Topic', 1:'2nd Topic Contribution'}, inplace=True)\n",
        "topics_df3.rename(columns={0:'3rd Topic', 1:'3rd Topic Contribution'}, inplace=True)\n",
        "\n",
        "topics_comb = pd.concat([topics_df1, topics_df2, topics_df3],  axis=1, sort=False)\n",
        "\n",
        "#Join topics dataframe to original data\n",
        "data_df = pd.concat([data_df, topics_comb], axis=1, sort=False)\n",
        "\n",
        "#Combine the top 3 into one column so it's easier to analyse\n",
        "data_df['Top 3 Topics'] = data_df['1st Topic'].apply(lambda x: lda_dict[x].join(\" ,\") + \" \").astype(str) + data_df['2nd Topic'].apply(lambda x: lda_dict[x].join(\" ,\") + \" \").astype(str) + \\\n",
        "data_df['3rd Topic'].apply(lambda x: lda_dict[x]).astype(str)"
      ]
    },
    {
      "cell_type": "markdown",
      "metadata": {
        "id": "fKdA9pell80p"
      },
      "source": [
        "pyLDAVis is the most commonly used and best way to visualise the information contained in a topic model."
      ]
    },
    {
      "cell_type": "code",
      "execution_count": null,
      "metadata": {
        "colab": {
          "base_uri": "https://localhost:8080/"
        },
        "id": "QpK63qnZl80p",
        "outputId": "cd4c24e0-28ae-49d0-e2d9-6bf97ebcb164"
      },
      "outputs": [
        {
          "output_type": "stream",
          "name": "stdout",
          "text": [
            "Looking in indexes: https://pypi.org/simple, https://us-python.pkg.dev/colab-wheels/public/simple/\n",
            "Collecting pyLDAvis==2.1.2\n",
            "  Downloading pyLDAvis-2.1.2.tar.gz (1.6 MB)\n",
            "\u001b[2K     \u001b[90m━━━━━━━━━━━━━━━━━━━━━━━━━━━━━━━━━━━━━━━━\u001b[0m \u001b[32m1.6/1.6 MB\u001b[0m \u001b[31m22.6 MB/s\u001b[0m eta \u001b[36m0:00:00\u001b[0m\n",
            "\u001b[?25h  Preparing metadata (setup.py) ... \u001b[?25l\u001b[?25hdone\n",
            "Requirement already satisfied: wheel>=0.23.0 in /usr/local/lib/python3.10/dist-packages (from pyLDAvis==2.1.2) (0.40.0)\n",
            "Requirement already satisfied: numpy>=1.9.2 in /usr/local/lib/python3.10/dist-packages (from pyLDAvis==2.1.2) (1.22.4)\n",
            "Requirement already satisfied: scipy>=0.18.0 in /usr/local/lib/python3.10/dist-packages (from pyLDAvis==2.1.2) (1.10.1)\n",
            "Requirement already satisfied: pandas>=0.17.0 in /usr/local/lib/python3.10/dist-packages (from pyLDAvis==2.1.2) (1.5.3)\n",
            "Requirement already satisfied: joblib>=0.8.4 in /usr/local/lib/python3.10/dist-packages (from pyLDAvis==2.1.2) (1.2.0)\n",
            "Requirement already satisfied: jinja2>=2.7.2 in /usr/local/lib/python3.10/dist-packages (from pyLDAvis==2.1.2) (3.1.2)\n",
            "Requirement already satisfied: numexpr in /usr/local/lib/python3.10/dist-packages (from pyLDAvis==2.1.2) (2.8.4)\n",
            "Requirement already satisfied: pytest in /usr/local/lib/python3.10/dist-packages (from pyLDAvis==2.1.2) (7.2.2)\n",
            "Requirement already satisfied: future in /usr/local/lib/python3.10/dist-packages (from pyLDAvis==2.1.2) (0.18.3)\n",
            "Collecting funcy (from pyLDAvis==2.1.2)\n",
            "  Downloading funcy-2.0-py2.py3-none-any.whl (30 kB)\n",
            "Requirement already satisfied: MarkupSafe>=2.0 in /usr/local/lib/python3.10/dist-packages (from jinja2>=2.7.2->pyLDAvis==2.1.2) (2.1.2)\n",
            "Requirement already satisfied: python-dateutil>=2.8.1 in /usr/local/lib/python3.10/dist-packages (from pandas>=0.17.0->pyLDAvis==2.1.2) (2.8.2)\n",
            "Requirement already satisfied: pytz>=2020.1 in /usr/local/lib/python3.10/dist-packages (from pandas>=0.17.0->pyLDAvis==2.1.2) (2022.7.1)\n",
            "Requirement already satisfied: attrs>=19.2.0 in /usr/local/lib/python3.10/dist-packages (from pytest->pyLDAvis==2.1.2) (23.1.0)\n",
            "Requirement already satisfied: iniconfig in /usr/local/lib/python3.10/dist-packages (from pytest->pyLDAvis==2.1.2) (2.0.0)\n",
            "Requirement already satisfied: packaging in /usr/local/lib/python3.10/dist-packages (from pytest->pyLDAvis==2.1.2) (23.1)\n",
            "Requirement already satisfied: pluggy<2.0,>=0.12 in /usr/local/lib/python3.10/dist-packages (from pytest->pyLDAvis==2.1.2) (1.0.0)\n",
            "Requirement already satisfied: exceptiongroup>=1.0.0rc8 in /usr/local/lib/python3.10/dist-packages (from pytest->pyLDAvis==2.1.2) (1.1.1)\n",
            "Requirement already satisfied: tomli>=1.0.0 in /usr/local/lib/python3.10/dist-packages (from pytest->pyLDAvis==2.1.2) (2.0.1)\n",
            "Requirement already satisfied: six>=1.5 in /usr/local/lib/python3.10/dist-packages (from python-dateutil>=2.8.1->pandas>=0.17.0->pyLDAvis==2.1.2) (1.16.0)\n",
            "Building wheels for collected packages: pyLDAvis\n",
            "  Building wheel for pyLDAvis (setup.py) ... \u001b[?25l\u001b[?25hdone\n",
            "  Created wheel for pyLDAvis: filename=pyLDAvis-2.1.2-py2.py3-none-any.whl size=97721 sha256=25c6116f48bd17ec97661e7e6ca03f0d7522afe488c47df3394fd7f537dd982d\n",
            "  Stored in directory: /root/.cache/pip/wheels/d9/93/d6/16c95da19c32f037fd75135ea152d0df37254c25cd1a8b4b6c\n",
            "Successfully built pyLDAvis\n",
            "Installing collected packages: funcy, pyLDAvis\n",
            "Successfully installed funcy-2.0 pyLDAvis-2.1.2\n"
          ]
        }
      ],
      "source": [
        "pip install pyLDAvis==2.1.2 # Google Cloab"
      ]
    },
    {
      "cell_type": "code",
      "execution_count": null,
      "metadata": {
        "scrolled": false,
        "colab": {
          "base_uri": "https://localhost:8080/",
          "height": 951
        },
        "id": "cFUG4hjUl80p",
        "outputId": "bcd648c0-ade4-4481-dd73-18898beccf86"
      },
      "outputs": [
        {
          "output_type": "stream",
          "name": "stderr",
          "text": [
            "/usr/local/lib/python3.10/dist-packages/ipykernel/ipkernel.py:283: DeprecationWarning:\n",
            "\n",
            "`should_run_async` will not call `transform_cell` automatically in the future. Please pass the result to `transformed_cell` argument and any exception that happen during thetransform in `preprocessing_exc_tuple` in IPython 7.17 and above.\n",
            "\n"
          ]
        },
        {
          "output_type": "execute_result",
          "data": {
            "text/plain": [
              "PreparedData(topic_coordinates=                       x                  y  topics  cluster  \\\n",
              "topic                                                          \n",
              "1      0.034698769684840 -0.006938646584851       1        1   \n",
              "2     -0.045674358262467 -0.071006406546320       2        1   \n",
              "5      0.033428737600312 -0.109408176877765       3        1   \n",
              "6     -0.052405379125989 -0.188417257893612       4        1   \n",
              "3     -0.325263361616663  0.097133250676362       5        1   \n",
              "8      0.078611798802221  0.215157010892515       6        1   \n",
              "7      0.090642049964281  0.148374756700308       7        1   \n",
              "0      0.096023438608066 -0.057981327355984       8        1   \n",
              "4      0.089938304345401 -0.026913203010652       9        1   \n",
              "\n",
              "                     Freq  \n",
              "topic                      \n",
              "1      25.853984152907884  \n",
              "2      18.991713496199456  \n",
              "5      18.040373018332701  \n",
              "6       7.985960521026792  \n",
              "3       7.240377266605474  \n",
              "8       7.045028266220603  \n",
              "7       5.949286646105458  \n",
              "0       4.702853480046600  \n",
              "4       4.190423152555034  , topic_info=               Term                 Freq                Total Category  \\\n",
              "107            data  197.000000000000000  197.000000000000000  Default   \n",
              "94          project  347.000000000000000  347.000000000000000  Default   \n",
              "164      technology  151.000000000000000  151.000000000000000  Default   \n",
              "187            risk  118.000000000000000  118.000000000000000  Default   \n",
              "55           system  143.000000000000000  143.000000000000000  Default   \n",
              "73         customer  115.000000000000000  115.000000000000000  Default   \n",
              "172           cloud   78.000000000000000   78.000000000000000  Default   \n",
              "96          service  106.000000000000000  106.000000000000000  Default   \n",
              "147     application  120.000000000000000  120.000000000000000  Default   \n",
              "0          business  185.000000000000000  185.000000000000000  Default   \n",
              "77          digital   87.000000000000000   87.000000000000000  Default   \n",
              "117      management  202.000000000000000  202.000000000000000  Default   \n",
              "57        technical  150.000000000000000  150.000000000000000  Default   \n",
              "105          client  148.000000000000000  148.000000000000000  Default   \n",
              "168        security   69.000000000000000   69.000000000000000  Default   \n",
              "53         solution  130.000000000000000  130.000000000000000  Default   \n",
              "137        strategy  113.000000000000000  113.000000000000000  Default   \n",
              "32        knowledge  144.000000000000000  144.000000000000000  Default   \n",
              "139         support  157.000000000000000  157.000000000000000  Default   \n",
              "9           ability   96.000000000000000   96.000000000000000  Default   \n",
              "50            saudi   62.000000000000000   62.000000000000000  Default   \n",
              "78      engineering  174.000000000000000  174.000000000000000  Default   \n",
              "177         leading   60.000000000000000   60.000000000000000  Default   \n",
              "93          product   81.000000000000000   81.000000000000000  Default   \n",
              "18           design  185.000000000000000  185.000000000000000  Default   \n",
              "19          develop   90.000000000000000   90.000000000000000  Default   \n",
              "6       development  191.000000000000000  191.000000000000000  Default   \n",
              "129         process  109.000000000000000  109.000000000000000  Default   \n",
              "13     architecture   52.000000000000000   52.000000000000000  Default   \n",
              "25           global   68.000000000000000   68.000000000000000  Default   \n",
              "5         developer   30.580572051000615   32.545787321854959   Topic1   \n",
              "99              web   32.759710359441200   36.039326904284366   Topic1   \n",
              "7           science   48.427695563323077   53.355873464654998   Topic1   \n",
              "11       analytical   27.455095886432211   32.569784803365906   Topic1   \n",
              "159           learn   20.329223100714749   24.748779661462542   Topic1   \n",
              "60             user   28.535415800386520   36.404744267193820   Topic1   \n",
              "176        language   30.293342409481056   38.788805604265278   Topic1   \n",
              "52         software   58.812174459043042   75.697828204020865   Topic1   \n",
              "121           model   24.091632372285666   31.306392192198739   Topic1   \n",
              "181           using   35.692992645996227   49.021683044626329   Topic1   \n",
              "3          computer   32.362349156194902   45.207141206164827   Topic1   \n",
              "83          looking   28.768681207350308   40.833887359738846   Topic1   \n",
              "147     application   82.658074054048484  120.440901824857789   Topic1   \n",
              "15             code   36.512592120540155   56.236983901797664   Topic1   \n",
              "69         building   26.830992045195366   42.086794871012223   Topic1   \n",
              "27             help   45.705137355233255   72.198874956770524   Topic1   \n",
              "178            like   22.129823094712226   35.066114383672215   Topic1   \n",
              "175          impact   18.035261566038383   29.133276834226688   Topic1   \n",
              "68            build   28.427464262242353   46.195206867666968   Topic1   \n",
              "90         platform   29.164251676939497   48.424374516863317   Topic1   \n",
              "150         complex   33.998162724745818   57.726871676354875   Topic1   \n",
              "184         improve   16.705695172772948   28.604647427565091   Topic1   \n",
              "180            test   21.350610287212803   36.976603335796341   Topic1   \n",
              "156            high   19.001127358278826   33.306909201300023   Topic1   \n",
              "170       challenge   16.499214354495244   29.528950132865500   Topic1   \n",
              "123             new   59.439386852425407  107.442252515910269   Topic1   \n",
              "93          product   44.771510536078928   81.360867531844761   Topic1   \n",
              "72          company   44.257212406483063   80.793017086649655   Topic1   \n",
              "166        engineer   32.361965633527603   59.226234512765643   Topic1   \n",
              "92          problem   28.102358152790220   52.683327132010355   Topic1   \n",
              "154     environment   45.801531308034924   93.091543515768933   Topic1   \n",
              "6       development   74.619006403005102  191.505547306176027   Topic1   \n",
              "53         solution   50.808904179367381  130.852732082393970   Topic1   \n",
              "49             role   38.224259551973915   88.459876056494110   Topic1   \n",
              "32        knowledge   52.503503410291600  144.196926870100640   Topic1   \n",
              "18           design   61.018133401533184  185.141607889204096   Topic1   \n",
              "63             work   68.277248594218761  248.999321410469634   Topic1   \n",
              "73         customer   41.298173545008076  115.013923423323973   Topic1   \n",
              "51            skill   46.874290346548108  158.284221253056842   Topic1   \n",
              "64          working   43.087797004922166  129.644124421865854   Topic1   \n",
              "107            data   44.873233435415763  197.448711931399089   Topic1   \n",
              "8              year   37.426990901005915  116.353616447991470   Topic1   \n",
              "139         support   36.288932082033426  157.113605905390330   Topic1   \n",
              "164      technology   35.802371580533745  151.435391780461146   Topic1   \n",
              "78      engineering   32.524187070909761  174.378704274353424   Topic1   \n",
              "55           system   31.927120135903269  143.188407201551314   Topic1   \n",
              "157     improvement   40.350475791703715   44.578868974608440   Topic2   \n",
              "87        operation   37.778350922036225   49.820506816367114   Topic2   \n",
              "146           andor   18.775942588125591   24.829208305092521   Topic2   \n",
              "124       objective   21.187343545349339   28.640069008509172   Topic2   \n",
              "126     operational   27.983891704096500   39.415705062763571   Topic2   \n",
              "133   qualification   21.380694776357199   32.672878431232370   Topic2   \n",
              "161          policy   24.693510403471432   38.450510534075590   Topic2   \n",
              "2              plan   34.070391628953921   55.433910777957003   Topic2   \n",
              "34       leadership   16.122947383579127   26.563702106723010   Topic2   \n",
              "97         standard   36.512534667221686   62.027423289521650   Topic2   \n",
              "33             lead   31.613916549044607   53.872168442138189   Topic2   \n",
              "125          office   20.934082007846058   36.634941924536314   Topic2   \n",
              "186    presentation   15.457852532443898   27.208263742048338   Topic2   \n",
              "122      monitoring   17.818712178173786   32.088406346078884   Topic2   \n",
              "42          related   43.909041661662499   80.043074848627924   Topic2   \n",
              "141          vision   13.001292722758397   24.029532968523508   Topic2   \n",
              "24        excellent   21.510077144590422   40.503309649666981   Topic2   \n",
              "139         support   82.221088497927553  157.113605905390330   Topic2   \n",
              "174        external   17.239895539882490   33.248451123452220   Topic2   \n",
              "129         process   56.105075301033011  109.198099954582702   Topic2   \n",
              "185           field   18.295666679536481   35.643693928871166   Topic2   \n",
              "6       development   98.190083996424448  191.505547306176027   Topic2   \n",
              "101         written   12.448065535996919   24.460352380678639   Topic2   \n",
              "86          minimum   12.914114256042510   25.701427452987154   Topic2   \n",
              "54           strong   38.668191504499951   79.381244049928469   Topic2   \n",
              "149        bachelor   13.989913396542033   28.786594543911466   Topic2   \n",
              "169        analysis   21.539260197752654   44.362599662784952   Topic2   \n",
              "28         identify   24.695990867669224   50.959489122504934   Topic2   \n",
              "40      performance   34.261173429499003   72.910977872924263   Topic2   \n",
              "130         program   23.292594638775643   50.783634345728295   Topic2   \n",
              "137        strategy   51.741703651988928  113.972323875660820   Topic2   \n",
              "41         practice   34.363884982433852   78.090836287338277   Topic2   \n",
              "51            skill   63.976395251743462  158.284221253056842   Topic2   \n",
              "9           ability   40.813752788945877   96.045114006039952   Topic2   \n",
              "55           system   53.958048191459099  143.188407201551314   Topic2   \n",
              "19          develop   37.266578837395052   90.624158392673564   Topic2   \n",
              "0          business   62.529816492417623  185.773208739854226   Topic2   \n",
              "134    relationship   23.114460875570458   50.435889197628740   Topic2   \n",
              "136     stakeholder   29.150336877402246   80.373109209884433   Topic2   \n",
              "95           report   24.386822505595223   57.399624728062562   Topic2   \n",
              "117      management   41.647760685393052  202.525795797959205   Topic2   \n",
              "63             work   37.834713169153929  248.999321410469634   Topic2   \n",
              "71    communication   25.256592722325330   95.019104063213376   Topic2   \n",
              "102          across   24.947227363521701   90.426135082977083   Topic2   \n",
              "94          project   29.892743412816717  347.148210202236896   Topic2   \n",
              "82        including   25.538096812475196  116.736376626427514   Topic2   \n",
              "123             new   25.161583106045619  107.442252515910269   Topic2   \n",
              "91         positive   19.669187254346276   25.822047151545714   Topic3   \n",
              "78      engineering  114.101264578140388  174.378704274353424   Topic3   \n",
              "105          client   86.261513508282434  148.136991663047866   Topic3   \n",
              "148            area   21.918971117551695   38.570713809459399   Topic3   \n",
              "21         document   17.587847382927315   30.996830184098151   Topic3   \n",
              "145        activity   27.180166701179175   48.693090031351780   Topic3   \n",
              "43         required   31.883402880281619   58.102176163757633   Topic3   \n",
              "113           issue   31.407761990556686   59.548688977853544   Topic3   \n",
              "144         quality   37.534264786882332   73.359336214258619   Topic3   \n",
              "163        resource   12.241206424437664   24.130404957777305   Topic3   \n",
              "158  infrastructure   24.822751646480704   49.184042348433394   Topic3   \n",
              "108       effective   14.682214682384963   29.708722231086384   Topic3   \n",
              "151      compliance   16.158885413448196   33.152318422735334   Topic3   \n",
              "153      coordinate   13.420288209168847   27.601925413895874   Topic3   \n",
              "44      requirement   39.371844386602774   82.224597196887444   Topic3   \n",
              "140            time   21.436607679906960   45.079506379364190   Topic3   \n",
              "80             good   15.334886356248273   32.386140697666001   Topic3   \n",
              "57        technical   70.448446946094080  150.838705193960067   Topic3   \n",
              "18           design   85.636052961864038  185.141607889204096   Topic3   \n",
              "183           value   19.879093330070326   43.539799907682138   Topic3   \n",
              "94          project  148.897486504338673  347.148210202236896   Topic3   \n",
              "12           arabia   15.149869402491905   35.538705195022715   Topic3   \n",
              "47           review   27.944706119856441   65.913396819822211   Topic3   \n",
              "62           within   35.611495353630403   85.238959953218512   Topic3   \n",
              "116          manage   17.757196836121704   44.476942353556964   Topic3   \n",
              "22           ensure   36.117197562098795   90.750495730504539   Topic3   \n",
              "166        engineer   23.154265958623970   59.226234512765643   Topic3   \n",
              "167      innovation   10.373769737824668   26.601520871180345   Topic3   \n",
              "46      responsible   18.928091237588689   49.231025830481542   Topic3   \n",
              "50            saudi   23.667125336487974   62.446188171036191   Topic3   \n",
              "63             work   79.178889744315626  248.999321410469634   Topic3   \n",
              "88      opportunity   28.525815154377693   85.074030976806199   Topic3   \n",
              "82        including   31.142188147472766  116.736376626427514   Topic3   \n",
              "32        knowledge   32.732417824046337  144.196926870100640   Topic3   \n",
              "143         manager   19.276253221758626   55.776825667155940   Topic3   \n",
              "96          service   24.929942180088560  106.845430787162826   Topic3   \n",
              "73         customer   24.871151576939546  115.013923423323973   Topic3   \n",
              "117      management   27.333473390361412  202.525795797959205   Topic3   \n",
              "64          working   21.121744542047960  129.644124421865854   Topic3   \n",
              "154     environment   19.080480392544217   93.091543515768933   Topic3   \n",
              "187            risk  102.627621533306581  118.004406482069101   Topic4   \n",
              "190       framework   13.508834738325783   29.256274622658953   Topic4   \n",
              "151      compliance   14.847843102211108   33.152318422735334   Topic4   \n",
              "117      management   77.603229356865825  202.525795797959205   Topic4   \n",
              "192        planning   13.762835663019445   36.581246785083316   Topic4   \n",
              "122      monitoring   11.913197838616936   32.088406346078884   Topic4   \n",
              "94          project  118.629327956330584  347.148210202236896   Topic4   \n",
              "118        managing   10.851222524373036   33.108291082869961   Topic4   \n",
              "76       developing   13.126710604224549   40.387093700638133   Topic4   \n",
              "191           focus    7.673889315393792   24.109783315133921   Topic4   \n",
              "98           status   10.664157989102353   36.527171286957824   Topic4   \n",
              "30     implementing    7.871880259386502   28.076928106631492   Topic4   \n",
              "75         delivery   15.622418327511744   56.418684769083910   Topic4   \n",
              "142        internal   13.200544695542318   50.795177626273258   Topic4   \n",
              "85           member   12.126641808200130   47.273168559458988   Topic4   \n",
              "115             key   12.311137519573013   48.124943415540102   Topic4   \n",
              "2              plan   14.096357898374658   55.433910777957003   Topic4   \n",
              "21         document    7.854022301575469   30.996830184098151   Topic4   \n",
              "81   implementation   10.853679118100544   43.773299543161670   Topic4   \n",
              "163        resource    5.866245170424619   24.130404957777305   Topic4   \n",
              "45   responsibility   10.969817748609048   46.647062525440795   Topic4   \n",
              "140            time   10.543758174985292   45.079506379364190   Topic4   \n",
              "23         ensuring    6.843831858407270   29.860488852906265   Topic4   \n",
              "95           report   13.085987976005555   57.399624728062562   Topic4   \n",
              "174        external    7.517871564374762   33.248451123452220   Topic4   \n",
              "36         multiple    9.022294729252003   41.159738057022068   Topic4   \n",
              "109         english    4.903580196154839   22.488645209277252   Topic4   \n",
              "136     stakeholder   16.646085743629207   80.373109209884433   Topic4   \n",
              "70        candidate   11.235373927264630   55.560354920569999   Topic4   \n",
              "182      background    5.730465814757147   28.500662508810894   Topic4   \n",
              "113           issue   11.834259055982143   59.548688977853544   Topic4   \n",
              "135        relevant   11.501540246131722   58.065845682359864   Topic4   \n",
              "129         process   19.648068218683118  109.198099954582702   Topic4   \n",
              "160           level   10.862755510444025   61.075149670043004   Topic4   \n",
              "32        knowledge   18.368473259948640  144.196926870100640   Topic4   \n",
              "62           within   13.205919273697427   85.238959953218512   Topic4   \n",
              "22           ensure   13.091741999022126   90.750495730504539   Topic4   \n",
              "58             tool   10.685869182760088   61.438537920690784   Topic4   \n",
              "4            degree   11.300101341907252   71.956767561475345   Topic4   \n",
              "82        including   12.555916865274323  116.736376626427514   Topic4   \n",
              "144         quality   10.875276300156713   73.359336214258619   Topic4   \n",
              "119          market   22.825764406291320   34.752988636219044   Topic5   \n",
              "171         closely   18.806479588650227   29.344464570507085   Topic5   \n",
              "48           riyadh   14.972945771114118   23.453531747987356   Topic5   \n",
              "177         leading   37.067325305174442   60.574737117941424   Topic5   \n",
              "50            saudi   37.914261874257058   62.446188171036191   Topic5   \n",
              "12           arabia   19.524082695404942   35.538705195022715   Topic5   \n",
              "115             key   23.766576230826622   48.124943415540102   Topic5   \n",
              "25           global   32.915765903099235   68.926595790073037   Topic5   \n",
              "17         creating   14.328508931538691   30.226615967186898   Topic5   \n",
              "39             part   27.216701429719482   57.653900254775877   Topic5   \n",
              "100            well   24.064083410512723   54.074835590681509   Topic5   \n",
              "179          senior   17.771524399782706   41.470038609539507   Topic5   \n",
              "173           drive   14.383540701733610   33.863605478945956   Topic5   \n",
              "56             take   11.706202200481210   29.469273792416640   Topic5   \n",
              "61          various   13.411087991628985   33.974883415377370   Topic5   \n",
              "137        strategy   44.834148824798035  113.972323875660820   Topic5   \n",
              "19          develop   32.880785769888725   90.624158392673564   Topic5   \n",
              "20        different   12.463166436444840   34.775882086192205   Topic5   \n",
              "10             also   16.234359286591268   46.241909179238547   Topic5   \n",
              "35             make   11.018305073044720   32.641004346910371   Topic5   \n",
              "26            group    9.639483287480864   29.201329413124199   Topic5   \n",
              "65            world   18.242136239051202   57.957664952943240   Topic5   \n",
              "41         practice   24.204893871021149   78.090836287338277   Topic5   \n",
              "14             best   23.114572583416159   81.547827738907742   Topic5   \n",
              "142        internal   13.994529253553596   50.795177626273258   Topic5   \n",
              "134    relationship   13.509907110215723   50.435889197628740   Topic5   \n",
              "31    international   10.332742592508028   40.236796551343033   Topic5   \n",
              "114            join    9.771463113658861   40.411216789463083   Topic5   \n",
              "103        approach    7.653313326529384   32.839084703393191   Topic5   \n",
              "143         manager   12.901437238341135   55.776825667155940   Topic5   \n",
              "102          across   16.416146797597605   90.426135082977083   Topic5   \n",
              "8              year   17.496680495985878  116.353616447991470   Topic5   \n",
              "154     environment   14.419943750142124   93.091543515768933   Topic5   \n",
              "123             new   13.578077023064667  107.442252515910269   Topic5   \n",
              "64          working   13.621730317016718  129.644124421865854   Topic5   \n",
              "63             work   12.453227026537302  248.999321410469634   Topic5   \n",
              "107            data  144.995838961971145  197.448711931399089   Topic6   \n",
              "77          digital   61.608612805907633   87.963660146234844   Topic6   \n",
              "66             able   19.234297838091095   40.350664902256824   Topic6   \n",
              "110          highly   14.049202720268051   35.008952012505979   Topic6   \n",
              "104           based   15.000392870686914   38.221815971843640   Topic6   \n",
              "9           ability   31.663673208900093   96.045114006039952   Topic6   \n",
              "169        analysis   14.499996581854210   44.362599662784952   Topic6   \n",
              "102          across   28.195774739631286   90.426135082977083   Topic6   \n",
              "138      successful    9.366127289159587   30.765850030274500   Topic6   \n",
              "58             tool   18.606286446063876   61.438537920690784   Topic6   \n",
              "76       developing   12.185280290936952   40.387093700638133   Topic6   \n",
              "90         platform   14.592659127167964   48.424374516863317   Topic6   \n",
              "93          product   23.774677695458585   81.360867531844761   Topic6   \n",
              "67            agile   11.432685290888642   39.632888971985132   Topic6   \n",
              "105          client   40.400888615242224  148.136991663047866   Topic6   \n",
              "56             take    7.923713912286059   29.469273792416640   Topic6   \n",
              "100            well   14.311990448839015   54.074835590681509   Topic6   \n",
              "116          manage   11.434903515583965   44.476942353556964   Topic6   \n",
              "118        managing    8.140458745268226   33.108291082869961   Topic6   \n",
              "37             need   12.888611529995780   52.933662460898859   Topic6   \n",
              "141          vision    5.786213973156990   24.029532968523508   Topic6   \n",
              "163        resource    5.285879367157649   24.130404957777305   Topic6   \n",
              "89     organization   10.038188867662129   48.005189859145531   Topic6   \n",
              "59    understanding   13.969346631236403   68.066491541355262   Topic6   \n",
              "127         overall    5.270013913801900   27.162794804431329   Topic6   \n",
              "75         delivery   10.593373656355311   56.418684769083910   Topic6   \n",
              "71    communication   17.672277911368692   95.019104063213376   Topic6   \n",
              "184         improve    5.177655853812070   28.604647427565091   Topic6   \n",
              "0          business   32.577386912766080  185.773208739854226   Topic6   \n",
              "136     stakeholder   13.476107122610927   80.373109209884433   Topic6   \n",
              "46      responsible    8.006231399490948   49.231025830481542   Topic6   \n",
              "51            skill   17.956400828365950  158.284221253056842   Topic6   \n",
              "117      management   20.890869297788445  202.525795797959205   Topic6   \n",
              "64          working   14.126426484563838  129.644124421865854   Topic6   \n",
              "63             work   16.363707639437862  248.999321410469634   Topic6   \n",
              "53         solution    9.994389341363144  130.852732082393970   Topic6   \n",
              "73         customer    8.602106428220488  115.013923423323973   Topic6   \n",
              "172           cloud   63.785025174541310   78.321265948613231   Topic7   \n",
              "168        security   51.483647672292477   69.587376056233779   Topic7   \n",
              "164      technology   83.265147537128527  151.435391780461146   Topic7   \n",
              "89     organization   20.017418630732109   48.005189859145531   Topic7   \n",
              "23         ensuring   10.074728375695921   29.860488852906265   Topic7   \n",
              "138      successful    9.657136734654918   30.765850030274500   Topic7   \n",
              "114            join   10.098003224782090   40.411216789463083   Topic7   \n",
              "158  infrastructure   11.288510163008128   49.184042348433394   Topic7   \n",
              "175          impact    6.641913744126707   29.133276834226688   Topic7   \n",
              "0          business   41.945912320185847  185.773208739854226   Topic7   \n",
              "65            world   12.342851006000222   57.957664952943240   Topic7   \n",
              "29        implement    7.968182672697489   37.703068331489654   Topic7   \n",
              "13     architecture   11.022505631363531   52.330046063477361   Topic7   \n",
              "182      background    5.988734924677225   28.500662508810894   Topic7   \n",
              "177         leading   12.443285337394467   60.574737117941424   Topic7   \n",
              "77          digital   17.889941090739061   87.963660146234844   Topic7   \n",
              "121           model    6.358431178358216   31.306392192198739   Topic7   \n",
              "127         overall    5.156223777880599   27.162794804431329   Topic7   \n",
              "53         solution   24.525018229490730  130.852732082393970   Topic7   \n",
              "86          minimum    4.725151025211725   25.701427452987154   Topic7   \n",
              "59    understanding   10.879727875840656   68.066491541355262   Topic7   \n",
              "46      responsible    7.454431984007883   49.231025830481542   Topic7   \n",
              "118        managing    4.977336032267054   33.108291082869961   Topic7   \n",
              "67            agile    5.896174998406298   39.632888971985132   Topic7   \n",
              "170       challenge    4.392827506455791   29.528950132865500   Topic7   \n",
              "110          highly    4.794116600747633   35.008952012505979   Topic7   \n",
              "30     implementing    3.692699860605968   28.076928106631492   Topic7   \n",
              "72          company   10.292349807183198   80.793017086649655   Topic7   \n",
              "36         multiple    5.211843938750608   41.159738057022068   Topic7   \n",
              "57        technical   18.054956559154650  150.838705193960067   Topic7   \n",
              "8              year   13.819426383152715  116.353616447991470   Topic7   \n",
              "112     information    8.159851811374605   68.450032170758334   Topic7   \n",
              "62           within    8.871257566829089   85.238959953218512   Topic7   \n",
              "96          service    9.457571293545215  106.845430787162826   Topic7   \n",
              "137        strategy    9.330238440158549  113.972323875660820   Topic7   \n",
              "27             help    6.941640795597060   72.198874956770524   Topic7   \n",
              "63             work    9.407806672239605  248.999321410469634   Topic7   \n",
              "75         delivery    6.235952892080526   56.418684769083910   Topic7   \n",
              "94          project    8.165624074808308  347.148210202236896   Topic7   \n",
              "82        including    6.757416742070669  116.736376626427514   Topic7   \n",
              "189         network   18.392281972002596   30.318837457354380   Topic8   \n",
              "13     architecture   20.144346102273008   52.330046063477361   Topic8   \n",
              "55           system   46.044895261697810  143.188407201551314   Topic8   \n",
              "20        different    9.935226753017314   34.775882086192205   Topic8   \n",
              "170       challenge    7.894191257263483   29.528950132865500   Topic8   \n",
              "112     information   16.616243506075811   68.450032170758334   Topic8   \n",
              "29        implement    8.548204482882324   37.703068331489654   Topic8   \n",
              "147     application   27.230300745966723  120.440901824857789   Topic8   \n",
              "61          various    7.503319261367716   33.974883415377370   Topic8   \n",
              "44      requirement   13.965497947049617   82.224597196887444   Topic8   \n",
              "28         identify    8.440209295825523   50.959489122504934   Topic8   \n",
              "120            meet    7.006017811402813   42.811831795299057   Topic8   \n",
              "3          computer    7.260699362189516   45.207141206164827   Topic8   \n",
              "132       providing    4.902685025951791   30.555608291119640   Topic8   \n",
              "10             also    7.253424604800592   46.241909179238547   Topic8   \n",
              "168        security   10.735204584044103   69.587376056233779   Topic8   \n",
              "191           focus    3.717557861305762   24.109783315133921   Topic8   \n",
              "53         solution   18.620892626077083  130.852732082393970   Topic8   \n",
              "188          change    6.438461896054660   45.483938078240456   Topic8   \n",
              "128          people    8.550450536032470   61.353823503855772   Topic8   \n",
              "148            area    5.297195187342516   38.570713809459399   Topic8   \n",
              "92          problem    7.174763962914716   52.683327132010355   Topic8   \n",
              "149        bachelor    3.864534029885138   28.786594543911466   Topic8   \n",
              "98           status    4.720274772487226   36.527171286957824   Topic8   \n",
              "175          impact    3.713181152411597   29.133276834226688   Topic8   \n",
              "38              one    4.930595986758052   38.891687821026437   Topic8   \n",
              "182      background    3.236458469427800   28.500662508810894   Topic8   \n",
              "103        approach    3.693495666260640   32.839084703393191   Topic8   \n",
              "52         software    8.265851683173905   75.697828204020865   Topic8   \n",
              "155        existing    2.586491758761504   24.348465186417290   Topic8   \n",
              "57        technical   15.014336578791372  150.838705193960067   Topic8   \n",
              "129         process   10.869188316027838  109.198099954582702   Topic8   \n",
              "64          working   12.322977427212750  129.644124421865854   Topic8   \n",
              "18           design   13.435421011076572  185.141607889204096   Topic8   \n",
              "0          business   12.944417636817835  185.773208739854226   Topic8   \n",
              "14             best    7.327907860584701   81.547827738907742   Topic8   \n",
              "117      management   10.385573522963160  202.525795797959205   Topic8   \n",
              "164      technology    8.907395694527155  151.435391780461146   Topic8   \n",
              "94          project   12.442040274584375  347.148210202236896   Topic8   \n",
              "96          service    6.402382372495661  106.845430787162826   Topic8   \n",
              "96          service   42.885489097578684  106.845430787162826   Topic9   \n",
              "73         customer   39.630642262838002  115.013923423323973   Topic9   \n",
              "30     implementing    9.016057234169850   28.076928106631492   Topic9   \n",
              "160           level   14.811772403597427   61.075149670043004   Topic9   \n",
              "26            group    5.735730263081495   29.201329413124199   Topic9   \n",
              "60             user    7.017801716315963   36.404744267193820   Topic9   \n",
              "32        knowledge   23.152927815442570  144.196926870100640   Topic9   \n",
              "156            high    5.338332770704312   33.306909201300023   Topic9   \n",
              "138      successful    4.651927800447972   30.765850030274500   Topic9   \n",
              "109         english    3.273004066741172   22.488645209277252   Topic9   \n",
              "20        different    5.035866161060679   34.775882086192205   Topic9   \n",
              "57        technical   21.785739517353168  150.838705193960067   Topic9   \n",
              "45   responsibility    5.793252078675111   46.647062525440795   Topic9   \n",
              "53         solution   15.907672053697002  130.852732082393970   Topic9   \n",
              "153      coordinate    3.288897311719850   27.601925413895874   Topic9   \n",
              "9           ability   11.323336698148793   96.045114006039952   Topic9   \n",
              "93          product    9.590865965533112   81.360867531844761   Topic9   \n",
              "81   implementation    5.093944625816760   43.773299543161670   Topic9   \n",
              "182      background    3.252849254119041   28.500662508810894   Topic9   \n",
              "111        industry    5.863115053911780   51.939248130454764   Topic9   \n",
              "139         support   17.683894195295306  157.113605905390330   Topic9   \n",
              "113           issue    6.655075848472034   59.548688977853544   Topic9   \n",
              "132       providing    3.162519022964601   30.555608291119640   Topic9   \n",
              "165        training    3.041414412483634   30.466679042248217   Topic9   \n",
              "66             able    3.923382011480927   40.350664902256824   Topic9   \n",
              "56             take    2.849820304345943   29.469273792416640   Topic9   \n",
              "159           learn    2.307544701929993   24.748779661462542   Topic9   \n",
              "131         provide    5.995900883970813   64.720862259827626   Topic9   \n",
              "127         overall    2.398067493499996   27.162794804431329   Topic9   \n",
              "71    communication    8.077460748399165   95.019104063213376   Topic9   \n",
              "55           system   10.644270523147718  143.188407201551314   Topic9   \n",
              "47           review    5.183630574124468   65.913396819822211   Topic9   \n",
              "51            skill   10.142415081263117  158.284221253056842   Topic9   \n",
              "63             work   13.283501709333887  248.999321410469634   Topic9   \n",
              "82        including    6.324976351815479  116.736376626427514   Topic9   \n",
              "164      technology    7.061859258968958  151.435391780461146   Topic9   \n",
              "62           within    5.085322406044178   85.238959953218512   Topic9   \n",
              "117      management    6.445151344173742  202.525795797959205   Topic9   \n",
              "42          related    4.414654108583959   80.043074848627924   Topic9   \n",
              "8              year    4.590798748720099  116.353616447991470   Topic9   \n",
              "0          business    4.626160225615903  185.773208739854226   Topic9   \n",
              "\n",
              "                logprob  loglift  \n",
              "107  30.000000000000000  30.0000  \n",
              "94   29.000000000000000  29.0000  \n",
              "164  28.000000000000000  28.0000  \n",
              "187  27.000000000000000  27.0000  \n",
              "55   26.000000000000000  26.0000  \n",
              "73   25.000000000000000  25.0000  \n",
              "172  24.000000000000000  24.0000  \n",
              "96   23.000000000000000  23.0000  \n",
              "147  22.000000000000000  22.0000  \n",
              "0    21.000000000000000  21.0000  \n",
              "77   20.000000000000000  20.0000  \n",
              "117  19.000000000000000  19.0000  \n",
              "57   18.000000000000000  18.0000  \n",
              "105  17.000000000000000  17.0000  \n",
              "168  16.000000000000000  16.0000  \n",
              "53   15.000000000000000  15.0000  \n",
              "137  14.000000000000000  14.0000  \n",
              "32   13.000000000000000  13.0000  \n",
              "139  12.000000000000000  12.0000  \n",
              "9    11.000000000000000  11.0000  \n",
              "50   10.000000000000000  10.0000  \n",
              "78    9.000000000000000   9.0000  \n",
              "177   8.000000000000000   8.0000  \n",
              "93    7.000000000000000   7.0000  \n",
              "18    6.000000000000000   6.0000  \n",
              "19    5.000000000000000   5.0000  \n",
              "6     4.000000000000000   4.0000  \n",
              "129   3.000000000000000   3.0000  \n",
              "13    2.000000000000000   2.0000  \n",
              "25    1.000000000000000   1.0000  \n",
              "5    -4.617599964141846   1.2904  \n",
              "99   -4.548799991607666   1.2573  \n",
              "7    -4.157899856567383   1.2558  \n",
              "11   -4.725399971008301   1.1819  \n",
              "159  -5.025899887084961   1.1560  \n",
              "60   -4.686800003051758   1.1092  \n",
              "176  -4.626999855041504   1.1055  \n",
              "52   -3.963599920272827   1.1003  \n",
              "121  -4.856100082397461   1.0907  \n",
              "181  -4.462999820709229   1.0354  \n",
              "3    -4.560999870300293   1.0184  \n",
              "83   -4.678699970245361   1.0025  \n",
              "147  -3.623199939727783   0.9763  \n",
              "15   -4.440299987792969   0.9208  \n",
              "69   -4.748400211334229   0.9025  \n",
              "27   -4.215700149536133   0.8955  \n",
              "178  -4.940999984741211   0.8924  \n",
              "175  -5.145599842071533   0.8732  \n",
              "68   -4.690599918365479   0.8672  \n",
              "90   -4.664999961853027   0.8456  \n",
              "150  -4.511600017547607   0.8233  \n",
              "184  -5.222199916839600   0.8149  \n",
              "180  -4.976900100708008   0.8035  \n",
              "156  -5.093500137329102   0.7914  \n",
              "170  -5.234600067138672   0.7706  \n",
              "123  -3.953000068664551   0.7607  \n",
              "93   -4.236400127410889   0.7554  \n",
              "72   -4.247900009155273   0.7508  \n",
              "166  -4.560999870300293   0.7483  \n",
              "92   -4.702099800109863   0.7243  \n",
              "154  -4.213600158691406   0.6434  \n",
              "6    -3.725600004196167   0.4102  \n",
              "53   -4.109899997711182   0.4067  \n",
              "49   -4.394499778747559   0.5136  \n",
              "32   -4.077099800109863   0.3424  \n",
              "18   -3.926800012588501   0.2428  \n",
              "63   -3.814399957656860   0.0588  \n",
              "73   -4.317100048065186   0.3285  \n",
              "51   -4.190499782562256   0.1358  \n",
              "64   -4.274700164794922   0.2512  \n",
              "107  -4.234099864959717  -0.1289  \n",
              "8    -4.415599822998047   0.2185  \n",
              "139  -4.446400165557861  -0.1128  \n",
              "164  -4.459899902343750  -0.0894  \n",
              "78   -4.556000232696533  -0.3265  \n",
              "55   -4.574500083923340  -0.1480  \n",
              "157  -4.031899929046631   1.5615  \n",
              "87   -4.097799777984619   1.3845  \n",
              "146  -4.796899795532227   1.3817  \n",
              "124  -4.676099777221680   1.3598  \n",
              "126  -4.397900104522705   1.3186  \n",
              "133  -4.666999816894531   1.2371  \n",
              "161  -4.522999763488770   1.2183  \n",
              "2    -4.201099872589111   1.1744  \n",
              "34   -4.949200153350830   1.1619  \n",
              "97   -4.131800174713135   1.1312  \n",
              "33   -4.275899887084961   1.1282  \n",
              "125  -4.688099861145020   1.1015  \n",
              "186  -4.991399765014648   1.0958  \n",
              "122  -4.849199771881104   1.0729  \n",
              "42   -3.947400093078613   1.0607  \n",
              "141  -5.164400100708008   1.0469  \n",
              "24   -4.660999774932861   1.0283  \n",
              "139  -3.320100069046021   1.0136  \n",
              "174  -4.882299900054932   1.0044  \n",
              "129  -3.702300071716309   0.9952  \n",
              "185  -4.822800159454346   0.9943  \n",
              "6    -3.142600059509277   0.9932  \n",
              "101  -5.207900047302246   0.9857  \n",
              "86   -5.171199798583984   0.9729  \n",
              "54   -4.074500083923340   0.9419  \n",
              "149  -5.091199874877930   0.9396  \n",
              "169  -4.659599781036377   0.9386  \n",
              "28   -4.522900104522705   0.9368  \n",
              "40   -4.195499897003174   0.9059  \n",
              "130  -4.581399917602539   0.8817  \n",
              "137  -3.783200025558472   0.8715  \n",
              "41   -4.192500114440918   0.8403  \n",
              "51   -3.571000099182129   0.7553  \n",
              "9    -4.020500183105469   0.8054  \n",
              "55   -3.741300106048584   0.6852  \n",
              "19   -4.111400127410889   0.7725  \n",
              "0    -3.593800067901611   0.5723  \n",
              "134  -4.589000225067139   0.8809  \n",
              "136  -4.356999874114990   0.6470  \n",
              "95   -4.535399913787842   0.8052  \n",
              "117  -4.000199794769287   0.0795  \n",
              "63   -4.096300125122070  -0.2231  \n",
              "71   -4.500400066375732   0.3362  \n",
              "102  -4.512700080871582   0.3734  \n",
              "94   -4.331900119781494  -0.7910  \n",
              "82   -4.489299774169922   0.1414  \n",
              "123  -4.504199981689453   0.2095  \n",
              "91   -4.698999881744385   1.4404  \n",
              "78   -2.940999984741211   1.2884  \n",
              "105  -3.220700025558472   1.1718  \n",
              "148  -4.590700149536133   1.1474  \n",
              "21   -4.810900211334229   1.1459  \n",
              "145  -4.375599861145020   1.1295  \n",
              "43   -4.216000080108643   1.1124  \n",
              "113  -4.230999946594238   1.0728  \n",
              "144  -4.052800178527832   1.0424  \n",
              "163  -5.173299789428711   1.0339  \n",
              "158  -4.466300010681152   1.0287  \n",
              "108  -4.991499900817871   1.0078  \n",
              "151  -4.895599842071533   0.9939  \n",
              "153  -5.081299781799316   0.9914  \n",
              "44   -4.005099773406982   0.9762  \n",
              "140  -4.612999916076660   0.9692  \n",
              "80   -4.947999954223633   0.9650  \n",
              "57   -3.423199892044067   0.9512  \n",
              "18   -3.227999925613403   0.9415  \n",
              "183  -4.688399791717529   0.9286  \n",
              "94   -2.674799919128418   0.8661  \n",
              "12   -4.960100173950195   0.8599  \n",
              "47   -4.347899913787842   0.8544  \n",
              "62   -4.105400085449219   0.8398  \n",
              "116  -4.801300048828125   0.7944  \n",
              "22   -4.091300010681152   0.7912  \n",
              "166  -4.535900115966797   0.7734  \n",
              "167  -5.338799953460693   0.7709  \n",
              "46   -4.737500190734863   0.7567  \n",
              "50   -4.513999938964844   0.7423  \n",
              "63   -3.306400060653687   0.5668  \n",
              "88   -4.327300071716309   0.6198  \n",
              "82   -4.239500045776367   0.3912  \n",
              "32   -4.189700126647949   0.2297  \n",
              "143  -4.719200134277344   0.6501  \n",
              "96   -4.461999893188477   0.2572  \n",
              "73   -4.464399814605713   0.1812  \n",
              "117  -4.369999885559082  -0.2902  \n",
              "64   -4.627799987792969  -0.1019  \n",
              "154  -4.729400157928467   0.1276  \n",
              "187  -2.232100009918213   2.3879  \n",
              "190  -4.259799957275391   1.7547  \n",
              "151  -4.165299892425537   1.7242  \n",
              "117  -2.511600017547607   1.5682  \n",
              "192  -4.241199970245361   1.5499  \n",
              "122  -4.385499954223633   1.5366  \n",
              "94   -2.087199926376343   1.4537  \n",
              "118  -4.478899955749512   1.4120  \n",
              "76   -4.288499832153320   1.4036  \n",
              "191  -4.825399875640869   1.3827  \n",
              "98   -4.496300220489502   1.2963  \n",
              "30   -4.799900054931641   1.2558  \n",
              "75   -4.114500045776367   1.2434  \n",
              "142  -4.282899856567383   1.1799  \n",
              "85   -4.367800235748291   1.1669  \n",
              "115  -4.352700233459473   1.1642  \n",
              "2    -4.217299938201904   1.1582  \n",
              "21   -4.802100181579590   1.1546  \n",
              "81   -4.478700160980225   1.1330  \n",
              "163  -5.093999862670898   1.1132  \n",
              "45   -4.467999935150146   1.0800  \n",
              "140  -4.507599830627441   1.0746  \n",
              "23   -4.939799785614014   1.0543  \n",
              "95   -4.291600227355957   1.0490  \n",
              "174  -4.845900058746338   1.0408  \n",
              "36   -4.663499832153320   1.0097  \n",
              "109  -5.273200035095215   1.0044  \n",
              "136  -4.051000118255615   0.9530  \n",
              "70   -4.444099903106689   0.9291  \n",
              "182  -5.117400169372559   0.9234  \n",
              "113  -4.392199993133545   0.9117  \n",
              "135  -4.420700073242188   0.9084  \n",
              "129  -3.885200023651123   0.8123  \n",
              "160  -4.477799892425537   0.8007  \n",
              "32   -3.952500104904175   0.4669  \n",
              "62   -4.282499790191650   0.6627  \n",
              "22   -4.291200160980225   0.5914  \n",
              "58   -4.494299888610840   0.7784  \n",
              "4    -4.438399791717529   0.6762  \n",
              "82   -4.333000183105469   0.2978  \n",
              "144  -4.476699829101562   0.6186  \n",
              "119  -3.637300014495850   2.2051  \n",
              "171  -3.831000089645386   2.1806  \n",
              "48   -4.058899879455566   2.1767  \n",
              "177  -3.152400016784668   2.1344  \n",
              "50   -3.129800081253052   2.1265  \n",
              "12   -3.793499946594238   2.0265  \n",
              "115  -3.596899986267090   1.9200  \n",
              "25   -3.271199941635132   1.8864  \n",
              "17   -4.102900028228760   1.8790  \n",
              "39   -3.461299896240234   1.8749  \n",
              "100  -3.584399938583374   1.8158  \n",
              "179  -3.887599945068359   1.7781  \n",
              "173  -4.099100112915039   1.7692  \n",
              "56   -4.304999828338623   1.7023  \n",
              "61   -4.169099807739258   1.6960  \n",
              "137  -2.962199926376343   1.6925  \n",
              "19   -3.272300004959106   1.6117  \n",
              "20   -4.242400169372559   1.5994  \n",
              "10   -3.977999925613403   1.5787  \n",
              "35   -4.365600109100342   1.5395  \n",
              "26   -4.499300003051758   1.5172  \n",
              "65   -3.861399888992310   1.4695  \n",
              "41   -3.578599929809570   1.4542  \n",
              "14   -3.624700069427490   1.3648  \n",
              "142  -4.126500129699707   1.3364  \n",
              "134  -4.161699771881104   1.3082  \n",
              "31   -4.429800033569336   1.2660  \n",
              "114  -4.485700130462646   1.2059  \n",
              "103  -4.730000019073486   1.1690  \n",
              "143  -4.207799911499023   1.1615  \n",
              "102  -3.966900110244751   0.9192  \n",
              "8    -3.903199911117554   0.7309  \n",
              "154  -4.096600055694580   0.7605  \n",
              "123  -4.156700134277344   0.5570  \n",
              "64   -4.153500080108643   0.3724  \n",
              "63   -4.243199825286865  -0.3700  \n",
              "107  -1.761100053787231   2.3441  \n",
              "77   -2.617000102996826   2.2967  \n",
              "66   -3.781100034713745   1.9119  \n",
              "110  -4.095200061798096   1.7398  \n",
              "104  -4.029699802398682   1.7175  \n",
              "9    -3.282599925994873   1.5432  \n",
              "169  -4.063700199127197   1.5346  \n",
              "102  -3.398600101470947   1.4875  \n",
              "138  -4.500699996948242   1.4635  \n",
              "58   -3.814300060272217   1.4583  \n",
              "76   -4.237599849700928   1.4546  \n",
              "90   -4.057300090789795   1.4534  \n",
              "93   -3.569200038909912   1.4226  \n",
              "67   -4.301300048828125   1.4097  \n",
              "105  -3.039000034332275   1.3536  \n",
              "56   -4.668000221252441   1.3394  \n",
              "100  -4.076700210571289   1.3236  \n",
              "116  -4.301099777221680   1.2945  \n",
              "118  -4.640999794006348   1.2499  \n",
              "37   -4.181499958038330   1.2402  \n",
              "141  -4.982299804687500   1.2290  \n",
              "163  -5.072800159454346   1.1344  \n",
              "89   -4.431399822235107   1.0879  \n",
              "59   -4.100900173187256   1.0692  \n",
              "127  -5.075799942016602   1.0130  \n",
              "75   -4.377600193023682   0.9803  \n",
              "71   -3.865799903869629   0.9708  \n",
              "184  -5.093500137329102   0.9436  \n",
              "0    -3.254199981689453   0.9119  \n",
              "136  -4.136899948120117   0.8671  \n",
              "46   -4.657599925994873   0.8365  \n",
              "51   -3.849900007247925   0.4764  \n",
              "117  -3.698499917984009   0.3813  \n",
              "64   -4.089799880981445   0.4361  \n",
              "63   -3.942699909210205  -0.0695  \n",
              "53   -4.435800075531006   0.0808  \n",
              "73   -4.585800170898438   0.0598  \n",
              "172  -2.413199901580811   2.6166  \n",
              "168  -2.627500057220459   2.5206  \n",
              "164  -2.146699905395508   2.2238  \n",
              "89   -3.572200059890747   1.9472  \n",
              "23   -4.258699893951416   1.7354  \n",
              "138  -4.301099777221680   1.6632  \n",
              "114  -4.256400108337402   1.4351  \n",
              "158  -4.144999980926514   1.3501  \n",
              "175  -4.675399780273438   1.3434  \n",
              "0    -2.832400083541870   1.3338  \n",
              "65   -4.055699825286865   1.2753  \n",
              "29   -4.493299961090088   1.2676  \n",
              "13   -4.168799877166748   1.2643  \n",
              "182  -4.778900146484375   1.2619  \n",
              "177  -4.047599792480469   1.2392  \n",
              "77   -3.684499979019165   1.2292  \n",
              "121  -4.718999862670898   1.2279  \n",
              "127  -4.928599834442139   1.1603  \n",
              "53   -3.369100093841553   1.1475  \n",
              "86   -5.015900135040283   1.1283  \n",
              "59   -4.181900024414062   0.9883  \n",
              "46   -4.559999942779541   0.9342  \n",
              "118  -4.963900089263916   0.9270  \n",
              "67   -4.794499874114990   0.9165  \n",
              "170  -5.088799953460693   0.9165  \n",
              "110  -5.001399993896484   0.8337  \n",
              "30   -5.262400150299072   0.7933  \n",
              "72   -4.237400054931641   0.7614  \n",
              "36   -4.917799949645996   0.7554  \n",
              "57   -3.675299882888794   0.6991  \n",
              "8    -3.942699909210205   0.6913  \n",
              "112  -4.469500064849854   0.6950  \n",
              "62   -4.385900020599365   0.5593  \n",
              "96   -4.321899890899658   0.3973  \n",
              "137  -4.335499763488770   0.3192  \n",
              "27   -4.631199836730957   0.4800  \n",
              "63   -4.327199935913086  -0.4540  \n",
              "75   -4.738399982452393   0.6194  \n",
              "94   -4.468800067901611  -0.9279  \n",
              "82   -4.658100128173828  -0.0274  \n",
              "189  -3.421700000762939   2.5572  \n",
              "13   -3.330699920654297   2.1024  \n",
              "55   -2.503999948501587   1.9225  \n",
              "20   -4.037600040435791   1.8042  \n",
              "170  -4.267499923706055   1.7378  \n",
              "112  -3.523299932479858   1.6413  \n",
              "29   -4.187900066375732   1.5730  \n",
              "147  -3.029299974441528   1.5702  \n",
              "61   -4.318299770355225   1.5467  \n",
              "44   -3.697099924087524   1.2841  \n",
              "28   -4.200699806213379   1.2590  \n",
              "120  -4.386899948120117   1.2470  \n",
              "3    -4.351200103759766   1.2282  \n",
              "132  -4.743899822235107   1.2272  \n",
              "10   -4.352200031280518   1.2046  \n",
              "168  -3.960099935531616   1.1879  \n",
              "191  -5.020599842071533   1.1874  \n",
              "53   -3.409399986267090   1.1072  \n",
              "188  -4.471399784088135   1.1019  \n",
              "128  -4.187699794769287   1.0863  \n",
              "148  -4.666500091552734   1.0717  \n",
              "92   -4.363100051879883   1.0633  \n",
              "149  -4.981800079345703   1.0489  \n",
              "98   -4.781799793243408   1.0108  \n",
              "175  -5.021800041198730   0.9970  \n",
              "38   -4.738200187683105   0.9917  \n",
              "182  -5.159200191497803   0.8816  \n",
              "103  -5.027100086212158   0.8720  \n",
              "52   -4.221499919891357   0.8424  \n",
              "155  -5.383399963378906   0.8148  \n",
              "57   -3.624700069427490   0.7498  \n",
              "129  -3.947700023651123   0.7498  \n",
              "64   -3.822200059890747   0.7037  \n",
              "18   -3.735800027847290   0.4338  \n",
              "0    -3.773000001907349   0.3931  \n",
              "14   -4.342000007629395   0.6475  \n",
              "117  -3.993200063705444   0.0866  \n",
              "164  -4.146800041198730   0.2237  \n",
              "94   -3.812599897384644  -0.2717  \n",
              "96   -4.477000236511230   0.2423  \n",
              "96   -2.459800004959106   2.2595  \n",
              "73   -2.538700103759766   2.1069  \n",
              "30   -4.019299983978271   2.0364  \n",
              "160  -3.522900104522705   1.7557  \n",
              "26   -4.471600055694580   1.5449  \n",
              "60   -4.269800186157227   1.5261  \n",
              "32   -3.076200008392334   1.3433  \n",
              "156  -4.543399810791016   1.3415  \n",
              "138  -4.681000232696533   1.2832  \n",
              "109  -5.032599925994873   1.2451  \n",
              "20   -4.601699829101562   1.2400  \n",
              "57   -3.137000083923340   1.2374  \n",
              "45   -4.461599826812744   1.0865  \n",
              "53   -3.451499938964844   1.0651  \n",
              "153  -5.027699947357178   1.0450  \n",
              "9    -3.791399955749512   1.0344  \n",
              "93   -3.957499980926514   1.0343  \n",
              "81   -4.590199947357178   1.0214  \n",
              "182  -5.038799762725830   1.0020  \n",
              "111  -4.449600219726562   0.9910  \n",
              "139  -3.345599889755249   0.9881  \n",
              "113  -4.322899818420410   0.9810  \n",
              "132  -5.066899776458740   0.9042  \n",
              "165  -5.105999946594238   0.8681  \n",
              "66   -4.851299762725830   0.8417  \n",
              "56   -5.171000003814697   0.8363  \n",
              "159  -5.382100105285645   0.7998  \n",
              "131  -4.427199840545654   0.7934  \n",
              "127  -5.343599796295166   0.7452  \n",
              "71   -4.129199981689453   0.7074  \n",
              "55   -3.853300094604492   0.5732  \n",
              "47   -4.572800159454346   0.6295  \n",
              "51   -3.901599884033203   0.4247  \n",
              "63   -3.631799936294556   0.2414  \n",
              "82   -4.373799800872803   0.2570  \n",
              "164  -4.263599872589111   0.1069  \n",
              "62   -4.591899871826172   0.3533  \n",
              "117  -4.355000019073486  -0.2752  \n",
              "42   -4.733399868011475   0.2747  \n",
              "8    -4.694200038909912  -0.0602  \n",
              "0    -4.686600208282471  -0.5204  , token_table=      Topic               Freq     Term\n",
              "term                                   \n",
              "9         1  0.052058868915347  ability\n",
              "9         2  0.426882725105846  ability\n",
              "9         3  0.072882416481486  ability\n",
              "9         6  0.333176761058221  ability\n",
              "9         9  0.114529511613764  ability\n",
              "...     ...                ...      ...\n",
              "8         3  0.085944900599371     year\n",
              "8         4  0.085944900599371     year\n",
              "8         5  0.146106331018931     year\n",
              "8         7  0.120322860839120     year\n",
              "8         9  0.042972450299686     year\n",
              "\n",
              "[838 rows x 3 columns], R=30, lambda_step=0.01, plot_opts={'xlab': 'PC1', 'ylab': 'PC2'}, topic_order=[2, 3, 6, 7, 4, 9, 8, 1, 5])"
            ],
            "text/html": [
              "\n",
              "<link rel=\"stylesheet\" type=\"text/css\" href=\"https://cdn.rawgit.com/bmabey/pyLDAvis/files/ldavis.v1.0.0.css\">\n",
              "\n",
              "\n",
              "<div id=\"ldavis_el17161397539982113769800029979\"></div>\n",
              "<script type=\"text/javascript\">\n",
              "\n",
              "var ldavis_el17161397539982113769800029979_data = {\"mdsDat\": {\"x\": [0.03469876968483973, -0.04567435826246748, 0.03342873760031168, -0.0524053791259895, -0.32526336161666347, 0.07861179880222081, 0.09064204996428132, 0.09602343860806607, 0.08993830434540107], \"y\": [-0.006938646584851362, -0.07100640654631998, -0.10940817687776543, -0.1884172578936121, 0.09713325067636161, 0.21515701089251466, 0.1483747567003077, -0.05798132735598428, -0.026913203010651584], \"topics\": [1, 2, 3, 4, 5, 6, 7, 8, 9], \"cluster\": [1, 1, 1, 1, 1, 1, 1, 1, 1], \"Freq\": [25.853984152907884, 18.991713496199456, 18.0403730183327, 7.985960521026792, 7.240377266605474, 7.045028266220603, 5.949286646105458, 4.7028534800466, 4.190423152555034]}, \"tinfo\": {\"Term\": [\"data\", \"project\", \"technology\", \"risk\", \"system\", \"customer\", \"cloud\", \"service\", \"application\", \"business\", \"digital\", \"management\", \"technical\", \"client\", \"security\", \"solution\", \"strategy\", \"knowledge\", \"support\", \"ability\", \"saudi\", \"engineering\", \"leading\", \"product\", \"design\", \"develop\", \"development\", \"process\", \"architecture\", \"global\", \"developer\", \"web\", \"science\", \"analytical\", \"learn\", \"user\", \"language\", \"software\", \"model\", \"using\", \"computer\", \"looking\", \"application\", \"code\", \"building\", \"help\", \"like\", \"impact\", \"build\", \"platform\", \"complex\", \"improve\", \"test\", \"high\", \"challenge\", \"new\", \"product\", \"company\", \"engineer\", \"problem\", \"environment\", \"development\", \"solution\", \"role\", \"knowledge\", \"design\", \"work\", \"customer\", \"skill\", \"working\", \"data\", \"year\", \"support\", \"technology\", \"engineering\", \"system\", \"improvement\", \"operation\", \"andor\", \"objective\", \"operational\", \"qualification\", \"policy\", \"plan\", \"leadership\", \"standard\", \"lead\", \"office\", \"presentation\", \"monitoring\", \"related\", \"vision\", \"excellent\", \"support\", \"external\", \"process\", \"field\", \"development\", \"written\", \"minimum\", \"strong\", \"bachelor\", \"analysis\", \"identify\", \"performance\", \"program\", \"strategy\", \"practice\", \"skill\", \"ability\", \"system\", \"develop\", \"business\", \"relationship\", \"stakeholder\", \"report\", \"management\", \"work\", \"communication\", \"across\", \"project\", \"including\", \"new\", \"positive\", \"engineering\", \"client\", \"area\", \"document\", \"activity\", \"required\", \"issue\", \"quality\", \"resource\", \"infrastructure\", \"effective\", \"compliance\", \"coordinate\", \"requirement\", \"time\", \"good\", \"technical\", \"design\", \"value\", \"project\", \"arabia\", \"review\", \"within\", \"manage\", \"ensure\", \"engineer\", \"innovation\", \"responsible\", \"saudi\", \"work\", \"opportunity\", \"including\", \"knowledge\", \"manager\", \"service\", \"customer\", \"management\", \"working\", \"environment\", \"risk\", \"framework\", \"compliance\", \"management\", \"planning\", \"monitoring\", \"project\", \"managing\", \"developing\", \"focus\", \"status\", \"implementing\", \"delivery\", \"internal\", \"member\", \"key\", \"plan\", \"document\", \"implementation\", \"resource\", \"responsibility\", \"time\", \"ensuring\", \"report\", \"external\", \"multiple\", \"english\", \"stakeholder\", \"candidate\", \"background\", \"issue\", \"relevant\", \"process\", \"level\", \"knowledge\", \"within\", \"ensure\", \"tool\", \"degree\", \"including\", \"quality\", \"market\", \"closely\", \"riyadh\", \"leading\", \"saudi\", \"arabia\", \"key\", \"global\", \"creating\", \"part\", \"well\", \"senior\", \"drive\", \"take\", \"various\", \"strategy\", \"develop\", \"different\", \"also\", \"make\", \"group\", \"world\", \"practice\", \"best\", \"internal\", \"relationship\", \"international\", \"join\", \"approach\", \"manager\", \"across\", \"year\", \"environment\", \"new\", \"working\", \"work\", \"data\", \"digital\", \"able\", \"highly\", \"based\", \"ability\", \"analysis\", \"across\", \"successful\", \"tool\", \"developing\", \"platform\", \"product\", \"agile\", \"client\", \"take\", \"well\", \"manage\", \"managing\", \"need\", \"vision\", \"resource\", \"organization\", \"understanding\", \"overall\", \"delivery\", \"communication\", \"improve\", \"business\", \"stakeholder\", \"responsible\", \"skill\", \"management\", \"working\", \"work\", \"solution\", \"customer\", \"cloud\", \"security\", \"technology\", \"organization\", \"ensuring\", \"successful\", \"join\", \"infrastructure\", \"impact\", \"business\", \"world\", \"implement\", \"architecture\", \"background\", \"leading\", \"digital\", \"model\", \"overall\", \"solution\", \"minimum\", \"understanding\", \"responsible\", \"managing\", \"agile\", \"challenge\", \"highly\", \"implementing\", \"company\", \"multiple\", \"technical\", \"year\", \"information\", \"within\", \"service\", \"strategy\", \"help\", \"work\", \"delivery\", \"project\", \"including\", \"network\", \"architecture\", \"system\", \"different\", \"challenge\", \"information\", \"implement\", \"application\", \"various\", \"requirement\", \"identify\", \"meet\", \"computer\", \"providing\", \"also\", \"security\", \"focus\", \"solution\", \"change\", \"people\", \"area\", \"problem\", \"bachelor\", \"status\", \"impact\", \"one\", \"background\", \"approach\", \"software\", \"existing\", \"technical\", \"process\", \"working\", \"design\", \"business\", \"best\", \"management\", \"technology\", \"project\", \"service\", \"service\", \"customer\", \"implementing\", \"level\", \"group\", \"user\", \"knowledge\", \"high\", \"successful\", \"english\", \"different\", \"technical\", \"responsibility\", \"solution\", \"coordinate\", \"ability\", \"product\", \"implementation\", \"background\", \"industry\", \"support\", \"issue\", \"providing\", \"training\", \"able\", \"take\", \"learn\", \"provide\", \"overall\", \"communication\", \"system\", \"review\", \"skill\", \"work\", \"including\", \"technology\", \"within\", \"management\", \"related\", \"year\", \"business\"], \"Freq\": [197.0, 347.0, 151.0, 118.0, 143.0, 115.0, 78.0, 106.0, 120.0, 185.0, 87.0, 202.0, 150.0, 148.0, 69.0, 130.0, 113.0, 144.0, 157.0, 96.0, 62.0, 174.0, 60.0, 81.0, 185.0, 90.0, 191.0, 109.0, 52.0, 68.0, 30.580572051000615, 32.7597103594412, 48.42769556332308, 27.45509588643221, 20.32922310071475, 28.53541580038652, 30.293342409481056, 58.81217445904304, 24.091632372285666, 35.69299264599623, 32.3623491561949, 28.76868120735031, 82.65807405404848, 36.512592120540155, 26.830992045195366, 45.705137355233255, 22.129823094712226, 18.035261566038383, 28.427464262242353, 29.164251676939497, 33.99816272474582, 16.70569517277295, 21.350610287212803, 19.001127358278826, 16.499214354495244, 59.43938685242541, 44.77151053607893, 44.25721240648306, 32.3619656335276, 28.10235815279022, 45.801531308034924, 74.6190064030051, 50.80890417936738, 38.224259551973915, 52.5035034102916, 61.018133401533184, 68.27724859421876, 41.298173545008076, 46.87429034654811, 43.087797004922166, 44.87323343541576, 37.426990901005915, 36.288932082033426, 35.802371580533745, 32.52418707090976, 31.92712013590327, 40.350475791703715, 37.778350922036225, 18.77594258812559, 21.18734354534934, 27.9838917040965, 21.3806947763572, 24.693510403471432, 34.07039162895392, 16.122947383579127, 36.512534667221686, 31.613916549044607, 20.934082007846058, 15.457852532443898, 17.818712178173786, 43.9090416616625, 13.001292722758397, 21.510077144590422, 82.22108849792755, 17.23989553988249, 56.10507530103301, 18.29566667953648, 98.19008399642445, 12.44806553599692, 12.91411425604251, 38.66819150449995, 13.989913396542033, 21.539260197752654, 24.695990867669224, 34.261173429499, 23.292594638775643, 51.74170365198893, 34.36388498243385, 63.97639525174346, 40.81375278894588, 53.9580481914591, 37.26657883739505, 62.52981649241762, 23.114460875570458, 29.150336877402246, 24.386822505595223, 41.64776068539305, 37.83471316915393, 25.25659272232533, 24.9472273635217, 29.892743412816717, 25.538096812475196, 25.16158310604562, 19.669187254346276, 114.10126457814039, 86.26151350828243, 21.918971117551695, 17.587847382927315, 27.180166701179175, 31.88340288028162, 31.407761990556686, 37.53426478688233, 12.241206424437664, 24.822751646480704, 14.682214682384963, 16.158885413448196, 13.420288209168847, 39.371844386602774, 21.43660767990696, 15.334886356248273, 70.44844694609408, 85.63605296186404, 19.879093330070326, 148.89748650433867, 15.149869402491905, 27.94470611985644, 35.6114953536304, 17.757196836121704, 36.117197562098795, 23.15426595862397, 10.373769737824668, 18.92809123758869, 23.667125336487974, 79.17888974431563, 28.525815154377693, 31.142188147472766, 32.73241782404634, 19.276253221758626, 24.92994218008856, 24.871151576939546, 27.333473390361412, 21.12174454204796, 19.080480392544217, 102.62762153330658, 13.508834738325783, 14.847843102211108, 77.60322935686582, 13.762835663019445, 11.913197838616936, 118.62932795633058, 10.851222524373036, 13.126710604224549, 7.673889315393792, 10.664157989102353, 7.8718802593865025, 15.622418327511744, 13.200544695542318, 12.12664180820013, 12.311137519573013, 14.096357898374658, 7.854022301575469, 10.853679118100544, 5.8662451704246195, 10.969817748609048, 10.543758174985292, 6.84383185840727, 13.085987976005555, 7.517871564374762, 9.022294729252003, 4.903580196154839, 16.646085743629207, 11.23537392726463, 5.730465814757147, 11.834259055982143, 11.501540246131722, 19.648068218683118, 10.862755510444025, 18.36847325994864, 13.205919273697427, 13.091741999022126, 10.685869182760088, 11.300101341907252, 12.555916865274323, 10.875276300156713, 22.82576440629132, 18.806479588650227, 14.972945771114118, 37.06732530517444, 37.91426187425706, 19.524082695404942, 23.766576230826622, 32.915765903099235, 14.32850893153869, 27.216701429719482, 24.064083410512723, 17.771524399782706, 14.38354070173361, 11.70620220048121, 13.411087991628985, 44.834148824798035, 32.880785769888725, 12.46316643644484, 16.234359286591268, 11.01830507304472, 9.639483287480864, 18.242136239051202, 24.20489387102115, 23.11457258341616, 13.994529253553596, 13.509907110215723, 10.332742592508028, 9.77146311365886, 7.653313326529384, 12.901437238341135, 16.416146797597605, 17.496680495985878, 14.419943750142124, 13.578077023064667, 13.621730317016718, 12.453227026537302, 144.99583896197115, 61.60861280590763, 19.234297838091095, 14.04920272026805, 15.000392870686914, 31.663673208900093, 14.49999658185421, 28.195774739631286, 9.366127289159587, 18.606286446063876, 12.185280290936952, 14.592659127167964, 23.774677695458585, 11.432685290888642, 40.40088861524222, 7.923713912286059, 14.311990448839015, 11.434903515583965, 8.140458745268226, 12.88861152999578, 5.78621397315699, 5.285879367157649, 10.038188867662129, 13.969346631236403, 5.2700139138018995, 10.593373656355311, 17.672277911368692, 5.1776558538120705, 32.57738691276608, 13.476107122610927, 8.006231399490948, 17.95640082836595, 20.890869297788445, 14.126426484563838, 16.363707639437862, 9.994389341363144, 8.602106428220488, 63.78502517454131, 51.48364767229248, 83.26514753712853, 20.01741863073211, 10.074728375695921, 9.657136734654918, 10.09800322478209, 11.288510163008128, 6.641913744126707, 41.94591232018585, 12.342851006000222, 7.968182672697489, 11.022505631363531, 5.988734924677225, 12.443285337394467, 17.88994109073906, 6.358431178358216, 5.156223777880599, 24.52501822949073, 4.725151025211725, 10.879727875840656, 7.454431984007883, 4.977336032267054, 5.896174998406298, 4.392827506455791, 4.794116600747633, 3.6926998606059676, 10.292349807183198, 5.211843938750608, 18.05495655915465, 13.819426383152715, 8.159851811374605, 8.871257566829089, 9.457571293545215, 9.33023844015855, 6.94164079559706, 9.407806672239605, 6.235952892080526, 8.165624074808308, 6.757416742070669, 18.392281972002596, 20.14434610227301, 46.04489526169781, 9.935226753017314, 7.894191257263483, 16.61624350607581, 8.548204482882324, 27.230300745966723, 7.503319261367716, 13.965497947049617, 8.440209295825523, 7.006017811402813, 7.2606993621895155, 4.902685025951791, 7.253424604800592, 10.735204584044103, 3.717557861305762, 18.620892626077083, 6.43846189605466, 8.55045053603247, 5.297195187342516, 7.1747639629147155, 3.8645340298851383, 4.720274772487226, 3.7131811524115967, 4.9305959867580516, 3.2364584694278005, 3.6934956662606395, 8.265851683173905, 2.586491758761504, 15.014336578791372, 10.869188316027838, 12.32297742721275, 13.435421011076572, 12.944417636817835, 7.327907860584701, 10.38557352296316, 8.907395694527155, 12.442040274584375, 6.402382372495661, 42.885489097578684, 39.630642262838, 9.01605723416985, 14.811772403597427, 5.735730263081495, 7.0178017163159625, 23.15292781544257, 5.338332770704312, 4.6519278004479725, 3.273004066741172, 5.035866161060679, 21.785739517353168, 5.793252078675111, 15.907672053697002, 3.2888973117198503, 11.323336698148793, 9.590865965533112, 5.09394462581676, 3.2528492541190412, 5.86311505391178, 17.683894195295306, 6.655075848472034, 3.1625190229646014, 3.0414144124836335, 3.9233820114809266, 2.8498203043459434, 2.3075447019299933, 5.995900883970813, 2.3980674934999957, 8.077460748399165, 10.644270523147718, 5.183630574124468, 10.142415081263117, 13.283501709333887, 6.324976351815479, 7.061859258968958, 5.0853224060441775, 6.445151344173742, 4.414654108583959, 4.590798748720099, 4.626160225615903], \"Total\": [197.0, 347.0, 151.0, 118.0, 143.0, 115.0, 78.0, 106.0, 120.0, 185.0, 87.0, 202.0, 150.0, 148.0, 69.0, 130.0, 113.0, 144.0, 157.0, 96.0, 62.0, 174.0, 60.0, 81.0, 185.0, 90.0, 191.0, 109.0, 52.0, 68.0, 32.54578732185496, 36.039326904284366, 53.355873464655, 32.569784803365906, 24.748779661462542, 36.40474426719382, 38.78880560426528, 75.69782820402087, 31.30639219219874, 49.02168304462633, 45.20714120616483, 40.833887359738846, 120.44090182485779, 56.236983901797664, 42.08679487101222, 72.19887495677052, 35.066114383672215, 29.133276834226688, 46.19520686766697, 48.42437451686332, 57.726871676354875, 28.60464742756509, 36.97660333579634, 33.30690920130002, 29.5289501328655, 107.44225251591027, 81.36086753184476, 80.79301708664966, 59.22623451276564, 52.683327132010355, 93.09154351576893, 191.50554730617603, 130.85273208239397, 88.45987605649411, 144.19692687010064, 185.1416078892041, 248.99932141046963, 115.01392342332397, 158.28422125305684, 129.64412442186585, 197.4487119313991, 116.35361644799147, 157.11360590539033, 151.43539178046115, 174.37870427435342, 143.1884072015513, 44.57886897460844, 49.820506816367114, 24.82920830509252, 28.640069008509172, 39.41570506276357, 32.67287843123237, 38.45051053407559, 55.433910777957, 26.56370210672301, 62.02742328952165, 53.87216844213819, 36.634941924536314, 27.208263742048338, 32.088406346078884, 80.04307484862792, 24.029532968523508, 40.50330964966698, 157.11360590539033, 33.24845112345222, 109.1980999545827, 35.643693928871166, 191.50554730617603, 24.46035238067864, 25.701427452987154, 79.38124404992847, 28.786594543911466, 44.36259966278495, 50.959489122504934, 72.91097787292426, 50.783634345728295, 113.97232387566082, 78.09083628733828, 158.28422125305684, 96.04511400603995, 143.1884072015513, 90.62415839267356, 185.77320873985423, 50.43588919762874, 80.37310920988443, 57.39962472806256, 202.5257957979592, 248.99932141046963, 95.01910406321338, 90.42613508297708, 347.1482102022369, 116.73637662642751, 107.44225251591027, 25.822047151545714, 174.37870427435342, 148.13699166304787, 38.5707138094594, 30.99683018409815, 48.69309003135178, 58.10217616375763, 59.548688977853544, 73.35933621425862, 24.130404957777305, 49.184042348433394, 29.708722231086384, 33.152318422735334, 27.601925413895874, 82.22459719688744, 45.07950637936419, 32.386140697666, 150.83870519396007, 185.1416078892041, 43.53979990768214, 347.1482102022369, 35.538705195022715, 65.91339681982221, 85.23895995321851, 44.476942353556964, 90.75049573050454, 59.22623451276564, 26.601520871180345, 49.23102583048154, 62.44618817103619, 248.99932141046963, 85.0740309768062, 116.73637662642751, 144.19692687010064, 55.77682566715594, 106.84543078716283, 115.01392342332397, 202.5257957979592, 129.64412442186585, 93.09154351576893, 118.0044064820691, 29.256274622658953, 33.152318422735334, 202.5257957979592, 36.581246785083316, 32.088406346078884, 347.1482102022369, 33.10829108286996, 40.38709370063813, 24.10978331513392, 36.527171286957824, 28.07692810663149, 56.41868476908391, 50.79517762627326, 47.27316855945899, 48.1249434155401, 55.433910777957, 30.99683018409815, 43.77329954316167, 24.130404957777305, 46.647062525440795, 45.07950637936419, 29.860488852906265, 57.39962472806256, 33.24845112345222, 41.15973805702207, 22.48864520927725, 80.37310920988443, 55.56035492057, 28.500662508810894, 59.548688977853544, 58.065845682359864, 109.1980999545827, 61.075149670043004, 144.19692687010064, 85.23895995321851, 90.75049573050454, 61.438537920690784, 71.95676756147535, 116.73637662642751, 73.35933621425862, 34.752988636219044, 29.344464570507085, 23.453531747987356, 60.574737117941424, 62.44618817103619, 35.538705195022715, 48.1249434155401, 68.92659579007304, 30.2266159671869, 57.65390025477588, 54.07483559068151, 41.47003860953951, 33.863605478945956, 29.46927379241664, 33.97488341537737, 113.97232387566082, 90.62415839267356, 34.775882086192205, 46.24190917923855, 32.64100434691037, 29.2013294131242, 57.95766495294324, 78.09083628733828, 81.54782773890774, 50.79517762627326, 50.43588919762874, 40.23679655134303, 40.41121678946308, 32.83908470339319, 55.77682566715594, 90.42613508297708, 116.35361644799147, 93.09154351576893, 107.44225251591027, 129.64412442186585, 248.99932141046963, 197.4487119313991, 87.96366014623484, 40.350664902256824, 35.00895201250598, 38.22181597184364, 96.04511400603995, 44.36259966278495, 90.42613508297708, 30.7658500302745, 61.438537920690784, 40.38709370063813, 48.42437451686332, 81.36086753184476, 39.63288897198513, 148.13699166304787, 29.46927379241664, 54.07483559068151, 44.476942353556964, 33.10829108286996, 52.93366246089886, 24.029532968523508, 24.130404957777305, 48.00518985914553, 68.06649154135526, 27.16279480443133, 56.41868476908391, 95.01910406321338, 28.60464742756509, 185.77320873985423, 80.37310920988443, 49.23102583048154, 158.28422125305684, 202.5257957979592, 129.64412442186585, 248.99932141046963, 130.85273208239397, 115.01392342332397, 78.32126594861323, 69.58737605623378, 151.43539178046115, 48.00518985914553, 29.860488852906265, 30.7658500302745, 40.41121678946308, 49.184042348433394, 29.133276834226688, 185.77320873985423, 57.95766495294324, 37.70306833148965, 52.33004606347736, 28.500662508810894, 60.574737117941424, 87.96366014623484, 31.30639219219874, 27.16279480443133, 130.85273208239397, 25.701427452987154, 68.06649154135526, 49.23102583048154, 33.10829108286996, 39.63288897198513, 29.5289501328655, 35.00895201250598, 28.07692810663149, 80.79301708664966, 41.15973805702207, 150.83870519396007, 116.35361644799147, 68.45003217075833, 85.23895995321851, 106.84543078716283, 113.97232387566082, 72.19887495677052, 248.99932141046963, 56.41868476908391, 347.1482102022369, 116.73637662642751, 30.31883745735438, 52.33004606347736, 143.1884072015513, 34.775882086192205, 29.5289501328655, 68.45003217075833, 37.70306833148965, 120.44090182485779, 33.97488341537737, 82.22459719688744, 50.959489122504934, 42.81183179529906, 45.20714120616483, 30.55560829111964, 46.24190917923855, 69.58737605623378, 24.10978331513392, 130.85273208239397, 45.483938078240456, 61.35382350385577, 38.5707138094594, 52.683327132010355, 28.786594543911466, 36.527171286957824, 29.133276834226688, 38.89168782102644, 28.500662508810894, 32.83908470339319, 75.69782820402087, 24.34846518641729, 150.83870519396007, 109.1980999545827, 129.64412442186585, 185.1416078892041, 185.77320873985423, 81.54782773890774, 202.5257957979592, 151.43539178046115, 347.1482102022369, 106.84543078716283, 106.84543078716283, 115.01392342332397, 28.07692810663149, 61.075149670043004, 29.2013294131242, 36.40474426719382, 144.19692687010064, 33.30690920130002, 30.7658500302745, 22.48864520927725, 34.775882086192205, 150.83870519396007, 46.647062525440795, 130.85273208239397, 27.601925413895874, 96.04511400603995, 81.36086753184476, 43.77329954316167, 28.500662508810894, 51.939248130454764, 157.11360590539033, 59.548688977853544, 30.55560829111964, 30.466679042248217, 40.350664902256824, 29.46927379241664, 24.748779661462542, 64.72086225982763, 27.16279480443133, 95.01910406321338, 143.1884072015513, 65.91339681982221, 158.28422125305684, 248.99932141046963, 116.73637662642751, 151.43539178046115, 85.23895995321851, 202.5257957979592, 80.04307484862792, 116.35361644799147, 185.77320873985423], \"Category\": [\"Default\", \"Default\", \"Default\", \"Default\", \"Default\", \"Default\", \"Default\", \"Default\", \"Default\", \"Default\", \"Default\", \"Default\", \"Default\", \"Default\", \"Default\", \"Default\", \"Default\", \"Default\", \"Default\", \"Default\", \"Default\", \"Default\", \"Default\", \"Default\", \"Default\", \"Default\", \"Default\", \"Default\", \"Default\", \"Default\", \"Topic1\", \"Topic1\", \"Topic1\", \"Topic1\", \"Topic1\", \"Topic1\", \"Topic1\", \"Topic1\", \"Topic1\", \"Topic1\", \"Topic1\", \"Topic1\", \"Topic1\", \"Topic1\", \"Topic1\", \"Topic1\", \"Topic1\", \"Topic1\", \"Topic1\", \"Topic1\", \"Topic1\", \"Topic1\", \"Topic1\", \"Topic1\", \"Topic1\", \"Topic1\", \"Topic1\", \"Topic1\", \"Topic1\", \"Topic1\", \"Topic1\", \"Topic1\", \"Topic1\", \"Topic1\", \"Topic1\", \"Topic1\", \"Topic1\", \"Topic1\", \"Topic1\", \"Topic1\", \"Topic1\", \"Topic1\", \"Topic1\", \"Topic1\", \"Topic1\", \"Topic1\", \"Topic2\", \"Topic2\", \"Topic2\", \"Topic2\", \"Topic2\", \"Topic2\", \"Topic2\", \"Topic2\", \"Topic2\", \"Topic2\", \"Topic2\", \"Topic2\", \"Topic2\", \"Topic2\", \"Topic2\", \"Topic2\", \"Topic2\", \"Topic2\", \"Topic2\", \"Topic2\", \"Topic2\", \"Topic2\", \"Topic2\", \"Topic2\", \"Topic2\", \"Topic2\", \"Topic2\", \"Topic2\", \"Topic2\", \"Topic2\", \"Topic2\", \"Topic2\", \"Topic2\", \"Topic2\", \"Topic2\", \"Topic2\", \"Topic2\", \"Topic2\", \"Topic2\", \"Topic2\", \"Topic2\", \"Topic2\", \"Topic2\", \"Topic2\", \"Topic2\", \"Topic2\", \"Topic2\", \"Topic3\", \"Topic3\", \"Topic3\", \"Topic3\", \"Topic3\", \"Topic3\", \"Topic3\", \"Topic3\", \"Topic3\", \"Topic3\", \"Topic3\", \"Topic3\", \"Topic3\", \"Topic3\", \"Topic3\", \"Topic3\", \"Topic3\", \"Topic3\", \"Topic3\", \"Topic3\", \"Topic3\", \"Topic3\", \"Topic3\", \"Topic3\", \"Topic3\", \"Topic3\", \"Topic3\", \"Topic3\", \"Topic3\", \"Topic3\", \"Topic3\", \"Topic3\", \"Topic3\", \"Topic3\", \"Topic3\", \"Topic3\", \"Topic3\", \"Topic3\", \"Topic3\", \"Topic3\", \"Topic4\", \"Topic4\", \"Topic4\", \"Topic4\", \"Topic4\", \"Topic4\", \"Topic4\", \"Topic4\", \"Topic4\", \"Topic4\", \"Topic4\", \"Topic4\", \"Topic4\", \"Topic4\", \"Topic4\", \"Topic4\", \"Topic4\", \"Topic4\", \"Topic4\", \"Topic4\", \"Topic4\", \"Topic4\", \"Topic4\", \"Topic4\", \"Topic4\", \"Topic4\", \"Topic4\", \"Topic4\", \"Topic4\", \"Topic4\", \"Topic4\", \"Topic4\", \"Topic4\", \"Topic4\", \"Topic4\", \"Topic4\", \"Topic4\", \"Topic4\", \"Topic4\", \"Topic4\", \"Topic4\", \"Topic5\", \"Topic5\", \"Topic5\", \"Topic5\", \"Topic5\", \"Topic5\", \"Topic5\", \"Topic5\", \"Topic5\", \"Topic5\", \"Topic5\", \"Topic5\", \"Topic5\", \"Topic5\", \"Topic5\", \"Topic5\", \"Topic5\", \"Topic5\", \"Topic5\", \"Topic5\", \"Topic5\", \"Topic5\", \"Topic5\", \"Topic5\", \"Topic5\", \"Topic5\", \"Topic5\", \"Topic5\", \"Topic5\", \"Topic5\", \"Topic5\", \"Topic5\", \"Topic5\", \"Topic5\", \"Topic5\", \"Topic5\", \"Topic6\", \"Topic6\", \"Topic6\", \"Topic6\", \"Topic6\", \"Topic6\", \"Topic6\", \"Topic6\", \"Topic6\", \"Topic6\", \"Topic6\", \"Topic6\", \"Topic6\", \"Topic6\", \"Topic6\", \"Topic6\", \"Topic6\", \"Topic6\", \"Topic6\", \"Topic6\", \"Topic6\", \"Topic6\", \"Topic6\", \"Topic6\", \"Topic6\", \"Topic6\", \"Topic6\", \"Topic6\", \"Topic6\", \"Topic6\", \"Topic6\", \"Topic6\", \"Topic6\", \"Topic6\", \"Topic6\", \"Topic6\", \"Topic6\", \"Topic7\", \"Topic7\", \"Topic7\", \"Topic7\", \"Topic7\", \"Topic7\", \"Topic7\", \"Topic7\", \"Topic7\", \"Topic7\", \"Topic7\", \"Topic7\", \"Topic7\", \"Topic7\", \"Topic7\", \"Topic7\", \"Topic7\", \"Topic7\", \"Topic7\", \"Topic7\", \"Topic7\", \"Topic7\", \"Topic7\", \"Topic7\", \"Topic7\", \"Topic7\", \"Topic7\", \"Topic7\", \"Topic7\", \"Topic7\", \"Topic7\", \"Topic7\", \"Topic7\", \"Topic7\", \"Topic7\", \"Topic7\", \"Topic7\", \"Topic7\", \"Topic7\", \"Topic7\", \"Topic8\", \"Topic8\", \"Topic8\", \"Topic8\", \"Topic8\", \"Topic8\", \"Topic8\", \"Topic8\", \"Topic8\", \"Topic8\", \"Topic8\", \"Topic8\", \"Topic8\", \"Topic8\", \"Topic8\", \"Topic8\", \"Topic8\", \"Topic8\", \"Topic8\", \"Topic8\", \"Topic8\", \"Topic8\", \"Topic8\", \"Topic8\", \"Topic8\", \"Topic8\", \"Topic8\", \"Topic8\", \"Topic8\", \"Topic8\", \"Topic8\", \"Topic8\", \"Topic8\", \"Topic8\", \"Topic8\", \"Topic8\", \"Topic8\", \"Topic8\", \"Topic8\", \"Topic8\", \"Topic9\", \"Topic9\", \"Topic9\", \"Topic9\", \"Topic9\", \"Topic9\", \"Topic9\", \"Topic9\", \"Topic9\", \"Topic9\", \"Topic9\", \"Topic9\", \"Topic9\", \"Topic9\", \"Topic9\", \"Topic9\", \"Topic9\", \"Topic9\", \"Topic9\", \"Topic9\", \"Topic9\", \"Topic9\", \"Topic9\", \"Topic9\", \"Topic9\", \"Topic9\", \"Topic9\", \"Topic9\", \"Topic9\", \"Topic9\", \"Topic9\", \"Topic9\", \"Topic9\", \"Topic9\", \"Topic9\", \"Topic9\", \"Topic9\", \"Topic9\", \"Topic9\", \"Topic9\", \"Topic9\"], \"logprob\": [30.0, 29.0, 28.0, 27.0, 26.0, 25.0, 24.0, 23.0, 22.0, 21.0, 20.0, 19.0, 18.0, 17.0, 16.0, 15.0, 14.0, 13.0, 12.0, 11.0, 10.0, 9.0, 8.0, 7.0, 6.0, 5.0, 4.0, 3.0, 2.0, 1.0, -4.617599964141846, -4.548799991607666, -4.157899856567383, -4.725399971008301, -5.025899887084961, -4.686800003051758, -4.626999855041504, -3.963599920272827, -4.856100082397461, -4.4629998207092285, -4.560999870300293, -4.678699970245361, -3.623199939727783, -4.440299987792969, -4.7484002113342285, -4.215700149536133, -4.940999984741211, -5.145599842071533, -4.6905999183654785, -4.664999961853027, -4.511600017547607, -5.2221999168396, -4.976900100708008, -5.093500137329102, -5.234600067138672, -3.953000068664551, -4.236400127410889, -4.247900009155273, -4.560999870300293, -4.702099800109863, -4.213600158691406, -3.725600004196167, -4.109899997711182, -4.394499778747559, -4.077099800109863, -3.926800012588501, -3.8143999576568604, -4.3171000480651855, -4.190499782562256, -4.274700164794922, -4.234099864959717, -4.415599822998047, -4.446400165557861, -4.45989990234375, -4.556000232696533, -4.57450008392334, -4.031899929046631, -4.097799777984619, -4.796899795532227, -4.67609977722168, -4.397900104522705, -4.666999816894531, -4.5229997634887695, -4.201099872589111, -4.94920015335083, -4.131800174713135, -4.275899887084961, -4.6880998611450195, -4.991399765014648, -4.8491997718811035, -3.9474000930786133, -5.164400100708008, -4.660999774932861, -3.3201000690460205, -4.882299900054932, -3.7023000717163086, -4.822800159454346, -3.1426000595092773, -5.207900047302246, -5.171199798583984, -4.07450008392334, -5.09119987487793, -4.659599781036377, -4.522900104522705, -4.195499897003174, -4.581399917602539, -3.7832000255584717, -4.192500114440918, -3.571000099182129, -4.020500183105469, -3.741300106048584, -4.111400127410889, -3.5938000679016113, -4.589000225067139, -4.35699987411499, -4.535399913787842, -4.000199794769287, -4.09630012512207, -4.500400066375732, -4.512700080871582, -4.331900119781494, -4.489299774169922, -4.504199981689453, -4.698999881744385, -2.940999984741211, -3.2207000255584717, -4.590700149536133, -4.8109002113342285, -4.3755998611450195, -4.216000080108643, -4.230999946594238, -4.052800178527832, -5.173299789428711, -4.466300010681152, -4.991499900817871, -4.895599842071533, -5.081299781799316, -4.005099773406982, -4.61299991607666, -4.947999954223633, -3.4231998920440674, -3.2279999256134033, -4.688399791717529, -2.674799919128418, -4.960100173950195, -4.347899913787842, -4.105400085449219, -4.801300048828125, -4.091300010681152, -4.535900115966797, -5.338799953460693, -4.737500190734863, -4.513999938964844, -3.3064000606536865, -4.327300071716309, -4.239500045776367, -4.189700126647949, -4.719200134277344, -4.461999893188477, -4.464399814605713, -4.369999885559082, -4.627799987792969, -4.729400157928467, -2.232100009918213, -4.259799957275391, -4.165299892425537, -2.5116000175476074, -4.241199970245361, -4.385499954223633, -2.0871999263763428, -4.478899955749512, -4.28849983215332, -4.825399875640869, -4.496300220489502, -4.799900054931641, -4.114500045776367, -4.282899856567383, -4.367800235748291, -4.352700233459473, -4.217299938201904, -4.80210018157959, -4.478700160980225, -5.093999862670898, -4.4679999351501465, -4.507599830627441, -4.939799785614014, -4.291600227355957, -4.845900058746338, -4.66349983215332, -5.273200035095215, -4.051000118255615, -4.4440999031066895, -5.117400169372559, -4.392199993133545, -4.4207000732421875, -3.885200023651123, -4.477799892425537, -3.952500104904175, -4.28249979019165, -4.291200160980225, -4.49429988861084, -4.438399791717529, -4.333000183105469, -4.4766998291015625, -3.6373000144958496, -3.8310000896453857, -4.058899879455566, -3.152400016784668, -3.1298000812530518, -3.7934999465942383, -3.59689998626709, -3.271199941635132, -4.10290002822876, -3.4612998962402344, -3.584399938583374, -3.8875999450683594, -4.099100112915039, -4.304999828338623, -4.169099807739258, -2.9621999263763428, -3.2723000049591064, -4.242400169372559, -3.9779999256134033, -4.365600109100342, -4.499300003051758, -3.8613998889923096, -3.5785999298095703, -3.6247000694274902, -4.126500129699707, -4.1616997718811035, -4.429800033569336, -4.4857001304626465, -4.730000019073486, -4.207799911499023, -3.966900110244751, -3.9031999111175537, -4.09660005569458, -4.156700134277344, -4.153500080108643, -4.243199825286865, -1.7611000537872314, -2.617000102996826, -3.781100034713745, -4.095200061798096, -4.029699802398682, -3.282599925994873, -4.063700199127197, -3.3986001014709473, -4.500699996948242, -3.814300060272217, -4.237599849700928, -4.057300090789795, -3.569200038909912, -4.301300048828125, -3.0390000343322754, -4.668000221252441, -4.076700210571289, -4.30109977722168, -4.640999794006348, -4.18149995803833, -4.9822998046875, -5.072800159454346, -4.431399822235107, -4.100900173187256, -5.075799942016602, -4.377600193023682, -3.865799903869629, -5.093500137329102, -3.254199981689453, -4.136899948120117, -4.657599925994873, -3.849900007247925, -3.698499917984009, -4.089799880981445, -3.942699909210205, -4.435800075531006, -4.5858001708984375, -2.4131999015808105, -2.627500057220459, -2.146699905395508, -3.572200059890747, -4.258699893951416, -4.30109977722168, -4.256400108337402, -4.144999980926514, -4.6753997802734375, -2.83240008354187, -4.055699825286865, -4.493299961090088, -4.168799877166748, -4.778900146484375, -4.047599792480469, -3.684499979019165, -4.718999862670898, -4.928599834442139, -3.3691000938415527, -5.015900135040283, -4.1819000244140625, -4.559999942779541, -4.963900089263916, -4.79449987411499, -5.088799953460693, -5.001399993896484, -5.262400150299072, -4.237400054931641, -4.917799949645996, -3.675299882888794, -3.942699909210205, -4.4695000648498535, -4.385900020599365, -4.321899890899658, -4.3354997634887695, -4.631199836730957, -4.327199935913086, -4.738399982452393, -4.468800067901611, -4.658100128173828, -3.4217000007629395, -3.330699920654297, -2.503999948501587, -4.037600040435791, -4.267499923706055, -3.5232999324798584, -4.187900066375732, -3.0292999744415283, -4.318299770355225, -3.6970999240875244, -4.200699806213379, -4.386899948120117, -4.351200103759766, -4.743899822235107, -4.352200031280518, -3.960099935531616, -5.020599842071533, -3.40939998626709, -4.471399784088135, -4.187699794769287, -4.666500091552734, -4.363100051879883, -4.981800079345703, -4.781799793243408, -5.0218000411987305, -4.7382001876831055, -5.159200191497803, -5.027100086212158, -4.221499919891357, -5.383399963378906, -3.6247000694274902, -3.947700023651123, -3.822200059890747, -3.73580002784729, -3.7730000019073486, -4.3420000076293945, -3.9932000637054443, -4.1468000411987305, -3.8125998973846436, -4.4770002365112305, -2.4598000049591064, -2.5387001037597656, -4.0192999839782715, -3.522900104522705, -4.47160005569458, -4.269800186157227, -3.076200008392334, -4.543399810791016, -4.681000232696533, -5.032599925994873, -4.6016998291015625, -3.13700008392334, -4.461599826812744, -3.4514999389648438, -5.027699947357178, -3.7913999557495117, -3.9574999809265137, -4.590199947357178, -5.03879976272583, -4.4496002197265625, -3.345599889755249, -4.32289981842041, -5.06689977645874, -5.105999946594238, -4.85129976272583, -5.171000003814697, -5.3821001052856445, -4.427199840545654, -5.343599796295166, -4.129199981689453, -3.853300094604492, -4.572800159454346, -3.901599884033203, -3.6317999362945557, -4.373799800872803, -4.263599872589111, -4.591899871826172, -4.355000019073486, -4.733399868011475, -4.694200038909912, -4.686600208282471], \"loglift\": [30.0, 29.0, 28.0, 27.0, 26.0, 25.0, 24.0, 23.0, 22.0, 21.0, 20.0, 19.0, 18.0, 17.0, 16.0, 15.0, 14.0, 13.0, 12.0, 11.0, 10.0, 9.0, 8.0, 7.0, 6.0, 5.0, 4.0, 3.0, 2.0, 1.0, 1.2904, 1.2573, 1.2558, 1.1819, 1.156, 1.1092, 1.1055, 1.1003, 1.0907, 1.0354, 1.0184, 1.0025, 0.9763, 0.9208, 0.9025, 0.8955, 0.8924, 0.8732, 0.8672, 0.8456, 0.8233, 0.8149, 0.8035, 0.7914, 0.7706, 0.7607, 0.7554, 0.7508, 0.7483, 0.7243, 0.6434, 0.4102, 0.4067, 0.5136, 0.3424, 0.2428, 0.0588, 0.3285, 0.1358, 0.2512, -0.1289, 0.2185, -0.1128, -0.0894, -0.3265, -0.148, 1.5615, 1.3845, 1.3817, 1.3598, 1.3186, 1.2371, 1.2183, 1.1744, 1.1619, 1.1312, 1.1282, 1.1015, 1.0958, 1.0729, 1.0607, 1.0469, 1.0283, 1.0136, 1.0044, 0.9952, 0.9943, 0.9932, 0.9857, 0.9729, 0.9419, 0.9396, 0.9386, 0.9368, 0.9059, 0.8817, 0.8715, 0.8403, 0.7553, 0.8054, 0.6852, 0.7725, 0.5723, 0.8809, 0.647, 0.8052, 0.0795, -0.2231, 0.3362, 0.3734, -0.791, 0.1414, 0.2095, 1.4404, 1.2884, 1.1718, 1.1474, 1.1459, 1.1295, 1.1124, 1.0728, 1.0424, 1.0339, 1.0287, 1.0078, 0.9939, 0.9914, 0.9762, 0.9692, 0.965, 0.9512, 0.9415, 0.9286, 0.8661, 0.8599, 0.8544, 0.8398, 0.7944, 0.7912, 0.7734, 0.7709, 0.7567, 0.7423, 0.5668, 0.6198, 0.3912, 0.2297, 0.6501, 0.2572, 0.1812, -0.2902, -0.1019, 0.1276, 2.3879, 1.7547, 1.7242, 1.5682, 1.5499, 1.5366, 1.4537, 1.412, 1.4036, 1.3827, 1.2963, 1.2558, 1.2434, 1.1799, 1.1669, 1.1642, 1.1582, 1.1546, 1.133, 1.1132, 1.08, 1.0746, 1.0543, 1.049, 1.0408, 1.0097, 1.0044, 0.953, 0.9291, 0.9234, 0.9117, 0.9084, 0.8123, 0.8007, 0.4669, 0.6627, 0.5914, 0.7784, 0.6762, 0.2978, 0.6186, 2.2051, 2.1806, 2.1767, 2.1344, 2.1265, 2.0265, 1.92, 1.8864, 1.879, 1.8749, 1.8158, 1.7781, 1.7692, 1.7023, 1.696, 1.6925, 1.6117, 1.5994, 1.5787, 1.5395, 1.5172, 1.4695, 1.4542, 1.3648, 1.3364, 1.3082, 1.266, 1.2059, 1.169, 1.1615, 0.9192, 0.7309, 0.7605, 0.557, 0.3724, -0.37, 2.3441, 2.2967, 1.9119, 1.7398, 1.7175, 1.5432, 1.5346, 1.4875, 1.4635, 1.4583, 1.4546, 1.4534, 1.4226, 1.4097, 1.3536, 1.3394, 1.3236, 1.2945, 1.2499, 1.2402, 1.229, 1.1344, 1.0879, 1.0692, 1.013, 0.9803, 0.9708, 0.9436, 0.9119, 0.8671, 0.8365, 0.4764, 0.3813, 0.4361, -0.0695, 0.0808, 0.0598, 2.6166, 2.5206, 2.2238, 1.9472, 1.7354, 1.6632, 1.4351, 1.3501, 1.3434, 1.3338, 1.2753, 1.2676, 1.2643, 1.2619, 1.2392, 1.2292, 1.2279, 1.1603, 1.1475, 1.1283, 0.9883, 0.9342, 0.927, 0.9165, 0.9165, 0.8337, 0.7933, 0.7614, 0.7554, 0.6991, 0.6913, 0.695, 0.5593, 0.3973, 0.3192, 0.48, -0.454, 0.6194, -0.9279, -0.0274, 2.5572, 2.1024, 1.9225, 1.8042, 1.7378, 1.6413, 1.573, 1.5702, 1.5467, 1.2841, 1.259, 1.247, 1.2282, 1.2272, 1.2046, 1.1879, 1.1874, 1.1072, 1.1019, 1.0863, 1.0717, 1.0633, 1.0489, 1.0108, 0.997, 0.9917, 0.8816, 0.872, 0.8424, 0.8148, 0.7498, 0.7498, 0.7037, 0.4338, 0.3931, 0.6475, 0.0866, 0.2237, -0.2717, 0.2423, 2.2595, 2.1069, 2.0364, 1.7557, 1.5449, 1.5261, 1.3433, 1.3415, 1.2832, 1.2451, 1.24, 1.2374, 1.0865, 1.0651, 1.045, 1.0344, 1.0343, 1.0214, 1.002, 0.991, 0.9881, 0.981, 0.9042, 0.8681, 0.8417, 0.8363, 0.7998, 0.7934, 0.7452, 0.7074, 0.5732, 0.6295, 0.4247, 0.2414, 0.257, 0.1069, 0.3533, -0.2752, 0.2747, -0.0602, -0.5204]}, \"token.table\": {\"Topic\": [1, 2, 3, 6, 9, 1, 3, 4, 5, 6, 9, 1, 2, 3, 5, 6, 7, 9, 1, 2, 3, 4, 1, 3, 6, 7, 1, 2, 5, 8, 2, 4, 6, 1, 4, 6, 1, 2, 1, 3, 4, 8, 9, 1, 2, 3, 5, 6, 8, 3, 5, 1, 7, 8, 9, 2, 3, 8, 1, 2, 3, 5, 8, 1, 2, 3, 4, 7, 8, 9, 1, 2, 5, 6, 9, 1, 2, 5, 7, 8, 9, 1, 2, 3, 5, 1, 2, 3, 8, 9, 1, 2, 3, 6, 7, 8, 9, 1, 3, 4, 5, 7, 8, 1, 7, 8, 1, 2, 3, 4, 8, 9, 1, 3, 6, 8, 9, 1, 3, 4, 5, 1, 7, 1, 2, 3, 9, 1, 2, 3, 5, 6, 9, 1, 2, 3, 7, 8, 1, 3, 4, 7, 9, 1, 3, 4, 1, 3, 8, 9, 1, 3, 4, 9, 1, 5, 1, 3, 6, 9, 1, 3, 4, 6, 1, 2, 3, 4, 7, 8, 9, 3, 4, 5, 6, 7, 1, 2, 3, 7, 8, 9, 1, 2, 3, 5, 8, 9, 1, 4, 1, 4, 6, 7, 1, 2, 3, 7, 8, 9, 4, 5, 6, 8, 9, 2, 3, 6, 7, 8, 1, 3, 4, 1, 2, 3, 5, 6, 1, 2, 3, 6, 1, 3, 7, 1, 2, 3, 7, 8, 2, 3, 4, 5, 9, 1, 2, 3, 4, 6, 8, 4, 5, 6, 7, 9, 1, 2, 3, 5, 7, 1, 2, 9, 1, 2, 8, 2, 4, 5, 9, 1, 2, 8, 1, 3, 4, 8, 1, 2, 4, 1, 3, 5, 6, 8, 1, 3, 1, 2, 3, 5, 6, 9, 1, 3, 4, 5, 7, 8, 9, 1, 2, 3, 9, 1, 3, 6, 7, 1, 2, 3, 4, 6, 7, 8, 1, 7, 8, 1, 2, 7, 8, 1, 2, 4, 6, 8, 9, 2, 4, 5, 7, 9, 1, 2, 6, 8, 1, 2, 8, 1, 2, 3, 4, 6, 7, 9, 1, 2, 3, 6, 9, 1, 2, 3, 6, 7, 8, 9, 1, 3, 7, 1, 3, 9, 1, 2, 4, 5, 2, 3, 5, 1, 3, 4, 9, 1, 3, 5, 7, 8, 3, 4, 5, 8, 9, 1, 3, 4, 5, 7, 9, 1, 4, 2, 3, 7, 9, 2, 3, 9, 1, 3, 5, 7, 1, 2, 9, 1, 2, 4, 8, 9, 1, 2, 9, 1, 2, 5, 1, 2, 5, 8, 1, 3, 4, 6, 8, 1, 2, 3, 4, 5, 6, 8, 9, 1, 2, 3, 4, 5, 1, 3, 4, 6, 7, 1, 3, 5, 1, 3, 4, 6, 8, 1, 3, 4, 5, 9, 1, 2, 3, 7, 8, 1, 7, 1, 2, 4, 1, 4, 6, 7, 9, 1, 3, 4, 6, 8, 9, 4, 5, 8, 1, 2, 3, 4, 5, 9, 2, 3, 1, 2, 3, 9, 1, 3, 6, 7, 8, 1, 2, 3, 1, 2, 4, 1, 2, 3, 4, 6, 7, 8, 2, 6, 7, 9, 1, 4, 5, 6, 7, 9, 1, 2, 5, 1, 2, 3, 6, 8, 1, 2, 3, 4, 5, 9, 1, 2, 4, 7, 2, 3, 4, 1, 6, 7, 1, 2, 3, 7, 2, 3, 8, 1, 2, 3, 5, 9, 1, 2, 3, 4, 9, 1, 2, 3, 5, 8, 9, 1, 2, 3, 4, 8, 1, 6, 8, 9, 1, 2, 3, 4, 8, 1, 2, 3, 4, 7, 8, 9, 1, 2, 3, 4, 5, 8, 9, 1, 2, 3, 8, 9, 1, 2, 3, 1, 2, 3, 4, 1, 2, 3, 8, 9, 2, 3, 5, 7, 9, 1, 2, 3, 4, 8, 2, 3, 4, 5, 1, 2, 3, 1, 3, 4, 8, 9, 3, 4, 6, 1, 2, 3, 4, 9, 1, 2, 3, 6, 7, 8, 9, 1, 2, 3, 9, 3, 4, 8, 9, 1, 3, 5, 1, 2, 3, 4, 6, 8, 9, 3, 5, 1, 8, 9, 3, 7, 8, 9, 1, 2, 4, 5, 7, 1, 3, 4, 7, 8, 9, 1, 2, 3, 6, 7, 8, 9, 1, 3, 4, 8, 9, 1, 3, 4, 6, 7, 8, 9, 2, 3, 4, 5, 6, 7, 8, 1, 2, 3, 1, 3, 4, 8, 2, 4, 5, 7, 9, 1, 2, 5, 7, 3, 4, 6, 7, 9, 1, 2, 3, 7, 8, 9, 1, 2, 8, 9, 3, 5, 6, 7, 9, 1, 2, 3, 7, 8, 9, 1, 2, 3, 7, 8, 9, 1, 2, 3, 4, 1, 3, 4, 8, 9, 1, 2, 4, 6, 1, 2, 3, 9, 1, 3, 6, 7, 9, 1, 9, 1, 4, 6, 7, 1, 3, 8, 1, 2, 5, 8, 1, 2, 3, 6, 1, 5, 1, 5, 6, 8, 1, 3, 4, 7, 8, 9, 1, 2, 3, 4, 5, 6, 7, 8, 9, 1, 2, 3, 5, 6, 7, 8, 1, 3, 5, 7, 8, 1, 2, 3, 9, 1, 2, 3, 4, 5, 7, 9], \"Freq\": [0.052058868915347084, 0.4268827251058461, 0.07288241648148591, 0.3331767610582213, 0.11452951161376358, 0.04956547816113284, 0.09913095632226568, 0.09913095632226568, 0.17347917356396494, 0.470872042530762, 0.09913095632226568, 0.09952874787517342, 0.27646874409770394, 0.055293748819540786, 0.1769399962225305, 0.3096449933894284, 0.04423499905563263, 0.033176249291724476, 0.04107358967591233, 0.30805192256934244, 0.5544934606248164, 0.08214717935182465, 0.47939982405598347, 0.07569470906147108, 0.2775472665587273, 0.15138941812294215, 0.4108826892582221, 0.0648762140934035, 0.3460064751648186, 0.15137783288460815, 0.49591322797197196, 0.1803320828988989, 0.31558114507307305, 0.8289892046572472, 0.06140660775238869, 0.06140660775238869, 0.20137573210397086, 0.7652277819950892, 0.6891346605881162, 0.041514136180007, 0.0249084817080042, 0.2241763353720378, 0.0166056544720028, 0.15225759320518945, 0.274063667769341, 0.09135455592311367, 0.24361214912830312, 0.12180607456415156, 0.12180607456415156, 0.4220750282737028, 0.562766704364937, 0.32486117018469024, 0.21020428659009371, 0.38218961198198853, 0.057328441797298284, 0.28519047001153164, 0.5703809400230633, 0.12963203182342348, 0.10421517541520095, 0.4863374852709378, 0.10421517541520095, 0.13895356722026794, 0.13895356722026794, 0.14034761468311174, 0.07017380734155587, 0.14034761468311174, 0.21052142202466761, 0.21052142202466761, 0.10526071101233381, 0.10526071101233381, 0.34011989408291166, 0.10465227510243436, 0.07848920632682577, 0.39244603163412883, 0.07848920632682577, 0.24525484681252505, 0.26978033149377756, 0.2820430738344038, 0.07357645404375751, 0.08583919638438377, 0.024525484681252506, 0.6061234898289374, 0.08658906997556248, 0.08658906997556248, 0.1948254074450156, 0.6415313896615247, 0.09504168735726291, 0.09504168735726291, 0.07128126551794718, 0.07128126551794718, 0.1076581501480486, 0.3391231729663531, 0.05921198258142673, 0.17763594774428018, 0.22608211531090205, 0.06997779759623159, 0.02691453753701215, 0.25197823196080427, 0.28797512224091915, 0.19798289654063192, 0.10799067084034468, 0.08999222570028724, 0.03599689028011489, 0.5418411398985743, 0.13546028497464357, 0.27092056994928715, 0.1978720484694707, 0.21985783163274522, 0.3078009642858433, 0.0879431326530981, 0.13191469897964714, 0.021985783163274524, 0.0945071169788865, 0.5805437185845885, 0.27002033422539, 0.027002033422539002, 0.020251525066904252, 0.170389886923522, 0.10223393215411321, 0.0681559547694088, 0.6474815703093836, 0.178750941145224, 0.817147159521024, 0.6579300210091328, 0.07112756983882516, 0.2311646019761818, 0.03556378491941258, 0.21048398842715457, 0.26310498553394324, 0.17891139016308139, 0.0736693959495041, 0.18943558958443912, 0.08419359537086182, 0.5446015211043607, 0.07426384378695827, 0.2227915313608748, 0.12377307297826377, 0.024754614595652754, 0.5889804697995876, 0.13858363995284415, 0.15590659494694964, 0.06929181997642207, 0.05196886498231655, 0.03016380294278954, 0.48262084708463265, 0.4524570441418431, 0.7078527672003336, 0.06636119692503127, 0.154842792825073, 0.04424079795002085, 0.21737613988984147, 0.47098163642798985, 0.14491742659322765, 0.10868806994492074, 0.49625138375673766, 0.46316795817295514, 0.35647857911162695, 0.21736498726318718, 0.07825139541474738, 0.34778397962109947, 0.22790728569368762, 0.02532303174374307, 0.010129212697497227, 0.734367920568549, 0.25015020282313166, 0.27794466980347965, 0.16676680188208778, 0.1528695683919138, 0.041691700470521946, 0.055588933960695926, 0.055588933960695926, 0.21269549350742245, 0.28359399134322993, 0.19497086904847058, 0.19497086904847058, 0.10634774675371123, 0.32947753179557976, 0.10262414924780353, 0.464509307121637, 0.010802542026084582, 0.07021652316954978, 0.021605084052169165, 0.11034585233520294, 0.40827965364025093, 0.05517292616760147, 0.36414131270616973, 0.04413834093408118, 0.011034585233520295, 0.9525042271502542, 0.030725942811298524, 0.2971246232508777, 0.32188500852178414, 0.2971246232508777, 0.04952077054181295, 0.3916335639097242, 0.5117345235087063, 0.02610890426064828, 0.03133068511277794, 0.03133068511277794, 0.010443561704259313, 0.14377780519290564, 0.34506673246297354, 0.05751112207716226, 0.2875556103858113, 0.14377780519290564, 0.03410499284605326, 0.04547332379473769, 0.7048365188184341, 0.2046299570763196, 0.011368330948684422, 0.16130681654555365, 0.580704539563993, 0.2580909064728858, 0.14765114137384613, 0.14765114137384613, 0.08859068482430768, 0.4134231958467692, 0.14765114137384613, 0.20196089058726888, 0.16830074215605742, 0.5049022264681722, 0.13464059372484594, 0.54030110580646, 0.3883414197983931, 0.05065322866935562, 0.1892432917042465, 0.09175432325054375, 0.6537495531601243, 0.03440787121895391, 0.028673226015794924, 0.3557350798837698, 0.08893376997094245, 0.2223344249273561, 0.1778675399418849, 0.13340065495641368, 0.16528835329499975, 0.22038447105999964, 0.3966920479079994, 0.14324990618899977, 0.04407689421199993, 0.03305767065899995, 0.23442348966496251, 0.23442348966496251, 0.1004672098564125, 0.334890699521375, 0.06697813990427501, 0.4941372573998409, 0.08593691433040711, 0.20410017153471688, 0.15038960007821245, 0.06445268574780533, 0.3950294466894646, 0.5431654891980138, 0.049378680836183075, 0.49284420632369713, 0.36963315474277286, 0.12321105158092428, 0.5113020133442797, 0.240612712162014, 0.1804595341215105, 0.0601531780405035, 0.39277634994671773, 0.5049981642172086, 0.05611090713524539, 0.24886163104724993, 0.24886163104724993, 0.3318155080629999, 0.16590775403149996, 0.3759877203053225, 0.13672280738375364, 0.47852982584313775, 0.24663919355275019, 0.18860644212857366, 0.47877019924945624, 0.043524563568132384, 0.043524563568132384, 0.4940384885425106, 0.46316108300860365, 0.13698006496246182, 0.06849003248123091, 0.2397151136843082, 0.34245016240615456, 0.034245016240615454, 0.20547009744369274, 0.6371290415195909, 0.05540252534952964, 0.09695441936167688, 0.06925315668691205, 0.09695441936167688, 0.01385063133738241, 0.02770126267476482, 0.5704522111363728, 0.060047601172249776, 0.18014280351674933, 0.15011900293062444, 0.34276947209711767, 0.08569236802427942, 0.39989771744663727, 0.14282061337379903, 0.05887029190555853, 0.4905857658796544, 0.05887029190555853, 0.09811715317593088, 0.0784937225407447, 0.05887029190555853, 0.1569874450814894, 0.6178501684662205, 0.24027506551464134, 0.1373000374369379, 0.31827648334863995, 0.23870736251147995, 0.21218432223242661, 0.23870736251147995, 0.04568995302782568, 0.3198296711947798, 0.2512947416530412, 0.1599148355973899, 0.09137990605565136, 0.1142248825695642, 0.14246572790330433, 0.28493145580660867, 0.10684929592747826, 0.14246572790330433, 0.32054788778243476, 0.5943090206949315, 0.1398374166341015, 0.1747967707926269, 0.06991870831705076, 0.02243215278901731, 0.8972861115606925, 0.04486430557803462, 0.23985668228853682, 0.2227240621250699, 0.2655556125337372, 0.11136203106253495, 0.059964170572134205, 0.059964170572134205, 0.051397860490400744, 0.2695456808469095, 0.34655873251745506, 0.2310391550116367, 0.03850652583527278, 0.11551957750581834, 0.2045287570512021, 0.16070116625451594, 0.16070116625451594, 0.05843678772891489, 0.11687357545782978, 0.2483563478478883, 0.04382759079668617, 0.24398157262041767, 0.5082949429592035, 0.22364977490204954, 0.48869386314238855, 0.37591835626337583, 0.07518367125267517, 0.15749526576834108, 0.29530362331563953, 0.25592980687355427, 0.2756167150945969, 0.4224988432741565, 0.29823447760528693, 0.2485287313377391, 0.1511368286100664, 0.5205824096568953, 0.2015157714800885, 0.1175508666967183, 0.3959296767369766, 0.049491209592122075, 0.24745604796061038, 0.24745604796061038, 0.049491209592122075, 0.14545471647743524, 0.24935094253274614, 0.4987018850654923, 0.08311698084424872, 0.02077924521106218, 0.3675529094163351, 0.2288536983158313, 0.12482928999045344, 0.08321952666030229, 0.034674802775125954, 0.1595040927655794, 0.7734190195508663, 0.20624507188023103, 0.5939987367386157, 0.25987444732314435, 0.11137476313849043, 0.03712492104616348, 0.6023256824563832, 0.3011628412281916, 0.03764535515352395, 0.09905119337650217, 0.08254266114708514, 0.61081569248843, 0.19810238675300434, 0.808120653768756, 0.040406032688437794, 0.08081206537687559, 0.229225799292096, 0.31109215618213026, 0.1801059851580754, 0.04911981413402057, 0.24559907067010284, 0.6273863068855964, 0.2851755940389074, 0.05703511880778148, 0.7101944457189556, 0.09795785458192492, 0.19591570916384984, 0.5208173075596289, 0.06127262441877986, 0.3369994343032892, 0.06127262441877986, 0.08993423981808649, 0.4047040791813892, 0.15738491968165136, 0.24731915949973785, 0.06745067986356486, 0.05925171138184917, 0.2073809898364721, 0.13331635060916064, 0.3851361239820196, 0.029625855690924584, 0.10369049491823605, 0.049376426151540975, 0.029625855690924584, 0.17928592888512976, 0.0717143715540519, 0.34064326488174657, 0.17928592888512976, 0.2330717075506687, 0.030203914708161854, 0.21142740295713297, 0.3322430617897804, 0.24163131766529483, 0.15101957354080928, 0.20142152588007078, 0.11509801478861188, 0.6618135850345183, 0.3036543743831924, 0.2802963455844853, 0.11679014399353554, 0.14014817279224265, 0.16350620159094975, 0.42307297372809927, 0.25384378423685955, 0.25384378423685955, 0.04230729737280992, 0.02115364868640496, 0.11672503426074587, 0.5058084817965655, 0.15563337901432783, 0.1945417237679098, 0.03890834475358196, 0.7666166018957807, 0.19165415047394518, 0.06232780707242554, 0.5609502636518299, 0.37396684243455325, 0.41302498029624146, 0.2186602836862455, 0.1700691095337465, 0.12147793538124749, 0.0728867612287485, 0.32115669329621, 0.22669884232673648, 0.03778314038778941, 0.24559041252063118, 0.09445785096947354, 0.05667471058168412, 0.13193117993479422, 0.2308795648858899, 0.593690309706574, 0.5491321953740979, 0.23268313363309234, 0.02792197603597108, 0.03722930138129477, 0.1303025548345317, 0.018614650690647386, 0.733238456714638, 0.24441281890487934, 0.1364817231128526, 0.5732232370739808, 0.21837075698056413, 0.05459268924514103, 0.43711139712504593, 0.23141191612502432, 0.07713730537500811, 0.1028497405000108, 0.12856217562501351, 0.08028822377788243, 0.7627381258898831, 0.14050439161129427, 0.2283353801655674, 0.7103767382928764, 0.05074119559234831, 0.32912511231110775, 0.14105361956190332, 0.34087958060793305, 0.04701787318730111, 0.058772341484126384, 0.04701787318730111, 0.03526340489047583, 0.3332972965411951, 0.20831081033824694, 0.4166216206764939, 0.020831081033824694, 0.11044518878118466, 0.18407531463530777, 0.22089037756236932, 0.18407531463530777, 0.18407531463530777, 0.07363012585412311, 0.3815873670780423, 0.13875904257383356, 0.4683117686866883, 0.37487476226407584, 0.13039122165706984, 0.2607824433141397, 0.08149451353566865, 0.1466901243642036, 0.26059175935227324, 0.4663220956830153, 0.09600749028767962, 0.027430711510765607, 0.10972284604306243, 0.04114606726614841, 0.09019749698028202, 0.6133429794659178, 0.25255299154478966, 0.018039499396056403, 0.38270975514450645, 0.2186912886540037, 0.38270975514450645, 0.5988719583750335, 0.3097613577801897, 0.08260302874138392, 0.1560447421025186, 0.6501864254271608, 0.10402982806834572, 0.05201491403417286, 0.1549063858695866, 0.774531929347933, 0.03872659646739665, 0.17927839764049208, 0.4353903942697665, 0.05122239932585488, 0.3073343959551293, 0.02561119966292744, 0.14701415856309488, 0.5513030946116059, 0.07350707928154744, 0.14701415856309488, 0.03675353964077372, 0.5314774431356523, 0.11388802352906835, 0.11388802352906835, 0.056944011764534175, 0.13286936078391307, 0.037962674509689445, 0.1465226959686539, 0.5128294358902886, 0.05494601098824521, 0.18315336996081738, 0.10073435347844956, 0.5530914475854984, 0.2949821053789325, 0.03687276317236656, 0.12290921057455521, 0.07876553246993956, 0.4529018117021525, 0.2559879805273036, 0.177222448057364, 0.03938276623496978, 0.0748959644206527, 0.0864184204853685, 0.4292114884106636, 0.34279306792529507, 0.0230449121294316, 0.0345673681941474, 0.00864184204853685, 0.12360774749698625, 0.2317645265568492, 0.2472154949939725, 0.0772548421856164, 0.13905871593410954, 0.0772548421856164, 0.09270581062273969, 0.22909051370561018, 0.35999937868024456, 0.1309088649746344, 0.16363608121829298, 0.09818164873097579, 0.06121284980169294, 0.6427349229177759, 0.24485139920677176, 0.1908414214533046, 0.14994683114188218, 0.5179981439446839, 0.14994683114188218, 0.19989237082980787, 0.5497040197819716, 0.1499192781223559, 0.03747981953058897, 0.04997309270745197, 0.4560244771312836, 0.1586172094369682, 0.27758011651469433, 0.0793086047184841, 0.03965430235924205, 0.15499645091252254, 0.3788802133417218, 0.22388376242919925, 0.20666193455003007, 0.05166548363750752, 0.418121200507892, 0.2787474670052613, 0.22648231694177481, 0.0522651500634865, 0.08605529655047323, 0.36143224551198755, 0.5507538979230286, 0.1945889739257448, 0.474310623944003, 0.10945629783323145, 0.1702653521850267, 0.03648543261107715, 0.49729791194956147, 0.24864895597478073, 0.2072074633123173, 0.15006303979339056, 0.32156365670012266, 0.15006303979339056, 0.23581334824675662, 0.12862546268004907, 0.1421867588967835, 0.06093718238433579, 0.3859354884341267, 0.16249915302489543, 0.1421867588967835, 0.06093718238433579, 0.04062478825622386, 0.1365428036519189, 0.34894272044379276, 0.4247998335837477, 0.07585711313995494, 0.10169111779587157, 0.872848761081231, 0.01694851963264526, 0.00847425981632263, 0.21318750854779348, 0.12791250512867608, 0.6395625256433805, 0.42957329010648443, 0.26000488611708267, 0.11304560265960116, 0.07913192186172081, 0.05652280132980058, 0.03391368079788035, 0.022609120531920233, 0.3843309047826187, 0.6085239325724796, 0.8996197959686119, 0.05622623724803824, 0.018742079082679414, 0.0574816903107194, 0.7328915514616723, 0.15807464835447835, 0.0287408451553597, 0.16879656336731175, 0.1205689738337941, 0.19291035813407056, 0.43404830580165876, 0.09645517906703528, 0.17782697734494787, 0.23398286492756298, 0.02807794379130756, 0.08423383137392268, 0.05615588758261512, 0.40245052767540834, 0.2969342087791478, 0.4043359438694778, 0.07581298947552709, 0.11371948421329064, 0.03158874561480295, 0.012635498245921181, 0.0631774912296059, 0.7794146992035642, 0.02642083726113777, 0.05284167452227554, 0.10568334904455108, 0.03963125589170665, 0.3897511285273498, 0.06877961091659114, 0.015284357981464698, 0.07642178990732348, 0.19105447476830872, 0.14520140082391464, 0.12227486385171758, 0.36081719725773065, 0.049767889276928365, 0.21151352942694557, 0.06220986159616046, 0.1617456401500172, 0.07465183391539255, 0.07465183391539255, 0.20958471770334045, 0.5965103503864305, 0.19346281634154502, 0.32852256490730913, 0.21901504327153942, 0.3011456844983667, 0.13688440204471214, 0.45625111633882176, 0.05264435957755636, 0.3948326968316727, 0.07896653936633453, 0.008774059929592726, 0.3023384212132617, 0.4912999344715503, 0.13857177638941162, 0.0629871710860962, 0.09751071389374621, 0.1300142851916616, 0.29253214168123864, 0.32503571297915407, 0.16251785648957703, 0.22913356098311594, 0.5219153333504307, 0.08910749593787842, 0.02545928455367955, 0.012729642276839774, 0.11456678049155797, 0.22348177918451845, 0.3771255023738749, 0.32125505757774525, 0.07682186159467821, 0.13573459692886372, 0.4072037907865912, 0.27146919385772744, 0.06786729846443186, 0.1018009476966478, 0.12596236473634756, 0.03977758886410975, 0.4640718700812805, 0.11933276659232926, 0.09944397216027438, 0.14585115916840244, 0.23772514190203242, 0.08584519013128948, 0.019810428491836035, 0.5480885216074637, 0.059431285475508105, 0.04622433314761742, 0.5679266916242224, 0.18930889720807412, 0.10817651269032806, 0.10817651269032806, 0.2218302905947002, 0.46584361024887044, 0.24401331965417022, 0.04436605811894004, 0.02218302905947002, 0.29297572190333815, 0.22787000592481857, 0.17904071894092888, 0.3092521508979681, 0.3938729253477076, 0.3938729253477076, 0.06564548755795127, 0.0984682313369269, 0.35259640179071494, 0.23506426786047663, 0.20568123437791705, 0.1616066841540777, 0.04407455022383937, 0.7965994703095164, 0.19228263076436602, 0.7343689111454581, 0.08159654568282868, 0.12239481852424301, 0.04079827284141434, 0.4593498372157473, 0.4593498372157473, 0.0689024755823621, 0.23546806333937617, 0.11773403166968809, 0.3826356029264863, 0.23546806333937617, 0.12484637150167362, 0.541000943173919, 0.08323091433444908, 0.24969274300334723, 0.9156663798867162, 0.05549493211434644, 0.22191468302989922, 0.44382936605979845, 0.25890046353488244, 0.055478670757474806, 0.2346344912112554, 0.4223420841802597, 0.15251241928731601, 0.10558552104506493, 0.02346344912112554, 0.05865862280281385, 0.27309311372742084, 0.15261085767120577, 0.31726994094803307, 0.028112526413116852, 0.048192902422486035, 0.06425720322998138, 0.03614467681686452, 0.024096451211243018, 0.052208977624359866, 0.33167719857536093, 0.16198188767633906, 0.16198188767633906, 0.10798792511755938, 0.10798792511755938, 0.030853692890731248, 0.09256107867219375, 0.2070476788487423, 0.2243016520861375, 0.31057151827311347, 0.2070476788487423, 0.034507946474790385, 0.24529491262519307, 0.49058982525038614, 0.16352994175012872, 0.08176497087506436, 0.3179961322176738, 0.19767327137855398, 0.0859449005993713, 0.0859449005993713, 0.1461063310189312, 0.12032286083911982, 0.04297245029968565], \"Term\": [\"ability\", \"ability\", \"ability\", \"ability\", \"ability\", \"able\", \"able\", \"able\", \"able\", \"able\", \"able\", \"across\", \"across\", \"across\", \"across\", \"across\", \"across\", \"across\", \"activity\", \"activity\", \"activity\", \"activity\", \"agile\", \"agile\", \"agile\", \"agile\", \"also\", \"also\", \"also\", \"also\", \"analysis\", \"analysis\", \"analysis\", \"analytical\", \"analytical\", \"analytical\", \"andor\", \"andor\", \"application\", \"application\", \"application\", \"application\", \"application\", \"approach\", \"approach\", \"approach\", \"approach\", \"approach\", \"approach\", \"arabia\", \"arabia\", \"architecture\", \"architecture\", \"architecture\", \"architecture\", \"area\", \"area\", \"area\", \"bachelor\", \"bachelor\", \"bachelor\", \"bachelor\", \"bachelor\", \"background\", \"background\", \"background\", \"background\", \"background\", \"background\", \"background\", \"based\", \"based\", \"based\", \"based\", \"based\", \"best\", \"best\", \"best\", \"best\", \"best\", \"best\", \"build\", \"build\", \"build\", \"build\", \"building\", \"building\", \"building\", \"building\", \"building\", \"business\", \"business\", \"business\", \"business\", \"business\", \"business\", \"business\", \"candidate\", \"candidate\", \"candidate\", \"candidate\", \"candidate\", \"candidate\", \"challenge\", \"challenge\", \"challenge\", \"change\", \"change\", \"change\", \"change\", \"change\", \"change\", \"client\", \"client\", \"client\", \"client\", \"client\", \"closely\", \"closely\", \"closely\", \"closely\", \"cloud\", \"cloud\", \"code\", \"code\", \"code\", \"code\", \"communication\", \"communication\", \"communication\", \"communication\", \"communication\", \"communication\", \"company\", \"company\", \"company\", \"company\", \"company\", \"complex\", \"complex\", \"complex\", \"complex\", \"complex\", \"compliance\", \"compliance\", \"compliance\", \"computer\", \"computer\", \"computer\", \"computer\", \"coordinate\", \"coordinate\", \"coordinate\", \"coordinate\", \"creating\", \"creating\", \"customer\", \"customer\", \"customer\", \"customer\", \"data\", \"data\", \"data\", \"data\", \"degree\", \"degree\", \"degree\", \"degree\", \"degree\", \"degree\", \"degree\", \"delivery\", \"delivery\", \"delivery\", \"delivery\", \"delivery\", \"design\", \"design\", \"design\", \"design\", \"design\", \"design\", \"develop\", \"develop\", \"develop\", \"develop\", \"develop\", \"develop\", \"developer\", \"developer\", \"developing\", \"developing\", \"developing\", \"developing\", \"development\", \"development\", \"development\", \"development\", \"development\", \"development\", \"different\", \"different\", \"different\", \"different\", \"different\", \"digital\", \"digital\", \"digital\", \"digital\", \"digital\", \"document\", \"document\", \"document\", \"drive\", \"drive\", \"drive\", \"drive\", \"drive\", \"effective\", \"effective\", \"effective\", \"effective\", \"engineer\", \"engineer\", \"engineer\", \"engineering\", \"engineering\", \"engineering\", \"engineering\", \"engineering\", \"english\", \"english\", \"english\", \"english\", \"english\", \"ensure\", \"ensure\", \"ensure\", \"ensure\", \"ensure\", \"ensure\", \"ensuring\", \"ensuring\", \"ensuring\", \"ensuring\", \"ensuring\", \"environment\", \"environment\", \"environment\", \"environment\", \"environment\", \"excellent\", \"excellent\", \"excellent\", \"existing\", \"existing\", \"existing\", \"external\", \"external\", \"external\", \"external\", \"field\", \"field\", \"field\", \"focus\", \"focus\", \"focus\", \"focus\", \"framework\", \"framework\", \"framework\", \"global\", \"global\", \"global\", \"global\", \"global\", \"good\", \"good\", \"group\", \"group\", \"group\", \"group\", \"group\", \"group\", \"help\", \"help\", \"help\", \"help\", \"help\", \"help\", \"help\", \"high\", \"high\", \"high\", \"high\", \"highly\", \"highly\", \"highly\", \"highly\", \"identify\", \"identify\", \"identify\", \"identify\", \"identify\", \"identify\", \"identify\", \"impact\", \"impact\", \"impact\", \"implement\", \"implement\", \"implement\", \"implement\", \"implementation\", \"implementation\", \"implementation\", \"implementation\", \"implementation\", \"implementation\", \"implementing\", \"implementing\", \"implementing\", \"implementing\", \"implementing\", \"improve\", \"improve\", \"improve\", \"improve\", \"improvement\", \"improvement\", \"improvement\", \"including\", \"including\", \"including\", \"including\", \"including\", \"including\", \"including\", \"industry\", \"industry\", \"industry\", \"industry\", \"industry\", \"information\", \"information\", \"information\", \"information\", \"information\", \"information\", \"information\", \"infrastructure\", \"infrastructure\", \"infrastructure\", \"innovation\", \"innovation\", \"innovation\", \"internal\", \"internal\", \"internal\", \"internal\", \"international\", \"international\", \"international\", \"issue\", \"issue\", \"issue\", \"issue\", \"join\", \"join\", \"join\", \"join\", \"join\", \"key\", \"key\", \"key\", \"key\", \"key\", \"knowledge\", \"knowledge\", \"knowledge\", \"knowledge\", \"knowledge\", \"knowledge\", \"language\", \"language\", \"lead\", \"lead\", \"lead\", \"lead\", \"leadership\", \"leadership\", \"leadership\", \"leading\", \"leading\", \"leading\", \"leading\", \"learn\", \"learn\", \"learn\", \"level\", \"level\", \"level\", \"level\", \"level\", \"like\", \"like\", \"like\", \"looking\", \"looking\", \"looking\", \"make\", \"make\", \"make\", \"make\", \"manage\", \"manage\", \"manage\", \"manage\", \"manage\", \"management\", \"management\", \"management\", \"management\", \"management\", \"management\", \"management\", \"management\", \"manager\", \"manager\", \"manager\", \"manager\", \"manager\", \"managing\", \"managing\", \"managing\", \"managing\", \"managing\", \"market\", \"market\", \"market\", \"meet\", \"meet\", \"meet\", \"meet\", \"meet\", \"member\", \"member\", \"member\", \"member\", \"member\", \"minimum\", \"minimum\", \"minimum\", \"minimum\", \"minimum\", \"model\", \"model\", \"monitoring\", \"monitoring\", \"monitoring\", \"multiple\", \"multiple\", \"multiple\", \"multiple\", \"multiple\", \"need\", \"need\", \"need\", \"need\", \"need\", \"need\", \"network\", \"network\", \"network\", \"new\", \"new\", \"new\", \"new\", \"new\", \"new\", \"objective\", \"objective\", \"office\", \"office\", \"office\", \"office\", \"one\", \"one\", \"one\", \"one\", \"one\", \"operation\", \"operation\", \"operation\", \"operational\", \"operational\", \"operational\", \"opportunity\", \"opportunity\", \"opportunity\", \"opportunity\", \"opportunity\", \"opportunity\", \"opportunity\", \"organization\", \"organization\", \"organization\", \"organization\", \"overall\", \"overall\", \"overall\", \"overall\", \"overall\", \"overall\", \"part\", \"part\", \"part\", \"people\", \"people\", \"people\", \"people\", \"people\", \"performance\", \"performance\", \"performance\", \"performance\", \"performance\", \"performance\", \"plan\", \"plan\", \"plan\", \"plan\", \"planning\", \"planning\", \"planning\", \"platform\", \"platform\", \"platform\", \"policy\", \"policy\", \"policy\", \"policy\", \"positive\", \"positive\", \"positive\", \"practice\", \"practice\", \"practice\", \"practice\", \"practice\", \"presentation\", \"presentation\", \"presentation\", \"presentation\", \"presentation\", \"problem\", \"problem\", \"problem\", \"problem\", \"problem\", \"problem\", \"process\", \"process\", \"process\", \"process\", \"process\", \"product\", \"product\", \"product\", \"product\", \"program\", \"program\", \"program\", \"program\", \"program\", \"project\", \"project\", \"project\", \"project\", \"project\", \"project\", \"project\", \"provide\", \"provide\", \"provide\", \"provide\", \"provide\", \"provide\", \"provide\", \"providing\", \"providing\", \"providing\", \"providing\", \"providing\", \"qualification\", \"qualification\", \"qualification\", \"quality\", \"quality\", \"quality\", \"quality\", \"related\", \"related\", \"related\", \"related\", \"related\", \"relationship\", \"relationship\", \"relationship\", \"relationship\", \"relationship\", \"relevant\", \"relevant\", \"relevant\", \"relevant\", \"relevant\", \"report\", \"report\", \"report\", \"report\", \"required\", \"required\", \"required\", \"requirement\", \"requirement\", \"requirement\", \"requirement\", \"requirement\", \"resource\", \"resource\", \"resource\", \"responsibility\", \"responsibility\", \"responsibility\", \"responsibility\", \"responsibility\", \"responsible\", \"responsible\", \"responsible\", \"responsible\", \"responsible\", \"responsible\", \"responsible\", \"review\", \"review\", \"review\", \"review\", \"risk\", \"risk\", \"risk\", \"risk\", \"riyadh\", \"riyadh\", \"riyadh\", \"role\", \"role\", \"role\", \"role\", \"role\", \"role\", \"role\", \"saudi\", \"saudi\", \"science\", \"science\", \"science\", \"security\", \"security\", \"security\", \"security\", \"senior\", \"senior\", \"senior\", \"senior\", \"senior\", \"service\", \"service\", \"service\", \"service\", \"service\", \"service\", \"skill\", \"skill\", \"skill\", \"skill\", \"skill\", \"skill\", \"skill\", \"software\", \"software\", \"software\", \"software\", \"software\", \"solution\", \"solution\", \"solution\", \"solution\", \"solution\", \"solution\", \"solution\", \"stakeholder\", \"stakeholder\", \"stakeholder\", \"stakeholder\", \"stakeholder\", \"stakeholder\", \"stakeholder\", \"standard\", \"standard\", \"standard\", \"status\", \"status\", \"status\", \"status\", \"strategy\", \"strategy\", \"strategy\", \"strategy\", \"strategy\", \"strong\", \"strong\", \"strong\", \"strong\", \"successful\", \"successful\", \"successful\", \"successful\", \"successful\", \"support\", \"support\", \"support\", \"support\", \"support\", \"support\", \"system\", \"system\", \"system\", \"system\", \"take\", \"take\", \"take\", \"take\", \"take\", \"technical\", \"technical\", \"technical\", \"technical\", \"technical\", \"technical\", \"technology\", \"technology\", \"technology\", \"technology\", \"technology\", \"technology\", \"test\", \"test\", \"test\", \"test\", \"time\", \"time\", \"time\", \"time\", \"time\", \"tool\", \"tool\", \"tool\", \"tool\", \"training\", \"training\", \"training\", \"training\", \"understanding\", \"understanding\", \"understanding\", \"understanding\", \"understanding\", \"user\", \"user\", \"using\", \"using\", \"using\", \"using\", \"value\", \"value\", \"value\", \"various\", \"various\", \"various\", \"various\", \"vision\", \"vision\", \"vision\", \"vision\", \"web\", \"web\", \"well\", \"well\", \"well\", \"well\", \"within\", \"within\", \"within\", \"within\", \"within\", \"within\", \"work\", \"work\", \"work\", \"work\", \"work\", \"work\", \"work\", \"work\", \"work\", \"working\", \"working\", \"working\", \"working\", \"working\", \"working\", \"working\", \"world\", \"world\", \"world\", \"world\", \"world\", \"written\", \"written\", \"written\", \"written\", \"year\", \"year\", \"year\", \"year\", \"year\", \"year\", \"year\"]}, \"R\": 30, \"lambda.step\": 0.01, \"plot.opts\": {\"xlab\": \"PC1\", \"ylab\": \"PC2\"}, \"topic.order\": [2, 3, 6, 7, 4, 9, 8, 1, 5]};\n",
              "\n",
              "function LDAvis_load_lib(url, callback){\n",
              "  var s = document.createElement('script');\n",
              "  s.src = url;\n",
              "  s.async = true;\n",
              "  s.onreadystatechange = s.onload = callback;\n",
              "  s.onerror = function(){console.warn(\"failed to load library \" + url);};\n",
              "  document.getElementsByTagName(\"head\")[0].appendChild(s);\n",
              "}\n",
              "\n",
              "if(typeof(LDAvis) !== \"undefined\"){\n",
              "   // already loaded: just create the visualization\n",
              "   !function(LDAvis){\n",
              "       new LDAvis(\"#\" + \"ldavis_el17161397539982113769800029979\", ldavis_el17161397539982113769800029979_data);\n",
              "   }(LDAvis);\n",
              "}else if(typeof define === \"function\" && define.amd){\n",
              "   // require.js is available: use it to load d3/LDAvis\n",
              "   require.config({paths: {d3: \"https://cdnjs.cloudflare.com/ajax/libs/d3/3.5.5/d3.min\"}});\n",
              "   require([\"d3\"], function(d3){\n",
              "      window.d3 = d3;\n",
              "      LDAvis_load_lib(\"https://cdn.rawgit.com/bmabey/pyLDAvis/files/ldavis.v1.0.0.js\", function(){\n",
              "        new LDAvis(\"#\" + \"ldavis_el17161397539982113769800029979\", ldavis_el17161397539982113769800029979_data);\n",
              "      });\n",
              "    });\n",
              "}else{\n",
              "    // require.js not available: dynamically load d3 & LDAvis\n",
              "    LDAvis_load_lib(\"https://cdnjs.cloudflare.com/ajax/libs/d3/3.5.5/d3.min.js\", function(){\n",
              "         LDAvis_load_lib(\"https://cdn.rawgit.com/bmabey/pyLDAvis/files/ldavis.v1.0.0.js\", function(){\n",
              "                 new LDAvis(\"#\" + \"ldavis_el17161397539982113769800029979\", ldavis_el17161397539982113769800029979_data);\n",
              "            })\n",
              "         });\n",
              "}\n",
              "</script>"
            ]
          },
          "metadata": {},
          "execution_count": 75
        }
      ],
      "source": [
        "import pyLDAvis.gensim\n",
        "import pickle\n",
        "import pyLDAvis\n",
        "# Visualize the topics\n",
        "pyLDAvis.enable_notebook()\n",
        "LDAvis_prepared = pyLDAvis.gensim.prepare(lda_model, corpus, id2word)\n",
        "LDAvis_prepared"
      ]
    }
  ],
  "metadata": {
    "kernelspec": {
      "display_name": "Python 3",
      "language": "python",
      "name": "python3"
    },
    "language_info": {
      "codemirror_mode": {
        "name": "ipython",
        "version": 3
      },
      "file_extension": ".py",
      "mimetype": "text/x-python",
      "name": "python",
      "nbconvert_exporter": "python",
      "pygments_lexer": "ipython3",
      "version": "3.11.0"
    },
    "colab": {
      "provenance": [],
      "toc_visible": true
    }
  },
  "nbformat": 4,
  "nbformat_minor": 0
}